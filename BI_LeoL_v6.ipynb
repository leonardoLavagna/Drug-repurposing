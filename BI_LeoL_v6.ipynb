{
  "nbformat": 4,
  "nbformat_minor": 0,
  "metadata": {
    "colab": {
      "provenance": [],
      "authorship_tag": "ABX9TyPOBZKFNsi+t7yC8jI5l5LO",
      "include_colab_link": true
    },
    "kernelspec": {
      "name": "python3",
      "display_name": "Python 3"
    },
    "language_info": {
      "name": "python"
    },
    "accelerator": "GPU",
    "gpuClass": "standard"
  },
  "cells": [
    {
      "cell_type": "markdown",
      "metadata": {
        "id": "view-in-github",
        "colab_type": "text"
      },
      "source": [
        "<a href=\"https://colab.research.google.com/github/leonardoLavagna/Drug-repurposing/blob/main/BI_LeoL_v6.ipynb\" target=\"_parent\"><img src=\"https://colab.research.google.com/assets/colab-badge.svg\" alt=\"Open In Colab\"/></a>"
      ]
    },
    {
      "cell_type": "markdown",
      "source": [
        "## Set Up"
      ],
      "metadata": {
        "id": "MB2jks_equ2c"
      }
    },
    {
      "cell_type": "code",
      "source": [
        "!git clone https://github.com/dinaghiassian/DIAMOnD DiaBLE\n",
        "!git clone https://github.com/dinaghiassian/DIAMOnD\n",
        "#https://github.com/GuyAllard/markov_clustering\n",
        "%pip install markov_clustering \n",
        "%pip install networkx --upgrade\n",
        "%pip install scipy --upgrade"
      ],
      "metadata": {
        "id": "IyBEndFwwnwH",
        "colab": {
          "base_uri": "https://localhost:8080/"
        },
        "outputId": "2f6af468-3bc3-4397-cb47-1226fa4bafa6"
      },
      "execution_count": 1,
      "outputs": [
        {
          "output_type": "stream",
          "name": "stdout",
          "text": [
            "fatal: destination path 'DiaBLE' already exists and is not an empty directory.\n",
            "fatal: destination path 'DIAMOnD' already exists and is not an empty directory.\n",
            "Looking in indexes: https://pypi.org/simple, https://us-python.pkg.dev/colab-wheels/public/simple/\n",
            "Requirement already satisfied: markov_clustering in /usr/local/lib/python3.8/dist-packages (0.0.6.dev0)\n",
            "Requirement already satisfied: numpy in /usr/local/lib/python3.8/dist-packages (from markov_clustering) (1.21.6)\n",
            "Requirement already satisfied: scipy>=0.19.0 in /usr/local/lib/python3.8/dist-packages (from markov_clustering) (1.9.3)\n",
            "Requirement already satisfied: scikit-learn in /usr/local/lib/python3.8/dist-packages (from markov_clustering) (1.0.2)\n",
            "Requirement already satisfied: threadpoolctl>=2.0.0 in /usr/local/lib/python3.8/dist-packages (from scikit-learn->markov_clustering) (3.1.0)\n",
            "Requirement already satisfied: joblib>=0.11 in /usr/local/lib/python3.8/dist-packages (from scikit-learn->markov_clustering) (1.2.0)\n",
            "Looking in indexes: https://pypi.org/simple, https://us-python.pkg.dev/colab-wheels/public/simple/\n",
            "Requirement already satisfied: networkx in /usr/local/lib/python3.8/dist-packages (2.8.8)\n",
            "Looking in indexes: https://pypi.org/simple, https://us-python.pkg.dev/colab-wheels/public/simple/\n",
            "Requirement already satisfied: scipy in /usr/local/lib/python3.8/dist-packages (1.9.3)\n",
            "Requirement already satisfied: numpy<1.26.0,>=1.18.5 in /usr/local/lib/python3.8/dist-packages (from scipy) (1.21.6)\n"
          ]
        }
      ]
    },
    {
      "cell_type": "code",
      "execution_count": 2,
      "metadata": {
        "id": "4gea7gDcqpFo"
      },
      "outputs": [],
      "source": [
        "import re\n",
        "import csv\n",
        "import random\n",
        "import json\n",
        "import ast\n",
        "import os\n",
        "import sys\n",
        "import statistics\n",
        "import auxiliary_functions as AF\n",
        "import pandas as pd\n",
        "import networkx as nx\n",
        "import matplotlib.pyplot as plt\n",
        "import numpy as np\n",
        "import markov_clustering as mc\n",
        "from tqdm import tqdm\n",
        "from scipy.stats import hypergeom\n",
        "from sklearn.model_selection import train_test_split"
      ]
    },
    {
      "cell_type": "markdown",
      "source": [
        "## TASK 1 "
      ],
      "metadata": {
        "id": "mRbllah2A0o5"
      }
    },
    {
      "cell_type": "markdown",
      "source": [
        "### PPI and GDA data gathering and interactome reconstruction"
      ],
      "metadata": {
        "id": "8dkVMfSshTjz"
      }
    },
    {
      "cell_type": "code",
      "source": [
        "# FILE PATH\n",
        "# Change according to your file system\n",
        "# This path should be the same used in the auxiliary_funtions module\n",
        "\n",
        "path = '/content/'"
      ],
      "metadata": {
        "id": "en2MuDxXBFVZ"
      },
      "execution_count": 3,
      "outputs": []
    },
    {
      "cell_type": "code",
      "source": [
        "# DATA GATHERING AND PROCESSING\n",
        "\n",
        "HSN = AF.interactome_processing(path+\"BIOGRID-ORGANISM-Homo_sapiens-4.4.204.tab3.txt\")\n",
        "DGA_all = pd.read_csv(path+'curated_gene_disease_associations.tsv',sep='\\t')\n",
        "DGA =  DGA_all[DGA_all['diseaseName'] == 'Hypertensive disease']\n",
        "DG_in_PPI,splits = AF.make_seeds_splits(DGA,HSN,'Hypertensive disease',path)\n",
        "DG_in_PPI, splits = AF.import_seeds_split('Hypertensive disease')"
      ],
      "metadata": {
        "colab": {
          "base_uri": "https://localhost:8080/"
        },
        "id": "Uhof4wFsD15F",
        "outputId": "4ffdfb15-0764-4a2f-8916-e6b96ac8d103"
      },
      "execution_count": 35,
      "outputs": [
        {
          "output_type": "stream",
          "name": "stdout",
          "text": [
            "Processing interactome...\n"
          ]
        },
        {
          "output_type": "stream",
          "name": "stderr",
          "text": [
            "<ipython-input-35-62efed7e1535>:3: DtypeWarning: Columns (1,2,18) have mixed types.Specify dtype option on import or set low_memory=False.\n",
            "  HSN = AF.interactome_processing(path+\"BIOGRID-ORGANISM-Homo_sapiens-4.4.204.tab3.txt\")\n"
          ]
        },
        {
          "output_type": "stream",
          "name": "stdout",
          "text": [
            "# Process completed.\n",
            "Creating seed gene splits...\n",
            "Number of genes in disease PPI:  290\n",
            "# Process completed.\n",
            "Importing seed genes...\n",
            "# Process completed.\n"
          ]
        }
      ]
    },
    {
      "cell_type": "markdown",
      "source": [
        "### Compute the disease LCC and its basic network measures"
      ],
      "metadata": {
        "id": "IuiA9iw0halS"
      }
    },
    {
      "cell_type": "code",
      "source": [
        "# LCC COMPUTATION\n",
        "\n",
        "LCC = AF.extract_LCC_form_PPI(HSN)\n",
        "n_nodes = LCC.number_of_nodes()"
      ],
      "metadata": {
        "colab": {
          "base_uri": "https://localhost:8080/"
        },
        "id": "kqFIzXjThdNg",
        "outputId": "933ff6f0-accc-4ad7-d48c-000681b7a20b"
      },
      "execution_count": 11,
      "outputs": [
        {
          "output_type": "stream",
          "name": "stdout",
          "text": [
            "Extracting LCC...\n",
            "Nodes  19618 , Connections  665061\n",
            "# Process completed.\n"
          ]
        }
      ]
    },
    {
      "cell_type": "code",
      "source": [
        "# LCC PLOT\n",
        "\n",
        "DN = AF.make_disease_graph(HSN, DGA, DG_in_PPI)\n",
        "AF.plot_LCC(DN, DG_in_PPI)"
      ],
      "metadata": {
        "colab": {
          "base_uri": "https://localhost:8080/",
          "height": 661
        },
        "id": "aR1AI341EkvQ",
        "outputId": "70c8a1c9-f281-4509-de15-cabc2269aaa5"
      },
      "execution_count": 12,
      "outputs": [
        {
          "output_type": "stream",
          "name": "stdout",
          "text": [
            "Creating Disease LCC graph...\n",
            "Nodes in disease LCC  232\n",
            "# Process completed.\n"
          ]
        },
        {
          "output_type": "display_data",
          "data": {
            "text/plain": [
              "<Figure size 576x576 with 1 Axes>"
            ],
            "image/png": "[encoded data removed]"
          },
          "metadata": {}
        }
      ]
    },
    {
      "cell_type": "code",
      "source": [
        "G = LCC.copy()"
      ],
      "metadata": {
        "id": "V24Q7Sig8Duz"
      },
      "execution_count": 13,
      "outputs": []
    },
    {
      "cell_type": "code",
      "source": [
        "# LOCAL MEASURES\n",
        "# This cell takes a while to run...\n",
        "\n",
        "nx.set_node_attributes(G, G.degree(), 'Node degree')  \n",
        "#nx.set_node_attributes(G, nx.betweenness_centrality(G), \"Betweenness centrality\")\n",
        "nx.set_node_attributes(G, nx.eigenvector_centrality(G), \"Eigenvector centrality\")\n",
        "#nx.set_node_attributes(G, nx.closeness_centrality(G), \"Closeness centrality\")\n",
        "\n",
        "local_measures = pd.DataFrame(index=G.nodes())\n",
        "local_measures['Node degree'] = [d for n, d in G.degree()] \n",
        "#local_measures['Betweenness centrality'] = pd.Series(nx.get_node_attributes(G, 'Betweenness centrality'))\n",
        "local_measures['Eigenvector centrality'] = pd.Series(nx.get_node_attributes(G, 'Eigenvector centrality'))\n",
        "#local_measures['Closeness centrality'] = pd.Series(nx.get_node_attributes(G, 'Closeness centrality'))\n",
        "#local_measures['Betweenness/Degree Ratio'] = local_measures['Betweenness centrality']/local_measures['Node degree']\n",
        "local_measures.index.name='Gene'"
      ],
      "metadata": {
        "id": "hL0pHfYagIMr"
      },
      "execution_count": 27,
      "outputs": []
    },
    {
      "cell_type": "code",
      "source": [
        "# TABLE OF LOCAL MEASURES\n",
        "\n",
        "local_measures.to_csv('local_measures.csv', index = True, header = True)\n",
        "local_measures = pd.read_csv('/content/local_measures.csv', sep=',')\n",
        "local_measures.head()"
      ],
      "metadata": {
        "id": "1gtH1vcpgfmU",
        "colab": {
          "base_uri": "https://localhost:8080/",
          "height": 206
        },
        "outputId": "ccf53132-9482-4045-ef45-2840cb507a2b"
      },
      "execution_count": 28,
      "outputs": [
        {
          "output_type": "execute_result",
          "data": {
            "text/plain": [
              "     Gene  Node degree  Eigenvector centrality\n",
              "0  MAP2K4           51                0.002493\n",
              "1    MYPN           27                0.001812\n",
              "2   ACVR1           54                0.001348\n",
              "3   GATA2           58                0.002803\n",
              "4    RPA2          546                0.032289"
            ],
            "text/html": [
              "\n",
              "  <div id=\"df-758eb420-7026-46a7-acbf-463cb9facd2e\">\n",
              "    <div class=\"colab-df-container\">\n",
              "      <div>\n",
              "<style scoped>\n",
              "    .dataframe tbody tr th:only-of-type {\n",
              "        vertical-align: middle;\n",
              "    }\n",
              "\n",
              "    .dataframe tbody tr th {\n",
              "        vertical-align: top;\n",
              "    }\n",
              "\n",
              "    .dataframe thead th {\n",
              "        text-align: right;\n",
              "    }\n",
              "</style>\n",
              "<table border=\"1\" class=\"dataframe\">\n",
              "  <thead>\n",
              "    <tr style=\"text-align: right;\">\n",
              "      <th></th>\n",
              "      <th>Gene</th>\n",
              "      <th>Node degree</th>\n",
              "      <th>Eigenvector centrality</th>\n",
              "    </tr>\n",
              "  </thead>\n",
              "  <tbody>\n",
              "    <tr>\n",
              "      <th>0</th>\n",
              "      <td>MAP2K4</td>\n",
              "      <td>51</td>\n",
              "      <td>0.002493</td>\n",
              "    </tr>\n",
              "    <tr>\n",
              "      <th>1</th>\n",
              "      <td>MYPN</td>\n",
              "      <td>27</td>\n",
              "      <td>0.001812</td>\n",
              "    </tr>\n",
              "    <tr>\n",
              "      <th>2</th>\n",
              "      <td>ACVR1</td>\n",
              "      <td>54</td>\n",
              "      <td>0.001348</td>\n",
              "    </tr>\n",
              "    <tr>\n",
              "      <th>3</th>\n",
              "      <td>GATA2</td>\n",
              "      <td>58</td>\n",
              "      <td>0.002803</td>\n",
              "    </tr>\n",
              "    <tr>\n",
              "      <th>4</th>\n",
              "      <td>RPA2</td>\n",
              "      <td>546</td>\n",
              "      <td>0.032289</td>\n",
              "    </tr>\n",
              "  </tbody>\n",
              "</table>\n",
              "</div>\n",
              "      <button class=\"colab-df-convert\" onclick=\"convertToInteractive('df-758eb420-7026-46a7-acbf-463cb9facd2e')\"\n",
              "              title=\"Convert this dataframe to an interactive table.\"\n",
              "              style=\"display:none;\">\n",
              "        \n",
              "  <svg xmlns=\"http://www.w3.org/2000/svg\" height=\"24px\"viewBox=\"0 0 24 24\"\n",
              "       width=\"24px\">\n",
              "    <path d=\"M0 0h24v24H0V0z\" fill=\"none\"/>\n",
              "    <path d=\"M18.56 5.44l.94 2.06.94-2.06 2.06-.94-2.06-.94-.94-2.06-.94 2.06-2.06.94zm-11 1L8.5 8.5l.94-2.06 2.06-.94-2.06-.94L8.5 2.5l-.94 2.06-2.06.94zm10 10l.94 2.06.94-2.06 2.06-.94-2.06-.94-.94-2.06-.94 2.06-2.06.94z\"/><path d=\"M17.41 7.96l-1.37-1.37c-.4-.4-.92-.59-1.43-.59-.52 0-1.04.2-1.43.59L10.3 9.45l-7.72 7.72c-.78.78-.78 2.05 0 2.83L4 21.41c.39.39.9.59 1.41.59.51 0 1.02-.2 1.41-.59l7.78-7.78 2.81-2.81c.8-.78.8-2.07 0-2.86zM5.41 20L4 18.59l7.72-7.72 1.47 1.35L5.41 20z\"/>\n",
              "  </svg>\n",
              "      </button>\n",
              "      \n",
              "  <style>\n",
              "    .colab-df-container {\n",
              "      display:flex;\n",
              "      flex-wrap:wrap;\n",
              "      gap: 12px;\n",
              "    }\n",
              "\n",
              "    .colab-df-convert {\n",
              "      background-color: #E8F0FE;\n",
              "      border: none;\n",
              "      border-radius: 50%;\n",
              "      cursor: pointer;\n",
              "      display: none;\n",
              "      fill: #1967D2;\n",
              "      height: 32px;\n",
              "      padding: 0 0 0 0;\n",
              "      width: 32px;\n",
              "    }\n",
              "\n",
              "    .colab-df-convert:hover {\n",
              "      background-color: #E2EBFA;\n",
              "      box-shadow: 0px 1px 2px rgba(60, 64, 67, 0.3), 0px 1px 3px 1px rgba(60, 64, 67, 0.15);\n",
              "      fill: #174EA6;\n",
              "    }\n",
              "\n",
              "    [theme=dark] .colab-df-convert {\n",
              "      background-color: #3B4455;\n",
              "      fill: #D2E3FC;\n",
              "    }\n",
              "\n",
              "    [theme=dark] .colab-df-convert:hover {\n",
              "      background-color: #434B5C;\n",
              "      box-shadow: 0px 1px 3px 1px rgba(0, 0, 0, 0.15);\n",
              "      filter: drop-shadow(0px 1px 2px rgba(0, 0, 0, 0.3));\n",
              "      fill: #FFFFFF;\n",
              "    }\n",
              "  </style>\n",
              "\n",
              "      <script>\n",
              "        const buttonEl =\n",
              "          document.querySelector('#df-758eb420-7026-46a7-acbf-463cb9facd2e button.colab-df-convert');\n",
              "        buttonEl.style.display =\n",
              "          google.colab.kernel.accessAllowed ? 'block' : 'none';\n",
              "\n",
              "        async function convertToInteractive(key) {\n",
              "          const element = document.querySelector('#df-758eb420-7026-46a7-acbf-463cb9facd2e');\n",
              "          const dataTable =\n",
              "            await google.colab.kernel.invokeFunction('convertToInteractive',\n",
              "                                                     [key], {});\n",
              "          if (!dataTable) return;\n",
              "\n",
              "          const docLinkHtml = 'Like what you see? Visit the ' +\n",
              "            '<a target=\"_blank\" href=https://colab.research.google.com/notebooks/data_table.ipynb>data table notebook</a>'\n",
              "            + ' to learn more about interactive tables.';\n",
              "          element.innerHTML = '';\n",
              "          dataTable['output_type'] = 'display_data';\n",
              "          await google.colab.output.renderOutput(dataTable, element);\n",
              "          const docLink = document.createElement('div');\n",
              "          docLink.innerHTML = docLinkHtml;\n",
              "          element.appendChild(docLink);\n",
              "        }\n",
              "      </script>\n",
              "    </div>\n",
              "  </div>\n",
              "  "
            ]
          },
          "metadata": {},
          "execution_count": 28
        }
      ]
    },
    {
      "cell_type": "markdown",
      "source": [
        "## Task 2 . Putative disease genes identification algorithms"
      ],
      "metadata": {
        "id": "bvpjeGCqAp_p"
      }
    },
    {
      "cell_type": "markdown",
      "source": [
        "### DIAMOnD algorithm"
      ],
      "metadata": {
        "id": "_txKC5NptlHp"
      }
    },
    {
      "cell_type": "code",
      "source": [
        "## AUXILIARY FUNCTIONS TO PUT IN FILE\n",
        "\n",
        "def diamond(LCC, seeds, splits, i, top_n, path):\n",
        "    # filtering the splits at i-th iteration\n",
        "    filteredSymbolGenes_ID = DGA[DGA.geneSymbol.isin(splits[str(i)])].geneId.tolist()\n",
        "    actualDt = list(set(seeds) - set(filteredSymbolGenes_ID))\n",
        "\n",
        "    textfile = open(\"seed_gene.txt\", \"w\")\n",
        "    for element in actualDt:\n",
        "      textfile.write(str(element) + '\\n')\n",
        "    textfile.close()\n",
        "    \n",
        "    pairs_genes = list(LCC.edges)\n",
        "    textfile = open(\"PPI_Hypertensive.txt\", \"w\")\n",
        "    for gA, gB in tqdm(pairs_genes):\n",
        "        textfile.write(str(gA) + ',' + str(gB) + '\\n') \n",
        "    textfile.close()\n",
        "    \n",
        "    for x in [1000,500,250,100]:                            ###<-------------------------\n",
        "        print(x, evaluation(x, cval = len(splits['0']), alg_name = 'DIAMOnD'))\n",
        "    print('\\n')"
      ],
      "metadata": {
        "id": "ZSftihxf0Nlx"
      },
      "execution_count": 18,
      "outputs": []
    },
    {
      "cell_type": "code",
      "source": [
        "# Stores the seed genes\n",
        "# For DIAMOnD we need to define two files, the PPI.txt and the seed_genes.txt:\n",
        "\n",
        "seed_genes = DGA['geneId'].tolist()\n",
        "textfile = open(\"seed_gene.txt\", \"w\")\n",
        "for element in seed_genes:\n",
        "  if seed_genes.index(element) != len(seed_genes)-1:\n",
        "    textfile.write(str(element) + \"\\n\")\n",
        "  else:\n",
        "    textfile.write(str(element))\n",
        "textfile.close()"
      ],
      "metadata": {
        "id": "ocW8oAIlFmVI"
      },
      "execution_count": 36,
      "outputs": []
    },
    {
      "cell_type": "code",
      "source": [
        "# GENES\n",
        "\n",
        "pairs_genes = list(LCC.edges)"
      ],
      "metadata": {
        "id": "iV4UWce1FmSS"
      },
      "execution_count": 37,
      "outputs": []
    },
    {
      "cell_type": "code",
      "source": [
        "# STORE HOMO SAPIENS INTERACTOME\n",
        "\n",
        "textfile = open(\"PPI_Hypertensive.txt\", \"w\")\n",
        "for gA, gB in tqdm(pairs_genes):\n",
        "  textfile.write(str(gA) + ',' + str(gB) + '\\n') \n",
        "textfile.close()"
      ],
      "metadata": {
        "id": "y0RTTAY-GN5J",
        "colab": {
          "base_uri": "https://localhost:8080/"
        },
        "outputId": "eae644f2-e1a1-406f-f79d-dd4823ea475d"
      },
      "execution_count": 38,
      "outputs": [
        {
          "output_type": "stream",
          "name": "stderr",
          "text": [
            "100%|██████████| 665061/665061 [00:00<00:00, 930438.93it/s]\n"
          ]
        }
      ]
    },
    {
      "cell_type": "code",
      "source": [
        "!pwd"
      ],
      "metadata": {
        "colab": {
          "base_uri": "https://localhost:8080/"
        },
        "id": "eTlYZuA3BZeA",
        "outputId": "4e84de78-75b0-4824-dac8-50b4105a2247"
      },
      "execution_count": 26,
      "outputs": [
        {
          "output_type": "stream",
          "name": "stdout",
          "text": [
            "/content\n"
          ]
        }
      ]
    },
    {
      "cell_type": "code",
      "source": [
        "!mkdir results"
      ],
      "metadata": {
        "id": "_8xnJAUUBnNc"
      },
      "execution_count": 24,
      "outputs": []
    },
    {
      "cell_type": "code",
      "source": [
        "!ls"
      ],
      "metadata": {
        "colab": {
          "base_uri": "https://localhost:8080/"
        },
        "id": "M_HgrFFPBqvO",
        "outputId": "f4bb0da9-e9f3-486e-c44c-8360bc08bd1f"
      },
      "execution_count": 25,
      "outputs": [
        {
          "output_type": "stream",
          "name": "stdout",
          "text": [
            " auxiliary_functions.py\t\t\t\t  local_measures.csv\n",
            " BIOGRID-ORGANISM-Homo_sapiens-4.4.204.tab3.txt   PPI.adjlist\n",
            " curated_gene_disease_associations.tsv\t\t  PPI_Hypertensive.txt\n",
            " DiaBLE\t\t\t\t\t\t  __pycache__\n",
            " DIAMOnD\t\t\t\t\t  results\n",
            "'Hypertensive disease_seed_gene.txt'\t\t  sample_data\n",
            "'Hypertensive disease_splits.json'\t\t  seed_gene.txt\n"
          ]
        }
      ]
    },
    {
      "cell_type": "code",
      "source": [
        "# EXECUTE DIAMOND\n",
        "\n",
        "with open(path+'Hypertensive disease_splits.json') as f:\n",
        "  data = json.load(f)\n",
        "  \n",
        "filteredSymbolGenes_ID = DGA[DGA.geneSymbol.isin(data['4'])].geneId.tolist()\n",
        "actualDt = list(set(seed_genes) - set(filteredSymbolGenes_ID))\n",
        "\n",
        "textfile = open(\"seed_gene.txt\", \"w\")\n",
        "for element in actualDt:\n",
        "  textfile.write(str(element) + '\\n')\n",
        "textfile.close()\n",
        "\n",
        "!python3 /content/DIAMOnD/DIAMOnD.py PPI_Hypertensive.txt seed_gene.txt 200"
      ],
      "metadata": {
        "id": "TM_JIMSyHNUf",
        "colab": {
          "base_uri": "https://localhost:8080/"
        },
        "outputId": "0b0076c0-e13f-4a44-c959-a166462b7006"
      },
      "execution_count": 42,
      "outputs": [
        {
          "output_type": "stream",
          "name": "stdout",
          "text": [
            "DIAMOnD(): ignoring 245 of 245 seed genes that are not in the network\n",
            "Traceback (most recent call last):\n",
            "  File \"/content/DIAMOnD/DIAMOnD.py\", line 451, in <module>\n",
            "    added_nodes = DIAMOnD(G_original,\n",
            "  File \"/content/DIAMOnD/DIAMOnD.py\", line 401, in DIAMOnD\n",
            "    added_nodes = diamond_iteration_of_first_X_nodes(G_original,\n",
            "  File \"/content/DIAMOnD/DIAMOnD.py\", line 347, in diamond_iteration_of_first_X_nodes\n",
            "    info[next_node][0],\n",
            "KeyError: 'nix'\n"
          ]
        }
      ]
    },
    {
      "cell_type": "markdown",
      "source": [
        "### DiaBLE algorithm"
      ],
      "metadata": {
        "id": "AaWcwjpLtvoC"
      }
    },
    {
      "cell_type": "code",
      "source": [
        "# EXECUTE DIABLE\n",
        "# Change the code in the DIAMOnD script in the DiaBLE Folder (see below)\n",
        "\n",
        "!python3 /content/DiaBLE/DIAMOnD.py PPI_Hypertensive.txt seed_gene.txt 1000"
      ],
      "metadata": {
        "id": "CojIH7_BIa5B",
        "colab": {
          "base_uri": "https://localhost:8080/"
        },
        "outputId": "6682801f-fa4b-4fff-fc21-cac9ad60c1a7"
      },
      "execution_count": 12,
      "outputs": [
        {
          "output_type": "stream",
          "name": "stdout",
          "text": [
            "DIAMOnD(): ignoring 245 of 245 seed genes that are not in the network\n",
            "Traceback (most recent call last):\n",
            "  File \"/content/DiaBLE/DIAMOnD.py\", line 451, in <module>\n",
            "    added_nodes = DIAMOnD(G_original,\n",
            "  File \"/content/DiaBLE/DIAMOnD.py\", line 401, in DIAMOnD\n",
            "    added_nodes = diamond_iteration_of_first_X_nodes(G_original,\n",
            "  File \"/content/DiaBLE/DIAMOnD.py\", line 347, in diamond_iteration_of_first_X_nodes\n",
            "    info[next_node][0],\n",
            "KeyError: 'nix'\n"
          ]
        }
      ]
    },
    {
      "cell_type": "markdown",
      "source": [
        "AFTER LINE 317 CHANGE AS FOLLOWS: ADD THE LINES\n",
        "\n",
        "```\n",
        "  candidates = set(cluster_nodes)\n",
        "  universe = set()\n",
        "\n",
        "  for _ in range(0, 2):\n",
        "    for gene in candidates.copy():\n",
        "      universe |= neighbors[gene]\n",
        "    candidates = universe        \n",
        "  \n",
        "  N = len(universe)\n",
        "```\n"
      ],
      "metadata": {
        "id": "NMUpfxpGJLbO"
      }
    },
    {
      "cell_type": "markdown",
      "source": [
        "### Diffusion Based Algorithm"
      ],
      "metadata": {
        "id": "08U1dCJSteE4"
      }
    },
    {
      "cell_type": "code",
      "source": [
        "#..... ??"
      ],
      "metadata": {
        "id": "lwpOaFJnvDm9"
      },
      "execution_count": null,
      "outputs": []
    },
    {
      "cell_type": "markdown",
      "source": [
        "### Validation"
      ],
      "metadata": {
        "id": "ZSzqx9nizFF5"
      }
    },
    {
      "cell_type": "code",
      "source": [
        "## AUXILIARY FUNCTIONS TO PUT IN FILE\n",
        "\n",
        "def cross_vaidation(splits,nodes,DG_in_PPI,clusters,DGA_filt,n_size=n_nodes):\n",
        "    print(\"Executing cross validation...\")\n",
        "    recall = {'std_valid':[],'ext_valid':[]}\n",
        "    prec =  {'std_valid':[],'ext_valid':[]}\n",
        "    f1 =  {'std_valid':[],'ext_valid':[]}\n",
        "    enriched_clusters = 0\n",
        "    for idx in range(0,5):\n",
        "        test = set(splits[str(idx)])\n",
        "        training = set(DG_in_PPI).difference(test)\n",
        "        positives = set()\n",
        "        for cluster in clusters:\n",
        "            N = n_size\n",
        "            K = len(training)\n",
        "            n = len(cluster)\n",
        "            k = len(set(nodes[list(cluster)]).intersection(training))+10e-10\n",
        "            pval = hypergeom.sf(k=k-1, M=N, n=K, N=n)\n",
        "            if pval < 0.05:\n",
        "                enriched_clusters += 1\n",
        "                positives = positives.union(set(nodes[list(cluster)]))\n",
        "        TP = test.intersection(positives)\n",
        "        FP = positives.difference(test)\n",
        "        FN = test.difference(positives)\n",
        "        r,p,f = metrics(TP,FP,FN)\n",
        "        R,P,F = metrics(FP.intersection(DGA_filt), FP.difference(DGA_filt), DGA_filt.difference(TP.union(FN)))\n",
        "        recall['std_valid'] += [r]\n",
        "        prec['std_valid'] += [p]\n",
        "        f1['std_valid'] += [f]\n",
        "        recall['ext_valid'] += [R]\n",
        "        prec['ext_valid'] += [P]\n",
        "        f1['ext_valid'] += [F]\n",
        "     \n",
        "    print('Enriched Clusters:',enriched_clusters/5)\n",
        "    print(\"# Process completed.\")\n",
        "    return recall,prec,f1\n",
        "    \n",
        "\n",
        "def metrics(TP,FP,FN):\n",
        "    print(\"Calculating matricses...\")\n",
        "    recall = len(TP)/(len(TP)+len(FP)+10e-10)\n",
        "    prec = len(TP)/(len(TP)+len(FN)+10e-10)\n",
        "    f1 = 2*(recall/5*prec/5)/(prec/5+recall/5+10e-10)\n",
        "    print(\"# Process completed.\")\n",
        "    return recall, prec, f1\n",
        "\n",
        "\n",
        "def calculate_dcg(inters, cv, alg_name):\n",
        "  # Discounted cumulative gain\n",
        "  print(\"Evaluating DCG...\")\n",
        "  dcg = 0\n",
        "  try:\n",
        "    for dis_gene in inters:\n",
        "      rank = cv.loc[cv[alg_name + '_node'] == dis_gene].index.tolist()[0]\n",
        "      dcg += 1/np.log2(rank+1)\n",
        "  except:\n",
        "    dcg += 0\n",
        "  print(\"# Process completed.\")\n",
        "  return dcg\n",
        "\n",
        "\n",
        "def normalized_dcg(ndcg_scores):\n",
        "  print(\"Evaluationg normalized DCG....\")\n",
        "  list_=list(np.around(np.array(ndcg_scores)/np.max(ndcg_scores), 3)) \n",
        "  print(\"# Process completed.\")\n",
        "  return list_ \n",
        "\n",
        "\n",
        "def evaluation(top_n, cval, alg_name):\n",
        "    print(\"Executing evaluation....\")\n",
        "    recalls, precs, f1s, ndcg_scores = ([] for _ in range(4))\n",
        "    cv = pd.read_csv(f'first_1000_added_nodes_weight_1.txt',sep='\\t')###<-------------------------\n",
        "    cv_nodes = cv[alg_name + '_node'].tolist()\n",
        "\n",
        "    # subsets (by 1000, etc...)\n",
        "    top = set(cv_nodes[0:top_n]) \n",
        "\n",
        "    # intersection with the probe set\n",
        "    inters = top.intersection(geneDiseaseIDs[str(i)]) \n",
        "\n",
        "    # Calculating DCG\n",
        "    dcg = calculate_dcg(inters, cv, alg_name)\n",
        "\n",
        "    # Appending  results\n",
        "    recall = round(len(inters)/cval, 3)\n",
        "    prec = round(len(inters)/top_n, 3)\n",
        "    recalls.append(recall)\n",
        "    precs.append(prec)\n",
        "    ndcg_scores.append(round(dcg, 3))\n",
        "\n",
        "    try:\n",
        "      f1s.append(round(2*((recall*prec)/(recall+prec)), 3))\n",
        "    except:\n",
        "      f1s.append(0)\n",
        "\n",
        "    print(\"# Process completed\")\n",
        "    return {'recall': recalls, \n",
        "            'precision': precs, \n",
        "            'F1 Score': f1s, \n",
        "            'ndcg': normalized_dcg(ndcg_scores)}"
      ],
      "metadata": {
        "id": "bBx_1BKq65qL"
      },
      "execution_count": 43,
      "outputs": []
    },
    {
      "cell_type": "markdown",
      "source": [
        "#### Cross-Validation splits"
      ],
      "metadata": {
        "id": "ptajmyMz6wDF"
      }
    },
    {
      "cell_type": "code",
      "source": [
        "# SET UP\n",
        "\n",
        "with open('/content/Hypertensive disease_splits.json') as f:\n",
        "  dict_ = json.load(f)\n",
        "\n",
        "with open('/content/Hypertensive disease_seed_gene.txt') as f:\n",
        "  seeds = pd.read_csv(f,sep='\\t',header=None)\n",
        "\n",
        "gene_dis_association = pd.read_csv('/content/curated_gene_disease_associations.tsv', sep = '\\t')\n",
        "gene_dis_association = gene_dis_association[gene_dis_association['diseaseName'] == 'Hypertensive disease']\n",
        "\n",
        "seeds=seeds[0].to_numpy()\n",
        "seeds"
      ],
      "metadata": {
        "id": "RTaEJXH56YHE",
        "colab": {
          "base_uri": "https://localhost:8080/"
        },
        "outputId": "e35528f8-9d14-4f3b-e994-5a46c5ac8bdb"
      },
      "execution_count": 44,
      "outputs": [
        {
          "output_type": "execute_result",
          "data": {
            "text/plain": [
              "array([\"['CD2AP', 'MMP2', 'TPM1', 'WT1', 'ICAM1', 'JUN', 'CLCNKA', 'GCH1', 'GSK3B', 'ANXA1', 'SLC37A4', 'NOS2', 'HRH3', 'INS', 'CXCL2', 'GAL', 'PRKACA', 'NPTN', 'CRHR2', 'ITM2B', 'COL1A1', 'IER3', 'CACNA1C', 'WDPCP', 'MFAP5', 'LEP', 'TGFB1', 'PTH', 'ZMPSTE24', 'VHL', 'KCNMB1', 'CCL2', 'NCF1', 'TGFB2', 'MYH11', 'BMPR2', 'FGA', 'F11', 'SCNN1G', 'GLP1R', 'GPX1', 'GSTT1', 'FXYD2', 'PRKCD', 'STIM1', 'TGFB3', 'CALCA', 'PPARG', 'ATP2B1', 'COL4A3', 'TRAF3IP1', 'LOX', 'PPBP', 'AOC1', 'IL6', 'USP8', 'LPL', 'LMNA', 'NPR1', 'COX3', 'STK39', 'CPOX', 'ACT', 'MYLK', 'BBS7', 'TP53', 'ATP2B3', 'ERCC8', 'CALR', 'GSTA5', 'CETP', 'ACE2', 'THPO', 'CRP', 'SCNN1B', 'STK11', 'GNAS', 'AGTR1', 'CYBB', 'NME1', 'EDNRA', 'NPPA', 'AGTR2', 'KCNJ5', 'DYRK1B', 'CYP21A2', 'GUCY1A3', 'MKS1', 'BBS4', 'PPP1R3A', 'ECE1', 'SERPINE1', 'OXSR1', 'IGF1', 'NEDD4L', 'APOE', 'LTF', 'MUC1', 'PAX2', 'ERAP1', 'SLC12A2', 'OXT', 'CYTB', 'SOD3', 'KCNJ1', 'CD36', 'FGFR2', 'PLG', 'ALOX15', 'TNF', 'LDLR', 'FN1', 'NR3C2', 'RGS2', 'UCN', 'MC2R', 'SMARCAL1', 'ACE', 'IDUA', 'MMP9', 'MKKS', 'ACVRL1', 'JAK2', 'CYBA', 'PTEN', 'TACR1', 'EGFR', 'F12', 'MDH1', 'ELN', 'GNRH1', 'APOA1', 'CUL3', 'APOB', 'RPS6KB1', 'CAV1', 'PLIN1', 'HMBS', 'TLR4', 'ADD1', 'CTGF', 'ALAD', 'TGFBR2', 'IFT172', 'AHR', 'PDE8B', 'GLA', 'VCAM1', 'FMO3', 'EPO', 'ABCB6', 'BBS1', 'MYD88', 'NPHP1', 'CYP1A1', 'EDN3', 'ATOX1', 'SLC9A3R2', 'KNG1', 'CYP11B1', 'SLC6A2', 'HIF1A', 'LHB', 'GSTT2', 'B2M', 'GNB3', 'UTS2', 'BBS2', 'PPARA', 'WNK4', 'GP1BA', 'SOD1', 'TRH', 'HP', 'LYZ', 'KLHL3', 'NOS3', 'ND5', 'WNK1', 'TRPC5', 'TNFRSF11B', 'SMAD3', 'TRNV', 'CBS', 'SDCCAG8', 'NF1', 'ENPP1', 'UCP2', 'ATP1A2', 'TRPC3', 'POMC', 'CMA1', 'HSD11B1', 'GCG', 'INVS', 'BCL2', 'TGFBR1', 'ADRA2A', 'PTGS2', 'RET', 'OFD1', 'ADRB1', 'NR3C1', 'ITGA8', 'OLR1', 'INPPL1', 'ACTA2', 'SOD2', 'ADCY5', 'SELP', 'SH2B3', 'COL4A4', 'HSD11B2', 'REN', 'CELA2A', 'DRD2', 'HTR2B', 'SLC12A3', 'CAT', 'ORAI1', 'AQP1', 'ADIPOQ', 'TRIM32', 'IL1B', 'PDE3A', 'COX1', 'GJA5', 'LDLRAP1', 'SMAD4', 'COX2', 'LEPR', 'CYP17A1', 'CACNA1D', 'ALMS1', 'G6PC', 'UMOD', 'VWF', 'MTOR', 'AVP', 'COL4A5', 'VAV3', 'BDKRB2', 'LZTFL1', 'ERCC6', 'ND1', 'IKBKAP', 'TIMP1', 'TRNE', 'PLAT', 'ABCC1', 'PROC', 'ALB', 'COL3A1', 'BBS9', 'FOXE3', 'VDR', 'SERPINA6', 'RGS5', 'CEP164', 'RALBP1', 'FOXF1', 'ERCC4', 'ATP1A1', 'DUSP5', 'RELA', 'MYH9', 'GJA1', 'AOC3', 'PRKG1', 'SCNN1A', 'FBN1', 'KLK1', 'IFT27', 'NPHP3', 'PRKAR1A', 'TGM2', 'HMOX1', 'AGT', 'GCLC', 'ND6', 'GJA4', 'GJC1', 'MAFB', 'EDN1', 'FOS', 'AR', 'AIP', 'IQCB1', 'NPPB', 'CACNA2D1']\"],\n",
              "      dtype=object)"
            ]
          },
          "metadata": {},
          "execution_count": 44
        }
      ]
    },
    {
      "cell_type": "code",
      "source": [
        "# CROSS VALIDATION SPLITS INTO FILES\n",
        "\n",
        "for k,v in dict_.items():\n",
        "    print(k,v)\n",
        "    ids=gene_dis_association.loc[gene_dis_association.geneSymbol.isin(v)].geneId.tolist()\n",
        "    l=list(set(seeds).difference(set(ids)))\n",
        "    with open('/content/cross_{}.txt'.format(k),'w') as f:\n",
        "        for item in l:\n",
        "            f.write(\"%s\\n\" % item)\n",
        "    "
      ],
      "metadata": {
        "id": "Mkk1bjXU6s13",
        "colab": {
          "base_uri": "https://localhost:8080/"
        },
        "outputId": "150a76d6-a1ee-4c29-d209-b20de17e9878"
      },
      "execution_count": 45,
      "outputs": [
        {
          "output_type": "stream",
          "name": "stdout",
          "text": [
            "0 ['CD2AP', 'MMP2', 'TPM1', 'WT1', 'ICAM1', 'JUN', 'CLCNKA', 'GCH1', 'GSK3B', 'ANXA1', 'SLC37A4', 'NOS2', 'HRH3', 'INS', 'CXCL2', 'GAL', 'PRKACA', 'NPTN', 'CRHR2', 'ITM2B', 'COL1A1', 'IER3', 'CACNA1C', 'WDPCP', 'MFAP5', 'LEP', 'TGFB1', 'PTH', 'ZMPSTE24', 'VHL', 'KCNMB1', 'CCL2', 'NCF1', 'TGFB2', 'MYH11', 'BMPR2', 'FGA', 'F11', 'SCNN1G', 'GLP1R', 'GPX1', 'GSTT1', 'FXYD2', 'PRKCD', 'STIM1', 'TGFB3', 'CALCA', 'PPARG', 'ATP2B1', 'COL4A3', 'TRAF3IP1', 'LOX', 'PPBP', 'AOC1', 'IL6', 'USP8', 'LPL', 'LMNA']\n",
            "1 ['NPR1', 'COX3', 'STK39', 'CPOX', 'ACT', 'MYLK', 'BBS7', 'TP53', 'ATP2B3', 'ERCC8', 'CALR', 'GSTA5', 'CETP', 'ACE2', 'THPO', 'CRP', 'SCNN1B', 'STK11', 'GNAS', 'AGTR1', 'CYBB', 'NME1', 'EDNRA', 'NPPA', 'AGTR2', 'KCNJ5', 'DYRK1B', 'CYP21A2', 'GUCY1A3', 'MKS1', 'BBS4', 'PPP1R3A', 'ECE1', 'SERPINE1', 'OXSR1', 'IGF1', 'NEDD4L', 'APOE', 'LTF', 'MUC1', 'PAX2', 'ERAP1', 'SLC12A2', 'OXT', 'CYTB', 'SOD3', 'KCNJ1', 'CD36', 'FGFR2', 'PLG', 'ALOX15', 'TNF', 'LDLR', 'FN1', 'NR3C2', 'RGS2', 'UCN', 'MC2R']\n",
            "2 ['SMARCAL1', 'ACE', 'IDUA', 'MMP9', 'MKKS', 'ACVRL1', 'JAK2', 'CYBA', 'PTEN', 'TACR1', 'EGFR', 'F12', 'MDH1', 'ELN', 'GNRH1', 'APOA1', 'CUL3', 'APOB', 'RPS6KB1', 'CAV1', 'PLIN1', 'HMBS', 'TLR4', 'ADD1', 'CTGF', 'ALAD', 'TGFBR2', 'IFT172', 'AHR', 'PDE8B', 'GLA', 'VCAM1', 'FMO3', 'EPO', 'ABCB6', 'BBS1', 'MYD88', 'NPHP1', 'CYP1A1', 'EDN3', 'ATOX1', 'SLC9A3R2', 'KNG1', 'CYP11B1', 'SLC6A2', 'HIF1A', 'LHB', 'GSTT2', 'B2M', 'GNB3', 'UTS2', 'BBS2', 'PPARA', 'WNK4', 'GP1BA', 'SOD1', 'TRH', 'HP']\n",
            "3 ['LYZ', 'KLHL3', 'NOS3', 'ND5', 'WNK1', 'TRPC5', 'TNFRSF11B', 'SMAD3', 'TRNV', 'CBS', 'SDCCAG8', 'NF1', 'ENPP1', 'UCP2', 'ATP1A2', 'TRPC3', 'POMC', 'CMA1', 'HSD11B1', 'GCG', 'INVS', 'BCL2', 'TGFBR1', 'ADRA2A', 'PTGS2', 'RET', 'OFD1', 'ADRB1', 'NR3C1', 'ITGA8', 'OLR1', 'INPPL1', 'ACTA2', 'SOD2', 'ADCY5', 'SELP', 'SH2B3', 'COL4A4', 'HSD11B2', 'REN', 'CELA2A', 'DRD2', 'HTR2B', 'SLC12A3', 'CAT', 'ORAI1', 'AQP1', 'ADIPOQ', 'TRIM32', 'IL1B', 'PDE3A', 'COX1', 'GJA5', 'LDLRAP1', 'SMAD4', 'COX2', 'LEPR', 'CYP17A1']\n",
            "4 ['CACNA1D', 'ALMS1', 'G6PC', 'UMOD', 'VWF', 'MTOR', 'AVP', 'COL4A5', 'VAV3', 'BDKRB2', 'LZTFL1', 'ERCC6', 'ND1', 'IKBKAP', 'TIMP1', 'TRNE', 'PLAT', 'ABCC1', 'PROC', 'ALB', 'COL3A1', 'BBS9', 'FOXE3', 'VDR', 'SERPINA6', 'RGS5', 'CEP164', 'RALBP1', 'FOXF1', 'ERCC4', 'ATP1A1', 'DUSP5', 'RELA', 'MYH9', 'GJA1', 'AOC3', 'PRKG1', 'SCNN1A', 'FBN1', 'KLK1', 'IFT27', 'NPHP3', 'PRKAR1A', 'TGM2', 'HMOX1', 'AGT', 'GCLC', 'ND6', 'GJA4', 'GJC1', 'MAFB', 'EDN1', 'FOS', 'AR', 'AIP', 'IQCB1', 'NPPB', 'CACNA2D1']\n"
          ]
        }
      ]
    },
    {
      "cell_type": "code",
      "source": [
        "# CHECK\n",
        "\n",
        "print(splits)"
      ],
      "metadata": {
        "colab": {
          "base_uri": "https://localhost:8080/"
        },
        "id": "5r1OEdZb01cE",
        "outputId": "5ead5fe6-c308-47fd-bc01-9db034fe756f"
      },
      "execution_count": 46,
      "outputs": [
        {
          "output_type": "stream",
          "name": "stdout",
          "text": [
            "{'0': ['CD2AP', 'MMP2', 'TPM1', 'WT1', 'ICAM1', 'JUN', 'CLCNKA', 'GCH1', 'GSK3B', 'ANXA1', 'SLC37A4', 'NOS2', 'HRH3', 'INS', 'CXCL2', 'GAL', 'PRKACA', 'NPTN', 'CRHR2', 'ITM2B', 'COL1A1', 'IER3', 'CACNA1C', 'WDPCP', 'MFAP5', 'LEP', 'TGFB1', 'PTH', 'ZMPSTE24', 'VHL', 'KCNMB1', 'CCL2', 'NCF1', 'TGFB2', 'MYH11', 'BMPR2', 'FGA', 'F11', 'SCNN1G', 'GLP1R', 'GPX1', 'GSTT1', 'FXYD2', 'PRKCD', 'STIM1', 'TGFB3', 'CALCA', 'PPARG', 'ATP2B1', 'COL4A3', 'TRAF3IP1', 'LOX', 'PPBP', 'AOC1', 'IL6', 'USP8', 'LPL', 'LMNA'], '1': ['NPR1', 'COX3', 'STK39', 'CPOX', 'ACT', 'MYLK', 'BBS7', 'TP53', 'ATP2B3', 'ERCC8', 'CALR', 'GSTA5', 'CETP', 'ACE2', 'THPO', 'CRP', 'SCNN1B', 'STK11', 'GNAS', 'AGTR1', 'CYBB', 'NME1', 'EDNRA', 'NPPA', 'AGTR2', 'KCNJ5', 'DYRK1B', 'CYP21A2', 'GUCY1A3', 'MKS1', 'BBS4', 'PPP1R3A', 'ECE1', 'SERPINE1', 'OXSR1', 'IGF1', 'NEDD4L', 'APOE', 'LTF', 'MUC1', 'PAX2', 'ERAP1', 'SLC12A2', 'OXT', 'CYTB', 'SOD3', 'KCNJ1', 'CD36', 'FGFR2', 'PLG', 'ALOX15', 'TNF', 'LDLR', 'FN1', 'NR3C2', 'RGS2', 'UCN', 'MC2R'], '2': ['SMARCAL1', 'ACE', 'IDUA', 'MMP9', 'MKKS', 'ACVRL1', 'JAK2', 'CYBA', 'PTEN', 'TACR1', 'EGFR', 'F12', 'MDH1', 'ELN', 'GNRH1', 'APOA1', 'CUL3', 'APOB', 'RPS6KB1', 'CAV1', 'PLIN1', 'HMBS', 'TLR4', 'ADD1', 'CTGF', 'ALAD', 'TGFBR2', 'IFT172', 'AHR', 'PDE8B', 'GLA', 'VCAM1', 'FMO3', 'EPO', 'ABCB6', 'BBS1', 'MYD88', 'NPHP1', 'CYP1A1', 'EDN3', 'ATOX1', 'SLC9A3R2', 'KNG1', 'CYP11B1', 'SLC6A2', 'HIF1A', 'LHB', 'GSTT2', 'B2M', 'GNB3', 'UTS2', 'BBS2', 'PPARA', 'WNK4', 'GP1BA', 'SOD1', 'TRH', 'HP'], '3': ['LYZ', 'KLHL3', 'NOS3', 'ND5', 'WNK1', 'TRPC5', 'TNFRSF11B', 'SMAD3', 'TRNV', 'CBS', 'SDCCAG8', 'NF1', 'ENPP1', 'UCP2', 'ATP1A2', 'TRPC3', 'POMC', 'CMA1', 'HSD11B1', 'GCG', 'INVS', 'BCL2', 'TGFBR1', 'ADRA2A', 'PTGS2', 'RET', 'OFD1', 'ADRB1', 'NR3C1', 'ITGA8', 'OLR1', 'INPPL1', 'ACTA2', 'SOD2', 'ADCY5', 'SELP', 'SH2B3', 'COL4A4', 'HSD11B2', 'REN', 'CELA2A', 'DRD2', 'HTR2B', 'SLC12A3', 'CAT', 'ORAI1', 'AQP1', 'ADIPOQ', 'TRIM32', 'IL1B', 'PDE3A', 'COX1', 'GJA5', 'LDLRAP1', 'SMAD4', 'COX2', 'LEPR', 'CYP17A1'], '4': ['CACNA1D', 'ALMS1', 'G6PC', 'UMOD', 'VWF', 'MTOR', 'AVP', 'COL4A5', 'VAV3', 'BDKRB2', 'LZTFL1', 'ERCC6', 'ND1', 'IKBKAP', 'TIMP1', 'TRNE', 'PLAT', 'ABCC1', 'PROC', 'ALB', 'COL3A1', 'BBS9', 'FOXE3', 'VDR', 'SERPINA6', 'RGS5', 'CEP164', 'RALBP1', 'FOXF1', 'ERCC4', 'ATP1A1', 'DUSP5', 'RELA', 'MYH9', 'GJA1', 'AOC3', 'PRKG1', 'SCNN1A', 'FBN1', 'KLK1', 'IFT27', 'NPHP3', 'PRKAR1A', 'TGM2', 'HMOX1', 'AGT', 'GCLC', 'ND6', 'GJA4', 'GJC1', 'MAFB', 'EDN1', 'FOS', 'AR', 'AIP', 'IQCB1', 'NPPB', 'CACNA2D1']}\n"
          ]
        }
      ]
    },
    {
      "cell_type": "code",
      "source": [
        "# DICTIONARY WITH SPLITS MAPPING\n",
        "\n",
        "geneDiseaseIDs = {\n",
        "    '0': DGA[DGA.geneSymbol.isin(splits['0'])].geneId.tolist(),\n",
        "    '1': DGA[DGA.geneSymbol.isin(splits['1'])].geneId.tolist(),\n",
        "    '2': DGA[DGA.geneSymbol.isin(splits['2'])].geneId.tolist(),\n",
        "    '3': DGA[DGA.geneSymbol.isin(splits['3'])].geneId.tolist(),\n",
        "    '4': DGA[DGA.geneSymbol.isin(splits['4'])].geneId.tolist()\n",
        "}"
      ],
      "metadata": {
        "id": "VhGKCgPQzbE6"
      },
      "execution_count": 47,
      "outputs": []
    },
    {
      "cell_type": "markdown",
      "source": [
        "#### Evaluation of performances"
      ],
      "metadata": {
        "id": "x7AoB5Yd63G5"
      }
    },
    {
      "cell_type": "code",
      "source": [
        "# DIAMOND \n",
        "\n",
        "for i in range(0, 5):\n",
        "    diamond(LCC, DG_in_PPI, splits, i, top_n = 1000, path = '...')###<-------------------------\n",
        "    # path = diamond results "
      ],
      "metadata": {
        "id": "77XllWDtzxvb"
      },
      "execution_count": null,
      "outputs": []
    },
    {
      "cell_type": "code",
      "source": [
        "# DIABLE\n",
        "\n",
        "for i in range(0, 5):\n",
        "    diamond(LCC, DG_in_PPI, splits, i, top_n = 1000, path = '...')###<-------------------------"
      ],
      "metadata": {
        "id": "D26bSCxY0b7N"
      },
      "execution_count": null,
      "outputs": []
    },
    {
      "cell_type": "code",
      "source": [
        "# DIFFUSION BASED\n",
        "\n",
        "#... ?"
      ],
      "metadata": {
        "id": "vjoL5DEt1twR"
      },
      "execution_count": null,
      "outputs": []
    },
    {
      "cell_type": "markdown",
      "source": [
        "## Optional Task 3 MCL"
      ],
      "metadata": {
        "id": "-CQz0G6A0IuL"
      }
    },
    {
      "cell_type": "code",
      "source": [
        "# SET UP\n",
        "\n",
        "curated_gene_desease_association_DF = pd.read_csv(\"/content/curated_gene_disease_associations.tsv\", sep = '\\t', compression = 'infer')\n",
        "disease_DF = curated_gene_desease_association_DF.loc[curated_gene_desease_association_DF['diseaseId'] == 'C0020538']"
      ],
      "metadata": {
        "id": "_LZrLpsX3iZB"
      },
      "execution_count": null,
      "outputs": []
    },
    {
      "cell_type": "code",
      "source": [
        "# SEED GENES\n",
        "\n",
        "seed_list = list(disease_DF['geneId'])\n",
        "seed_genes_symbols = list(disease_DF['geneSymbol'])"
      ],
      "metadata": {
        "id": "wUdp3kf93j49"
      },
      "execution_count": null,
      "outputs": []
    },
    {
      "cell_type": "code",
      "source": [
        "# CLUSTERS\n",
        "\n",
        "result = mc.run_mcl(nx.to_scipy_sparse_matrix(G))           \n",
        "clusters = mc.get_clusters(result) "
      ],
      "metadata": {
        "id": "LmcOSKMDz28-"
      },
      "execution_count": null,
      "outputs": []
    },
    {
      "cell_type": "code",
      "source": [
        "# PLOT\n",
        "\n",
        "mc.draw_graph(nx.to_scipy_sparse_matrix(G), clusters, node_size=10, with_labels=False, edge_color=\"silver\")"
      ],
      "metadata": {
        "id": "6y4nBj290PNH"
      },
      "execution_count": null,
      "outputs": []
    },
    {
      "cell_type": "code",
      "source": [
        "# PERFORM CLUSTERING\n",
        "# Use different inflation values from 1.5 and 2.5\n",
        "# for each clustering run calculate the modularity\n",
        "\n",
        "matrix = nx.to_scipy_sparse_matrix(G)\n",
        "for inflation in [i / 10 for i in range(15, 26)]:\n",
        "    result = mc.run_mcl(matrix, inflation=inflation)\n",
        "    clusters = mc.get_clusters(result)\n",
        "    Q = mc.modularity(matrix=result, clusters=clusters)\n",
        "    print(\"inflation:\", inflation, \"modularity:\", Q)"
      ],
      "metadata": {
        "id": "5oq7v0Sf0VXO"
      },
      "execution_count": null,
      "outputs": []
    },
    {
      "cell_type": "markdown",
      "source": [
        "Now that we have found the clusters, we filter them in order to keep only those having at least 10 nodes and in which the seed genes are statistically overrepresented. The resulting sets are the putative desease modules."
      ],
      "metadata": {
        "id": "IWDtYRO91Fjq"
      }
    },
    {
      "cell_type": "code",
      "source": [
        "# KEEP CLUSTERS WITH AT LEAST 10 GENES\n",
        "\n",
        "big_clusters = []\n",
        "for module in clusters:\n",
        "    if len(module) >= 10:\n",
        "        big_clusters.append(module)\n",
        "print(len(clusters), len(big_clusters))"
      ],
      "metadata": {
        "id": "ZTAeKVQP01g9"
      },
      "execution_count": null,
      "outputs": []
    },
    {
      "cell_type": "code",
      "source": [
        "# DICTIONARY WITH MAPPING {nodeID : gene name}\n",
        "\n",
        "val = range(G.number_of_nodes())\n",
        "names = list(G.nodes())\n",
        "dic = dict(zip(val, names))"
      ],
      "metadata": {
        "id": "Nx3-wx0I1KNb"
      },
      "execution_count": null,
      "outputs": []
    },
    {
      "cell_type": "code",
      "source": [
        "# RUN THE HYPERGEOMETRIC TEST TO FIND MODULES WITH STATISTICALLY OVERREPRESENTED SEED GENES\n",
        "\n",
        "putative_desease_modules = []\n",
        "M = G.number_of_nodes() # population size (total number of genes) \n",
        "n = len(seed_genes_symbols) # number of seed genes\n",
        "p_val_list = []\n",
        "for module in big_clusters:\n",
        "    N = len(module) # number of draws (number of genes in the given cluster)\n",
        "    x = len(set(seed_genes_symbols).intersection(set(dic[g] for g in module)))\n",
        "    p_val = hypergeom.sf(x-1, M, n, N)\n",
        "    if p_val < 0.05:\n",
        "        putative_desease_modules.append(module)\n",
        "        p_val_list.append(p_val)"
      ],
      "metadata": {
        "id": "C5auyMl-1L0M"
      },
      "execution_count": null,
      "outputs": []
    },
    {
      "cell_type": "code",
      "source": [
        "# PUTATIVE DISEASE MODULES TO PUT IN THE FOLLOWING DATAFRAME\n",
        "\n",
        "for i in range(len(putative_desease_modules)):\n",
        "    print(\"Desease putative module \",i, \": \", *[dic[g] for g in putative_desease_modules[i]])"
      ],
      "metadata": {
        "id": "YpkTn31H1Wng"
      },
      "execution_count": null,
      "outputs": []
    },
    {
      "cell_type": "code",
      "source": [
        "# DATAFRAME OF PUTATIVE DISEASE MODULES\n",
        "\n",
        "header = ['ModuleID', \"Number of seed genes/module\", \"Module size\", \"Seed genes\", \"All genes\", \"p-value\"]\n",
        "df_putative_desease_modules = pd.DataFrame(columns=header)\n",
        "for i in range(len(putative_desease_modules)):\n",
        "    seeds = set(seed_genes_symbols).intersection(set(dic[g] for g in putative_desease_modules[i]))\n",
        "    values = [i, len(seeds), len(putative_desease_modules[i]), seeds, [dic[g] for g in putative_desease_modules[i]],p_val_list[i]]\n",
        "    df = pd.DataFrame( [values], columns = header)\n",
        "    df_putative_desease_modules = df_putative_desease_modules.append(df, ignore_index=True)"
      ],
      "metadata": {
        "id": "DGDmv6kw1X3y"
      },
      "execution_count": null,
      "outputs": []
    },
    {
      "cell_type": "code",
      "source": [
        "# CHECK\n",
        "\n",
        "df_putative_desease_modules"
      ],
      "metadata": {
        "id": "Rh3Dn-h01bgG"
      },
      "execution_count": null,
      "outputs": []
    }
  ]
}