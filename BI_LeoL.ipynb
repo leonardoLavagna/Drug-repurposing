{
  "nbformat": 4,
  "nbformat_minor": 0,
  "metadata": {
    "colab": {
      "provenance": [],
      "authorship_tag": "ABX9TyP1K0ZmNwi/uqSkP8wpHf1H",
      "include_colab_link": true
    },
    "kernelspec": {
      "name": "python3",
      "display_name": "Python 3"
    },
    "language_info": {
      "name": "python"
    }
  },
  "cells": [
    {
      "cell_type": "markdown",
      "metadata": {
        "id": "view-in-github",
        "colab_type": "text"
      },
      "source": [
        "<a href=\"https://colab.research.google.com/github/leonardoLavagna/Drug-repurposing/blob/main/BI_LeoL.ipynb\" target=\"_parent\"><img src=\"https://colab.research.google.com/assets/colab-badge.svg\" alt=\"Open In Colab\"/></a>"
      ]
    },
    {
      "cell_type": "markdown",
      "source": [
        "## Set Up"
      ],
      "metadata": {
        "id": "MB2jks_equ2c"
      }
    },
    {
      "cell_type": "code",
      "execution_count": 1,
      "metadata": {
        "id": "4gea7gDcqpFo"
      },
      "outputs": [],
      "source": [
        "import pandas as pd\n",
        "import networkx as nx\n",
        "import matplotlib.pyplot as plt\n",
        "from tqdm import tqdm\n",
        "import numpy as np\n",
        "import math\n",
        "import json\n",
        "import os"
      ]
    },
    {
      "cell_type": "markdown",
      "source": [
        "## 1) Get the data"
      ],
      "metadata": {
        "id": "Cz4Q4SpbqzE8"
      }
    },
    {
      "cell_type": "code",
      "source": [
        "# read the human interactome data\n",
        "\n",
        "homo_sapiens_network = pd.read_csv(\"/content/Data/BIOGRID-ORGANISM-Homo_sapiens-4.4.204.tab3.txt\", sep = \"\\t\")"
      ],
      "metadata": {
        "id": "fHRBtmu7qwrB"
      },
      "execution_count": null,
      "outputs": []
    },
    {
      "cell_type": "markdown",
      "source": [
        "Filter out the same organism A and B:"
      ],
      "metadata": {
        "id": "EQPwnEimrA79"
      }
    },
    {
      "cell_type": "code",
      "source": [
        "homo_sapiens_network = homo_sapiens_network[homo_sapiens_network['Organism Name Interactor A'] == homo_sapiens_network['Organism Name Interactor B']]"
      ],
      "metadata": {
        "id": "nIeI7FngrAJ8"
      },
      "execution_count": null,
      "outputs": []
    },
    {
      "cell_type": "markdown",
      "source": [
        "Filter out the same Gene Interactor A and B (self-loops):"
      ],
      "metadata": {
        "id": "tKbLtbBNrE6Z"
      }
    },
    {
      "cell_type": "code",
      "source": [
        "homo_sapiens_network = homo_sapiens_network[homo_sapiens_network['Official Symbol Interactor A'] != homo_sapiens_network['Official Symbol Interactor B']]"
      ],
      "metadata": {
        "id": "3j_l7ul4rHCq"
      },
      "execution_count": null,
      "outputs": []
    },
    {
      "cell_type": "markdown",
      "source": [
        "Filter out only the physical interactions:"
      ],
      "metadata": {
        "id": "tKDkKRB4rJC9"
      }
    },
    {
      "cell_type": "code",
      "source": [
        "homo_sapiens_network = homo_sapiens_network[homo_sapiens_network['Experimental System Type'] == \"physical\"]"
      ],
      "metadata": {
        "id": "HeVPp_qOrK4T"
      },
      "execution_count": null,
      "outputs": []
    },
    {
      "cell_type": "markdown",
      "source": [
        "To avoid duplicating edges A-B and B-A, we'll filter them in few steps later... Now we focus on the curated disease-gene association"
      ],
      "metadata": {
        "id": "RtCD0jiSrSES"
      }
    },
    {
      "cell_type": "code",
      "source": [
        "gene_dis_association = pd.read_csv('/content/drive/MyDrive/BI - Data/curated_gene_disease_associations.tsv', sep = '\\t')\n",
        "gene_dis_association = gene_dis_association[gene_dis_association['diseaseName'] == '..........'] "
      ],
      "metadata": {
        "id": "JGnZXd-OrZoR"
      },
      "execution_count": null,
      "outputs": []
    },
    {
      "cell_type": "code",
      "source": [
        "gene_dis_association"
      ],
      "metadata": {
        "id": "gBqMcCnYr3-U"
      },
      "execution_count": null,
      "outputs": []
    },
    {
      "cell_type": "markdown",
      "source": [
        "Effective number of disease genes present in the homo sapiens network:"
      ],
      "metadata": {
        "id": "1CZuTK-nsH-R"
      }
    },
    {
      "cell_type": "code",
      "source": [
        "disease_genes_in_interactome = set.intersection(set(gene_dis_association['geneSymbol'].tolist()), set(homo_sapiens_network['Official Symbol Interactor A'].tolist()).union(homo_sapiens_network['Official Symbol Interactor B'].tolist()))"
      ],
      "metadata": {
        "id": "JhaiP__JsIYG"
      },
      "execution_count": null,
      "outputs": []
    },
    {
      "cell_type": "markdown",
      "source": [
        "### Create human interactome"
      ],
      "metadata": {
        "id": "xu0oeeGOsOmb"
      }
    },
    {
      "cell_type": "code",
      "source": [
        "human_interactome = nx.Graph()"
      ],
      "metadata": {
        "id": "_zXOuQLasQ_h"
      },
      "execution_count": null,
      "outputs": []
    },
    {
      "cell_type": "code",
      "source": [
        "human_interactome.add_nodes_from(map(int, list(set(homo_sapiens_network[\"Entrez Gene Interactor A\"].tolist() + homo_sapiens_network[\"Entrez Gene Interactor B\"].tolist())))) # considering the Gene IDs\n",
        "# human_interactome.add_nodes_from(list(set(homo_sapiens_network[\"Official Symbol Interactor A\"].tolist() + homo_sapiens_network[\"Official Symbol Interactor B\"].tolist())))"
      ],
      "metadata": {
        "id": "HvHtBRO9sTrj"
      },
      "execution_count": null,
      "outputs": []
    },
    {
      "cell_type": "markdown",
      "source": [
        "Now we filter the duplicates edges A-B, B-A"
      ],
      "metadata": {
        "id": "CYG6sAJNsWRr"
      }
    },
    {
      "cell_type": "code",
      "source": [
        "human_interactome.add_edges_from(list(zip(map(int, homo_sapiens_network[\"Entrez Gene Interactor A\"]), map(int, homo_sapiens_network[\"Entrez Gene Interactor B\"]))))\n",
        "# human_interactome.add_edges_from(zip(homo_sapiens_network[\"Official Symbol Interactor A\"], homo_sapiens_network[\"Official Symbol Interactor B\"]))"
      ],
      "metadata": {
        "id": "tQGSk1wPsXYs"
      },
      "execution_count": null,
      "outputs": []
    },
    {
      "cell_type": "markdown",
      "source": [
        "### LLC"
      ],
      "metadata": {
        "id": "gWBpw7Xlsf1G"
      }
    },
    {
      "cell_type": "code",
      "source": [
        "LCCs = [len(human_interactome) for human_interactome in sorted(nx.connected_components(human_interactome), key=len, reverse=True)]\n",
        "print(f\"The largest component {LCCs[0]}\") "
      ],
      "metadata": {
        "id": "jAnGBYussgYe"
      },
      "execution_count": null,
      "outputs": []
    },
    {
      "cell_type": "code",
      "source": [
        "print(LCCs)"
      ],
      "metadata": {
        "id": "rIG9o264snp3"
      },
      "execution_count": null,
      "outputs": []
    },
    {
      "cell_type": "code",
      "source": [
        "# extract first LLC\n",
        "human_interactome_LCC = human_interactome.subgraph(max(nx.connected_components(human_interactome), key=len))\n",
        "print(len(human_interactome_LCC)) # number of nodes in the largest component\n",
        "print(len(human_interactome_LCC.edges()))"
      ],
      "metadata": {
        "id": "ef6HdqkRsrYb"
      },
      "execution_count": null,
      "outputs": []
    },
    {
      "cell_type": "code",
      "source": [
        "# save graph\n",
        "nx.write_adjlist(human_interactome_LCC, \"test.adjlist\")"
      ],
      "metadata": {
        "id": "AKIKKayCsvHN"
      },
      "execution_count": null,
      "outputs": []
    }
  ]
}