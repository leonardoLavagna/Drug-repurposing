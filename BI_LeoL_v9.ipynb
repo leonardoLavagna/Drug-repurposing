{
  "cells": [
    {
      "cell_type": "markdown",
      "metadata": {
        "id": "view-in-github",
        "colab_type": "text"
      },
      "source": [
        "<a href=\"https://colab.research.google.com/github/leonardoLavagna/Drug-repurposing/blob/main/BI_LeoL_v9.ipynb\" target=\"_parent\"><img src=\"https://colab.research.google.com/assets/colab-badge.svg\" alt=\"Open In Colab\"/></a>"
      ]
    },
    {
      "cell_type": "markdown",
      "metadata": {
        "id": "MB2jks_equ2c"
      },
      "source": [
        "# Set Up"
      ]
    },
    {
      "cell_type": "code",
      "execution_count": null,
      "metadata": {
        "id": "cOkMPGHjo7_w"
      },
      "outputs": [],
      "source": [
        "# MOUNT DRIVE\n",
        "# Remark . Assign colab = True when using Google Colab\n",
        "# Remark . While using Google colab remeber to collect all the needed files in\n",
        "#          the folder BI-Data in your Google Drive.\n",
        "\n",
        "import os\n",
        "colab=True\n",
        "if colab:\n",
        "    from google.colab import drive\n",
        "    drive.mount('/content/drive',force_remount=True)\n",
        "    os.chdir('/content/drive/MyDrive/BI-Data/')"
      ]
    },
    {
      "cell_type": "code",
      "execution_count": 2,
      "metadata": {
        "id": "IyBEndFwwnwH"
      },
      "outputs": [],
      "source": [
        "# REFERENCE CODE FOR DIAMOnD\n",
        "\n",
        "#!git clone https://github.com/dinaghiassian/DIAMOnD "
      ]
    },
    {
      "cell_type": "code",
      "source": [
        "# UPGRADE TO AVOID CONFLICTS\n",
        "\n",
        "%pip install networkx --upgrade\n",
        "%pip install scipy --upgrade"
      ],
      "metadata": {
        "id": "P5_ZdCkD8jV2"
      },
      "execution_count": null,
      "outputs": []
    },
    {
      "cell_type": "code",
      "execution_count": null,
      "metadata": {
        "id": "xp0LQsv8kGTW"
      },
      "outputs": [],
      "source": [
        "# INSTALL NON-STANDARD LIBRARIES\n",
        "# See: https://github.com/GuyAllard/markov_clustering\n",
        "\n",
        "%pip install markov_clustering "
      ]
    },
    {
      "cell_type": "code",
      "source": [
        "# INSTALL NON-STANDARD LIBRARIES \n",
        "#See: https://ndex2.readthedocs.io/en/latest/createnicecx.html\n",
        "\n",
        "%pip install ndex2"
      ],
      "metadata": {
        "id": "Q9k5q1Cb2_Z-"
      },
      "execution_count": null,
      "outputs": []
    },
    {
      "cell_type": "code",
      "execution_count": 6,
      "metadata": {
        "id": "nVfF8_rdk1uA"
      },
      "outputs": [],
      "source": [
        "# DIRECTORY TREE\n",
        "# Remark . Change according to your file system.\n",
        "# Remark. This path should be the same used in the auxiliary_funtions module.\n",
        "# Remark . When using Google Colab remember that the path has been changed to \n",
        "# /content/drive/MyDrive/BI-Data/ \n",
        "\n",
        "path = './'"
      ]
    },
    {
      "cell_type": "code",
      "execution_count": 8,
      "metadata": {
        "id": "4gea7gDcqpFo"
      },
      "outputs": [],
      "source": [
        "# IMPORT NEEDED LIBRARIES AND SELF DEFINED FUNCTIONS\n",
        "\n",
        "import re\n",
        "import csv\n",
        "import random\n",
        "import json\n",
        "import ast\n",
        "import sys\n",
        "import statistics\n",
        "import ndex2\n",
        "import requests\n",
        "import base64\n",
        "import auxiliary_functions as AF\n",
        "import pandas as pd\n",
        "import networkx as nx\n",
        "import matplotlib.pyplot as plt\n",
        "import numpy as np\n",
        "import markov_clustering as mc\n",
        "from tqdm import tqdm\n",
        "from scipy.stats import hypergeom"
      ]
    },
    {
      "cell_type": "markdown",
      "metadata": {
        "id": "mRbllah2A0o5"
      },
      "source": [
        "# TASK 1 . PPI and GDA data gathering and interactome reconstruction"
      ]
    },
    {
      "cell_type": "markdown",
      "metadata": {
        "id": "8dkVMfSshTjz"
      },
      "source": [
        "## Data gathering and interactome reconstruction"
      ]
    },
    {
      "cell_type": "code",
      "execution_count": 9,
      "metadata": {
        "colab": {
          "base_uri": "https://localhost:8080/"
        },
        "id": "Uhof4wFsD15F",
        "outputId": "c81056f6-eeb9-44c5-e815-7856632034f1"
      },
      "outputs": [
        {
          "output_type": "stream",
          "name": "stdout",
          "text": [
            "Processing interactome...\n"
          ]
        },
        {
          "output_type": "stream",
          "name": "stderr",
          "text": [
            "<ipython-input-9-ea389ed6b4af>:3: DtypeWarning: Columns (1,2,18) have mixed types.Specify dtype option on import or set low_memory=False.\n",
            "  HSN = AF.interactome_processing(path+\"BIOGRID-ORGANISM-Homo_sapiens-4.4.204.tab3.txt\")\n"
          ]
        },
        {
          "output_type": "stream",
          "name": "stdout",
          "text": [
            "# Process completed.\n"
          ]
        }
      ],
      "source": [
        "# DATA GATHERING AND PROCESSING\n",
        "\n",
        "HSN = AF.interactome_processing(path+\"BIOGRID-ORGANISM-Homo_sapiens-4.4.204.tab3.txt\")\n",
        "DGA_all = pd.read_csv(path+'curated_gene_disease_associations.tsv',sep='\\t')\n",
        "DGA =  DGA_all[DGA_all['diseaseName'] == 'Hypertensive disease']\n",
        "DGA = AF.DGA_processing(path+'curated_gene_disease_associations.tsv', 'Hypertensive disease')"
      ]
    },
    {
      "cell_type": "code",
      "source": [
        "# CREATE INTERACTOME AND SPLITS\n",
        "# Remark . If the file 'Hypertensive disease_splits' has not been created\n",
        "#          uncomment the following line\n",
        "\n",
        "#DG_in_PPI,splits = AF.make_seeds_splits(DGA,HSN,'Hypertensive disease',path)\n",
        "DG_in_PPI, splits = AF.import_seeds_split('Hypertensive disease')"
      ],
      "metadata": {
        "id": "1Gnn2uypkVr9",
        "outputId": "35260ffa-50b2-404a-f76d-57e81823b820",
        "colab": {
          "base_uri": "https://localhost:8080/"
        }
      },
      "execution_count": 10,
      "outputs": [
        {
          "output_type": "stream",
          "name": "stdout",
          "text": [
            "Importing seed genes...\n",
            "# Process completed.\n"
          ]
        }
      ]
    },
    {
      "cell_type": "markdown",
      "metadata": {
        "id": "IuiA9iw0halS"
      },
      "source": [
        "## Compute the disease LCC and its basic network measures"
      ]
    },
    {
      "cell_type": "code",
      "execution_count": 11,
      "metadata": {
        "colab": {
          "base_uri": "https://localhost:8080/"
        },
        "id": "kqFIzXjThdNg",
        "outputId": "c50494dc-7caf-431c-eb72-6c694e57b107"
      },
      "outputs": [
        {
          "output_type": "stream",
          "name": "stdout",
          "text": [
            "Extracting LCC...\n",
            "Nodes  19618 , Connections  665061\n",
            "# Process completed.\n"
          ]
        }
      ],
      "source": [
        "# LCC COMPUTATION\n",
        "\n",
        "LCC = AF.extract_LCC_form_PPI(HSN)\n",
        "n_nodes = LCC.number_of_nodes()"
      ]
    },
    {
      "cell_type": "code",
      "execution_count": 12,
      "metadata": {
        "colab": {
          "base_uri": "https://localhost:8080/",
          "height": 661
        },
        "id": "aR1AI341EkvQ",
        "outputId": "549e5a9e-beb1-4afa-d4cc-05e0500242db"
      },
      "outputs": [
        {
          "output_type": "stream",
          "name": "stdout",
          "text": [
            "Creating Disease LCC graph...\n",
            "Nodes in disease LCC  232\n",
            "# Process completed.\n"
          ]
        },
        {
          "output_type": "display_data",
          "data": {
            "text/plain": [
              "<Figure size 576x576 with 1 Axes>"
            ],
            "image/png": "[encoded data removed]"
          },
          "metadata": {}
        }
      ],
      "source": [
        "# LCC PLOT\n",
        "\n",
        "DN = AF.make_disease_graph(HSN, DGA, DG_in_PPI)\n",
        "AF.plot_LCC(DN, DG_in_PPI)"
      ]
    },
    {
      "cell_type": "code",
      "source": [
        "# NETWORK MEASURES\n",
        "# Remark . Execute only once. Moreover this cell takes a while to run...\n",
        "\n",
        "G = LCC\n",
        "\n",
        "nx.set_node_attributes(G, G.degree(), 'Node degree')  \n",
        "nx.set_node_attributes(G, nx.betweenness_centrality(G), \"Betweenness centrality\")\n",
        "nx.set_node_attributes(G, nx.eigenvector_centrality(G), \"Eigenvector centrality\")\n",
        "nx.set_node_attributes(G, nx.closeness_centrality(G), \"Closeness centrality\")\n",
        "\n",
        "local_measures = pd.DataFrame(index=G.nodes())\n",
        "local_measures['Node degree'] = [d for n, d in G.degree()] \n",
        "local_measures['Betweenness centrality'] = pd.Series(nx.get_node_attributes(G, 'Betweenness centrality'))\n",
        "local_measures['Eigenvector centrality'] = pd.Series(nx.get_node_attributes(G, 'Eigenvector centrality'))\n",
        "local_measures['Closeness centrality'] = pd.Series(nx.get_node_attributes(G, 'Closeness centrality'))\n",
        "local_measures['Betweenness/Degree Ratio'] = local_measures['Betweenness centrality']/local_measures['Node degree']\n",
        "local_measures.index.name='Gene'"
      ],
      "metadata": {
        "id": "MQRk9IFj9J5B"
      },
      "execution_count": null,
      "outputs": []
    },
    {
      "cell_type": "code",
      "source": [
        "# SAVE TABLE WITH NETWORK MEASURES IN FILE local_measures.csv\n",
        "# Remark . Execute only once to create the file\n",
        "\n",
        "local_measures.to_csv(path+'local_measures.csv', index = True, header = True)"
      ],
      "metadata": {
        "id": "awQy6AI99d0Q"
      },
      "execution_count": null,
      "outputs": []
    },
    {
      "cell_type": "code",
      "source": [
        "# CHECK\n",
        "\n",
        "local_measures = pd.read_csv(path+'local_measures.csv', sep=',')\n",
        "local_measures.head()"
      ],
      "metadata": {
        "id": "QWxq7I5hAm5d"
      },
      "execution_count": null,
      "outputs": []
    },
    {
      "cell_type": "markdown",
      "metadata": {
        "id": "bvpjeGCqAp_p"
      },
      "source": [
        "# Task 2 . Putative disease genes identification algorithms"
      ]
    },
    {
      "cell_type": "markdown",
      "source": [
        "## SET UP"
      ],
      "metadata": {
        "id": "wIrmeN_095jx"
      }
    },
    {
      "cell_type": "code",
      "source": [
        "# STORE  THE INTERACTOME IN FILE PPI_Hypertensive.txt\n",
        "# Remark . Execute only once to create the file\n",
        "\n",
        "pairs_genes = list(LCC.edges)\n",
        "textfile = open(path+\"PPI_Hypertensive.txt\", \"w\")\n",
        "for gA, gB in tqdm(pairs_genes):\n",
        "  textfile.write(str(gA) + ',' + str(gB) + '\\n') \n",
        "textfile.close()"
      ],
      "metadata": {
        "id": "7GbbUbvh9oVt",
        "outputId": "1a3602a6-3321-45af-e597-d214c1f2a558",
        "colab": {
          "base_uri": "https://localhost:8080/"
        }
      },
      "execution_count": 15,
      "outputs": [
        {
          "output_type": "stream",
          "name": "stderr",
          "text": [
            "100%|██████████| 665061/665061 [00:00<00:00, 1034862.22it/s]\n"
          ]
        }
      ]
    },
    {
      "cell_type": "code",
      "execution_count": 16,
      "metadata": {
        "id": "RTaEJXH56YHE"
      },
      "outputs": [],
      "source": [
        "# LOAD DATA\n",
        "\n",
        "# Dict with pair k,v where k is the index and v is the list of genes in the probe set\n",
        "with open(path+'Hypertensive disease_splits.json') as f:\n",
        "  dict_ = json.load(f)\n",
        "\n",
        "# import seed genes\n",
        "with open(path+'Hypertensive disease_seed_gene.txt') as f:\n",
        "  data = f.read()\n",
        "  seeds = ast.literal_eval(data)\n",
        "  seeds = np.asarray(seeds)     "
      ]
    },
    {
      "cell_type": "code",
      "source": [
        "# CHECK\n",
        "\n",
        "#dict_.items()"
      ],
      "metadata": {
        "id": "8rOxTqLtk3hV"
      },
      "execution_count": 17,
      "outputs": []
    },
    {
      "cell_type": "code",
      "source": [
        "# CHECK\n",
        "\n",
        "#print(type(dict_))\n",
        "#print(len(dict_[\"0\"]))"
      ],
      "metadata": {
        "id": "YjdJoinLk9bK"
      },
      "execution_count": 18,
      "outputs": []
    },
    {
      "cell_type": "code",
      "execution_count": 19,
      "metadata": {
        "colab": {
          "base_uri": "https://localhost:8080/"
        },
        "id": "Mkk1bjXU6s13",
        "outputId": "73c8ae02-0a1e-42d4-ca47-ab8f46d7f6d8"
      },
      "outputs": [
        {
          "output_type": "stream",
          "name": "stdout",
          "text": [
            "0 ['ACT', 'CALR', 'PTEN', 'ATP1A2', 'WNK1', 'POMC', 'SOD3', 'NPPB', 'PRKG1', 'PRKCD', 'MC2R', 'ND6', 'NPHP1', 'B2M', 'MAFB', 'CYP17A1', 'IDUA', 'ATOX1', 'OXSR1', 'TGFB1', 'ITM2B', 'HSD11B2', 'CACNA1D', 'CACNA1C', 'SCNN1A', 'IKBKAP', 'TRNV', 'BBS7', 'CELA2A', 'IER3', 'TRIM32', 'GLA', 'ENPP1', 'MKS1', 'BMPR2', 'NPPA', 'LOX', 'FOXF1', 'ICAM1', 'MYLK', 'AGT', 'DUSP5', 'INVS', 'FOS', 'GSTT2', 'TNFRSF11B', 'ACVRL1', 'CPOX', 'FGFR2', 'EDNRA', 'IFT172', 'HP', 'NPTN', 'BBS9', 'INS', 'NPR1', 'ERAP1', 'SLC12A2']\n",
            "True\n",
            "1 ['NR3C1', 'STK39', 'HMBS', 'GSK3B', 'CAV1', 'CEP164', 'CYBB', 'SLC37A4', 'INPPL1', 'HSD11B1', 'SMAD3', 'TRH', 'GJA4', 'HMOX1', 'GUCY1A3', 'AGTR1', 'SMAD4', 'CALCA', 'F12', 'SH2B3', 'CLCNKA', 'PLIN1', 'KCNJ5', 'RET', 'TGFBR1', 'VHL', 'VAV3', 'ADRB1', 'CACNA2D1', 'ALMS1', 'CD36', 'UCN', 'CYP11B1', 'ADCY5', 'FMO3', 'CETP', 'GNAS', 'GNB3', 'PLG', 'APOE', 'BBS2', 'MMP9', 'LYZ', 'CMA1', 'PPP1R3A', 'UCP2', 'SERPINA6', 'SLC9A3R2', 'COL1A1', 'ABCB6', 'ELN', 'AR', 'COX3', 'FGA', 'TGM2', 'CUL3', 'JUN', 'VCAM1']\n",
            "True\n",
            "2 ['IFT27', 'TNF', 'CTGF', 'DRD2', 'LDLRAP1', 'RGS2', 'COL3A1', 'NOS3', 'TRPC5', 'IL1B', 'GSTA5', 'GSTT1', 'COX2', 'HRH3', 'PAX2', 'PDE3A', 'TGFB2', 'ZMPSTE24', 'NR3C2', 'HIF1A', 'WT1', 'KLK1', 'ADRA2A', 'APOB', 'GLP1R', 'SERPINE1', 'CAT', 'GJA5', 'NPHP3', 'TRNE', 'ND5', 'COL4A4', 'VDR', 'KLHL3', 'ATP1A1', 'GNRH1', 'CXCL2', 'ERCC8', 'SLC12A3', 'MYD88', 'EPO', 'SOD2', 'REN', 'MFAP5', 'IQCB1', 'TLR4', 'CYTB', 'ABCC1', 'MTOR', 'OLR1', 'ATP2B1', 'GCH1', 'BBS1', 'TIMP1', 'KCNJ1', 'MKKS', 'OFD1', 'CCL2']\n",
            "True\n",
            "3 ['FOXE3', 'NCF1', 'F11', 'MYH9', 'NME1', 'WDPCP', 'KNG1', 'UTS2', 'CRP', 'ALAD', 'KCNMB1', 'LZTFL1', 'SCNN1G', 'MMP2', 'STK11', 'TGFB3', 'RGS5', 'GJA1', 'JAK2', 'ERCC4', 'LMNA', 'AOC3', 'USP8', 'TPM1', 'AVP', 'EDN3', 'CYP21A2', 'CBS', 'AHR', 'SELP', 'OXT', 'AIP', 'PPBP', 'LEP', 'IL6', 'ALB', 'NEDD4L', 'LDLR', 'G6PC', 'ADD1', 'ND1', 'SCNN1B', 'STIM1', 'WNK4', 'TGFBR2', 'TRPC3', 'DYRK1B', 'ACE2', 'LTF', 'COX1', 'GPX1', 'NOS2', 'MDH1', 'GP1BA', 'PLAT', 'LEPR', 'FBN1', 'SOD1']\n",
            "True\n",
            "4 ['TP53', 'RELA', 'APOA1', 'BCL2', 'CYP1A1', 'TACR1', 'GAL', 'AGTR2', 'ACTA2', 'SDCCAG8', 'ERCC6', 'UMOD', 'ALOX15', 'PRKACA', 'PROC', 'ORAI1', 'GCG', 'GCLC', 'EDN1', 'NF1', 'GJC1', 'COL4A5', 'CD2AP', 'AOC1', 'IGF1', 'ITGA8', 'VWF', 'EGFR', 'BDKRB2', 'PTGS2', 'CYBA', 'SMARCAL1', 'PTH', 'FN1', 'THPO', 'ANXA1', 'HTR2B', 'LPL', 'ACE', 'AQP1', 'TRAF3IP1', 'SLC6A2', 'FXYD2', 'ATP2B3', 'ECE1', 'BBS4', 'MUC1', 'PDE8B', 'MYH11', 'CRHR2', 'RALBP1', 'LHB', 'PPARG', 'PRKAR1A', 'RPS6KB1', 'ADIPOQ', 'COL4A3', 'PPARA']\n",
            "True\n"
          ]
        }
      ],
      "source": [
        "# CROSS VALIDATION SPLITS INTO FILES \n",
        "# Remark . Execute only once to create the files\n",
        "\n",
        "for k,v in dict_.items():\n",
        "    print(k,v)\n",
        "\n",
        "    with open(path+'probeset{}.txt'.format(k),'w') as f:\n",
        "        for item in v:\n",
        "            f.write(\"%s,\" % item)   \n",
        "\n",
        "    l=list(set(seeds).difference(set(v))) \n",
        "    # check\n",
        "    # 58 is the probe set v\n",
        "    # therefore 290-58 has to be the training set l\n",
        "    print(len(l)==290-58)\n",
        " \n",
        "    with open(path+'cross{}.txt'.format(k),'w') as f:\n",
        "        for item in l:\n",
        "            f.write(\"%s\\n\" % item)\n",
        "    "
      ]
    },
    {
      "cell_type": "markdown",
      "metadata": {
        "id": "ZSzqx9nizFF5"
      },
      "source": [
        "## Evaluation of performances for DIAMOnD"
      ]
    },
    {
      "cell_type": "code",
      "source": [
        "# DIAMOnD ALGORITHM EVALUATION\n",
        "\n",
        "tot = 200\n",
        "\n",
        "!python3  DIAMOnD.py  PPI_Hypertensive.txt  cross0.txt  200 \"res0.txt\"\n",
        "m = AF.evaluation(tot, 58, \"DIAMOnD\",0)\n",
        "print(m)\n",
        "\n",
        "!python3  DIAMOnD.py  PPI_Hypertensive.txt  cross1.txt  200 \"res1.txt\"\n",
        "m = AF.evaluation(tot, 58, \"DIAMOnD\",1)\n",
        "print(m)\n",
        "\n",
        "!python3  DIAMOnD.py  PPI_Hypertensive.txt  cross2.txt  200 \"res2.txt\"\n",
        "m = AF.evaluation(tot, 58, \"DIAMOnD\",2)  \n",
        "print(m)\n",
        "\n",
        "\n",
        "!python3  DIAMOnD.py  PPI_Hypertensive.txt  cross3.txt  200 \"res3.txt\"\n",
        "m = AF.evaluation(tot, 58, \"DIAMOnD\",3)  \n",
        "print(m)\n",
        "\n",
        "\n",
        "!python3  DIAMOnD.py  PPI_Hypertensive.txt  cross4.txt  200 \"res4.txt\"\n",
        "m = AF.evaluation(tot, 58, \"DIAMOnD\",4)  \n",
        "print(m)"
      ],
      "metadata": {
        "id": "u_yzJnvRi6t9",
        "colab": {
          "base_uri": "https://localhost:8080/"
        },
        "outputId": "59cc7736-af53-4795-f1e4-1e8d0856e92f"
      },
      "execution_count": 20,
      "outputs": [
        {
          "output_type": "stream",
          "name": "stdout",
          "text": [
            "\n",
            " results have been saved to 'res0.txt' \n",
            "\n",
            "{'PTEN'}\n",
            "{'recall': [0.017], 'precision': [0.005], 'F1 Score': [0.008]}\n",
            "\n",
            " results have been saved to 'res1.txt' \n",
            "\n",
            "{'GSK3B', 'VCAM1', 'CAV1', 'AR'}\n",
            "{'recall': [0.069], 'precision': [0.02], 'F1 Score': [0.031]}\n",
            "\n",
            " results have been saved to 'res2.txt' \n",
            "\n",
            "{'HIF1A'}\n",
            "{'recall': [0.017], 'precision': [0.005], 'F1 Score': [0.008]}\n",
            "\n",
            " results have been saved to 'res3.txt' \n",
            "\n",
            "{'AHR'}\n",
            "{'recall': [0.017], 'precision': [0.005], 'F1 Score': [0.008]}\n",
            "\n",
            " results have been saved to 'res4.txt' \n",
            "\n",
            "{'RELA', 'EGFR', 'TP53', 'BBS4'}\n",
            "{'recall': [0.069], 'precision': [0.02], 'F1 Score': [0.031]}\n"
          ]
        }
      ]
    },
    {
      "cell_type": "markdown",
      "source": [
        "#### Check"
      ],
      "metadata": {
        "id": "bd6HBRBy-w9o"
      }
    },
    {
      "cell_type": "code",
      "source": [
        "#curated_gene_desease_association_DF = pd.read_csv(\"curated_gene_disease_associations.tsv\", sep = '\\t', compression = 'infer')\n",
        "#disease_DF = curated_gene_desease_association_DF.loc[curated_gene_desease_association_DF['diseaseId'] == 'C0020538']"
      ],
      "metadata": {
        "id": "yOpOSET6IqVp"
      },
      "execution_count": 21,
      "outputs": []
    },
    {
      "cell_type": "code",
      "source": [
        "#print(\"List of gene symbols:\\n\", *list(disease_DF['geneSymbol']))\n",
        "#seed_genes_symbols = list(disease_DF['geneSymbol'])"
      ],
      "metadata": {
        "id": "8j2x9zXSJi6A"
      },
      "execution_count": 22,
      "outputs": []
    },
    {
      "cell_type": "code",
      "source": [
        "#len(set(list(LCC.nodes())).intersection(set(seed_genes_symbols)))"
      ],
      "metadata": {
        "id": "6C4Wysl7Ku1l"
      },
      "execution_count": 23,
      "outputs": []
    },
    {
      "cell_type": "markdown",
      "source": [
        "## Evaluation of performances for DIaBLE"
      ],
      "metadata": {
        "id": "NSeWa0G8-p_g"
      }
    },
    {
      "cell_type": "markdown",
      "source": [
        "## Diffusion algorithm"
      ],
      "metadata": {
        "id": "-mG6vm0H9nej"
      }
    },
    {
      "cell_type": "code",
      "source": [
        "# CREATE CX OBJECT FROM NETWORK\n",
        "\n",
        "#CX = nx.cytoscape_data(LCC) \n",
        "CX = ndex2.create_nice_cx_from_networkx(LCC).to_cx()"
      ],
      "metadata": {
        "id": "96tTbAIfGPgc",
        "outputId": "e74ac3d3-eb05-4c42-9563-b41949ba6400",
        "colab": {
          "base_uri": "https://localhost:8080/"
        }
      },
      "execution_count": 33,
      "outputs": [
        {
          "output_type": "stream",
          "name": "stdout",
          "text": [
            "Generating CX\n"
          ]
        }
      ]
    },
    {
      "cell_type": "code",
      "source": [
        "#nice_cx_net = ndex2.create_nice_cx_from_server(server='http://public.ndexbio.org',\n",
        "#                                               uuid='c0e70804-d848-11e6-86b1-0ac135e8bacf')\n",
        "\n",
        "nice_cx_net = ndex2.create_nice_cx_from_raw_cx(CX)"
      ],
      "metadata": {
        "id": "oPBSNeWmFWQi"
      },
      "execution_count": 34,
      "outputs": []
    },
    {
      "cell_type": "code",
      "source": [
        "# CHECK\n",
        "\n",
        "print(nice_cx_net)"
      ],
      "metadata": {
        "id": "IPxDGaQVFWN8",
        "outputId": "7f722748-23a0-4899-ab12-9c2898712307",
        "colab": {
          "base_uri": "https://localhost:8080/"
        }
      },
      "execution_count": 35,
      "outputs": [
        {
          "output_type": "stream",
          "name": "stdout",
          "text": [
            "nodes: 19618 \n",
            " edges: 665061\n"
          ]
        }
      ]
    },
    {
      "cell_type": "code",
      "source": [
        "# CHECK\n",
        "# Remark . Remove break to have the complete (very long) list\n",
        "\n",
        "for nodeid, nodeobj in nice_cx_net.get_nodes():\n",
        "    nice_cx_net.remove_node_attribute(node=nodeid, attribute_name='diffusion_input')\n",
        "    nice_cx_net.set_node_attribute(type='double', node=nodeid, attribute_name='diffusion_input', values='1.0')\n",
        "    print(nice_cx_net.get_node_attribute(nodeid,'diffusion_input'))\n",
        "    break"
      ],
      "metadata": {
        "id": "RNH_XFPTFWK0",
        "outputId": "f0e5445a-1c41-4238-9dfb-50fc9d34a639",
        "colab": {
          "base_uri": "https://localhost:8080/"
        }
      },
      "execution_count": 38,
      "outputs": [
        {
          "output_type": "stream",
          "name": "stdout",
          "text": [
            "{'po': 0, 'n': 'diffusion_input', 'v': '1.0', 'd': 'double'}\n"
          ]
        }
      ]
    },
    {
      "cell_type": "code",
      "source": [
        "# CALL THE DIFFUSION SERVICE\n",
        "# Remark . This cell takes some time to run...\n",
        "\n",
        "url = 'http://v3.heat-diffusion.cytoscape.io'\n",
        "payload = nice_cx_net.to_cx()\n",
        "for p in payload:\n",
        "    k = list(p.keys())[0]\n",
        "    if 'Attributes' in k:\n",
        "        for i in range(len(p[k])):\n",
        "            p[k][i]['v'] = str(p[k][i]['v'])\n",
        "response = requests.post(url, json=payload)"
      ],
      "metadata": {
        "id": "slTdYnVLFWA7",
        "outputId": "f6d002cb-396e-45e7-d408-4c7e5ad41718",
        "colab": {
          "base_uri": "https://localhost:8080/",
          "height": 389
        }
      },
      "execution_count": 42,
      "outputs": [
        {
          "output_type": "stream",
          "name": "stdout",
          "text": [
            "Generating CX\n"
          ]
        },
        {
          "output_type": "error",
          "ename": "KeyboardInterrupt",
          "evalue": "ignored",
          "traceback": [
            "\u001b[0;31m---------------------------------------------------------------------------\u001b[0m",
            "\u001b[0;31mKeyboardInterrupt\u001b[0m                         Traceback (most recent call last)",
            "\u001b[0;32m<ipython-input-42-38503e17eece>\u001b[0m in \u001b[0;36m<module>\u001b[0;34m\u001b[0m\n\u001b[1;32m      8\u001b[0m     \u001b[0;32mif\u001b[0m \u001b[0;34m'Attributes'\u001b[0m \u001b[0;32min\u001b[0m \u001b[0mk\u001b[0m\u001b[0;34m:\u001b[0m\u001b[0;34m\u001b[0m\u001b[0;34m\u001b[0m\u001b[0m\n\u001b[1;32m      9\u001b[0m         \u001b[0;32mfor\u001b[0m \u001b[0mi\u001b[0m \u001b[0;32min\u001b[0m \u001b[0mrange\u001b[0m\u001b[0;34m(\u001b[0m\u001b[0mlen\u001b[0m\u001b[0;34m(\u001b[0m\u001b[0mp\u001b[0m\u001b[0;34m[\u001b[0m\u001b[0mk\u001b[0m\u001b[0;34m]\u001b[0m\u001b[0;34m)\u001b[0m\u001b[0;34m)\u001b[0m\u001b[0;34m:\u001b[0m\u001b[0;34m\u001b[0m\u001b[0;34m\u001b[0m\u001b[0m\n\u001b[0;32m---> 10\u001b[0;31m             \u001b[0mp\u001b[0m\u001b[0;34m[\u001b[0m\u001b[0mk\u001b[0m\u001b[0;34m]\u001b[0m\u001b[0;34m[\u001b[0m\u001b[0mi\u001b[0m\u001b[0;34m]\u001b[0m\u001b[0;34m[\u001b[0m\u001b[0;34m'v'\u001b[0m\u001b[0;34m]\u001b[0m \u001b[0;34m=\u001b[0m \u001b[0mstr\u001b[0m\u001b[0;34m(\u001b[0m\u001b[0mp\u001b[0m\u001b[0;34m[\u001b[0m\u001b[0mk\u001b[0m\u001b[0;34m]\u001b[0m\u001b[0;34m[\u001b[0m\u001b[0mi\u001b[0m\u001b[0;34m]\u001b[0m\u001b[0;34m[\u001b[0m\u001b[0;34m'v'\u001b[0m\u001b[0;34m]\u001b[0m\u001b[0;34m)\u001b[0m\u001b[0;34m\u001b[0m\u001b[0;34m\u001b[0m\u001b[0m\n\u001b[0m\u001b[1;32m     11\u001b[0m \u001b[0mresponse\u001b[0m \u001b[0;34m=\u001b[0m \u001b[0mrequests\u001b[0m\u001b[0;34m.\u001b[0m\u001b[0mpost\u001b[0m\u001b[0;34m(\u001b[0m\u001b[0murl\u001b[0m\u001b[0;34m,\u001b[0m \u001b[0mjson\u001b[0m\u001b[0;34m=\u001b[0m\u001b[0mpayload\u001b[0m\u001b[0;34m)\u001b[0m\u001b[0;34m\u001b[0m\u001b[0;34m\u001b[0m\u001b[0m\n",
            "\u001b[0;32m/usr/local/lib/python3.8/dist-packages/networkx/classes/reportviews.py\u001b[0m in \u001b[0;36m__str__\u001b[0;34m(self)\u001b[0m\n\u001b[1;32m    466\u001b[0m \u001b[0;34m\u001b[0m\u001b[0m\n\u001b[1;32m    467\u001b[0m     \u001b[0;32mdef\u001b[0m \u001b[0m__str__\u001b[0m\u001b[0;34m(\u001b[0m\u001b[0mself\u001b[0m\u001b[0;34m)\u001b[0m\u001b[0;34m:\u001b[0m\u001b[0;34m\u001b[0m\u001b[0;34m\u001b[0m\u001b[0m\n\u001b[0;32m--> 468\u001b[0;31m         \u001b[0;32mreturn\u001b[0m \u001b[0mstr\u001b[0m\u001b[0;34m(\u001b[0m\u001b[0mlist\u001b[0m\u001b[0;34m(\u001b[0m\u001b[0mself\u001b[0m\u001b[0;34m)\u001b[0m\u001b[0;34m)\u001b[0m\u001b[0;34m\u001b[0m\u001b[0;34m\u001b[0m\u001b[0m\n\u001b[0m\u001b[1;32m    469\u001b[0m \u001b[0;34m\u001b[0m\u001b[0m\n\u001b[1;32m    470\u001b[0m     \u001b[0;32mdef\u001b[0m \u001b[0m__repr__\u001b[0m\u001b[0;34m(\u001b[0m\u001b[0mself\u001b[0m\u001b[0;34m)\u001b[0m\u001b[0;34m:\u001b[0m\u001b[0;34m\u001b[0m\u001b[0;34m\u001b[0m\u001b[0m\n",
            "\u001b[0;32m/usr/local/lib/python3.8/dist-packages/networkx/classes/reportviews.py\u001b[0m in \u001b[0;36m__iter__\u001b[0;34m(self)\u001b[0m\n\u001b[1;32m    530\u001b[0m             \u001b[0;32mfor\u001b[0m \u001b[0mn\u001b[0m \u001b[0;32min\u001b[0m \u001b[0mself\u001b[0m\u001b[0;34m.\u001b[0m\u001b[0m_nodes\u001b[0m\u001b[0;34m:\u001b[0m\u001b[0;34m\u001b[0m\u001b[0;34m\u001b[0m\u001b[0m\n\u001b[1;32m    531\u001b[0m                 \u001b[0mnbrs\u001b[0m \u001b[0;34m=\u001b[0m \u001b[0mself\u001b[0m\u001b[0;34m.\u001b[0m\u001b[0m_succ\u001b[0m\u001b[0;34m[\u001b[0m\u001b[0mn\u001b[0m\u001b[0;34m]\u001b[0m\u001b[0;34m\u001b[0m\u001b[0;34m\u001b[0m\u001b[0m\n\u001b[0;32m--> 532\u001b[0;31m                 \u001b[0;32myield\u001b[0m \u001b[0;34m(\u001b[0m\u001b[0mn\u001b[0m\u001b[0;34m,\u001b[0m \u001b[0mlen\u001b[0m\u001b[0;34m(\u001b[0m\u001b[0mnbrs\u001b[0m\u001b[0;34m)\u001b[0m \u001b[0;34m+\u001b[0m \u001b[0;34m(\u001b[0m\u001b[0mn\u001b[0m \u001b[0;32min\u001b[0m \u001b[0mnbrs\u001b[0m\u001b[0;34m)\u001b[0m\u001b[0;34m)\u001b[0m\u001b[0;34m\u001b[0m\u001b[0;34m\u001b[0m\u001b[0m\n\u001b[0m\u001b[1;32m    533\u001b[0m         \u001b[0;32melse\u001b[0m\u001b[0;34m:\u001b[0m\u001b[0;34m\u001b[0m\u001b[0;34m\u001b[0m\u001b[0m\n\u001b[1;32m    534\u001b[0m             \u001b[0;32mfor\u001b[0m \u001b[0mn\u001b[0m \u001b[0;32min\u001b[0m \u001b[0mself\u001b[0m\u001b[0;34m.\u001b[0m\u001b[0m_nodes\u001b[0m\u001b[0;34m:\u001b[0m\u001b[0;34m\u001b[0m\u001b[0;34m\u001b[0m\u001b[0m\n",
            "\u001b[0;32m/usr/local/lib/python3.8/dist-packages/networkx/classes/coreviews.py\u001b[0m in \u001b[0;36m__len__\u001b[0;34m(self)\u001b[0m\n\u001b[1;32m    270\u001b[0m \u001b[0;34m\u001b[0m\u001b[0m\n\u001b[1;32m    271\u001b[0m     \u001b[0;32mdef\u001b[0m \u001b[0m__len__\u001b[0m\u001b[0;34m(\u001b[0m\u001b[0mself\u001b[0m\u001b[0;34m)\u001b[0m\u001b[0;34m:\u001b[0m\u001b[0;34m\u001b[0m\u001b[0;34m\u001b[0m\u001b[0m\n\u001b[0;32m--> 272\u001b[0;31m         \u001b[0;32mreturn\u001b[0m \u001b[0msum\u001b[0m\u001b[0;34m(\u001b[0m\u001b[0;36m1\u001b[0m \u001b[0;32mfor\u001b[0m \u001b[0mn\u001b[0m \u001b[0;32min\u001b[0m \u001b[0mself\u001b[0m\u001b[0;34m)\u001b[0m\u001b[0;34m\u001b[0m\u001b[0;34m\u001b[0m\u001b[0m\n\u001b[0m\u001b[1;32m    273\u001b[0m \u001b[0;34m\u001b[0m\u001b[0m\n\u001b[1;32m    274\u001b[0m     \u001b[0;32mdef\u001b[0m \u001b[0m__iter__\u001b[0m\u001b[0;34m(\u001b[0m\u001b[0mself\u001b[0m\u001b[0;34m)\u001b[0m\u001b[0;34m:\u001b[0m\u001b[0;34m\u001b[0m\u001b[0;34m\u001b[0m\u001b[0m\n",
            "\u001b[0;32m/usr/local/lib/python3.8/dist-packages/networkx/classes/coreviews.py\u001b[0m in \u001b[0;36m<genexpr>\u001b[0;34m(.0)\u001b[0m\n\u001b[1;32m    270\u001b[0m \u001b[0;34m\u001b[0m\u001b[0m\n\u001b[1;32m    271\u001b[0m     \u001b[0;32mdef\u001b[0m \u001b[0m__len__\u001b[0m\u001b[0;34m(\u001b[0m\u001b[0mself\u001b[0m\u001b[0;34m)\u001b[0m\u001b[0;34m:\u001b[0m\u001b[0;34m\u001b[0m\u001b[0;34m\u001b[0m\u001b[0m\n\u001b[0;32m--> 272\u001b[0;31m         \u001b[0;32mreturn\u001b[0m \u001b[0msum\u001b[0m\u001b[0;34m(\u001b[0m\u001b[0;36m1\u001b[0m \u001b[0;32mfor\u001b[0m \u001b[0mn\u001b[0m \u001b[0;32min\u001b[0m \u001b[0mself\u001b[0m\u001b[0;34m)\u001b[0m\u001b[0;34m\u001b[0m\u001b[0;34m\u001b[0m\u001b[0m\n\u001b[0m\u001b[1;32m    273\u001b[0m \u001b[0;34m\u001b[0m\u001b[0m\n\u001b[1;32m    274\u001b[0m     \u001b[0;32mdef\u001b[0m \u001b[0m__iter__\u001b[0m\u001b[0;34m(\u001b[0m\u001b[0mself\u001b[0m\u001b[0;34m)\u001b[0m\u001b[0;34m:\u001b[0m\u001b[0;34m\u001b[0m\u001b[0;34m\u001b[0m\u001b[0m\n",
            "\u001b[0;31mKeyboardInterrupt\u001b[0m: "
          ]
        }
      ]
    },
    {
      "cell_type": "code",
      "source": [
        "# GET DIFFUSION RESULTS\n",
        "# Remark . The data dictionary in the json response response.json()['data'] is a dictionary \n",
        "#          that contains CX formatted data with results of diffussion.\n",
        "\n",
        "for aspect in response.json()['data']:\n",
        "    if 'nodeAttributes' not in aspect:\n",
        "        continue\n",
        "    for n_attr in aspect['nodeAttributes']:\n",
        "        if n_attr['n'] == 'diffusion_output_rank' or n_attr['n'] == 'diffusion_output_heat':\n",
        "            if n_attr['d'] == 'float':\n",
        "                n_type = 'double'\n",
        "            else:\n",
        "                n_type = n_attr['d']\n",
        "            nice_cx_net.add_node_attribute(property_of=int(n_attr['po']),\n",
        "                                 name=n_attr['n'],\n",
        "                                 values=n_attr['v'],\n",
        "                                 type=n_type)"
      ],
      "metadata": {
        "id": "ONNwMzwCHzrh"
      },
      "execution_count": null,
      "outputs": []
    },
    {
      "cell_type": "code",
      "source": [
        "# OUTPUT BEST RESULTS FROM DIFFUSION\n",
        "\n",
        "nos = []\n",
        "for node_id, node in nice_cx_net.get_nodes():\n",
        "    rank = nice_cx_net.get_node_attribute_value(node_id, 'diffusion_output_rank')\n",
        "    if int(rank) < 10:\n",
        "        node['diffusion_output_rank'] = rank\n",
        "        heat = nice_cx_net.get_node_attribute_value(node_id, 'diffusion_output_heat')\n",
        "        node['diffusion_output_heat'] = float(heat)\n",
        "        nos.append(node)\n",
        "\n",
        "# sort the result\n",
        "nos = sorted(nos, key=lambda k: k['diffusion_output_rank'])       \n",
        "nos"
      ],
      "metadata": {
        "id": "DHqaPdy2H15M"
      },
      "execution_count": null,
      "outputs": []
    },
    {
      "cell_type": "code",
      "source": [
        "\"\"\"\n",
        "PROBLEMS:\n",
        "  - How can we use diffusion times?\n",
        "  - Cytoscape’s Diffusion algorithm attempts to use a set of nodes and an entire\n",
        "    interaction network to find the nodes most relevant to the original set. \n",
        "    Conceptually, Diffusion applies heat to each node in the set, and lets the \n",
        "    heat flow through connecting edges to adjacent nodes. It then produces a list\n",
        "    of nodes ranked by the heat they accumulated. What should we use? LCC and\n",
        "    seed_genes?\n",
        "  - How can we carry out the evaluation?\n",
        "\"\"\""
      ],
      "metadata": {
        "id": "HqcF6Ue7Ojkq"
      },
      "execution_count": null,
      "outputs": []
    },
    {
      "cell_type": "code",
      "source": [
        "\"\"\"\n",
        "TO DO:\n",
        "  - Add nos list in res{} (new)files (as column) or create csvs\n",
        "  - Modify the D_evaluation function according to the previous results\n",
        "  - Apply D_evaluation \n",
        "\"\"\""
      ],
      "metadata": {
        "id": "J095gidHJgZ8"
      },
      "execution_count": null,
      "outputs": []
    },
    {
      "cell_type": "markdown",
      "source": [
        "## Evaluation of performances for Diffusion"
      ],
      "metadata": {
        "id": "C_a_j5iXFARy"
      }
    },
    {
      "cell_type": "code",
      "source": [
        "# AUXILIARY FUNCTIONS TO PUT IN FILE auxiliary_functions.py\n",
        "\n",
        "def D_evaluation(top_n, disease_dict, DGA=DGA_all):\n",
        "    \n",
        "    recall_=[]\n",
        "    f1_score_=[]\n",
        "    precision_=[]\n",
        "\n",
        "    recall_all=[]\n",
        "    f1_score_all=[]\n",
        "    precision_all=[]\n",
        "    \n",
        "\n",
        "    #all_DGA=set(DGA[DGA['diseaseName'] == 'Hypertensive disease'].geneId)\n",
        "\n",
        "    for i in range(5):\n",
        "        #data=pd.read_csv('res{}.txt'.format(i),sep=',')  ##<<<-----------------------------------------\n",
        "        #data=data[data['diffusion_input']==0.0]\n",
        "        #data=data.sort_values(by='diffusion_output_heat',ascending=False)\n",
        "        ids=DGA[DGA.geneSymbol.isin(dict_[str(i)])].geneId.tolist()\n",
        "        probe_length=len(ids)\n",
        "        data=data.name.tolist() ##<<<--------------name/DIAMOnD node---------------------------\n",
        "        new=data[0:top_n]\n",
        "\n",
        "        num=len(set(new).intersection(ids))\n",
        "        pre=num/top_n\n",
        "        precision_.append(pre)\n",
        "        rec=num/len(ids)\n",
        "        recall_.append(rec)\n",
        "        f1=2*(pre*rec)/(pre+rec+0.0001)\n",
        "        f1_score_.append(f1)\n",
        "\n",
        "        TP=set(new).intersection(ids)\n",
        "        FP=[x for x in new if x not in ids]\n",
        "        FP=FP[:len(ids)]\n",
        "\n",
        "        num=len(set(FP).intersection(all_DGA))\n",
        "        pre=num/len(FP)\n",
        "        rec=num/len(all_DGA)\n",
        "        f1=2*(pre*rec)/(pre+rec+0.0001)\n",
        "        precision_all.append(pre)\n",
        "        recall_all.append(rec)\n",
        "        f1_score_all.append(f1)\n",
        "    \n",
        "\n",
        "    disease_dict['precision']['std_valid'][str(top_n)]={}\n",
        "    disease_dict['precision']['std_valid'][str(top_n)]['mean']=np.average(precision_)\n",
        "    disease_dict['precision']['std_valid'][str(top_n)]['sd']=np.std(precision_)\n",
        "\n",
        "    disease_dict['recall']['std_valid'][str(top_n)]={}\n",
        "    disease_dict['recall']['std_valid'][str(top_n)]['mean']=np.average(recall_)\n",
        "    disease_dict['recall']['std_valid'][str(top_n)]['sd']=np.std(recall_)\n",
        "\n",
        "    disease_dict['f1_score']['std_valid'][str(top_n)]={}\n",
        "    disease_dict['f1_score']['std_valid'][str(top_n)]['mean']=np.average(f1_score_)\n",
        "    disease_dict['f1_score']['std_valid'][str(top_n)]['sd']=np.std(f1_score_)\n",
        "\n",
        "    disease_dict['precision']['ext_valid'][str(top_n)]={}\n",
        "    disease_dict['precision']['ext_valid'][str(top_n)]['mean']=np.average(precision_all)\n",
        "    disease_dict['precision']['ext_valid'][str(top_n)]['sd']=np.std(precision_all)\n",
        "\n",
        "    disease_dict['recall']['ext_valid'][str(top_n)]={}\n",
        "    disease_dict['recall']['ext_valid'][str(top_n)]['mean']=np.average(recall_all)\n",
        "    disease_dict['recall']['ext_valid'][str(top_n)]['sd']=np.std(recall_all)\n",
        "\n",
        "    disease_dict['f1_score']['ext_valid'][str(top_n)]={}\n",
        "    disease_dict['f1_score']['ext_valid'][str(top_n)]['mean']=np.average(f1_score_all)\n",
        "    disease_dict['f1_score']['ext_valid'][str(top_n)]['sd']=np.std(f1_score_all)\n",
        "\n",
        "\n",
        "def DB_algorithm(seeds):\n",
        "    precision=[]\n",
        "    recall=[]\n",
        "    random.seed(123)\n",
        "    for i in range(5): ##<<<-----------------------------------------\n",
        "        random.shuffle(seeds)\n",
        "        cross=pd.read_csv('diff_cross_results{}.csv'.format(i),sep=',')  ##<<<-----------------------------------------\n",
        "        cross=cross[cross['diffusion_input']==0]\n",
        "        cross=cross.sort_values(by='diffusion_output_rank')\n",
        "        par_prec=[]\n",
        "        par_rec=[]\n",
        "        for top in [100,1000,2000]: ##<<<-----------------------------------------\n",
        "            check=set(cross[0:top]['name'].tolist()) ##<<<-----------name/DIAMOnD node------------------------------\n",
        "            P=len(check.intersection(seeds))\n",
        "            par_prec.append(P/top)\n",
        "            par_rec.append(P/56)\n",
        "        precision.append(par_prec)\n",
        "        recall.append(par_rec)\n",
        "    \n",
        "    # ADD F1 score!\n",
        "    return precision, recall\n"
      ],
      "metadata": {
        "id": "sZXn_7-I9nEA"
      },
      "execution_count": null,
      "outputs": []
    },
    {
      "cell_type": "code",
      "source": [
        "# INITIALIZATION BEFORE DIFFUSION EVALUATION\n",
        "\n",
        "Pre_con_diffusion_results={}\n",
        "Pre_con_diffusion_results['precision']={}\n",
        "Pre_con_diffusion_results['recall']={}\n",
        "Pre_con_diffusion_results['f1_score']={}\n",
        "\n",
        "for i in Pre_con_diffusion_results.keys():\n",
        "    Pre_con_diffusion_results[i]['std_valid']={}\n",
        "    Pre_con_diffusion_results[i]['ext_valid']={}\n"
      ],
      "metadata": {
        "id": "3voGYgPn9wVO"
      },
      "execution_count": null,
      "outputs": []
    },
    {
      "cell_type": "code",
      "source": [
        "# CHECK\n",
        "for size in [100,250,500,1000]:\n",
        "    D_evaluation(size,Pre_con_diffusion_results)"
      ],
      "metadata": {
        "id": "dtrMfNlnMXlj"
      },
      "execution_count": null,
      "outputs": []
    },
    {
      "cell_type": "code",
      "source": [
        "# DIFFUSION ALGORITHM EVALUATION \n",
        "\n",
        "for size in [100,250,500,1000]:\n",
        "    AF.D_evaluation(size,Pre_con_diffusion_results)"
      ],
      "metadata": {
        "id": "CwisMyCxP-jg"
      },
      "execution_count": null,
      "outputs": []
    },
    {
      "cell_type": "code",
      "source": [
        "# DISPLAY THE RESULTS\n",
        "\n",
        "AF.display_dict(Pre_con_diffusion_results)"
      ],
      "metadata": {
        "id": "k-xnk2eL9k8p"
      },
      "execution_count": null,
      "outputs": []
    },
    {
      "cell_type": "code",
      "source": [
        "# ALTERNATIVE DIFFUSION EVALUATION\n",
        "\n",
        "cross=pd.read_csv('/content/diff_cross_results{}.csv',sep=',') ##<<<-----------------------------------------\n",
        "cross=cross[cross['diffusion_input']==0]\n",
        "cross=cross.sort_values(by='diffusion_output_rank')\n",
        "a=set(cross[0:n]['name'].tolist()) ##<<<---choose n-----name/rank---------------------------------\n",
        "a.intersection(seeds)"
      ],
      "metadata": {
        "id": "9wt04TCDUhrv"
      },
      "execution_count": null,
      "outputs": []
    }
  ],
  "metadata": {
    "accelerator": "GPU",
    "colab": {
      "provenance": [],
      "include_colab_link": true
    },
    "gpuClass": "standard",
    "kernelspec": {
      "display_name": "Python 3 (ipykernel)",
      "language": "python",
      "name": "python3"
    },
    "language_info": {
      "codemirror_mode": {
        "name": "ipython",
        "version": 3
      },
      "file_extension": ".py",
      "mimetype": "text/x-python",
      "name": "python",
      "nbconvert_exporter": "python",
      "pygments_lexer": "ipython3",
      "version": "3.9.13"
    }
  },
  "nbformat": 4,
  "nbformat_minor": 0
}