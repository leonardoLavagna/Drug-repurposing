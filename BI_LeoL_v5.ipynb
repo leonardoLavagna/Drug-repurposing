{
  "nbformat": 4,
  "nbformat_minor": 0,
  "metadata": {
    "colab": {
      "provenance": [],
      "authorship_tag": "ABX9TyPNBMKFvIFdu9dPkSMKoemQ",
      "include_colab_link": true
    },
    "kernelspec": {
      "name": "python3",
      "display_name": "Python 3"
    },
    "language_info": {
      "name": "python"
    },
    "accelerator": "GPU",
    "gpuClass": "standard"
  },
  "cells": [
    {
      "cell_type": "markdown",
      "metadata": {
        "id": "view-in-github",
        "colab_type": "text"
      },
      "source": [
        "<a href=\"https://colab.research.google.com/github/leonardoLavagna/Drug-repurposing/blob/main/BI_LeoL_v5.ipynb\" target=\"_parent\"><img src=\"https://colab.research.google.com/assets/colab-badge.svg\" alt=\"Open In Colab\"/></a>"
      ]
    },
    {
      "cell_type": "markdown",
      "source": [
        "## Set Up"
      ],
      "metadata": {
        "id": "MB2jks_equ2c"
      }
    },
    {
      "cell_type": "code",
      "source": [
        "!git clone https://github.com/dinaghiassian/DIAMOnD DiaBLE\n",
        "!git clone https://github.com/dinaghiassian/DIAMOnD\n",
        "%pip install markov_clustering #https://github.com/GuyAllard/markov_clustering\n",
        "%pip install networkx --upgrade\n",
        "%pip install scipy --upgrade"
      ],
      "metadata": {
        "id": "IyBEndFwwnwH"
      },
      "execution_count": null,
      "outputs": []
    },
    {
      "cell_type": "code",
      "execution_count": 1,
      "metadata": {
        "id": "4gea7gDcqpFo"
      },
      "outputs": [],
      "source": [
        "import re\n",
        "import csv\n",
        "import random\n",
        "import json\n",
        "import ast\n",
        "import os\n",
        "import statistics\n",
        "import auxiliary_functions as AF\n",
        "import pandas as pd\n",
        "import networkx as nx\n",
        "import matplotlib.pyplot as plt\n",
        "import numpy as np\n",
        "import markov_clustering as mc\n",
        "from tqdm import tqdm\n",
        "from scipy.stats import hypergeom\n",
        "from sklearn.model_selection import train_test_split"
      ]
    },
    {
      "cell_type": "markdown",
      "source": [
        "## TASK 1 "
      ],
      "metadata": {
        "id": "mRbllah2A0o5"
      }
    },
    {
      "cell_type": "markdown",
      "source": [
        "### PPI and GDA data gathering and interactome reconstruction"
      ],
      "metadata": {
        "id": "8dkVMfSshTjz"
      }
    },
    {
      "cell_type": "code",
      "source": [
        "# FILE PATH\n",
        "# Change according to your file system\n",
        "# This path should be the same used in the auxiliary_funtions module\n",
        "\n",
        "path = '/content/'"
      ],
      "metadata": {
        "id": "en2MuDxXBFVZ"
      },
      "execution_count": 2,
      "outputs": []
    },
    {
      "cell_type": "code",
      "source": [
        "# DATA GATHERING AND PROCESSING\n",
        "\n",
        "HSN = AF.interactome_processing(path+\"BIOGRID-ORGANISM-Homo_sapiens-4.4.204.tab3.txt\")\n",
        "DGA_all = pd.read_csv(path+'curated_gene_disease_associations.tsv',sep='\\t')\n",
        "DGA =  DGA_all[DGA_all['diseaseName'] == 'Hypertensive disease']\n",
        "DG_in_PPI,splits = AF.make_seeds_splits(DGA,HSN,'Hypertensive disease',path)\n",
        "DG_in_PPI, splits = AF.import_seeds_split('Hypertensive disease')"
      ],
      "metadata": {
        "colab": {
          "base_uri": "https://localhost:8080/"
        },
        "id": "Uhof4wFsD15F",
        "outputId": "0d32e6e2-8fa3-4cde-dacf-b76469ab51e1"
      },
      "execution_count": 3,
      "outputs": [
        {
          "output_type": "stream",
          "name": "stdout",
          "text": [
            "Processing interactome...\n"
          ]
        },
        {
          "output_type": "stream",
          "name": "stderr",
          "text": [
            "<ipython-input-3-62efed7e1535>:3: DtypeWarning: Columns (1,2,18) have mixed types.Specify dtype option on import or set low_memory=False.\n",
            "  HSN = AF.interactome_processing(path+\"BIOGRID-ORGANISM-Homo_sapiens-4.4.204.tab3.txt\")\n"
          ]
        },
        {
          "output_type": "stream",
          "name": "stdout",
          "text": [
            "# Process completed.\n",
            "Creating seed gene splits...\n",
            "Number of genes in disease PPI:  290\n",
            "# Process completed.\n",
            "Importing seed genes...\n",
            "# Process completed.\n"
          ]
        }
      ]
    },
    {
      "cell_type": "markdown",
      "source": [
        "### Compute the disease LCC and its basic network measures"
      ],
      "metadata": {
        "id": "IuiA9iw0halS"
      }
    },
    {
      "cell_type": "code",
      "source": [
        "# LCC COMPUTATION\n",
        "\n",
        "LCC = AF.extract_LCC_form_PPI(HSN)"
      ],
      "metadata": {
        "colab": {
          "base_uri": "https://localhost:8080/"
        },
        "id": "kqFIzXjThdNg",
        "outputId": "e776afaa-d20c-4d57-d779-03a1c22b8f0c"
      },
      "execution_count": 4,
      "outputs": [
        {
          "output_type": "stream",
          "name": "stdout",
          "text": [
            "Extracting LCC...\n",
            "Nodes  19618 , Connections  665061\n",
            "# Process completed.\n"
          ]
        }
      ]
    },
    {
      "cell_type": "code",
      "source": [
        "# LCC PLOT\n",
        "\n",
        "DN = AF.make_disease_graph(HSN, DGA, DG_in_PPI)\n",
        "AF.plot_LCC(DN, DG_in_PPI)"
      ],
      "metadata": {
        "colab": {
          "base_uri": "https://localhost:8080/",
          "height": 661
        },
        "id": "aR1AI341EkvQ",
        "outputId": "bacad128-8c4a-476f-b591-dc9cec34f5aa"
      },
      "execution_count": 5,
      "outputs": [
        {
          "output_type": "stream",
          "name": "stdout",
          "text": [
            "Creating Disease LCC graph...\n",
            "Nodes in disease LCC  232\n",
            "# Process completed.\n"
          ]
        },
        {
          "output_type": "display_data",
          "data": {
            "text/plain": [
              "<Figure size 576x576 with 1 Axes>"
            ],
            "image/png": "[encoded data removed]"
          },
          "metadata": {}
        }
      ]
    },
    {
      "cell_type": "code",
      "source": [
        "# LOCAL MEASURES\n",
        "# This cell takes a while to run...\n",
        "\n",
        "G = LCC.copy()\n",
        "\n",
        "nx.set_node_attributes(G, G.degree(), 'Node degree')  \n",
        "nx.set_node_attributes(G, nx.betweenness_centrality(G), \"Betweenness centrality\")\n",
        "nx.set_node_attributes(G, nx.eigenvector_centrality(G), \"Eigenvector centrality\")\n",
        "nx.set_node_attributes(G, nx.closeness_centrality(G), \"Closeness centrality\")\n",
        "\n",
        "local_measures = pd.DataFrame(index=G.nodes())\n",
        "local_measures['Node degree'] = [d for n, d in G.degree()] \n",
        "local_measures['Betweenness centrality'] = pd.Series(nx.get_node_attributes(G, 'Betweenness centrality'))\n",
        "local_measures['Eigenvector centrality'] = pd.Series(nx.get_node_attributes(G, 'Eigenvector centrality'))\n",
        "local_measures['Closeness centrality'] = pd.Series(nx.get_node_attributes(G, 'Closeness centrality'))\n",
        "local_measures['Betweenness/Degree Ratio'] = local_measures['Betweenness centrality']/local_measures['Node degree']\n",
        "local_measures.index.name='Gene'"
      ],
      "metadata": {
        "id": "hL0pHfYagIMr"
      },
      "execution_count": null,
      "outputs": []
    },
    {
      "cell_type": "code",
      "source": [
        "# TABLE OF LOCAL MEASURES\n",
        "\n",
        "local_measures.to_csv('local_measures.csv', index = True, header = True)\n",
        "\n",
        "local_measures = pd.read_csv('/content/local_measures.csv', sep=',')\n",
        "local_measures.head(50)"
      ],
      "metadata": {
        "id": "1gtH1vcpgfmU"
      },
      "execution_count": null,
      "outputs": []
    },
    {
      "cell_type": "markdown",
      "source": [
        "## Task 2"
      ],
      "metadata": {
        "id": "bvpjeGCqAp_p"
      }
    },
    {
      "cell_type": "code",
      "source": [
        "## AUXILIARY FUNCTIONS TO PUT IN FILE\n",
        "\n",
        "def cross_vaidation(splits,nodes,DG_in_PPI,clusters,DGA_filt,n_size=17914):#set n_size = n_nodes\n",
        "    \n",
        "    recall = {'std_valid':[],'ext_valid':[]}\n",
        "    prec =  {'std_valid':[],'ext_valid':[]}\n",
        "    f1 =  {'std_valid':[],'ext_valid':[]}\n",
        "    enriched_clusters = 0\n",
        "    for idx in range(0,5):\n",
        "        test = set(splits[str(idx)])\n",
        "        training = set(DG_in_PPI).difference(test)\n",
        "        positives = set()\n",
        "        for cluster in clusters:\n",
        "            N = n_size\n",
        "            K = len(training)\n",
        "            n = len(cluster)\n",
        "            k = len(set(nodes[list(cluster)]).intersection(training))+10e-10\n",
        "            pval = hypergeom.sf(k=k-1, M=N, n=K, N=n)\n",
        "            if pval < 0.05:\n",
        "                enriched_clusters += 1\n",
        "                positives = positives.union(set(nodes[list(cluster)]))\n",
        "        TP = test.intersection(positives)\n",
        "        FP = positives.difference(test)\n",
        "        FN = test.difference(positives)\n",
        "        r,p,f = metrics(TP,FP,FN)\n",
        "        R,P,F = metrics(FP.intersection(DGA_filt), FP.difference(DGA_filt), DGA_filt.difference(TP.union(FN)))\n",
        "        recall['std_valid'] += [r]\n",
        "        prec['std_valid'] += [p]\n",
        "        f1['std_valid'] += [f]\n",
        "        recall['ext_valid'] += [R]\n",
        "        prec['ext_valid'] += [P]\n",
        "        f1['ext_valid'] += [F]\n",
        "     \n",
        "    print('Enriched Clusters:',enriched_clusters/5)\n",
        "    return recall,prec,f1\n",
        "    \n",
        "def metrics(TP,FP,FN):\n",
        "    recall = len(TP)/(len(TP)+len(FP)+10e-10)\n",
        "    prec = len(TP)/(len(TP)+len(FN)+10e-10)\n",
        "    f1 = 2*(recall/5*prec/5)/(prec/5+recall/5+10e-10)\n",
        "    return recall, prec, f1\n"
      ],
      "metadata": {
        "id": "foVEGBvkFmYA"
      },
      "execution_count": null,
      "outputs": []
    },
    {
      "cell_type": "markdown",
      "source": [
        "### DIAMOnD algorithm"
      ],
      "metadata": {
        "id": "_txKC5NptlHp"
      }
    },
    {
      "cell_type": "code",
      "source": [
        "# Stores the seed genes\n",
        "# For DIAMOnD we need to define two files, the PPI.txt and the seed_genes.txt:\n",
        "\n",
        "seed_genes = DGA['geneId'].tolist()\n",
        "textfile = open(\"seed_gene.txt\", \"w\")\n",
        "for element in seed_genes:\n",
        "  if seed_genes.index(element) != len(seed_genes)-1:\n",
        "    textfile.write(str(element) + \"\\n\")\n",
        "  else:\n",
        "    textfile.write(str(element))\n",
        "textfile.close()"
      ],
      "metadata": {
        "id": "ocW8oAIlFmVI"
      },
      "execution_count": null,
      "outputs": []
    },
    {
      "cell_type": "code",
      "source": [
        "# gene_A = list(map(int, homo_sapiens_network['Entrez Gene Interactor A'].tolist()))\n",
        "# gene_B = list(map(int, homo_sapiens_network['Entrez Gene Interactor B'].tolist()))\n",
        "pairs_genes = list(LCC.edges)"
      ],
      "metadata": {
        "id": "iV4UWce1FmSS"
      },
      "execution_count": null,
      "outputs": []
    },
    {
      "cell_type": "code",
      "source": [
        "pairs_genes = list(LCC.edges)\n",
        "# Stores the homo sapiense interactome\n",
        "textfile = open(\"PPI_Hypertensive.txt\", \"w\")\n",
        "for gA, gB in tqdm(pairs_genes):\n",
        "  textfile.write(str(gA) + ',' + str(gB) + '\\n') \n",
        "textfile.close()"
      ],
      "metadata": {
        "id": "y0RTTAY-GN5J"
      },
      "execution_count": null,
      "outputs": []
    },
    {
      "cell_type": "code",
      "source": [
        "with open(path+'Hypertensive disease_splits.json') as f:\n",
        "  data = json.load(f)"
      ],
      "metadata": {
        "id": "v9rJCKCIqRyk"
      },
      "execution_count": null,
      "outputs": []
    },
    {
      "cell_type": "code",
      "source": [
        "# Execute DIAMOND\n",
        "\n",
        "filteredSymbolGenes_ID = DGA[DGA.geneSymbol.isin(data['4'])].geneId.tolist()\n",
        "actualDt = list(set(seed_genes) - set(filteredSymbolGenes_ID))\n",
        "\n",
        "textfile = open(\"seed_gene.txt\", \"w\")\n",
        "for element in actualDt:\n",
        "  textfile.write(str(element) + '\\n')\n",
        "textfile.close()\n",
        "\n",
        "!python3 /content/DIAMOnD/DIAMOnD.py PPI_Hypertensive.txt seed_gene.txt 200"
      ],
      "metadata": {
        "id": "TM_JIMSyHNUf"
      },
      "execution_count": null,
      "outputs": []
    },
    {
      "cell_type": "markdown",
      "source": [
        "### DiaBLE algorithm"
      ],
      "metadata": {
        "id": "AaWcwjpLtvoC"
      }
    },
    {
      "cell_type": "code",
      "source": [
        "# EXECUTE DIABLE\n",
        "# Change the code in the DIAMOnD script in the DiaBLE Folder (see below)\n",
        "\n",
        "!python3 /content/DiaBLE/DIAMOnD.py PPI_Hypertensive.txt seed_gene.txt 200"
      ],
      "metadata": {
        "id": "CojIH7_BIa5B"
      },
      "execution_count": null,
      "outputs": []
    },
    {
      "cell_type": "markdown",
      "source": [
        "AFTER LINE 317 CHANGE AS FOLLOWS: ADD THE LINES\n",
        "\n",
        "```\n",
        "  candidates = set(cluster_nodes)\n",
        "  universe = set()\n",
        "\n",
        "  for _ in range(0, 2):\n",
        "    for gene in candidates.copy():\n",
        "      universe |= neighbors[gene]\n",
        "    candidates = universe        \n",
        "  \n",
        "  N = len(universe)\n",
        "```\n"
      ],
      "metadata": {
        "id": "NMUpfxpGJLbO"
      }
    },
    {
      "cell_type": "markdown",
      "source": [
        "### Diffusion Based Algorithm"
      ],
      "metadata": {
        "id": "08U1dCJSteE4"
      }
    },
    {
      "cell_type": "code",
      "source": [
        "#..... ??"
      ],
      "metadata": {
        "id": "lwpOaFJnvDm9"
      },
      "execution_count": 16,
      "outputs": []
    },
    {
      "cell_type": "markdown",
      "source": [
        "### Validation"
      ],
      "metadata": {
        "id": "RQxYNNl75Azt"
      }
    },
    {
      "cell_type": "code",
      "source": [
        "## AUXILIARY FUNCTIONS TO PUT IN FILE\n",
        "\n",
        "def calculate_dcg(inters, cv, alg_name):\n",
        "  # Discounted Cumulative Gain\n",
        "  dcg = 0\n",
        "  for dis_gene in inters:\n",
        "    rank = int(cv.index(dis_gene)+1)\n",
        "    dcg += np.divide(1.0, np.log2(rank+1))\n",
        "  return dcg\n",
        "\n",
        "def normalized_dcg(ndcg_scores):\n",
        "  # DCG Normalized by its maximum value\n",
        "  return list(np.around(np.array(ndcg_scores)/np.sum(ndcg_scores), 3)) \n",
        "\n",
        "### ......"
      ],
      "metadata": {
        "id": "xf9kwIyh5GJW"
      },
      "execution_count": null,
      "outputs": []
    },
    {
      "cell_type": "markdown",
      "source": [
        "#### Cross-Validation splits"
      ],
      "metadata": {
        "id": "ptajmyMz6wDF"
      }
    },
    {
      "cell_type": "code",
      "source": [
        "with open('/content/Hypertensive disease_splits.json') as f:\n",
        "  dict_ = json.load(f)\n",
        "\n",
        "with open('/content/Hypertensive disease_seed_gene.txt') as f:\n",
        "  seeds = pd.read_csv(f,sep='\\t',header=None)"
      ],
      "metadata": {
        "id": "RTaEJXH56YHE"
      },
      "execution_count": null,
      "outputs": []
    },
    {
      "cell_type": "code",
      "source": [
        "gene_dis_association = pd.read_csv('/content/curated_gene_disease_associations.tsv', sep = '\\t')\n",
        "gene_dis_association = gene_dis_association[gene_dis_association['diseaseName'] == 'Hypertensive disease']"
      ],
      "metadata": {
        "id": "9PzepoWQ6hUY"
      },
      "execution_count": null,
      "outputs": []
    },
    {
      "cell_type": "code",
      "source": [
        "seeds=seeds[0].to_numpy()\n",
        "seeds"
      ],
      "metadata": {
        "id": "c2lq14Bw6q44"
      },
      "execution_count": null,
      "outputs": []
    },
    {
      "cell_type": "code",
      "source": [
        "for k,v in dict_.items():\n",
        "    print(k,v)\n",
        "    ids=gene_dis_association.loc[gene_dis_association.geneSymbol.isin(v)].geneId.tolist()\n",
        "    l=list(set(seeds).difference(set(ids)))\n",
        "    with open('/content/drive/MyDrive/cross_{}.txt'.format(k),'w') as f:\n",
        "        for item in l:\n",
        "            f.write(\"%s\\n\" % item)\n",
        "    "
      ],
      "metadata": {
        "id": "Mkk1bjXU6s13"
      },
      "execution_count": null,
      "outputs": []
    },
    {
      "cell_type": "markdown",
      "source": [
        "### Evaluation of performances"
      ],
      "metadata": {
        "id": "x7AoB5Yd63G5"
      }
    },
    {
      "cell_type": "code",
      "source": [
        "# ...."
      ],
      "metadata": {
        "id": "bBx_1BKq65qL"
      },
      "execution_count": null,
      "outputs": []
    },
    {
      "cell_type": "markdown",
      "source": [
        "## Optional Task 3 MCL"
      ],
      "metadata": {
        "id": "-CQz0G6A0IuL"
      }
    },
    {
      "cell_type": "code",
      "source": [
        "curated_gene_desease_association_DF = pd.read_csv(\"/content/curated_gene_disease_associations.tsv\", sep = '\\t', compression = 'infer')\n",
        "disease_DF = curated_gene_desease_association_DF.loc[curated_gene_desease_association_DF['diseaseId'] == 'C0020538']"
      ],
      "metadata": {
        "id": "_LZrLpsX3iZB"
      },
      "execution_count": null,
      "outputs": []
    },
    {
      "cell_type": "code",
      "source": [
        "seed_list = list(disease_DF['geneId'])\n",
        "seed_genes_symbols = list(disease_DF['geneSymbol'])"
      ],
      "metadata": {
        "id": "wUdp3kf93j49"
      },
      "execution_count": null,
      "outputs": []
    },
    {
      "cell_type": "code",
      "source": [
        "result = mc.run_mcl(nx.to_scipy_sparse_matrix(G))           \n",
        "clusters = mc.get_clusters(result) "
      ],
      "metadata": {
        "id": "LmcOSKMDz28-"
      },
      "execution_count": null,
      "outputs": []
    },
    {
      "cell_type": "code",
      "source": [
        "mc.draw_graph(nx.to_scipy_sparse_matrix(G), clusters, node_size=10, with_labels=False, edge_color=\"silver\")"
      ],
      "metadata": {
        "id": "6y4nBj290PNH"
      },
      "execution_count": null,
      "outputs": []
    },
    {
      "cell_type": "code",
      "source": [
        "# perform clustering using different inflation values from 1.5 and 2.5\n",
        "# for each clustering run, calculate the modularity\n",
        "matrix = nx.to_scipy_sparse_matrix(G)\n",
        "for inflation in [i / 10 for i in range(15, 26)]:\n",
        "    result = mc.run_mcl(matrix, inflation=inflation)\n",
        "    clusters = mc.get_clusters(result)\n",
        "    Q = mc.modularity(matrix=result, clusters=clusters)\n",
        "    print(\"inflation:\", inflation, \"modularity:\", Q)"
      ],
      "metadata": {
        "id": "5oq7v0Sf0VXO"
      },
      "execution_count": null,
      "outputs": []
    },
    {
      "cell_type": "markdown",
      "source": [
        "Now that we have found the clusters, we filter them in order to keep only those having at least 10 nodes and in which the seed genes are statistically overrepresented. The resulting sets are the putative desease modules."
      ],
      "metadata": {
        "id": "IWDtYRO91Fjq"
      }
    },
    {
      "cell_type": "code",
      "source": [
        "# keep clusters with at least 10 genes\n",
        "big_clusters = []\n",
        "for module in clusters:\n",
        "    if len(module) >= 10:\n",
        "        big_clusters.append(module)\n",
        "print(len(clusters), len(big_clusters))"
      ],
      "metadata": {
        "id": "ZTAeKVQP01g9"
      },
      "execution_count": null,
      "outputs": []
    },
    {
      "cell_type": "code",
      "source": [
        "# dictionary with mapping {nodeID : gene name}\n",
        "val = range(G.number_of_nodes())\n",
        "names = list(G.nodes())\n",
        "dic = dict(zip(val, names))"
      ],
      "metadata": {
        "id": "Nx3-wx0I1KNb"
      },
      "execution_count": null,
      "outputs": []
    },
    {
      "cell_type": "code",
      "source": [
        "# run the hypergeometric test to find modules with statistically overrepresented seed genes\n",
        "putative_desease_modules = []\n",
        "M = G.number_of_nodes() # population size (total number of genes) \n",
        "n = len(seed_genes_symbols) # number of seed genes\n",
        "p_val_list = []\n",
        "for module in big_clusters:\n",
        "    N = len(module) # number of draws (number of genes in the given cluster)\n",
        "    x = len(set(seed_genes_symbols).intersection(set(dic[g] for g in module)))\n",
        "    p_val = hypergeom.sf(x-1, M, n, N)\n",
        "    if p_val < 0.05:\n",
        "        putative_desease_modules.append(module)\n",
        "        p_val_list.append(p_val)"
      ],
      "metadata": {
        "id": "C5auyMl-1L0M"
      },
      "execution_count": null,
      "outputs": []
    },
    {
      "cell_type": "code",
      "source": [
        "for i in range(len(putative_desease_modules)):\n",
        "    print(\"Desease putative module \",i, \": \", *[dic[g] for g in putative_desease_modules[i]])"
      ],
      "metadata": {
        "id": "YpkTn31H1Wng"
      },
      "execution_count": null,
      "outputs": []
    },
    {
      "cell_type": "code",
      "source": [
        "header = ['ModuleID', \"Number of seed genes/module\", \"Module size\", \"Seed genes\", \"All genes\", \"p-value\"]\n",
        "df_putative_desease_modules = pd.DataFrame(columns=header)\n",
        "for i in range(len(putative_desease_modules)):\n",
        "    seeds = set(seed_genes_symbols).intersection(set(dic[g] for g in putative_desease_modules[i]))\n",
        "    values = [i, len(seeds), len(putative_desease_modules[i]), seeds, [dic[g] for g in putative_desease_modules[i]],p_val_list[i]]\n",
        "    df = pd.DataFrame( [values], columns = header)\n",
        "    df_putative_desease_modules = df_putative_desease_modules.append(df, ignore_index=True)"
      ],
      "metadata": {
        "id": "DGDmv6kw1X3y"
      },
      "execution_count": null,
      "outputs": []
    },
    {
      "cell_type": "code",
      "source": [
        "# ???\n",
        "df_putative_desease_modules"
      ],
      "metadata": {
        "id": "Rh3Dn-h01bgG"
      },
      "execution_count": null,
      "outputs": []
    }
  ]
}