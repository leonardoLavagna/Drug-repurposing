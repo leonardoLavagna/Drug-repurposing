{
  "cells": [
    {
      "cell_type": "markdown",
      "metadata": {
        "id": "view-in-github",
        "colab_type": "text"
      },
      "source": [
        "<a href=\"https://colab.research.google.com/github/leonardoLavagna/Drug-repurposing/blob/main/BI_LeoL_v7.ipynb\" target=\"_parent\"><img src=\"https://colab.research.google.com/assets/colab-badge.svg\" alt=\"Open In Colab\"/></a>"
      ]
    },
    {
      "cell_type": "markdown",
      "metadata": {
        "id": "MB2jks_equ2c"
      },
      "source": [
        "## Set Up"
      ]
    },
    {
      "cell_type": "markdown",
      "source": [
        "Before anything else remeber to:\n",
        "\n",
        "\n",
        "1.   When using Google Colab collect all the needed files inside the folder BI-Data in your Google Drive.\n",
        "2.   When using colab upload the auxiliary functions in the 'content' directory.\n",
        "\n"
      ],
      "metadata": {
        "id": "nkGG3DRvDH3K"
      }
    },
    {
      "cell_type": "code",
      "execution_count": 24,
      "metadata": {
        "id": "cOkMPGHjo7_w",
        "colab": {
          "base_uri": "https://localhost:8080/"
        },
        "outputId": "db0181e4-c098-4fcd-d22e-27f9d3eb996c"
      },
      "outputs": [
        {
          "output_type": "stream",
          "name": "stdout",
          "text": [
            "Drive already mounted at /content/drive; to attempt to forcibly remount, call drive.mount(\"/content/drive\", force_remount=True).\n"
          ]
        }
      ],
      "source": [
        "# ASSIGN colab = True WHEN USING GOOGLE COLAB\n",
        "\n",
        "import os\n",
        "colab=True\n",
        "if colab:\n",
        "    from google.colab import drive\n",
        "    drive.mount('/content/drive')\n",
        "    os.chdir('/content/drive/MyDrive/BI-Data/')"
      ]
    },
    {
      "cell_type": "code",
      "execution_count": 10,
      "metadata": {
        "id": "IyBEndFwwnwH",
        "colab": {
          "base_uri": "https://localhost:8080/"
        },
        "outputId": "1acf96cf-abd8-426a-8302-b3133472475f"
      },
      "outputs": [
        {
          "output_type": "stream",
          "name": "stdout",
          "text": [
            "Cloning into 'DiaBLE'...\n",
            "remote: Enumerating objects: 64, done.\u001b[K\n",
            "remote: Total 64 (delta 0), reused 0 (delta 0), pack-reused 64\u001b[K\n",
            "Unpacking objects: 100% (64/64), done.\n",
            "Cloning into 'DIAMOnD'...\n",
            "remote: Enumerating objects: 64, done.\u001b[K\n",
            "remote: Total 64 (delta 0), reused 0 (delta 0), pack-reused 64\u001b[K\n",
            "Unpacking objects: 100% (64/64), done.\n"
          ]
        }
      ],
      "source": [
        "!git clone https://github.com/dinaghiassian/DIAMOnD DiaBLE\n",
        "!git clone https://github.com/dinaghiassian/DIAMOnD"
      ]
    },
    {
      "cell_type": "code",
      "execution_count": 11,
      "metadata": {
        "id": "xp0LQsv8kGTW",
        "colab": {
          "base_uri": "https://localhost:8080/"
        },
        "outputId": "6d300436-1085-4009-cbef-6b697e58b3e4"
      },
      "outputs": [
        {
          "output_type": "stream",
          "name": "stdout",
          "text": [
            "Looking in indexes: https://pypi.org/simple, https://us-python.pkg.dev/colab-wheels/public/simple/\n",
            "Collecting markov_clustering\n",
            "  Downloading markov_clustering-0.0.6.dev0-py3-none-any.whl (6.3 kB)\n",
            "Requirement already satisfied: scikit-learn in /usr/local/lib/python3.8/dist-packages (from markov_clustering) (1.0.2)\n",
            "Requirement already satisfied: scipy>=0.19.0 in /usr/local/lib/python3.8/dist-packages (from markov_clustering) (1.7.3)\n",
            "Requirement already satisfied: numpy in /usr/local/lib/python3.8/dist-packages (from markov_clustering) (1.21.6)\n",
            "Requirement already satisfied: joblib>=0.11 in /usr/local/lib/python3.8/dist-packages (from scikit-learn->markov_clustering) (1.2.0)\n",
            "Requirement already satisfied: threadpoolctl>=2.0.0 in /usr/local/lib/python3.8/dist-packages (from scikit-learn->markov_clustering) (3.1.0)\n",
            "Installing collected packages: markov-clustering\n",
            "Successfully installed markov-clustering-0.0.6.dev0\n",
            "Looking in indexes: https://pypi.org/simple, https://us-python.pkg.dev/colab-wheels/public/simple/\n",
            "Requirement already satisfied: networkx in /usr/local/lib/python3.8/dist-packages (2.8.8)\n",
            "Looking in indexes: https://pypi.org/simple, https://us-python.pkg.dev/colab-wheels/public/simple/\n",
            "Requirement already satisfied: scipy in /usr/local/lib/python3.8/dist-packages (1.7.3)\n",
            "Collecting scipy\n",
            "  Downloading scipy-1.9.3-cp38-cp38-manylinux_2_17_x86_64.manylinux2014_x86_64.whl (33.8 MB)\n",
            "\u001b[K     |████████████████████████████████| 33.8 MB 1.3 MB/s \n",
            "\u001b[?25hRequirement already satisfied: numpy<1.26.0,>=1.18.5 in /usr/local/lib/python3.8/dist-packages (from scipy) (1.21.6)\n",
            "Installing collected packages: scipy\n",
            "  Attempting uninstall: scipy\n",
            "    Found existing installation: scipy 1.7.3\n",
            "    Uninstalling scipy-1.7.3:\n",
            "      Successfully uninstalled scipy-1.7.3\n",
            "Successfully installed scipy-1.9.3\n"
          ]
        }
      ],
      "source": [
        "#https://github.com/GuyAllard/markov_clustering\n",
        "%pip install markov_clustering \n",
        "%pip install networkx --upgrade\n",
        "%pip install scipy --upgrade"
      ]
    },
    {
      "cell_type": "code",
      "execution_count": 25,
      "metadata": {
        "id": "nVfF8_rdk1uA"
      },
      "outputs": [],
      "source": [
        "# DIRECTORY TREE\n",
        "# Change according to your file system\n",
        "# This path should be the same used in the auxiliary_funtions module\n",
        "# Remark . When using Google Colab remember that the path as been changed to \n",
        "# /content/drive/MyDrive/BI-Data/ \n",
        "\n",
        "path = './'"
      ]
    },
    {
      "cell_type": "markdown",
      "metadata": {
        "id": "L_Mop6zIArHG"
      },
      "source": [
        "### Libraries"
      ]
    },
    {
      "cell_type": "code",
      "execution_count": 15,
      "metadata": {
        "id": "4gea7gDcqpFo"
      },
      "outputs": [],
      "source": [
        "import re\n",
        "import csv\n",
        "import random\n",
        "import json\n",
        "import ast\n",
        "import sys\n",
        "import statistics\n",
        "import auxiliary_functions as AF\n",
        "import pandas as pd\n",
        "import networkx as nx\n",
        "import matplotlib.pyplot as plt\n",
        "import numpy as np\n",
        "import markov_clustering as mc\n",
        "from tqdm import tqdm\n",
        "from scipy.stats import hypergeom\n",
        "from sklearn.model_selection import train_test_split"
      ]
    },
    {
      "cell_type": "markdown",
      "metadata": {
        "id": "mRbllah2A0o5"
      },
      "source": [
        "## TASK 1 . PPI and GDA data gathering and interactome reconstruction"
      ]
    },
    {
      "cell_type": "markdown",
      "metadata": {
        "id": "8dkVMfSshTjz"
      },
      "source": [
        "### Data gathering and interactome reconstruction"
      ]
    },
    {
      "cell_type": "code",
      "execution_count": 26,
      "metadata": {
        "colab": {
          "base_uri": "https://localhost:8080/"
        },
        "id": "Uhof4wFsD15F",
        "outputId": "61a8f22c-b447-4866-f63d-3cb1a9e2e5ec"
      },
      "outputs": [
        {
          "output_type": "stream",
          "name": "stdout",
          "text": [
            "Processing interactome...\n"
          ]
        },
        {
          "output_type": "stream",
          "name": "stderr",
          "text": [
            "<ipython-input-26-e80c7f04d276>:3: DtypeWarning: Columns (1,2,18) have mixed types.Specify dtype option on import or set low_memory=False.\n",
            "  HSN = AF.interactome_processing(path+\"BIOGRID-ORGANISM-Homo_sapiens-4.4.204.tab3.txt\")\n"
          ]
        },
        {
          "output_type": "stream",
          "name": "stdout",
          "text": [
            "# Process completed.\n",
            "Creating seed gene splits...\n",
            "Number of genes in disease PPI:  290\n",
            "# Process completed.\n",
            "Importing seed genes...\n",
            "# Process completed.\n"
          ]
        }
      ],
      "source": [
        "# DATA GATHERING AND PROCESSING\n",
        "\n",
        "HSN = AF.interactome_processing(path+\"BIOGRID-ORGANISM-Homo_sapiens-4.4.204.tab3.txt\")\n",
        "DGA = AF.DGA_processing(path+'curated_gene_disease_associations.tsv', 'Hypertensive disease')\n",
        "DG_in_PPI,splits = AF.make_seeds_splits(DGA,HSN,'Hypertensive disease',path)\n",
        "DG_in_PPI, splits = AF.import_seeds_split('Hypertensive disease')"
      ]
    },
    {
      "cell_type": "markdown",
      "metadata": {
        "id": "IuiA9iw0halS"
      },
      "source": [
        "### Compute the disease LCC and its basic network measures"
      ]
    },
    {
      "cell_type": "code",
      "execution_count": 27,
      "metadata": {
        "colab": {
          "base_uri": "https://localhost:8080/"
        },
        "id": "kqFIzXjThdNg",
        "outputId": "8ff6f1f0-a7d0-46cd-c08b-84e38be31410"
      },
      "outputs": [
        {
          "output_type": "stream",
          "name": "stdout",
          "text": [
            "Extracting LCC...\n",
            "Nodes  19618 , Connections  665061\n",
            "# Process completed.\n"
          ]
        }
      ],
      "source": [
        "# LCC COMPUTATION\n",
        "\n",
        "LCC = AF.extract_LCC_form_PPI(HSN)\n",
        "n_nodes = LCC.number_of_nodes()"
      ]
    },
    {
      "cell_type": "code",
      "execution_count": null,
      "metadata": {
        "colab": {
          "base_uri": "https://localhost:8080/",
          "height": 661
        },
        "id": "aR1AI341EkvQ",
        "outputId": "6ffa742a-d838-4395-c07d-472174328611"
      },
      "outputs": [
        {
          "name": "stdout",
          "output_type": "stream",
          "text": [
            "Creating Disease LCC graph...\n",
            "Nodes in disease LCC  232\n",
            "# Process completed.\n"
          ]
        },
        {
          "data": {
            "image/png": "[encoded data removed]",
            "text/plain": [
              "<Figure size 800x800 with 1 Axes>"
            ]
          },
          "metadata": {},
          "output_type": "display_data"
        }
      ],
      "source": [
        "# LCC PLOT\n",
        "\n",
        "DN = AF.make_disease_graph(HSN, DGA, DG_in_PPI)\n",
        "AF.plot_LCC(DN, DG_in_PPI)"
      ]
    },
    {
      "cell_type": "code",
      "execution_count": 28,
      "metadata": {
        "id": "hL0pHfYagIMr"
      },
      "outputs": [],
      "source": [
        "# LOCAL MEASURES\n",
        "# This cell takes a while to run...\n",
        "\n",
        "nx.set_node_attributes(LCC, LCC.degree(), 'Node degree')  \n",
        "#nx.set_node_attributes(LCC, nx.betweenness_centrality(LCC), \"Betweenness centrality\")\n",
        "nx.set_node_attributes(LCC, nx.eigenvector_centrality(LCC), \"Eigenvector centrality\")\n",
        "#nx.set_node_attributes(LCC, nx.closeness_centrality(LCC), \"Closeness centrality\")\n",
        "\n",
        "local_measures = pd.DataFrame(index=LCC.nodes())\n",
        "local_measures['Node degree'] = [d for n, d in LCC.degree()] \n",
        "#local_measures['Betweenness centrality'] = pd.Series(nx.get_node_attributes(LCC, 'Betweenness centrality'))\n",
        "local_measures['Eigenvector centrality'] = pd.Series(nx.get_node_attributes(LCC, 'Eigenvector centrality'))\n",
        "#local_measures['Closeness centrality'] = pd.Series(nx.get_node_attributes(LCC, 'Closeness centrality'))\n",
        "#local_measures['Betweenness/Degree Ratio'] = local_measures['Betweenness centrality']/local_measures['Node degree']\n",
        "local_measures.index.name='Gene'"
      ]
    },
    {
      "cell_type": "code",
      "execution_count": 29,
      "metadata": {
        "colab": {
          "base_uri": "https://localhost:8080/",
          "height": 206
        },
        "id": "1gtH1vcpgfmU",
        "outputId": "408bb63a-16ff-4a41-c669-d9430678731c"
      },
      "outputs": [
        {
          "output_type": "execute_result",
          "data": {
            "text/plain": [
              "     Gene  Node degree  Eigenvector centrality\n",
              "0  MAP2K4           51                0.002493\n",
              "1    MYPN           27                0.001812\n",
              "2   ACVR1           54                0.001348\n",
              "3   GATA2           58                0.002803\n",
              "4    RPA2          546                0.032289"
            ],
            "text/html": [
              "\n",
              "  <div id=\"df-1a5d43ae-5785-448f-9e7c-e6d30433b5b7\">\n",
              "    <div class=\"colab-df-container\">\n",
              "      <div>\n",
              "<style scoped>\n",
              "    .dataframe tbody tr th:only-of-type {\n",
              "        vertical-align: middle;\n",
              "    }\n",
              "\n",
              "    .dataframe tbody tr th {\n",
              "        vertical-align: top;\n",
              "    }\n",
              "\n",
              "    .dataframe thead th {\n",
              "        text-align: right;\n",
              "    }\n",
              "</style>\n",
              "<table border=\"1\" class=\"dataframe\">\n",
              "  <thead>\n",
              "    <tr style=\"text-align: right;\">\n",
              "      <th></th>\n",
              "      <th>Gene</th>\n",
              "      <th>Node degree</th>\n",
              "      <th>Eigenvector centrality</th>\n",
              "    </tr>\n",
              "  </thead>\n",
              "  <tbody>\n",
              "    <tr>\n",
              "      <th>0</th>\n",
              "      <td>MAP2K4</td>\n",
              "      <td>51</td>\n",
              "      <td>0.002493</td>\n",
              "    </tr>\n",
              "    <tr>\n",
              "      <th>1</th>\n",
              "      <td>MYPN</td>\n",
              "      <td>27</td>\n",
              "      <td>0.001812</td>\n",
              "    </tr>\n",
              "    <tr>\n",
              "      <th>2</th>\n",
              "      <td>ACVR1</td>\n",
              "      <td>54</td>\n",
              "      <td>0.001348</td>\n",
              "    </tr>\n",
              "    <tr>\n",
              "      <th>3</th>\n",
              "      <td>GATA2</td>\n",
              "      <td>58</td>\n",
              "      <td>0.002803</td>\n",
              "    </tr>\n",
              "    <tr>\n",
              "      <th>4</th>\n",
              "      <td>RPA2</td>\n",
              "      <td>546</td>\n",
              "      <td>0.032289</td>\n",
              "    </tr>\n",
              "  </tbody>\n",
              "</table>\n",
              "</div>\n",
              "      <button class=\"colab-df-convert\" onclick=\"convertToInteractive('df-1a5d43ae-5785-448f-9e7c-e6d30433b5b7')\"\n",
              "              title=\"Convert this dataframe to an interactive table.\"\n",
              "              style=\"display:none;\">\n",
              "        \n",
              "  <svg xmlns=\"http://www.w3.org/2000/svg\" height=\"24px\"viewBox=\"0 0 24 24\"\n",
              "       width=\"24px\">\n",
              "    <path d=\"M0 0h24v24H0V0z\" fill=\"none\"/>\n",
              "    <path d=\"M18.56 5.44l.94 2.06.94-2.06 2.06-.94-2.06-.94-.94-2.06-.94 2.06-2.06.94zm-11 1L8.5 8.5l.94-2.06 2.06-.94-2.06-.94L8.5 2.5l-.94 2.06-2.06.94zm10 10l.94 2.06.94-2.06 2.06-.94-2.06-.94-.94-2.06-.94 2.06-2.06.94z\"/><path d=\"M17.41 7.96l-1.37-1.37c-.4-.4-.92-.59-1.43-.59-.52 0-1.04.2-1.43.59L10.3 9.45l-7.72 7.72c-.78.78-.78 2.05 0 2.83L4 21.41c.39.39.9.59 1.41.59.51 0 1.02-.2 1.41-.59l7.78-7.78 2.81-2.81c.8-.78.8-2.07 0-2.86zM5.41 20L4 18.59l7.72-7.72 1.47 1.35L5.41 20z\"/>\n",
              "  </svg>\n",
              "      </button>\n",
              "      \n",
              "  <style>\n",
              "    .colab-df-container {\n",
              "      display:flex;\n",
              "      flex-wrap:wrap;\n",
              "      gap: 12px;\n",
              "    }\n",
              "\n",
              "    .colab-df-convert {\n",
              "      background-color: #E8F0FE;\n",
              "      border: none;\n",
              "      border-radius: 50%;\n",
              "      cursor: pointer;\n",
              "      display: none;\n",
              "      fill: #1967D2;\n",
              "      height: 32px;\n",
              "      padding: 0 0 0 0;\n",
              "      width: 32px;\n",
              "    }\n",
              "\n",
              "    .colab-df-convert:hover {\n",
              "      background-color: #E2EBFA;\n",
              "      box-shadow: 0px 1px 2px rgba(60, 64, 67, 0.3), 0px 1px 3px 1px rgba(60, 64, 67, 0.15);\n",
              "      fill: #174EA6;\n",
              "    }\n",
              "\n",
              "    [theme=dark] .colab-df-convert {\n",
              "      background-color: #3B4455;\n",
              "      fill: #D2E3FC;\n",
              "    }\n",
              "\n",
              "    [theme=dark] .colab-df-convert:hover {\n",
              "      background-color: #434B5C;\n",
              "      box-shadow: 0px 1px 3px 1px rgba(0, 0, 0, 0.15);\n",
              "      filter: drop-shadow(0px 1px 2px rgba(0, 0, 0, 0.3));\n",
              "      fill: #FFFFFF;\n",
              "    }\n",
              "  </style>\n",
              "\n",
              "      <script>\n",
              "        const buttonEl =\n",
              "          document.querySelector('#df-1a5d43ae-5785-448f-9e7c-e6d30433b5b7 button.colab-df-convert');\n",
              "        buttonEl.style.display =\n",
              "          google.colab.kernel.accessAllowed ? 'block' : 'none';\n",
              "\n",
              "        async function convertToInteractive(key) {\n",
              "          const element = document.querySelector('#df-1a5d43ae-5785-448f-9e7c-e6d30433b5b7');\n",
              "          const dataTable =\n",
              "            await google.colab.kernel.invokeFunction('convertToInteractive',\n",
              "                                                     [key], {});\n",
              "          if (!dataTable) return;\n",
              "\n",
              "          const docLinkHtml = 'Like what you see? Visit the ' +\n",
              "            '<a target=\"_blank\" href=https://colab.research.google.com/notebooks/data_table.ipynb>data table notebook</a>'\n",
              "            + ' to learn more about interactive tables.';\n",
              "          element.innerHTML = '';\n",
              "          dataTable['output_type'] = 'display_data';\n",
              "          await google.colab.output.renderOutput(dataTable, element);\n",
              "          const docLink = document.createElement('div');\n",
              "          docLink.innerHTML = docLinkHtml;\n",
              "          element.appendChild(docLink);\n",
              "        }\n",
              "      </script>\n",
              "    </div>\n",
              "  </div>\n",
              "  "
            ]
          },
          "metadata": {},
          "execution_count": 29
        }
      ],
      "source": [
        "# TABLE OF LOCAL MEASURES\n",
        "\n",
        "local_measures.to_csv('local_measures.csv', index = True, header = True)\n",
        "local_measures = pd.read_csv(path+'local_measures.csv', sep=',')\n",
        "local_measures.head()"
      ]
    },
    {
      "cell_type": "markdown",
      "metadata": {
        "id": "bvpjeGCqAp_p"
      },
      "source": [
        "## Task 2 . Putative disease genes identification algorithms"
      ]
    },
    {
      "cell_type": "markdown",
      "metadata": {
        "id": "_txKC5NptlHp"
      },
      "source": [
        "### DIAMOnD algorithm"
      ]
    },
    {
      "cell_type": "code",
      "execution_count": 30,
      "metadata": {
        "id": "ZSftihxf0Nlx"
      },
      "outputs": [],
      "source": [
        "## AUXILIARY FUNCTIONS TO PUT IN FILE\n",
        "\n",
        "def diamond(LCC, seeds, splits, i, top_n, path):\n",
        "    # filtering the splits at i-th iteration\n",
        "    filteredSymbolGenes_ID = DGA[DGA.geneSymbol.isin(splits[str(i)])].geneId.tolist()\n",
        "    actualDt = list(set(seeds) - set(filteredSymbolGenes_ID))\n",
        "\n",
        "    textfile = open(\"seed_gene.txt\", \"w\")\n",
        "    for element in actualDt:\n",
        "      textfile.write(str(element) + '\\n')\n",
        "    textfile.close()\n",
        "    \n",
        "    pairs_genes = list(LCC.edges)\n",
        "    textfile = open(\"PPI_Hypertensive.txt\", \"w\")\n",
        "    for gA, gB in tqdm(pairs_genes):\n",
        "        textfile.write(str(gA) + ',' + str(gB) + '\\n') \n",
        "    textfile.close()\n",
        "    \n",
        "    !python3  DIAMOnD.py  PPI_Hypertensive.txt  seed_gene.txt  top_n \n",
        "    !mv first_200_added_nodes_weight_1.txt str(f'first_200_added_nodes_weight_1_Key{i}.txt')\n",
        "    \n",
        "    for x in [1000,500,250,100]: ## <<<<--------------------------------------------------------------------------\n",
        "        print(x, evaluation(x, cval = len(splits['0']), alg_name = 'DIAMOnD'))\n",
        "    print('\\n')\n",
        "    \n",
        "    !mv str(f'first_200_added_nodes_weight_1_Key{i}.txt') str('./path/')"
      ]
    },
    {
      "cell_type": "code",
      "execution_count": 39,
      "metadata": {
        "colab": {
          "base_uri": "https://localhost:8080/"
        },
        "id": "hVnUHyxLArHK",
        "outputId": "b4a7b725-a239-45a8-cc6e-61b65afe70dc"
      },
      "outputs": [
        {
          "output_type": "stream",
          "name": "stdout",
          "text": [
            "\n",
            " results have been saved to 'first_200_added_nodes_weight_1.txt' \n",
            "\n"
          ]
        }
      ],
      "source": [
        "# EXECUTE DIAMOND\n",
        "# Remark . The output file is saved in the current directory. \n",
        "# That is in '/content/drive/MyDrive/BI-Data/'\n",
        "\n",
        "!python3  DIAMOnD.py  PPI_Hypertensive.txt  seed_gene.txt  200"
      ]
    },
    {
      "cell_type": "markdown",
      "metadata": {
        "id": "AaWcwjpLtvoC"
      },
      "source": [
        "### DiaBLE algorithm"
      ]
    },
    {
      "cell_type": "code",
      "execution_count": null,
      "metadata": {
        "id": "CojIH7_BIa5B"
      },
      "outputs": [],
      "source": [
        "# DIABLE\n",
        "# Change the code in the DIAMOnD script in the DiaBLE Folder (see below) \n",
        "# then apply the diamond function with this updated file\n",
        "\n",
        "\"\"\"\n",
        "AFTER LINE 317 ADD\n",
        "\n",
        "  candidates = set(cluster_nodes)\n",
        "  universe = set()\n",
        "\n",
        "  for _ in range(0, 2):\n",
        "    for gene in candidates.copy():\n",
        "      universe |= neighbors[gene]\n",
        "    candidates = universe        \n",
        "  \n",
        "  N = len(universe)\n",
        "  \n",
        "\"\"\""
      ]
    },
    {
      "cell_type": "markdown",
      "metadata": {
        "id": "08U1dCJSteE4"
      },
      "source": [
        "### Diffusion Based Algorithm"
      ]
    },
    {
      "cell_type": "code",
      "execution_count": null,
      "metadata": {
        "id": "lwpOaFJnvDm9"
      },
      "outputs": [],
      "source": [
        "#..... ??"
      ]
    },
    {
      "cell_type": "markdown",
      "metadata": {
        "id": "ZSzqx9nizFF5"
      },
      "source": [
        "### Validation"
      ]
    },
    {
      "cell_type": "code",
      "execution_count": null,
      "metadata": {
        "id": "bBx_1BKq65qL"
      },
      "outputs": [],
      "source": [
        "## AUXILIARY FUNCTIONS TO PUT IN FILE\n",
        "\n",
        "def cross_vaidation(splits,nodes,DG_in_PPI,clusters,DGA_filt,n_size=n_nodes):\n",
        "    print(\"Executing cross validation...\")\n",
        "    recall = {'std_valid':[],'ext_valid':[]}\n",
        "    prec =  {'std_valid':[],'ext_valid':[]}\n",
        "    f1 =  {'std_valid':[],'ext_valid':[]}\n",
        "    enriched_clusters = 0\n",
        "    for idx in range(0,5):\n",
        "        test = set(splits[str(idx)])\n",
        "        training = set(DG_in_PPI).difference(test)\n",
        "        positives = set()\n",
        "        for cluster in clusters:\n",
        "            N = n_size\n",
        "            K = len(training)\n",
        "            n = len(cluster)\n",
        "            k = len(set(nodes[list(cluster)]).intersection(training))+10e-10\n",
        "            pval = hypergeom.sf(k=k-1, M=N, n=K, N=n)\n",
        "            if pval < 0.05:\n",
        "                enriched_clusters += 1\n",
        "                positives = positives.union(set(nodes[list(cluster)]))\n",
        "        TP = test.intersection(positives)\n",
        "        FP = positives.difference(test)\n",
        "        FN = test.difference(positives)\n",
        "        r,p,f = metrics(TP,FP,FN)\n",
        "        R,P,F = metrics(FP.intersection(DGA_filt), FP.difference(DGA_filt), DGA_filt.difference(TP.union(FN)))\n",
        "        recall['std_valid'] += [r]\n",
        "        prec['std_valid'] += [p]\n",
        "        f1['std_valid'] += [f]\n",
        "        recall['ext_valid'] += [R]\n",
        "        prec['ext_valid'] += [P]\n",
        "        f1['ext_valid'] += [F]\n",
        "     \n",
        "    print('Enriched Clusters:',enriched_clusters/5)\n",
        "    print(\"# Process completed.\")\n",
        "    return recall,prec,f1\n",
        "    \n",
        "\n",
        "def metrics(TP,FP,FN):\n",
        "    print(\"Calculating matricses...\")\n",
        "    recall = len(TP)/(len(TP)+len(FP)+10e-10)\n",
        "    prec = len(TP)/(len(TP)+len(FN)+10e-10)\n",
        "    f1 = 2*(recall/5*prec/5)/(prec/5+recall/5+10e-10)\n",
        "    print(\"# Process completed.\")\n",
        "    return recall, prec, f1"
      ]
    },
    {
      "cell_type": "markdown",
      "metadata": {
        "id": "ptajmyMz6wDF"
      },
      "source": [
        "#### Cross-Validation splits"
      ]
    },
    {
      "cell_type": "code",
      "execution_count": null,
      "metadata": {
        "id": "RTaEJXH56YHE"
      },
      "outputs": [],
      "source": [
        "# SET UP\n",
        "\n",
        "with open(path+'Hypertensive disease_splits.json') as f:\n",
        "  dict_ = json.load(f)\n",
        "\n",
        "with open(path+'Hypertensive disease_seed_gene.txt') as f:\n",
        "  seeds = pd.read_csv(f,sep='\\t',header=None)\n",
        "\n",
        "gene_dis_association = pd.read_csv(path+'curated_gene_disease_associations.tsv', sep = '\\t')\n",
        "gene_dis_association = gene_dis_association[gene_dis_association['diseaseName'] == 'Hypertensive disease']\n",
        "\n",
        "seeds=seeds[0].to_numpy()\n",
        "#seeds"
      ]
    },
    {
      "cell_type": "code",
      "execution_count": null,
      "metadata": {
        "colab": {
          "base_uri": "https://localhost:8080/"
        },
        "id": "Mkk1bjXU6s13",
        "outputId": "f24bf491-b541-4eda-98f3-ad36c323a071"
      },
      "outputs": [
        {
          "name": "stdout",
          "output_type": "stream",
          "text": [
            "0 ['GSTA5', 'TRNE', 'CELA2A', 'IFT27', 'ECE1', 'EDNRA', 'AQP1', 'PPP1R3A', 'MYH11', 'SOD2', 'TRPC5', 'LDLR', 'SMAD3', 'GCH1', 'PPBP', 'USP8', 'JUN', 'CD2AP', 'ATP2B3', 'BMPR2', 'NOS3', 'MAFB', 'TGFB1', 'WNK4', 'TRNV', 'VAV3', 'ACT', 'PDE3A', 'STK11', 'STK39', 'SOD1', 'TRPC3', 'ACVRL1', 'NPPB', 'AR', 'TGFB3', 'TGM2', 'SMARCAL1', 'MFAP5', 'TRIM32', 'TRH', 'COL3A1', 'KCNMB1', 'CYTB', 'DRD2', 'ALAD', 'CRP', 'NME1', 'F12', 'VCAM1', 'GSTT2', 'GJA5', 'B2M', 'VDR', 'UMOD', 'GNRH1', 'AOC1', 'SLC12A3']\n",
            "1 ['PLIN1', 'CCL2', 'VWF', 'CACNA1C', 'GPX1', 'FGA', 'TP53', 'CYBB', 'FMO3', 'GUCY1A3', 'CETP', 'PAX2', 'POMC', 'CYP1A1', 'COL4A4', 'ATP1A1', 'NF1', 'OFD1', 'LEPR', 'ERAP1', 'IFT172', 'SDCCAG8', 'ND1', 'GCG', 'ACE', 'PLAT', 'GSK3B', 'OXT', 'COX2', 'CUL3', 'CYP21A2', 'CLCNKA', 'COL1A1', 'AGT', 'MYLK', 'SMAD4', 'KCNJ1', 'NOS2', 'GLP1R', 'ATOX1', 'PROC', 'LDLRAP1', 'GNB3', 'RGS5', 'HMBS', 'SLC12A2', 'AIP', 'ADRA2A', 'MMP9', 'IQCB1', 'LEP', 'BBS1', 'ACTA2', 'CTGF', 'HMOX1', 'LMNA', 'ADCY5', 'IER3']\n",
            "2 ['CBS', 'AGTR1', 'EPO', 'NR3C1', 'PPARA', 'CXCL2', 'SOD3', 'MKS1', 'NPTN', 'ERCC4', 'COL4A5', 'LHB', 'CACNA1D', 'TRAF3IP1', 'EGFR', 'ALB', 'FOS', 'ZMPSTE24', 'IGF1', 'NR3C2', 'UCP2', 'VHL', 'SERPINE1', 'GJC1', 'HSD11B2', 'MMP2', 'NPPA', 'KLK1', 'CAT', 'DUSP5', 'TGFBR2', 'HTR2B', 'NPR1', 'GNAS', 'PRKACA', 'PRKAR1A', 'PTH', 'WDPCP', 'LZTFL1', 'RET', 'UCN', 'HIF1A', 'SCNN1B', 'ATP2B1', 'CYP11B1', 'COX3', 'ALMS1', 'AGTR2', 'INVS', 'UTS2', 'ANXA1', 'ERCC8', 'ND6', 'RELA', 'ADIPOQ', 'PRKG1', 'IDUA', 'HRH3']\n",
            "3 ['ALOX15', 'PLG', 'NCF1', 'ADRB1', 'TNFRSF11B', 'CPOX', 'INS', 'TNF', 'FOXF1', 'MYD88', 'BCL2', 'TGFB2', 'MUC1', 'HP', 'TGFBR1', 'CYBA', 'KLHL3', 'AVP', 'IKBKAP', 'COL4A3', 'ND5', 'FXYD2', 'OLR1', 'GLA', 'NEDD4L', 'RGS2', 'LYZ', 'LPL', 'TPM1', 'ORAI1', 'SLC9A3R2', 'CALR', 'AOC3', 'SERPINA6', 'BBS4', 'ERCC6', 'APOB', 'GJA4', 'BBS7', 'PTGS2', 'PDE8B', 'LTF', 'F11', 'GAL', 'IL1B', 'IL6', 'GCLC', 'TLR4', 'ICAM1', 'MKKS', 'ABCC1', 'ITM2B', 'SH2B3', 'PRKCD', 'FBN1', 'STIM1', 'MC2R', 'GJA1']\n",
            "4 ['HSD11B1', 'NPHP1', 'INPPL1', 'KNG1', 'DYRK1B', 'CRHR2', 'ABCB6', 'TACR1', 'CEP164', 'FGFR2', 'BDKRB2', 'CMA1', 'EDN1', 'WT1', 'SCNN1A', 'ENPP1', 'SELP', 'ITGA8', 'AHR', 'EDN3', 'ELN', 'THPO', 'ATP1A2', 'COX1', 'JAK2', 'MTOR', 'NPHP3', 'CAV1', 'SLC6A2', 'REN', 'FOXE3', 'SLC37A4', 'GSTT1', 'KCNJ5', 'RPS6KB1', 'MYH9', 'TIMP1', 'ADD1', 'BBS2', 'GP1BA', 'G6PC', 'BBS9', 'LOX', 'ACE2', 'CALCA', 'PPARG', 'CYP17A1', 'WNK1', 'MDH1', 'APOA1', 'APOE', 'SCNN1G', 'PTEN', 'CD36', 'FN1', 'OXSR1', 'CACNA2D1', 'RALBP1']\n"
          ]
        }
      ],
      "source": [
        "# CROSS VALIDATION SPLITS INTO FILES\n",
        "\n",
        "for k,v in dict_.items():\n",
        "    print(k,v)\n",
        "    ids=gene_dis_association.loc[gene_dis_association.geneSymbol.isin(v)].geneId.tolist()\n",
        "    l=list(set(seeds).difference(set(ids)))\n",
        "    with open(path+'cross_{}.txt'.format(k),'w') as f:\n",
        "        for item in l:\n",
        "            f.write(\"%s\\n\" % item)\n",
        "    "
      ]
    },
    {
      "cell_type": "markdown",
      "metadata": {
        "id": "x7AoB5Yd63G5"
      },
      "source": [
        "#### Evaluation of performances"
      ]
    },
    {
      "cell_type": "code",
      "source": [
        "# CHECK\n",
        "\n",
        "#print(splits)"
      ],
      "metadata": {
        "colab": {
          "base_uri": "https://localhost:8080/"
        },
        "id": "nV-dvs0pERQG",
        "outputId": "fb4e74c9-d6f1-46de-b4b3-b00276edc4bf"
      },
      "execution_count": 31,
      "outputs": [
        {
          "output_type": "stream",
          "name": "stdout",
          "text": [
            "{'0': ['NEDD4L', 'ITGA8', 'KLK1', 'SMAD3', 'COX3', 'NOS2', 'SMAD4', 'NPPA', 'CPOX', 'AR', 'ADD1', 'VAV3', 'BDKRB2', 'UCN', 'NPTN', 'FGFR2', 'ATP2B1', 'ELN', 'BBS2', 'KCNMB1', 'CELA2A', 'MTOR', 'BCL2', 'SOD2', 'LOX', 'CYTB', 'FN1', 'CACNA2D1', 'PDE8B', 'CMA1', 'GCG', 'GSK3B', 'PLAT', 'WT1', 'KLHL3', 'CD36', 'G6PC', 'TIMP1', 'GJA1', 'PTEN', 'HRH3', 'GNB3', 'FBN1', 'CEP164', 'ALOX15', 'HP', 'CALCA', 'ADRA2A', 'NPR1', 'TACR1', 'TRNE', 'MUC1', 'ATP2B3', 'WNK1', 'INVS', 'ITM2B', 'AOC1', 'PPARG'], '1': ['APOA1', 'SLC37A4', 'KCNJ1', 'PDE3A', 'HIF1A', 'PRKG1', 'UMOD', 'ABCB6', 'PTH', 'ACTA2', 'MKS1', 'POMC', 'GLA', 'IDUA', 'TRH', 'INS', 'ACE', 'F12', 'RPS6KB1', 'GAL', 'AIP', 'TGFB3', 'IER3', 'SOD1', 'NME1', 'IL6', 'NR3C2', 'NPPB', 'TGM2', 'SCNN1A', 'STK11', 'ND5', 'PPP1R3A', 'GSTT1', 'TLR4', 'SMARCAL1', 'FOXE3', 'ENPP1', 'CYP21A2', 'KNG1', 'MYD88', 'HSD11B1', 'MC2R', 'TRPC3', 'MAFB', 'PRKCD', 'ZMPSTE24', 'OLR1', 'AQP1', 'CRHR2', 'GUCY1A3', 'GJA5', 'PLIN1', 'LEP', 'AHR', 'RELA', 'NCF1', 'TGFB1'], '2': ['NPHP1', 'SELP', 'VCAM1', 'NPHP3', 'SLC12A3', 'ANXA1', 'EGFR', 'PPARA', 'PROC', 'SLC6A2', 'DYRK1B', 'RET', 'IGF1', 'UCP2', 'CAV1', 'SCNN1G', 'ALAD', 'GCLC', 'LDLR', 'LHB', 'AOC3', 'BMPR2', 'OXSR1', 'WDPCP', 'FGA', 'AGTR1', 'TRAF3IP1', 'CETP', 'LMNA', 'OXT', 'ALB', 'MKKS', 'TNF', 'PTGS2', 'APOE', 'PAX2', 'TRNV', 'PRKAR1A', 'ND6', 'LZTFL1', 'B2M', 'GCH1', 'TGFBR1', 'SLC12A2', 'ACE2', 'IL1B', 'ICAM1', 'VWF', 'CAT', 'ACT', 'STIM1', 'CD2AP', 'RGS5', 'ORAI1', 'COL4A3', 'USP8', 'STK39', 'VDR'], '3': ['ND1', 'UTS2', 'GNRH1', 'HMOX1', 'MFAP5', 'THPO', 'OFD1', 'MMP2', 'MYH11', 'ECE1', 'NOS3', 'ADIPOQ', 'COL3A1', 'BBS1', 'PRKACA', 'COL1A1', 'COX2', 'MYH9', 'FOXF1', 'ATP1A2', 'TGFBR2', 'VHL', 'SLC9A3R2', 'LYZ', 'GLP1R', 'TRIM32', 'ADCY5', 'DUSP5', 'RALBP1', 'IFT27', 'ERCC6', 'ABCC1', 'CXCL2', 'BBS7', 'AVP', 'GJA4', 'AGTR2', 'SCNN1B', 'GSTA5', 'MYLK', 'CYP11B1', 'IQCB1', 'CCL2', 'MDH1', 'EDN1', 'BBS4', 'COL4A4', 'TP53', 'CACNA1D', 'HMBS', 'GPX1', 'RGS2', 'GNAS', 'CUL3', 'LPL', 'ADRB1', 'ERCC4', 'MMP9'], '4': ['TGFB2', 'SH2B3', 'EDN3', 'NF1', 'TNFRSF11B', 'SERPINE1', 'HSD11B2', 'CYP17A1', 'SOD3', 'CLCNKA', 'EDNRA', 'ATP1A1', 'BBS9', 'CACNA1C', 'GP1BA', 'SDCCAG8', 'INPPL1', 'APOB', 'JUN', 'GSTT2', 'EPO', 'JAK2', 'SERPINA6', 'CALR', 'GJC1', 'CTGF', 'WNK4', 'LDLRAP1', 'IFT172', 'HTR2B', 'PLG', 'CYBB', 'FMO3', 'PPBP', 'ALMS1', 'AGT', 'ERCC8', 'COX1', 'ERAP1', 'F11', 'ACVRL1', 'TPM1', 'DRD2', 'KCNJ5', 'FOS', 'COL4A5', 'CRP', 'CBS', 'LEPR', 'LTF', 'REN', 'NR3C1', 'CYP1A1', 'CYBA', 'FXYD2', 'IKBKAP', 'ATOX1', 'TRPC5']}\n"
          ]
        }
      ]
    },
    {
      "cell_type": "code",
      "source": [
        "# DICTIONARY WITH MAPPING GeneSymbol-->GeneId\n",
        "\n",
        "geneDiseaseIDs = {\n",
        "    '0': DGA[DGA.geneSymbol.isin(splits['0'])].geneId.tolist(),\n",
        "    '1': DGA[DGA.geneSymbol.isin(splits['1'])].geneId.tolist(),\n",
        "    '2': DGA[DGA.geneSymbol.isin(splits['2'])].geneId.tolist(),\n",
        "    '3': DGA[DGA.geneSymbol.isin(splits['3'])].geneId.tolist(),\n",
        "    '4': DGA[DGA.geneSymbol.isin(splits['4'])].geneId.tolist()\n",
        "}"
      ],
      "metadata": {
        "id": "ox23YZmoEbm1"
      },
      "execution_count": 32,
      "outputs": []
    },
    {
      "cell_type": "code",
      "source": [
        "# CHECK\n",
        "\n",
        "#geneDiseaseIDs"
      ],
      "metadata": {
        "id": "-TfP2ffFEfXs"
      },
      "execution_count": null,
      "outputs": []
    },
    {
      "cell_type": "code",
      "source": [
        "## AUXILIARY FUNCTIONS TO PUT IN FILE\n",
        "\n",
        "def evaluation(top_n, cval, alg_name):\n",
        "    recalls, precs, f1s, ndcg_scores = ([] for _ in range(4))\n",
        "\n",
        "    cv = pd.read_csv(f'first_200_added_nodes_weight_1.txt',sep='\\t')\n",
        "    cv_nodes = cv[alg_name + '_node'].tolist()\n",
        "\n",
        "    # Subsetting\n",
        "    top = set(cv_nodes[0:top_n]) \n",
        "    \n",
        "    # Intersecting with the probe set  \n",
        "    inters = top.intersection(geneDiseaseIDs[str(i)]) \n",
        "\n",
        "    # Appending the results\n",
        "    recall = round(len(inters)/cval, 3)\n",
        "    prec = round(len(inters)/top_n, 3)\n",
        "    recalls.append(recall)\n",
        "    precs.append(prec)\n",
        "\n",
        "    try:\n",
        "      f1s.append(round(2*((recall*prec)/(recall+prec)), 3))\n",
        "    except:\n",
        "      f1s.append(0)\n",
        "\n",
        "    return {'recall': recalls, \n",
        "            'precision': precs, \n",
        "            'F1 Score': f1s, }"
      ],
      "metadata": {
        "id": "dSJGARgtE8gu"
      },
      "execution_count": 40,
      "outputs": []
    },
    {
      "cell_type": "code",
      "execution_count": 41,
      "metadata": {
        "colab": {
          "base_uri": "https://localhost:8080/"
        },
        "id": "77XllWDtzxvb",
        "outputId": "0620b5ba-f341-4129-ae73-79354dce7b18"
      },
      "outputs": [
        {
          "output_type": "stream",
          "name": "stderr",
          "text": [
            "100%|██████████| 665061/665061 [00:00<00:00, 719402.11it/s]\n"
          ]
        },
        {
          "output_type": "stream",
          "name": "stdout",
          "text": [
            "python3: can't open file 'DIAMOnD/DIAMOnD.py': [Errno 2] No such file or directory\n",
            "/bin/bash: -c: line 0: syntax error near unexpected token `('\n",
            "/bin/bash: -c: line 0: `mv first_200_added_nodes_weight_1.txt str(f'first_200_added_nodes_weight_1_Key0.txt')'\n",
            "1000 {'recall': [0.0], 'precision': [0.0], 'F1 Score': [0]}\n",
            "500 {'recall': [0.0], 'precision': [0.0], 'F1 Score': [0]}\n",
            "250 {'recall': [0.0], 'precision': [0.0], 'F1 Score': [0]}\n",
            "100 {'recall': [0.0], 'precision': [0.0], 'F1 Score': [0]}\n",
            "\n",
            "\n",
            "/bin/bash: -c: line 0: syntax error near unexpected token `('\n",
            "/bin/bash: -c: line 0: `mv str(f'first_200_added_nodes_weight_1_Key0.txt') str('./path/')'\n"
          ]
        },
        {
          "output_type": "stream",
          "name": "stderr",
          "text": [
            "100%|██████████| 665061/665061 [00:00<00:00, 1199734.55it/s]\n"
          ]
        },
        {
          "output_type": "stream",
          "name": "stdout",
          "text": [
            "python3: can't open file 'DIAMOnD/DIAMOnD.py': [Errno 2] No such file or directory\n",
            "/bin/bash: -c: line 0: syntax error near unexpected token `('\n",
            "/bin/bash: -c: line 0: `mv first_200_added_nodes_weight_1.txt str(f'first_200_added_nodes_weight_1_Key1.txt')'\n",
            "1000 {'recall': [0.0], 'precision': [0.0], 'F1 Score': [0]}\n",
            "500 {'recall': [0.0], 'precision': [0.0], 'F1 Score': [0]}\n",
            "250 {'recall': [0.0], 'precision': [0.0], 'F1 Score': [0]}\n",
            "100 {'recall': [0.0], 'precision': [0.0], 'F1 Score': [0]}\n",
            "\n",
            "\n",
            "/bin/bash: -c: line 0: syntax error near unexpected token `('\n",
            "/bin/bash: -c: line 0: `mv str(f'first_200_added_nodes_weight_1_Key1.txt') str('./path/')'\n"
          ]
        },
        {
          "output_type": "stream",
          "name": "stderr",
          "text": [
            "100%|██████████| 665061/665061 [00:00<00:00, 1181780.67it/s]\n"
          ]
        },
        {
          "output_type": "stream",
          "name": "stdout",
          "text": [
            "python3: can't open file 'DIAMOnD/DIAMOnD.py': [Errno 2] No such file or directory\n",
            "/bin/bash: -c: line 0: syntax error near unexpected token `('\n",
            "/bin/bash: -c: line 0: `mv first_200_added_nodes_weight_1.txt str(f'first_200_added_nodes_weight_1_Key2.txt')'\n",
            "1000 {'recall': [0.0], 'precision': [0.0], 'F1 Score': [0]}\n",
            "500 {'recall': [0.0], 'precision': [0.0], 'F1 Score': [0]}\n",
            "250 {'recall': [0.0], 'precision': [0.0], 'F1 Score': [0]}\n",
            "100 {'recall': [0.0], 'precision': [0.0], 'F1 Score': [0]}\n",
            "\n",
            "\n",
            "/bin/bash: -c: line 0: syntax error near unexpected token `('\n",
            "/bin/bash: -c: line 0: `mv str(f'first_200_added_nodes_weight_1_Key2.txt') str('./path/')'\n"
          ]
        },
        {
          "output_type": "stream",
          "name": "stderr",
          "text": [
            "100%|██████████| 665061/665061 [00:00<00:00, 1212248.75it/s]\n"
          ]
        },
        {
          "output_type": "stream",
          "name": "stdout",
          "text": [
            "python3: can't open file 'DIAMOnD/DIAMOnD.py': [Errno 2] No such file or directory\n",
            "/bin/bash: -c: line 0: syntax error near unexpected token `('\n",
            "/bin/bash: -c: line 0: `mv first_200_added_nodes_weight_1.txt str(f'first_200_added_nodes_weight_1_Key3.txt')'\n",
            "1000 {'recall': [0.0], 'precision': [0.0], 'F1 Score': [0]}\n",
            "500 {'recall': [0.0], 'precision': [0.0], 'F1 Score': [0]}\n",
            "250 {'recall': [0.0], 'precision': [0.0], 'F1 Score': [0]}\n",
            "100 {'recall': [0.0], 'precision': [0.0], 'F1 Score': [0]}\n",
            "\n",
            "\n",
            "/bin/bash: -c: line 0: syntax error near unexpected token `('\n",
            "/bin/bash: -c: line 0: `mv str(f'first_200_added_nodes_weight_1_Key3.txt') str('./path/')'\n"
          ]
        },
        {
          "output_type": "stream",
          "name": "stderr",
          "text": [
            "100%|██████████| 665061/665061 [00:00<00:00, 1175690.02it/s]\n"
          ]
        },
        {
          "output_type": "stream",
          "name": "stdout",
          "text": [
            "python3: can't open file 'DIAMOnD/DIAMOnD.py': [Errno 2] No such file or directory\n",
            "/bin/bash: -c: line 0: syntax error near unexpected token `('\n",
            "/bin/bash: -c: line 0: `mv first_200_added_nodes_weight_1.txt str(f'first_200_added_nodes_weight_1_Key4.txt')'\n",
            "1000 {'recall': [0.0], 'precision': [0.0], 'F1 Score': [0]}\n",
            "500 {'recall': [0.0], 'precision': [0.0], 'F1 Score': [0]}\n",
            "250 {'recall': [0.0], 'precision': [0.0], 'F1 Score': [0]}\n",
            "100 {'recall': [0.0], 'precision': [0.0], 'F1 Score': [0]}\n",
            "\n",
            "\n",
            "/bin/bash: -c: line 0: syntax error near unexpected token `('\n",
            "/bin/bash: -c: line 0: `mv str(f'first_200_added_nodes_weight_1_Key4.txt') str('./path/')'\n"
          ]
        }
      ],
      "source": [
        "# DIAMOND \n",
        "\n",
        "for i in range(0, 5):\n",
        "    diamond(LCC, DG_in_PPI, splits, i, top_n = 200, path = 'DIAMOnD_results')\n"
      ]
    },
    {
      "cell_type": "code",
      "execution_count": null,
      "metadata": {
        "id": "D26bSCxY0b7N"
      },
      "outputs": [],
      "source": [
        "# DIABLE\n",
        "\n",
        "for i in range(0, 5):\n",
        "    diamond(LCC, DG_in_PPI, splits, i, top_n = 1000, path = '...')###<-------------------------"
      ]
    },
    {
      "cell_type": "code",
      "execution_count": null,
      "metadata": {
        "id": "vjoL5DEt1twR"
      },
      "outputs": [],
      "source": [
        "# DIFFUSION BASED\n",
        "\n",
        "#... ?"
      ]
    },
    {
      "cell_type": "markdown",
      "metadata": {
        "id": "-CQz0G6A0IuL"
      },
      "source": [
        "## Optional Task 3 MCL"
      ]
    },
    {
      "cell_type": "code",
      "execution_count": null,
      "metadata": {
        "id": "_LZrLpsX3iZB"
      },
      "outputs": [],
      "source": [
        "# SET UP\n",
        "\n",
        "curated_gene_desease_association_DF = pd.read_csv(\"/content/curated_gene_disease_associations.tsv\", sep = '\\t', compression = 'infer')\n",
        "disease_DF = curated_gene_desease_association_DF.loc[curated_gene_desease_association_DF['diseaseId'] == 'C0020538']"
      ]
    },
    {
      "cell_type": "code",
      "execution_count": null,
      "metadata": {
        "id": "wUdp3kf93j49"
      },
      "outputs": [],
      "source": [
        "# SEED GENES\n",
        "\n",
        "seed_list = list(disease_DF['geneId'])\n",
        "seed_genes_symbols = list(disease_DF['geneSymbol'])"
      ]
    },
    {
      "cell_type": "code",
      "execution_count": null,
      "metadata": {
        "id": "LmcOSKMDz28-"
      },
      "outputs": [],
      "source": [
        "# CLUSTERS\n",
        "\n",
        "result = mc.run_mcl(nx.to_scipy_sparse_matrix(G))           \n",
        "clusters = mc.get_clusters(result) "
      ]
    },
    {
      "cell_type": "code",
      "execution_count": null,
      "metadata": {
        "id": "6y4nBj290PNH"
      },
      "outputs": [],
      "source": [
        "# PLOT\n",
        "\n",
        "mc.draw_graph(nx.to_scipy_sparse_matrix(G), clusters, node_size=10, with_labels=False, edge_color=\"silver\")"
      ]
    },
    {
      "cell_type": "code",
      "execution_count": null,
      "metadata": {
        "id": "5oq7v0Sf0VXO"
      },
      "outputs": [],
      "source": [
        "# PERFORM CLUSTERING\n",
        "# Use different inflation values from 1.5 and 2.5\n",
        "# for each clustering run calculate the modularity\n",
        "\n",
        "matrix = nx.to_scipy_sparse_matrix(G)\n",
        "for inflation in [i / 10 for i in range(15, 26)]:\n",
        "    result = mc.run_mcl(matrix, inflation=inflation)\n",
        "    clusters = mc.get_clusters(result)\n",
        "    Q = mc.modularity(matrix=result, clusters=clusters)\n",
        "    print(\"inflation:\", inflation, \"modularity:\", Q)"
      ]
    },
    {
      "cell_type": "markdown",
      "metadata": {
        "id": "IWDtYRO91Fjq"
      },
      "source": [
        "Now that we have found the clusters, we filter them in order to keep only those having at least 10 nodes and in which the seed genes are statistically overrepresented. The resulting sets are the putative desease modules."
      ]
    },
    {
      "cell_type": "code",
      "execution_count": null,
      "metadata": {
        "id": "ZTAeKVQP01g9"
      },
      "outputs": [],
      "source": [
        "# KEEP CLUSTERS WITH AT LEAST 10 GENES\n",
        "\n",
        "big_clusters = []\n",
        "for module in clusters:\n",
        "    if len(module) >= 10:\n",
        "        big_clusters.append(module)\n",
        "print(len(clusters), len(big_clusters))"
      ]
    },
    {
      "cell_type": "code",
      "execution_count": null,
      "metadata": {
        "id": "Nx3-wx0I1KNb"
      },
      "outputs": [],
      "source": [
        "# DICTIONARY WITH MAPPING {nodeID : gene name}\n",
        "\n",
        "val = range(G.number_of_nodes())\n",
        "names = list(G.nodes())\n",
        "dic = dict(zip(val, names))"
      ]
    },
    {
      "cell_type": "code",
      "execution_count": null,
      "metadata": {
        "id": "C5auyMl-1L0M"
      },
      "outputs": [],
      "source": [
        "# RUN THE HYPERGEOMETRIC TEST TO FIND MODULES WITH STATISTICALLY OVERREPRESENTED SEED GENES\n",
        "\n",
        "putative_desease_modules = []\n",
        "M = G.number_of_nodes() # population size (total number of genes) \n",
        "n = len(seed_genes_symbols) # number of seed genes\n",
        "p_val_list = []\n",
        "for module in big_clusters:\n",
        "    N = len(module) # number of draws (number of genes in the given cluster)\n",
        "    x = len(set(seed_genes_symbols).intersection(set(dic[g] for g in module)))\n",
        "    p_val = hypergeom.sf(x-1, M, n, N)\n",
        "    if p_val < 0.05:\n",
        "        putative_desease_modules.append(module)\n",
        "        p_val_list.append(p_val)"
      ]
    },
    {
      "cell_type": "code",
      "execution_count": null,
      "metadata": {
        "id": "YpkTn31H1Wng"
      },
      "outputs": [],
      "source": [
        "# PUTATIVE DISEASE MODULES TO PUT IN THE FOLLOWING DATAFRAME\n",
        "\n",
        "for i in range(len(putative_desease_modules)):\n",
        "    print(\"Desease putative module \",i, \": \", *[dic[g] for g in putative_desease_modules[i]])"
      ]
    },
    {
      "cell_type": "code",
      "execution_count": null,
      "metadata": {
        "id": "DGDmv6kw1X3y"
      },
      "outputs": [],
      "source": [
        "# DATAFRAME OF PUTATIVE DISEASE MODULES\n",
        "\n",
        "header = ['ModuleID', \"Number of seed genes/module\", \"Module size\", \"Seed genes\", \"All genes\", \"p-value\"]\n",
        "df_putative_desease_modules = pd.DataFrame(columns=header)\n",
        "for i in range(len(putative_desease_modules)):\n",
        "    seeds = set(seed_genes_symbols).intersection(set(dic[g] for g in putative_desease_modules[i]))\n",
        "    values = [i, len(seeds), len(putative_desease_modules[i]), seeds, [dic[g] for g in putative_desease_modules[i]],p_val_list[i]]\n",
        "    df = pd.DataFrame( [values], columns = header)\n",
        "    df_putative_desease_modules = df_putative_desease_modules.append(df, ignore_index=True)"
      ]
    },
    {
      "cell_type": "code",
      "execution_count": null,
      "metadata": {
        "id": "Rh3Dn-h01bgG"
      },
      "outputs": [],
      "source": [
        "# CHECK\n",
        "\n",
        "df_putative_desease_modules"
      ]
    }
  ],
  "metadata": {
    "accelerator": "GPU",
    "colab": {
      "provenance": [],
      "include_colab_link": true
    },
    "gpuClass": "standard",
    "kernelspec": {
      "display_name": "Python 3 (ipykernel)",
      "language": "python",
      "name": "python3"
    },
    "language_info": {
      "codemirror_mode": {
        "name": "ipython",
        "version": 3
      },
      "file_extension": ".py",
      "mimetype": "text/x-python",
      "name": "python",
      "nbconvert_exporter": "python",
      "pygments_lexer": "ipython3",
      "version": "3.9.13"
    }
  },
  "nbformat": 4,
  "nbformat_minor": 0
}