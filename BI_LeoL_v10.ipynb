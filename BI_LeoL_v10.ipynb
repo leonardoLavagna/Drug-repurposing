{
  "cells": [
    {
      "cell_type": "markdown",
      "metadata": {
        "id": "view-in-github",
        "colab_type": "text"
      },
      "source": [
        "<a href=\"https://colab.research.google.com/github/leonardoLavagna/Drug-repurposing/blob/main/BI_LeoL_v10.ipynb\" target=\"_parent\"><img src=\"https://colab.research.google.com/assets/colab-badge.svg\" alt=\"Open In Colab\"/></a>"
      ]
    },
    {
      "cell_type": "markdown",
      "metadata": {
        "id": "MB2jks_equ2c"
      },
      "source": [
        "# General Set up"
      ]
    },
    {
      "cell_type": "code",
      "execution_count": null,
      "metadata": {
        "id": "cOkMPGHjo7_w"
      },
      "outputs": [],
      "source": [
        "# MOUNT DRIVE\n",
        "# Remark . Assign colab = True when using Google Colab\n",
        "# Remark . While using Google colab remeber to collect all the needed files in\n",
        "#          the folder BI-Data in your Google Drive.\n",
        "\n",
        "import os\n",
        "colab=True\n",
        "if colab:\n",
        "    from google.colab import drive\n",
        "    drive.mount('/content/drive',force_remount=True)\n",
        "    os.chdir('/content/drive/MyDrive/BI-Data/')"
      ]
    },
    {
      "cell_type": "code",
      "execution_count": 2,
      "metadata": {
        "id": "IyBEndFwwnwH"
      },
      "outputs": [],
      "source": [
        "# REFERENCE CODE FOR DIAMOnD\n",
        "\n",
        "#!git clone https://github.com/dinaghiassian/DIAMOnD "
      ]
    },
    {
      "cell_type": "code",
      "source": [
        "# IF CONFLICTS ARISE, UPGRADE THE FOLLOWING LIBRARIES\n",
        "\n",
        "#%pip install networkx --upgrade\n",
        "#%pip install scipy --upgrade"
      ],
      "metadata": {
        "id": "P5_ZdCkD8jV2"
      },
      "execution_count": 3,
      "outputs": []
    },
    {
      "cell_type": "code",
      "execution_count": null,
      "metadata": {
        "id": "xp0LQsv8kGTW"
      },
      "outputs": [],
      "source": [
        "# INSTALL NON-STANDARD LIBRARIES\n",
        "# See: https://github.com/GuyAllard/markov_clustering\n",
        "\n",
        "%pip install markov_clustering "
      ]
    },
    {
      "cell_type": "code",
      "source": [
        "# INSTALL NON-STANDARD LIBRARIES \n",
        "#See: https://ndex2.readthedocs.io/en/latest/createnicecx.html\n",
        "\n",
        "%pip install ndex2"
      ],
      "metadata": {
        "id": "Q9k5q1Cb2_Z-"
      },
      "execution_count": null,
      "outputs": []
    },
    {
      "cell_type": "code",
      "execution_count": 6,
      "metadata": {
        "id": "nVfF8_rdk1uA"
      },
      "outputs": [],
      "source": [
        "# DIRECTORY TREE\n",
        "# Remark . Change according to your file system.\n",
        "# Remark. This path should be the same used in the auxiliary_funtions module.\n",
        "# Remark . When using Google Colab remember that the path has been changed to \n",
        "# /content/drive/MyDrive/BI-Data/ \n",
        "\n",
        "path = './'"
      ]
    },
    {
      "cell_type": "code",
      "execution_count": 7,
      "metadata": {
        "id": "4gea7gDcqpFo"
      },
      "outputs": [],
      "source": [
        "# IMPORT NEEDED LIBRARIES AND SELF DEFINED FUNCTIONS\n",
        "\n",
        "import re\n",
        "import csv\n",
        "import random\n",
        "import json\n",
        "import ast\n",
        "import sys\n",
        "import statistics\n",
        "import ndex2\n",
        "import requests\n",
        "import base64\n",
        "import auxiliary_functions as AF\n",
        "import pandas as pd\n",
        "import networkx as nx\n",
        "import matplotlib.pyplot as plt\n",
        "import numpy as np\n",
        "import markov_clustering as mc\n",
        "from tqdm import tqdm\n",
        "from scipy.stats import hypergeom"
      ]
    },
    {
      "cell_type": "code",
      "source": [
        "# GLOBAL VARIABLES NAMES\n",
        "\"\"\"\n",
        "HSN: homo sapiens interactome\n",
        "DGA: disease gene association\n",
        "LCC or G: large connected component in HSN\n",
        "seeds: seed gene' symbols\n",
        "\"\"\"\n"
      ],
      "metadata": {
        "id": "1-0EkQfCVqQW"
      },
      "execution_count": null,
      "outputs": []
    },
    {
      "cell_type": "code",
      "source": [
        "# NEEDED FILES\n",
        "\"\"\"\n",
        "1. BIOGRID-ORGANISM-Homo_sapiens-4.4.204.tab3.txt\n",
        "2. curated_gene_disease_associations.tsv\n",
        "3. DIAMOnD.py\n",
        "4. DIaBLE.py\n",
        "5. auxiliary_functions.py\n",
        "6. diff_res.txt\n",
        "\"\"\""
      ],
      "metadata": {
        "id": "fCdtOo_CWTkk"
      },
      "execution_count": null,
      "outputs": []
    },
    {
      "cell_type": "code",
      "source": [
        "# IMPORTANT FILES CREATED AND OFTEN USED\n",
        "\"\"\"\n",
        "1. Hypertensive disease_seed_gene.txt\n",
        "2. Hypertensive disease_splits.json\n",
        "3. PPI_Hypertensive.txt\n",
        "4. cross{i} for i=0,1,2,3,4\n",
        "5. probeset{i} for i=0,1,2,3,4\n",
        "6. res{i} for i=0,1,2,3,4\n",
        "7. splits.json\n",
        "\"\"\""
      ],
      "metadata": {
        "id": "APq8Tz0PWwbt"
      },
      "execution_count": null,
      "outputs": []
    },
    {
      "cell_type": "markdown",
      "metadata": {
        "id": "mRbllah2A0o5"
      },
      "source": [
        "# TASK 1 . PPI and GDA data gathering and interactome reconstruction"
      ]
    },
    {
      "cell_type": "markdown",
      "metadata": {
        "id": "8dkVMfSshTjz"
      },
      "source": [
        "## Data gathering and interactome reconstruction"
      ]
    },
    {
      "cell_type": "code",
      "execution_count": 8,
      "metadata": {
        "colab": {
          "base_uri": "https://localhost:8080/"
        },
        "id": "Uhof4wFsD15F",
        "outputId": "680b1127-d660-44a2-f70a-b15f6c4a1136"
      },
      "outputs": [
        {
          "output_type": "stream",
          "name": "stdout",
          "text": [
            "Processing interactome...\n"
          ]
        },
        {
          "output_type": "stream",
          "name": "stderr",
          "text": [
            "<ipython-input-8-ea389ed6b4af>:3: DtypeWarning: Columns (1,2,18) have mixed types.Specify dtype option on import or set low_memory=False.\n",
            "  HSN = AF.interactome_processing(path+\"BIOGRID-ORGANISM-Homo_sapiens-4.4.204.tab3.txt\")\n"
          ]
        },
        {
          "output_type": "stream",
          "name": "stdout",
          "text": [
            "# Process completed.\n"
          ]
        }
      ],
      "source": [
        "# DATA GATHERING AND PROCESSING\n",
        "\n",
        "HSN = AF.interactome_processing(path+\"BIOGRID-ORGANISM-Homo_sapiens-4.4.204.tab3.txt\")\n",
        "DGA_all = pd.read_csv(path+'curated_gene_disease_associations.tsv',sep='\\t')\n",
        "DGA =  DGA_all[DGA_all['diseaseName'] == 'Hypertensive disease']\n",
        "DGA = AF.DGA_processing(path+'curated_gene_disease_associations.tsv', 'Hypertensive disease')"
      ]
    },
    {
      "cell_type": "code",
      "source": [
        "# CREATE INTERACTOME AND SPLITS\n",
        "# Remark . If the file 'Hypertensive disease_splits' has not been created\n",
        "#          uncomment the following line\n",
        "\n",
        "#DG_in_PPI,splits = AF.make_seeds_splits(DGA,HSN,'Hypertensive disease',path)\n",
        "DG_in_PPI, splits = AF.import_seeds_split('Hypertensive disease')"
      ],
      "metadata": {
        "id": "1Gnn2uypkVr9",
        "outputId": "7d11974f-a074-41cb-a87d-ead23f5b44e4",
        "colab": {
          "base_uri": "https://localhost:8080/"
        }
      },
      "execution_count": 9,
      "outputs": [
        {
          "output_type": "stream",
          "name": "stdout",
          "text": [
            "Importing seed genes...\n",
            "# Process completed.\n"
          ]
        }
      ]
    },
    {
      "cell_type": "markdown",
      "metadata": {
        "id": "IuiA9iw0halS"
      },
      "source": [
        "## Compute the disease LCC and its basic network measures"
      ]
    },
    {
      "cell_type": "code",
      "execution_count": 10,
      "metadata": {
        "colab": {
          "base_uri": "https://localhost:8080/"
        },
        "id": "kqFIzXjThdNg",
        "outputId": "4515969c-e9cf-4a13-9536-579af7e45596"
      },
      "outputs": [
        {
          "output_type": "stream",
          "name": "stdout",
          "text": [
            "Extracting LCC...\n",
            "Nodes  19618 , Connections  665061\n",
            "# Process completed.\n"
          ]
        }
      ],
      "source": [
        "# LCC COMPUTATION\n",
        "\n",
        "LCC = AF.extract_LCC_form_PPI(HSN)\n",
        "n_nodes = LCC.number_of_nodes()"
      ]
    },
    {
      "cell_type": "code",
      "execution_count": 11,
      "metadata": {
        "colab": {
          "base_uri": "https://localhost:8080/",
          "height": 714
        },
        "id": "aR1AI341EkvQ",
        "outputId": "32e48907-c4fb-4974-bb16-54a38c0ef2d4"
      },
      "outputs": [
        {
          "output_type": "stream",
          "name": "stdout",
          "text": [
            "Creating Disease LCC graph...\n",
            "Nodes in disease LCC  232\n",
            "# Process completed.\n"
          ]
        },
        {
          "output_type": "stream",
          "name": "stderr",
          "text": [
            "/usr/local/lib/python3.8/dist-packages/networkx/drawing/nx_pylab.py:579: MatplotlibDeprecationWarning: \n",
            "The iterable function was deprecated in Matplotlib 3.1 and will be removed in 3.3. Use np.iterable instead.\n",
            "  if not cb.iterable(width):\n"
          ]
        },
        {
          "output_type": "display_data",
          "data": {
            "text/plain": [
              "<Figure size 576x576 with 1 Axes>"
            ],
            "image/png": "[encoded data removed]"
          },
          "metadata": {}
        }
      ],
      "source": [
        "# LCC PLOT\n",
        "\n",
        "DN = AF.make_disease_graph(HSN, DGA, DG_in_PPI)\n",
        "AF.plot_LCC(DN, DG_in_PPI)"
      ]
    },
    {
      "cell_type": "code",
      "source": [
        "# NETWORK MEASURES\n",
        "# Remark . Execute only once. Moreover this cell takes a while to run...\n",
        "\n",
        "G = LCC\n",
        "\n",
        "nx.set_node_attributes(G, G.degree(), 'Node degree')  \n",
        "nx.set_node_attributes(G, nx.betweenness_centrality(G), \"Betweenness centrality\")\n",
        "nx.set_node_attributes(G, nx.eigenvector_centrality(G), \"Eigenvector centrality\")\n",
        "nx.set_node_attributes(G, nx.closeness_centrality(G), \"Closeness centrality\")\n",
        "\n",
        "local_measures = pd.DataFrame(index=G.nodes())\n",
        "local_measures['Node degree'] = [d for n, d in G.degree()] \n",
        "local_measures['Betweenness centrality'] = pd.Series(nx.get_node_attributes(G, 'Betweenness centrality'))\n",
        "local_measures['Eigenvector centrality'] = pd.Series(nx.get_node_attributes(G, 'Eigenvector centrality'))\n",
        "local_measures['Closeness centrality'] = pd.Series(nx.get_node_attributes(G, 'Closeness centrality'))\n",
        "local_measures['Betweenness/Degree Ratio'] = local_measures['Betweenness centrality']/local_measures['Node degree']\n",
        "local_measures.index.name='Gene'"
      ],
      "metadata": {
        "id": "MQRk9IFj9J5B"
      },
      "execution_count": null,
      "outputs": []
    },
    {
      "cell_type": "code",
      "source": [
        "# SAVE TABLE WITH NETWORK MEASURES IN FILE local_measures.csv\n",
        "# Remark . Execute only once to create the file\n",
        "\n",
        "local_measures.to_csv(path+'local_measures.csv', index = True, header = True)"
      ],
      "metadata": {
        "id": "awQy6AI99d0Q"
      },
      "execution_count": null,
      "outputs": []
    },
    {
      "cell_type": "code",
      "source": [
        "# CHECK\n",
        "\n",
        "local_measures = pd.read_csv(path+'local_measures.csv', sep=',')\n",
        "local_measures.head()"
      ],
      "metadata": {
        "id": "QWxq7I5hAm5d"
      },
      "execution_count": null,
      "outputs": []
    },
    {
      "cell_type": "markdown",
      "metadata": {
        "id": "bvpjeGCqAp_p"
      },
      "source": [
        "# Task 2 . Putative disease genes identification algorithms"
      ]
    },
    {
      "cell_type": "markdown",
      "source": [
        "## Set up"
      ],
      "metadata": {
        "id": "wIrmeN_095jx"
      }
    },
    {
      "cell_type": "code",
      "source": [
        "# STORE  THE INTERACTOME IN FILE PPI_Hypertensive.txt\n",
        "# Remark . Execute only once to create the file\n",
        "\n",
        "pairs_genes = list(LCC.edges)\n",
        "textfile = open(path+\"PPI_Hypertensive.txt\", \"w\")\n",
        "for gA, gB in tqdm(pairs_genes):\n",
        "  textfile.write(str(gA) + ',' + str(gB) + '\\n') \n",
        "textfile.close()"
      ],
      "metadata": {
        "id": "7GbbUbvh9oVt",
        "outputId": "9daadc15-2364-4449-dd8c-d421eb46c594",
        "colab": {
          "base_uri": "https://localhost:8080/"
        }
      },
      "execution_count": 12,
      "outputs": [
        {
          "output_type": "stream",
          "name": "stderr",
          "text": [
            "100%|██████████| 665061/665061 [00:00<00:00, 842064.40it/s]\n"
          ]
        }
      ]
    },
    {
      "cell_type": "code",
      "execution_count": 13,
      "metadata": {
        "id": "RTaEJXH56YHE"
      },
      "outputs": [],
      "source": [
        "# LOAD DATA\n",
        "\n",
        "# Dict with pair k,v where k is the index and v is the list of genes in the probe set\n",
        "with open(path+'Hypertensive disease_splits.json') as f:\n",
        "  dict_ = json.load(f)\n",
        "\n",
        "# import seed genes\n",
        "with open(path+'Hypertensive disease_seed_gene.txt') as f:\n",
        "  data = f.read()\n",
        "  seeds = ast.literal_eval(data)\n",
        "  seeds = np.asarray(seeds)     "
      ]
    },
    {
      "cell_type": "code",
      "source": [
        "# CHECK\n",
        "\n",
        "#dict_.items()"
      ],
      "metadata": {
        "id": "8rOxTqLtk3hV"
      },
      "execution_count": 14,
      "outputs": []
    },
    {
      "cell_type": "code",
      "source": [
        "# CHECK\n",
        "\n",
        "#print(type(dict_))\n",
        "#print(len(dict_[\"0\"]))"
      ],
      "metadata": {
        "id": "YjdJoinLk9bK"
      },
      "execution_count": 15,
      "outputs": []
    },
    {
      "cell_type": "code",
      "execution_count": 16,
      "metadata": {
        "colab": {
          "base_uri": "https://localhost:8080/"
        },
        "id": "Mkk1bjXU6s13",
        "outputId": "52b25d2c-48e4-4923-e763-14e8eb847241"
      },
      "outputs": [
        {
          "output_type": "stream",
          "name": "stdout",
          "text": [
            "0 ['ACT', 'CALR', 'PTEN', 'ATP1A2', 'WNK1', 'POMC', 'SOD3', 'NPPB', 'PRKG1', 'PRKCD', 'MC2R', 'ND6', 'NPHP1', 'B2M', 'MAFB', 'CYP17A1', 'IDUA', 'ATOX1', 'OXSR1', 'TGFB1', 'ITM2B', 'HSD11B2', 'CACNA1D', 'CACNA1C', 'SCNN1A', 'IKBKAP', 'TRNV', 'BBS7', 'CELA2A', 'IER3', 'TRIM32', 'GLA', 'ENPP1', 'MKS1', 'BMPR2', 'NPPA', 'LOX', 'FOXF1', 'ICAM1', 'MYLK', 'AGT', 'DUSP5', 'INVS', 'FOS', 'GSTT2', 'TNFRSF11B', 'ACVRL1', 'CPOX', 'FGFR2', 'EDNRA', 'IFT172', 'HP', 'NPTN', 'BBS9', 'INS', 'NPR1', 'ERAP1', 'SLC12A2']\n",
            "True\n",
            "1 ['NR3C1', 'STK39', 'HMBS', 'GSK3B', 'CAV1', 'CEP164', 'CYBB', 'SLC37A4', 'INPPL1', 'HSD11B1', 'SMAD3', 'TRH', 'GJA4', 'HMOX1', 'GUCY1A3', 'AGTR1', 'SMAD4', 'CALCA', 'F12', 'SH2B3', 'CLCNKA', 'PLIN1', 'KCNJ5', 'RET', 'TGFBR1', 'VHL', 'VAV3', 'ADRB1', 'CACNA2D1', 'ALMS1', 'CD36', 'UCN', 'CYP11B1', 'ADCY5', 'FMO3', 'CETP', 'GNAS', 'GNB3', 'PLG', 'APOE', 'BBS2', 'MMP9', 'LYZ', 'CMA1', 'PPP1R3A', 'UCP2', 'SERPINA6', 'SLC9A3R2', 'COL1A1', 'ABCB6', 'ELN', 'AR', 'COX3', 'FGA', 'TGM2', 'CUL3', 'JUN', 'VCAM1']\n",
            "True\n",
            "2 ['IFT27', 'TNF', 'CTGF', 'DRD2', 'LDLRAP1', 'RGS2', 'COL3A1', 'NOS3', 'TRPC5', 'IL1B', 'GSTA5', 'GSTT1', 'COX2', 'HRH3', 'PAX2', 'PDE3A', 'TGFB2', 'ZMPSTE24', 'NR3C2', 'HIF1A', 'WT1', 'KLK1', 'ADRA2A', 'APOB', 'GLP1R', 'SERPINE1', 'CAT', 'GJA5', 'NPHP3', 'TRNE', 'ND5', 'COL4A4', 'VDR', 'KLHL3', 'ATP1A1', 'GNRH1', 'CXCL2', 'ERCC8', 'SLC12A3', 'MYD88', 'EPO', 'SOD2', 'REN', 'MFAP5', 'IQCB1', 'TLR4', 'CYTB', 'ABCC1', 'MTOR', 'OLR1', 'ATP2B1', 'GCH1', 'BBS1', 'TIMP1', 'KCNJ1', 'MKKS', 'OFD1', 'CCL2']\n",
            "True\n",
            "3 ['FOXE3', 'NCF1', 'F11', 'MYH9', 'NME1', 'WDPCP', 'KNG1', 'UTS2', 'CRP', 'ALAD', 'KCNMB1', 'LZTFL1', 'SCNN1G', 'MMP2', 'STK11', 'TGFB3', 'RGS5', 'GJA1', 'JAK2', 'ERCC4', 'LMNA', 'AOC3', 'USP8', 'TPM1', 'AVP', 'EDN3', 'CYP21A2', 'CBS', 'AHR', 'SELP', 'OXT', 'AIP', 'PPBP', 'LEP', 'IL6', 'ALB', 'NEDD4L', 'LDLR', 'G6PC', 'ADD1', 'ND1', 'SCNN1B', 'STIM1', 'WNK4', 'TGFBR2', 'TRPC3', 'DYRK1B', 'ACE2', 'LTF', 'COX1', 'GPX1', 'NOS2', 'MDH1', 'GP1BA', 'PLAT', 'LEPR', 'FBN1', 'SOD1']\n",
            "True\n",
            "4 ['TP53', 'RELA', 'APOA1', 'BCL2', 'CYP1A1', 'TACR1', 'GAL', 'AGTR2', 'ACTA2', 'SDCCAG8', 'ERCC6', 'UMOD', 'ALOX15', 'PRKACA', 'PROC', 'ORAI1', 'GCG', 'GCLC', 'EDN1', 'NF1', 'GJC1', 'COL4A5', 'CD2AP', 'AOC1', 'IGF1', 'ITGA8', 'VWF', 'EGFR', 'BDKRB2', 'PTGS2', 'CYBA', 'SMARCAL1', 'PTH', 'FN1', 'THPO', 'ANXA1', 'HTR2B', 'LPL', 'ACE', 'AQP1', 'TRAF3IP1', 'SLC6A2', 'FXYD2', 'ATP2B3', 'ECE1', 'BBS4', 'MUC1', 'PDE8B', 'MYH11', 'CRHR2', 'RALBP1', 'LHB', 'PPARG', 'PRKAR1A', 'RPS6KB1', 'ADIPOQ', 'COL4A3', 'PPARA']\n",
            "True\n"
          ]
        }
      ],
      "source": [
        "# CROSS VALIDATION SPLITS INTO FILES \n",
        "# Remark . Execute only once to create the files\n",
        "\n",
        "for k,v in dict_.items():\n",
        "    print(k,v)\n",
        "\n",
        "    with open(path+'probeset{}.txt'.format(k),'w') as f:\n",
        "        for item in v:\n",
        "            f.write(\"%s,\" % item)   \n",
        "\n",
        "    l=list(set(seeds).difference(set(v))) \n",
        "    # check\n",
        "    # 58 is the probe set v\n",
        "    # therefore 290-58 has to be the training set l\n",
        "    print(len(l)==290-58)\n",
        " \n",
        "    with open(path+'cross{}.txt'.format(k),'w') as f:\n",
        "        for item in l:\n",
        "            f.write(\"%s\\n\" % item)\n",
        "    "
      ]
    },
    {
      "cell_type": "markdown",
      "metadata": {
        "id": "ZSzqx9nizFF5"
      },
      "source": [
        "## Evaluation of performances for DIAMOnD"
      ]
    },
    {
      "cell_type": "code",
      "source": [
        "# DIAMOnD ALGORITHM EVALUATION\n",
        "\n",
        "tot = 200\n",
        "\n",
        "!python3  DIAMOnD.py  PPI_Hypertensive.txt  cross0.txt  200 \"res0.txt\"\n",
        "m = AF.evaluation(tot, 58, \"DIAMOnD\",0)\n",
        "print(m)\n",
        "\n",
        "!python3  DIAMOnD.py  PPI_Hypertensive.txt  cross1.txt  200 \"res1.txt\"\n",
        "m = AF.evaluation(tot, 58, \"DIAMOnD\",1)\n",
        "print(m)\n",
        "\n",
        "!python3  DIAMOnD.py  PPI_Hypertensive.txt  cross2.txt  200 \"res2.txt\"\n",
        "m = AF.evaluation(tot, 58, \"DIAMOnD\",2)  \n",
        "print(m)\n",
        "\n",
        "\n",
        "!python3  DIAMOnD.py  PPI_Hypertensive.txt  cross3.txt  200 \"res3.txt\"\n",
        "m = AF.evaluation(tot, 58, \"DIAMOnD\",3)  \n",
        "print(m)\n",
        "\n",
        "\n",
        "!python3  DIAMOnD.py  PPI_Hypertensive.txt  cross4.txt  200 \"res4.txt\"\n",
        "m = AF.evaluation(tot, 58, \"DIAMOnD\",4)  \n",
        "print(m)"
      ],
      "metadata": {
        "id": "u_yzJnvRi6t9",
        "colab": {
          "base_uri": "https://localhost:8080/"
        },
        "outputId": "59cc7736-af53-4795-f1e4-1e8d0856e92f"
      },
      "execution_count": null,
      "outputs": [
        {
          "output_type": "stream",
          "name": "stdout",
          "text": [
            "\n",
            " results have been saved to 'res0.txt' \n",
            "\n",
            "{'PTEN'}\n",
            "{'recall': [0.017], 'precision': [0.005], 'F1 Score': [0.008]}\n",
            "\n",
            " results have been saved to 'res1.txt' \n",
            "\n",
            "{'GSK3B', 'VCAM1', 'CAV1', 'AR'}\n",
            "{'recall': [0.069], 'precision': [0.02], 'F1 Score': [0.031]}\n",
            "\n",
            " results have been saved to 'res2.txt' \n",
            "\n",
            "{'HIF1A'}\n",
            "{'recall': [0.017], 'precision': [0.005], 'F1 Score': [0.008]}\n",
            "\n",
            " results have been saved to 'res3.txt' \n",
            "\n",
            "{'AHR'}\n",
            "{'recall': [0.017], 'precision': [0.005], 'F1 Score': [0.008]}\n",
            "\n",
            " results have been saved to 'res4.txt' \n",
            "\n",
            "{'RELA', 'EGFR', 'TP53', 'BBS4'}\n",
            "{'recall': [0.069], 'precision': [0.02], 'F1 Score': [0.031]}\n"
          ]
        }
      ]
    },
    {
      "cell_type": "markdown",
      "source": [
        "#### Check"
      ],
      "metadata": {
        "id": "bd6HBRBy-w9o"
      }
    },
    {
      "cell_type": "code",
      "source": [
        "#curated_gene_desease_association_DF = pd.read_csv(\"curated_gene_disease_associations.tsv\", sep = '\\t', compression = 'infer')\n",
        "#disease_DF = curated_gene_desease_association_DF.loc[curated_gene_desease_association_DF['diseaseId'] == 'C0020538']"
      ],
      "metadata": {
        "id": "yOpOSET6IqVp"
      },
      "execution_count": null,
      "outputs": []
    },
    {
      "cell_type": "code",
      "source": [
        "#print(\"List of gene symbols:\\n\", *list(disease_DF['geneSymbol']))\n",
        "#seed_genes_symbols = list(disease_DF['geneSymbol'])"
      ],
      "metadata": {
        "id": "8j2x9zXSJi6A"
      },
      "execution_count": null,
      "outputs": []
    },
    {
      "cell_type": "code",
      "source": [
        "#len(set(list(LCC.nodes())).intersection(set(seed_genes_symbols)))"
      ],
      "metadata": {
        "id": "6C4Wysl7Ku1l"
      },
      "execution_count": null,
      "outputs": []
    },
    {
      "cell_type": "markdown",
      "source": [
        "## Evaluation of performances for DIaBLE"
      ],
      "metadata": {
        "id": "NSeWa0G8-p_g"
      }
    },
    {
      "cell_type": "code",
      "source": [
        "# DIaBLE ALGORITHM EVALUATION\n",
        "\n",
        "#..."
      ],
      "metadata": {
        "id": "mfOO23sAKB1Y"
      },
      "execution_count": null,
      "outputs": []
    },
    {
      "cell_type": "markdown",
      "source": [
        "## Evaluation of performances for Diffusion"
      ],
      "metadata": {
        "id": "C_a_j5iXFARy"
      }
    },
    {
      "cell_type": "markdown",
      "source": [
        "### Diffusion algorithm"
      ],
      "metadata": {
        "id": "-mG6vm0H9nej"
      }
    },
    {
      "cell_type": "code",
      "source": [
        "# CREATE CX OBJECT FROM NETWORK\n",
        "\n",
        "#CX = nx.cytoscape_data(LCC) \n",
        "CX = ndex2.create_nice_cx_from_networkx(LCC).to_cx()"
      ],
      "metadata": {
        "id": "96tTbAIfGPgc",
        "outputId": "2a522fcd-6036-402c-a398-8b5664c20231",
        "colab": {
          "base_uri": "https://localhost:8080/"
        }
      },
      "execution_count": 17,
      "outputs": [
        {
          "output_type": "stream",
          "name": "stdout",
          "text": [
            "Generating CX\n"
          ]
        }
      ]
    },
    {
      "cell_type": "code",
      "source": [
        "#nice_cx_net = ndex2.create_nice_cx_from_server(server='http://public.ndexbio.org',\n",
        "#                                               uuid='c0e70804-d848-11e6-86b1-0ac135e8bacf')\n",
        "\n",
        "nice_cx_net = ndex2.create_nice_cx_from_raw_cx(CX)"
      ],
      "metadata": {
        "id": "oPBSNeWmFWQi"
      },
      "execution_count": 18,
      "outputs": []
    },
    {
      "cell_type": "code",
      "source": [
        "# CHECK\n",
        "\n",
        "print(nice_cx_net)"
      ],
      "metadata": {
        "id": "IPxDGaQVFWN8",
        "outputId": "ef41f44e-99e2-447d-da63-ffc4f7744fd2",
        "colab": {
          "base_uri": "https://localhost:8080/"
        }
      },
      "execution_count": 19,
      "outputs": [
        {
          "output_type": "stream",
          "name": "stdout",
          "text": [
            "nodes: 19618 \n",
            " edges: 665061\n"
          ]
        }
      ]
    },
    {
      "cell_type": "code",
      "source": [
        "# CHECK\n",
        "# Remark . Remove break to have the complete (very long) list\n",
        "\n",
        "for nodeid, nodeobj in nice_cx_net.get_nodes():\n",
        "    nice_cx_net.remove_node_attribute(node=nodeid, attribute_name='diffusion_input')\n",
        "    nice_cx_net.set_node_attribute(type='double', node=nodeid, attribute_name='diffusion_input', values='1.0')\n",
        "    print(nice_cx_net.get_node_attribute(nodeid,'diffusion_input'))\n",
        "    break"
      ],
      "metadata": {
        "id": "RNH_XFPTFWK0",
        "outputId": "69aaedf3-d038-418d-8eec-81f891c44371",
        "colab": {
          "base_uri": "https://localhost:8080/"
        }
      },
      "execution_count": 20,
      "outputs": [
        {
          "output_type": "stream",
          "name": "stdout",
          "text": [
            "{'po': 0, 'n': 'diffusion_input', 'v': '1.0', 'd': 'double'}\n"
          ]
        }
      ]
    },
    {
      "cell_type": "code",
      "source": [
        "# CALL THE DIFFUSION SERVICE\n",
        "# Remark . This cell takes some time to run...\n",
        "\n",
        "url = 'http://v3.heat-diffusion.cytoscape.io'\n",
        "payload = nice_cx_net.to_cx()\n",
        "for p in payload:\n",
        "    k = list(p.keys())[0]\n",
        "    if 'Attributes' in k:\n",
        "        for i in range(len(p[k])):\n",
        "            p[k][i]['v'] = str(p[k][i]['v'])\n",
        "response = requests.post(url, json=payload)"
      ],
      "metadata": {
        "id": "slTdYnVLFWA7",
        "outputId": "a5b28d46-26a8-40fd-9806-64161b33b40f",
        "colab": {
          "base_uri": "https://localhost:8080/"
        }
      },
      "execution_count": 21,
      "outputs": [
        {
          "output_type": "stream",
          "name": "stdout",
          "text": [
            "Generating CX\n"
          ]
        }
      ]
    },
    {
      "cell_type": "code",
      "source": [
        "# GET DIFFUSION RESULTS\n",
        "# Remark . The data dictionary in the json response response.json()['data'] is a dictionary \n",
        "#          that contains CX formatted data with results of diffussion.\n",
        "\n",
        "for aspect in response.json()['data']:\n",
        "    if 'nodeAttributes' not in aspect:\n",
        "        continue\n",
        "    for n_attr in aspect['nodeAttributes']:\n",
        "        if n_attr['n'] == 'diffusion_output_rank' or n_attr['n'] == 'diffusion_output_heat':\n",
        "            if n_attr['d'] == 'float':\n",
        "                n_type = 'double'\n",
        "            else:\n",
        "                n_type = n_attr['d']\n",
        "            nice_cx_net.add_node_attribute(property_of=int(n_attr['po']),\n",
        "                                 name=n_attr['n'],\n",
        "                                 values=n_attr['v'],\n",
        "                                 type=n_type)"
      ],
      "metadata": {
        "id": "ONNwMzwCHzrh"
      },
      "execution_count": 22,
      "outputs": []
    },
    {
      "cell_type": "code",
      "source": [
        "# OUTPUT BEST RESULTS FROM DIFFUSION\n",
        "\n",
        "nos = []\n",
        "for node_id, node in nice_cx_net.get_nodes():\n",
        "    rank = nice_cx_net.get_node_attribute_value(node_id, 'diffusion_output_rank')\n",
        "    if int(rank) < 10:\n",
        "        node['diffusion_output_rank'] = rank\n",
        "        heat = nice_cx_net.get_node_attribute_value(node_id, 'diffusion_output_heat')\n",
        "        node['diffusion_output_heat'] = float(heat)\n",
        "        nos.append(node)\n",
        "\n",
        "# sort the result\n",
        "nos = sorted(nos, key=lambda k: k['diffusion_output_rank'])       \n",
        "nos"
      ],
      "metadata": {
        "id": "DHqaPdy2H15M",
        "outputId": "5362aa29-65f4-43d0-8d63-c319aac87450",
        "colab": {
          "base_uri": "https://localhost:8080/"
        }
      },
      "execution_count": 23,
      "outputs": [
        {
          "output_type": "execute_result",
          "data": {
            "text/plain": [
              "[{'@id': 17324,\n",
              "  'n': 'KTI12',\n",
              "  'diffusion_output_rank': '0',\n",
              "  'diffusion_output_heat': 0.012282198238729582},\n",
              " {'@id': 0,\n",
              "  'n': 'MAP2K4',\n",
              "  'diffusion_output_rank': '1',\n",
              "  'diffusion_output_heat': 0.00761126646420888},\n",
              " {'@id': 7744,\n",
              "  'n': 'TNFAIP8L1',\n",
              "  'diffusion_output_rank': '2',\n",
              "  'diffusion_output_heat': 0.005555268233717349},\n",
              " {'@id': 16532,\n",
              "  'n': 'CYLC2',\n",
              "  'diffusion_output_rank': '3',\n",
              "  'diffusion_output_heat': 0.005427491891379121},\n",
              " {'@id': 149,\n",
              "  'n': 'MAP3K8',\n",
              "  'diffusion_output_rank': '4',\n",
              "  'diffusion_output_heat': 0.004390518912032185},\n",
              " {'@id': 2961,\n",
              "  'n': 'FBP2',\n",
              "  'diffusion_output_rank': '5',\n",
              "  'diffusion_output_heat': 0.003574010325371949},\n",
              " {'@id': 2372,\n",
              "  'n': 'MAP3K10',\n",
              "  'diffusion_output_rank': '6',\n",
              "  'diffusion_output_heat': 0.003214825050752872},\n",
              " {'@id': 7146,\n",
              "  'n': 'ALDOB',\n",
              "  'diffusion_output_rank': '7',\n",
              "  'diffusion_output_heat': 0.0021691145593946064},\n",
              " {'@id': 3698,\n",
              "  'n': 'MAP3K11',\n",
              "  'diffusion_output_rank': '8',\n",
              "  'diffusion_output_heat': 0.0014143909748346836},\n",
              " {'@id': 3446,\n",
              "  'n': 'BLNK',\n",
              "  'diffusion_output_rank': '9',\n",
              "  'diffusion_output_heat': 0.0013379299400804608}]"
            ]
          },
          "metadata": {},
          "execution_count": 23
        }
      ]
    },
    {
      "cell_type": "code",
      "source": [
        "# THE RESULTS HAVE BEEN SAVED IN THE FOLLOWING txt FILE\n",
        "\n",
        "data=pd.read_csv('diff_res.txt'.format(i),sep='\\t')"
      ],
      "metadata": {
        "id": "CoTSq0ShLDRY"
      },
      "execution_count": 33,
      "outputs": []
    },
    {
      "cell_type": "code",
      "source": [
        "# SORTING\n",
        "data=data.sort_values(by='diffusion_output_heat',ascending=False)\n",
        "print(data)"
      ],
      "metadata": {
        "id": "OfPKQecJNp2w",
        "outputId": "c702229c-86fb-44f4-97c3-5a8c285248bf",
        "colab": {
          "base_uri": "https://localhost:8080/"
        }
      },
      "execution_count": 43,
      "outputs": [
        {
          "output_type": "stream",
          "name": "stdout",
          "text": [
            "   #rank       name  diffusion_output_heat\n",
            "0      0      KTI12               0.012282\n",
            "1      1     MAP2K4               0.007611\n",
            "2      2  TNFAIP8L1               0.005555\n",
            "3      3      CYLC2               0.005427\n",
            "4      4     MAP3K8               0.004391\n",
            "5      5       FBP2               0.003574\n",
            "6      6    MAP3K10               0.003215\n",
            "7      7      ALDOB               0.002169\n",
            "8      9    MAP3K11               0.001414\n",
            "9     10       BLNK               0.001338\n"
          ]
        }
      ]
    },
    {
      "cell_type": "markdown",
      "source": [
        "### Evaluation"
      ],
      "metadata": {
        "id": "JLea6W4HVDwS"
      }
    },
    {
      "cell_type": "code",
      "source": [
        "# AUXILIARY FUNCTIONS TO PUT IN FILE auxiliary_functions.py\n",
        "\n",
        "def D_evaluation(top_n, disease_dict, DGA=DGA_all, data=data):\n",
        "    \n",
        "    recall_=[]\n",
        "    f1_score_=[]\n",
        "    precision_=[]\n",
        "\n",
        "    recall_all=[]\n",
        "    f1_score_all=[]\n",
        "    precision_all=[]\n",
        "    \n",
        "\n",
        "    all_DGA=set(DGA[DGA['diseaseName'] == 'Hypertensive disease'].geneId)\n",
        "\n",
        "    for i in range(5):\n",
        "        ids=DGA[DGA.geneSymbol.isin(dict_[str(i)])].geneId.tolist()\n",
        "        probe_length=len(ids)\n",
        "        new=data[0:top_n]\n",
        "\n",
        "        num=len(set(new).intersection(ids))\n",
        "        pre=num/top_n\n",
        "        precision_.append(pre)\n",
        "        rec=num/len(ids)\n",
        "        recall_.append(rec)\n",
        "        f1=2*(pre*rec)/(pre+rec+0.0001)\n",
        "        f1_score_.append(f1)\n",
        "\n",
        "        TP=set(new).intersection(ids)\n",
        "        FP=[x for x in new if x not in ids]\n",
        "        FP=FP[:len(ids)]\n",
        "\n",
        "        num=len(set(FP).intersection(all_DGA))\n",
        "        pre=num/len(FP)\n",
        "        rec=num/len(all_DGA)\n",
        "        f1=2*(pre*rec)/(pre+rec+0.0001)\n",
        "        precision_all.append(pre)\n",
        "        recall_all.append(rec)\n",
        "        f1_score_all.append(f1)\n",
        "    \n",
        "\n",
        "    disease_dict['precision']['std_valid'][str(top_n)]={}\n",
        "    disease_dict['precision']['std_valid'][str(top_n)]['mean']=np.average(precision_)\n",
        "    disease_dict['precision']['std_valid'][str(top_n)]['sd']=np.std(precision_)\n",
        "\n",
        "    disease_dict['recall']['std_valid'][str(top_n)]={}\n",
        "    disease_dict['recall']['std_valid'][str(top_n)]['mean']=np.average(recall_)\n",
        "    disease_dict['recall']['std_valid'][str(top_n)]['sd']=np.std(recall_)\n",
        "\n",
        "    disease_dict['f1_score']['std_valid'][str(top_n)]={}\n",
        "    disease_dict['f1_score']['std_valid'][str(top_n)]['mean']=np.average(f1_score_)\n",
        "    disease_dict['f1_score']['std_valid'][str(top_n)]['sd']=np.std(f1_score_)\n",
        "\n",
        "    disease_dict['precision']['ext_valid'][str(top_n)]={}\n",
        "    disease_dict['precision']['ext_valid'][str(top_n)]['mean']=np.average(precision_all)\n",
        "    disease_dict['precision']['ext_valid'][str(top_n)]['sd']=np.std(precision_all)\n",
        "\n",
        "    disease_dict['recall']['ext_valid'][str(top_n)]={}\n",
        "    disease_dict['recall']['ext_valid'][str(top_n)]['mean']=np.average(recall_all)\n",
        "    disease_dict['recall']['ext_valid'][str(top_n)]['sd']=np.std(recall_all)\n",
        "\n",
        "    disease_dict['f1_score']['ext_valid'][str(top_n)]={}\n",
        "    disease_dict['f1_score']['ext_valid'][str(top_n)]['mean']=np.average(f1_score_all)\n",
        "    disease_dict['f1_score']['ext_valid'][str(top_n)]['sd']=np.std(f1_score_all)"
      ],
      "metadata": {
        "id": "sZXn_7-I9nEA"
      },
      "execution_count": 47,
      "outputs": []
    },
    {
      "cell_type": "code",
      "source": [
        "# INITIALIZATION BEFORE DIFFUSION EVALUATION\n",
        "\n",
        "Pre_con_diffusion_results={}\n",
        "Pre_con_diffusion_results['precision']={}\n",
        "Pre_con_diffusion_results['recall']={}\n",
        "Pre_con_diffusion_results['f1_score']={}\n",
        "\n",
        "for i in Pre_con_diffusion_results.keys():\n",
        "    Pre_con_diffusion_results[i]['std_valid']={}\n",
        "    Pre_con_diffusion_results[i]['ext_valid']={}\n"
      ],
      "metadata": {
        "id": "3voGYgPn9wVO"
      },
      "execution_count": 48,
      "outputs": []
    },
    {
      "cell_type": "code",
      "source": [
        "# CHECK\n",
        "for size in [100,250,500,1000]:\n",
        "    D_evaluation(size,Pre_con_diffusion_results)"
      ],
      "metadata": {
        "id": "dtrMfNlnMXlj"
      },
      "execution_count": 49,
      "outputs": []
    },
    {
      "cell_type": "code",
      "source": [
        "# DIFFUSION ALGORITHM EVALUATION \n",
        "\n",
        "for size in [100,250,500,1000]:\n",
        "    AF.D_evaluation(size,Pre_con_diffusion_results)"
      ],
      "metadata": {
        "id": "CwisMyCxP-jg"
      },
      "execution_count": null,
      "outputs": []
    },
    {
      "cell_type": "code",
      "source": [
        "# DISPLAY THE RESULTS\n",
        "\n",
        "AF.display_dict(Pre_con_diffusion_results) ##<<---------- ?? -----------------\n"
      ],
      "metadata": {
        "id": "k-xnk2eL9k8p",
        "outputId": "2c61e1d7-0599-47a4-efdb-c8ae31132670",
        "colab": {
          "base_uri": "https://localhost:8080/"
        }
      },
      "execution_count": 50,
      "outputs": [
        {
          "output_type": "stream",
          "name": "stdout",
          "text": [
            "{\n",
            "     precision : {\n",
            "         std_valid : {\n",
            "             100 : {\n",
            "                 mean : 0.0\n",
            "                 sd : 0.0\n",
            "             }\n",
            "             250 : {\n",
            "                 mean : 0.0\n",
            "                 sd : 0.0\n",
            "             }\n",
            "             500 : {\n",
            "                 mean : 0.0\n",
            "                 sd : 0.0\n",
            "             }\n",
            "             1000 : {\n",
            "                 mean : 0.0\n",
            "                 sd : 0.0\n",
            "             }\n",
            "         }\n",
            "         ext_valid : {\n",
            "             100 : {\n",
            "                 mean : 0.0\n",
            "                 sd : 0.0\n",
            "             }\n",
            "             250 : {\n",
            "                 mean : 0.0\n",
            "                 sd : 0.0\n",
            "             }\n",
            "             500 : {\n",
            "                 mean : 0.0\n",
            "                 sd : 0.0\n",
            "             }\n",
            "             1000 : {\n",
            "                 mean : 0.0\n",
            "                 sd : 0.0\n",
            "             }\n",
            "         }\n",
            "     }\n",
            "     recall : {\n",
            "         std_valid : {\n",
            "             100 : {\n",
            "                 mean : 0.0\n",
            "                 sd : 0.0\n",
            "             }\n",
            "             250 : {\n",
            "                 mean : 0.0\n",
            "                 sd : 0.0\n",
            "             }\n",
            "             500 : {\n",
            "                 mean : 0.0\n",
            "                 sd : 0.0\n",
            "             }\n",
            "             1000 : {\n",
            "                 mean : 0.0\n",
            "                 sd : 0.0\n",
            "             }\n",
            "         }\n",
            "         ext_valid : {\n",
            "             100 : {\n",
            "                 mean : 0.0\n",
            "                 sd : 0.0\n",
            "             }\n",
            "             250 : {\n",
            "                 mean : 0.0\n",
            "                 sd : 0.0\n",
            "             }\n",
            "             500 : {\n",
            "                 mean : 0.0\n",
            "                 sd : 0.0\n",
            "             }\n",
            "             1000 : {\n",
            "                 mean : 0.0\n",
            "                 sd : 0.0\n",
            "             }\n",
            "         }\n",
            "     }\n",
            "     f1_score : {\n",
            "         std_valid : {\n",
            "             100 : {\n",
            "                 mean : 0.0\n",
            "                 sd : 0.0\n",
            "             }\n",
            "             250 : {\n",
            "                 mean : 0.0\n",
            "                 sd : 0.0\n",
            "             }\n",
            "             500 : {\n",
            "                 mean : 0.0\n",
            "                 sd : 0.0\n",
            "             }\n",
            "             1000 : {\n",
            "                 mean : 0.0\n",
            "                 sd : 0.0\n",
            "             }\n",
            "         }\n",
            "         ext_valid : {\n",
            "             100 : {\n",
            "                 mean : 0.0\n",
            "                 sd : 0.0\n",
            "             }\n",
            "             250 : {\n",
            "                 mean : 0.0\n",
            "                 sd : 0.0\n",
            "             }\n",
            "             500 : {\n",
            "                 mean : 0.0\n",
            "                 sd : 0.0\n",
            "             }\n",
            "             1000 : {\n",
            "                 mean : 0.0\n",
            "                 sd : 0.0\n",
            "             }\n",
            "         }\n",
            "     }\n",
            "}\n"
          ]
        }
      ]
    },
    {
      "cell_type": "markdown",
      "source": [
        "# Task 3 Putative disease genes identification"
      ],
      "metadata": {
        "id": "Oq9An17UPDqY"
      }
    },
    {
      "cell_type": "markdown",
      "source": [
        "## Set up"
      ],
      "metadata": {
        "id": "zlRRy2JCPfnk"
      }
    },
    {
      "cell_type": "code",
      "source": [
        "# IN ORDER TO USE nx.to_scipy_sparse_matrix THE PROPER VERSION OF networkx IS NEEDED\n",
        "# IF NEEDED UNINSTALL IT AND REINSTALL THE CORRECT VERSION\n",
        "# Remark . Sometimes it is needed to restart the kernel to apply these changes\n",
        "\n",
        "#%pip uninstall networkx\n",
        "#%pip install networkx==2.3"
      ],
      "metadata": {
        "id": "O8FzF8mcP3bg"
      },
      "execution_count": null,
      "outputs": []
    },
    {
      "cell_type": "code",
      "source": [
        "# IMPORT \n",
        "\n",
        "#import networkx as nx"
      ],
      "metadata": {
        "id": "vhiWoX6QRZ2q"
      },
      "execution_count": null,
      "outputs": []
    },
    {
      "cell_type": "code",
      "source": [
        "# GRAPH\n",
        "\n",
        "G = LCC"
      ],
      "metadata": {
        "id": "OY0pLDHoPe2m"
      },
      "execution_count": 12,
      "outputs": []
    },
    {
      "cell_type": "markdown",
      "source": [
        "## MCL"
      ],
      "metadata": {
        "id": "X2zIUbi_Va9b"
      }
    },
    {
      "cell_type": "code",
      "source": [
        "# CLUSTERS\n",
        "\n",
        "result = mc.run_mcl(nx.to_scipy_sparse_matrix(G))           \n",
        "clusters = mc.get_clusters(result) "
      ],
      "metadata": {
        "id": "7zN33HC4PDPk"
      },
      "execution_count": 13,
      "outputs": []
    },
    {
      "cell_type": "code",
      "source": [
        "# PLOT\n",
        "# Remark . This cell takes a while to run...\n",
        "\n",
        "#mc.draw_graph(nx.to_scipy_sparse_matrix(G), clusters, node_size=10, with_labels=False, edge_color=\"silver\")"
      ],
      "metadata": {
        "id": "GoMQ5n_ZPVfh"
      },
      "execution_count": 15,
      "outputs": []
    },
    {
      "cell_type": "code",
      "source": [
        "# CLUSTERING WITH DIFFERENT INFLATION VALUES AND MODULARITY COMPUTATION\n",
        "# Remark . This cell takes a while to run...\n",
        "# Remark . A standard RAM cannot usually carry out the computation\n",
        "\n",
        "matrix = nx.to_scipy_sparse_matrix(G)\n",
        "\n",
        "for inflation in [i / 10 for i in range(15, 26)]:\n",
        "    result = mc.run_mcl(matrix, inflation=inflation)\n",
        "    clusters = mc.get_clusters(result)\n",
        "    Q = mc.modularity(matrix=result, clusters=clusters)\n",
        "    print(\"inflation:\", inflation, \"modularity:\", Q)"
      ],
      "metadata": {
        "id": "bqu2_itqSAwt"
      },
      "execution_count": null,
      "outputs": []
    },
    {
      "cell_type": "code",
      "source": [
        "# KEEP CLUSTERS WITH AT LEAST 10 GENES\n",
        "\n",
        "big_clusters = []\n",
        "for module in clusters:\n",
        "    if len(module) >= 10:\n",
        "        big_clusters.append(module)\n",
        "print(len(clusters), len(big_clusters))"
      ],
      "metadata": {
        "id": "kju9wDIBSKRk"
      },
      "execution_count": null,
      "outputs": []
    },
    {
      "cell_type": "code",
      "source": [
        "# DICTIONARY WITH MAPPING Ids-->Names\n",
        "\n",
        "val = range(G.number_of_nodes())\n",
        "names = list(G.nodes())\n",
        "dic = dict(zip(val, names))"
      ],
      "metadata": {
        "id": "1X6OhdOrSP8k"
      },
      "execution_count": null,
      "outputs": []
    },
    {
      "cell_type": "code",
      "source": [
        "# RUN hypergeometric test TO FIND MODULES WITH OVER-REPRESENTED GENES\n",
        "\n",
        "putative_desease_modules = []\n",
        "M = G.number_of_nodes()  \n",
        "n = len(seeds) \n",
        "p_val_list = []\n",
        "for module in big_clusters:\n",
        "    # number of draws (number of genes in the given cluster)\n",
        "    N = len(module) \n",
        "    x = len(set(seeds).intersection(set(dic[g] for g in module)))\n",
        "    p_val = hypergeom.sf(x-1, M, n, N)\n",
        "    if p_val < 0.05:\n",
        "        putative_desease_modules.append(module)\n",
        "        p_val_list.append(p_val)"
      ],
      "metadata": {
        "id": "Z-dI-uSeSW-m"
      },
      "execution_count": null,
      "outputs": []
    }
  ],
  "metadata": {
    "accelerator": "GPU",
    "colab": {
      "provenance": [],
      "include_colab_link": true
    },
    "gpuClass": "standard",
    "kernelspec": {
      "display_name": "Python 3 (ipykernel)",
      "language": "python",
      "name": "python3"
    },
    "language_info": {
      "codemirror_mode": {
        "name": "ipython",
        "version": 3
      },
      "file_extension": ".py",
      "mimetype": "text/x-python",
      "name": "python",
      "nbconvert_exporter": "python",
      "pygments_lexer": "ipython3",
      "version": "3.9.13"
    }
  },
  "nbformat": 4,
  "nbformat_minor": 0
}