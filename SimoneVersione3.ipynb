{
  "cells": [
    {
      "cell_type": "markdown",
      "metadata": {
        "id": "view-in-github"
      },
      "source": [
        "<a href=\"https://colab.research.google.com/github/leonardoLavagna/Drug-repurposing/blob/main/BI_LeoL_v7.ipynb\" target=\"_parent\"><img src=\"https://colab.research.google.com/assets/colab-badge.svg\" alt=\"Open In Colab\"/></a>"
      ]
    },
    {
      "cell_type": "markdown",
      "metadata": {
        "id": "MB2jks_equ2c"
      },
      "source": [
        "## Set Up"
      ]
    },
    {
      "cell_type": "markdown",
      "source": [
        "Before anything else remeber to:\n",
        "\n",
        "\n",
        "1.   When using Google Colab collect all the needed files inside the folder BI-Data in your Google Drive.\n",
        "2.   When using colab upload the auxiliary functions in the 'content' directory.\n",
        "\n"
      ],
      "metadata": {
        "id": "nkGG3DRvDH3K"
      }
    },
    {
      "cell_type": "code",
      "execution_count": 1,
      "metadata": {
        "id": "cOkMPGHjo7_w",
        "colab": {
          "base_uri": "https://localhost:8080/"
        },
        "outputId": "5fedb479-1d7a-433d-e8bc-deb48f882346"
      },
      "outputs": [
        {
          "output_type": "stream",
          "name": "stdout",
          "text": [
            "Mounted at /content/drive\n"
          ]
        }
      ],
      "source": [
        "# ASSIGN colab = True WHEN USING GOOGLE COLAB\n",
        "\n",
        "import os\n",
        "colab=True\n",
        "if colab:\n",
        "    from google.colab import drive\n",
        "    drive.mount('/content/drive',force_remount=True)\n",
        "    os.chdir('/content/drive/MyDrive/BI-Data/')"
      ]
    },
    {
      "cell_type": "code",
      "execution_count": 2,
      "metadata": {
        "id": "IyBEndFwwnwH",
        "colab": {
          "base_uri": "https://localhost:8080/"
        },
        "outputId": "7f24914c-98d8-4700-f4e9-a026d38fda2b"
      },
      "outputs": [
        {
          "output_type": "stream",
          "name": "stdout",
          "text": [
            "fatal: destination path 'DiaBLE' already exists and is not an empty directory.\n",
            "fatal: destination path 'DIAMOnD' already exists and is not an empty directory.\n"
          ]
        }
      ],
      "source": [
        "!git clone https://github.com/dinaghiassian/DIAMOnD DiaBLE\n",
        "!git clone https://github.com/dinaghiassian/DIAMOnD"
      ]
    },
    {
      "cell_type": "code",
      "execution_count": 3,
      "metadata": {
        "id": "xp0LQsv8kGTW",
        "colab": {
          "base_uri": "https://localhost:8080/"
        },
        "outputId": "8f723480-c1b8-4846-8329-2779210154c8"
      },
      "outputs": [
        {
          "output_type": "stream",
          "name": "stdout",
          "text": [
            "Looking in indexes: https://pypi.org/simple, https://us-python.pkg.dev/colab-wheels/public/simple/\n",
            "Collecting markov_clustering\n",
            "  Downloading markov_clustering-0.0.6.dev0-py3-none-any.whl (6.3 kB)\n",
            "Requirement already satisfied: numpy in /usr/local/lib/python3.8/dist-packages (from markov_clustering) (1.21.6)\n",
            "Requirement already satisfied: scikit-learn in /usr/local/lib/python3.8/dist-packages (from markov_clustering) (1.0.2)\n",
            "Requirement already satisfied: scipy>=0.19.0 in /usr/local/lib/python3.8/dist-packages (from markov_clustering) (1.7.3)\n",
            "Requirement already satisfied: threadpoolctl>=2.0.0 in /usr/local/lib/python3.8/dist-packages (from scikit-learn->markov_clustering) (3.1.0)\n",
            "Requirement already satisfied: joblib>=0.11 in /usr/local/lib/python3.8/dist-packages (from scikit-learn->markov_clustering) (1.2.0)\n",
            "Installing collected packages: markov_clustering\n",
            "Successfully installed markov_clustering-0.0.6.dev0\n",
            "Looking in indexes: https://pypi.org/simple, https://us-python.pkg.dev/colab-wheels/public/simple/\n",
            "Requirement already satisfied: networkx in /usr/local/lib/python3.8/dist-packages (2.8.8)\n",
            "Looking in indexes: https://pypi.org/simple, https://us-python.pkg.dev/colab-wheels/public/simple/\n",
            "Requirement already satisfied: scipy in /usr/local/lib/python3.8/dist-packages (1.7.3)\n",
            "Collecting scipy\n",
            "  Downloading scipy-1.10.0-cp38-cp38-manylinux_2_17_x86_64.manylinux2014_x86_64.whl (34.5 MB)\n",
            "\u001b[2K     \u001b[90m━━━━━━━━━━━━━━━━━━━━━━━━━━━━━━━━━━━━━━━━\u001b[0m \u001b[32m34.5/34.5 MB\u001b[0m \u001b[31m45.9 MB/s\u001b[0m eta \u001b[36m0:00:00\u001b[0m\n",
            "\u001b[?25hRequirement already satisfied: numpy<1.27.0,>=1.19.5 in /usr/local/lib/python3.8/dist-packages (from scipy) (1.21.6)\n",
            "Installing collected packages: scipy\n",
            "  Attempting uninstall: scipy\n",
            "    Found existing installation: scipy 1.7.3\n",
            "    Uninstalling scipy-1.7.3:\n",
            "      Successfully uninstalled scipy-1.7.3\n",
            "Successfully installed scipy-1.10.0\n"
          ]
        }
      ],
      "source": [
        "#https://github.com/GuyAllard/markov_clustering\n",
        "%pip install markov_clustering \n",
        "%pip install networkx --upgrade\n",
        "%pip install scipy --upgrade"
      ]
    },
    {
      "cell_type": "code",
      "execution_count": 4,
      "metadata": {
        "id": "nVfF8_rdk1uA"
      },
      "outputs": [],
      "source": [
        "# DIRECTORY TREE\n",
        "# Change according to your file system\n",
        "# This path should be the same used in the auxiliary_funtions module\n",
        "# Remark . When using Google Colab remember that the path as been changed to \n",
        "# /content/drive/MyDrive/BI-Data/ \n",
        "\n",
        "path = '/content/drive/MyDrive/BI-Data/'"
      ]
    },
    {
      "cell_type": "markdown",
      "metadata": {
        "id": "L_Mop6zIArHG"
      },
      "source": [
        "### Libraries"
      ]
    },
    {
      "cell_type": "code",
      "execution_count": 5,
      "metadata": {
        "id": "4gea7gDcqpFo"
      },
      "outputs": [],
      "source": [
        "import re\n",
        "import csv\n",
        "import random\n",
        "import json\n",
        "import ast\n",
        "import sys\n",
        "import statistics\n",
        "import auxiliary_functions as AF\n",
        "import pandas as pd\n",
        "import networkx as nx\n",
        "import matplotlib.pyplot as plt\n",
        "import numpy as np\n",
        "import markov_clustering as mc\n",
        "from tqdm import tqdm\n",
        "from scipy.stats import hypergeom\n",
        "from sklearn.model_selection import train_test_split"
      ]
    },
    {
      "cell_type": "code",
      "source": [
        "!ls"
      ],
      "metadata": {
        "colab": {
          "base_uri": "https://localhost:8080/"
        },
        "id": "EMhZ794RhPRh",
        "outputId": "db129221-0ad4-42d4-bc01-a3baf5768ccf"
      },
      "execution_count": null,
      "outputs": [
        {
          "output_type": "stream",
          "name": "stdout",
          "text": [
            " auxiliary_functions.py\n",
            " BIOGRID-ORGANISM-Homo_sapiens-4.4.204.tab3.txt\n",
            " cross_0.txt\n",
            " cross_1.txt\n",
            " cross_2.txt\n",
            " cross_3.txt\n",
            " cross_4.txt\n",
            " curated_gene_disease_associations.tsv\n",
            " DiaBLE\n",
            " DIAMOnD\n",
            " DIAMOnD.py\n",
            "'Hypertensive disease_seed_gene.txt'\n",
            "'Hypertensive disease_splits.json'\n",
            " PPI.adjlist\n",
            " PPI_Hypertensive.txt\n",
            " __pycache__\n",
            " seed_gene.txt\n"
          ]
        }
      ]
    },
    {
      "cell_type": "markdown",
      "metadata": {
        "id": "mRbllah2A0o5"
      },
      "source": [
        "## TASK 1 . PPI and GDA data gathering and interactome reconstruction"
      ]
    },
    {
      "cell_type": "markdown",
      "metadata": {
        "id": "8dkVMfSshTjz"
      },
      "source": [
        "### Data gathering and interactome reconstruction"
      ]
    },
    {
      "cell_type": "code",
      "execution_count": 148,
      "metadata": {
        "colab": {
          "base_uri": "https://localhost:8080/"
        },
        "id": "Uhof4wFsD15F",
        "outputId": "bc22bee2-c6c9-4cc2-f9bf-05f371a47a6d"
      },
      "outputs": [
        {
          "output_type": "stream",
          "name": "stdout",
          "text": [
            "Processing interactome...\n"
          ]
        },
        {
          "output_type": "stream",
          "name": "stderr",
          "text": [
            "<ipython-input-148-0276e00f16e4>:3: DtypeWarning: Columns (1,2,18) have mixed types.Specify dtype option on import or set low_memory=False.\n",
            "  HSN = AF.interactome_processing(path+\"BIOGRID-ORGANISM-Homo_sapiens-4.4.204.tab3.txt\")\n"
          ]
        },
        {
          "output_type": "stream",
          "name": "stdout",
          "text": [
            "# Process completed.\n",
            "Creating seed gene splits...\n",
            "Number of genes in disease PPI:  290\n",
            "# Process completed.\n",
            "Importing seed genes...\n",
            "# Process completed.\n"
          ]
        }
      ],
      "source": [
        "# DATA GATHERING AND PROCESSING\n",
        "\n",
        "HSN = AF.interactome_processing(path+\"BIOGRID-ORGANISM-Homo_sapiens-4.4.204.tab3.txt\")\n",
        "DGA_all = pd.read_csv(path+'curated_gene_disease_associations.tsv',sep='\\t')\n",
        "DGA =  DGA_all[DGA_all['diseaseName'] == 'Hypertensive disease']\n",
        "#DGA = AF.DGA_processing(path+'curated_gene_disease_associations.tsv', 'Hypertensive disease')\n",
        "DG_in_PPI,splits = AF.make_seeds_splits(DGA,HSN,'Hypertensive disease',path)\n",
        "DG_in_PPI, splits = AF.import_seeds_split('Hypertensive disease',path)"
      ]
    },
    {
      "cell_type": "markdown",
      "metadata": {
        "id": "IuiA9iw0halS"
      },
      "source": [
        "### Compute the disease LCC and its basic network measures"
      ]
    },
    {
      "cell_type": "code",
      "execution_count": 7,
      "metadata": {
        "colab": {
          "base_uri": "https://localhost:8080/"
        },
        "id": "kqFIzXjThdNg",
        "outputId": "22bb29ba-cdd4-4b00-9b9b-0765ac5fa3f5"
      },
      "outputs": [
        {
          "output_type": "stream",
          "name": "stdout",
          "text": [
            "Extracting LCC...\n",
            "Nodes  19618 , Connections  665061\n",
            "# Process completed.\n"
          ]
        }
      ],
      "source": [
        "# LCC COMPUTATION\n",
        "\n",
        "LCC = AF.extract_LCC_form_PPI(HSN)\n",
        "n_nodes = LCC.number_of_nodes()"
      ]
    },
    {
      "cell_type": "code",
      "execution_count": 8,
      "metadata": {
        "colab": {
          "base_uri": "https://localhost:8080/",
          "height": 670
        },
        "id": "aR1AI341EkvQ",
        "outputId": "eb689cd6-4d1e-445f-a22b-7a2783e3eb51"
      },
      "outputs": [
        {
          "output_type": "stream",
          "name": "stdout",
          "text": [
            "Creating Disease LCC graph...\n",
            "Nodes in disease LCC  232\n",
            "# Process completed.\n"
          ]
        },
        {
          "output_type": "display_data",
          "data": {
            "text/plain": [
              "<Figure size 576x576 with 1 Axes>"
            ],
            "image/png": "[encoded data removed]"
          },
          "metadata": {}
        }
      ],
      "source": [
        "# LCC PLOT\n",
        "\n",
        "DN = AF.make_disease_graph(HSN, DGA, DG_in_PPI)\n",
        "AF.plot_LCC(DN, DG_in_PPI)"
      ]
    },
    {
      "cell_type": "markdown",
      "metadata": {
        "id": "bvpjeGCqAp_p"
      },
      "source": [
        "## Task 2 . Putative disease genes identification algorithms"
      ]
    },
    {
      "cell_type": "markdown",
      "metadata": {
        "id": "_txKC5NptlHp"
      },
      "source": [
        "### DIAMOnD algorithm"
      ]
    },
    {
      "cell_type": "code",
      "execution_count": 85,
      "metadata": {
        "id": "RTaEJXH56YHE",
        "colab": {
          "base_uri": "https://localhost:8080/"
        },
        "outputId": "d20e3fa5-c284-4dd2-d4d4-7961b959401a"
      },
      "outputs": [
        {
          "output_type": "stream",
          "name": "stdout",
          "text": [
            "58\n"
          ]
        }
      ],
      "source": [
        "# SET UP\n",
        "import ast\n",
        "\n",
        "#dict with pair k,v where k is the index and v is the list of genes in the probe set\n",
        "with open(path+'Hypertensive disease_splits.json') as f:\n",
        "  dict_ = json.load(f)\n",
        "\n",
        "with open(path+'Hypertensive disease_seed_gene.txt') as f:\n",
        "  data = f.read()\n",
        "  seeds = ast.literal_eval(data)\n",
        "  seeds = np.asarray(seeds)\n",
        "\n",
        "dict_.items()\n",
        "type(dict_)\n",
        "print(len(dict_[\"0\"]))"
      ]
    },
    {
      "cell_type": "code",
      "execution_count": 126,
      "metadata": {
        "colab": {
          "base_uri": "https://localhost:8080/"
        },
        "id": "Mkk1bjXU6s13",
        "outputId": "0d6c1e45-99a6-4267-a234-2a132d2c5636"
      },
      "outputs": [
        {
          "output_type": "stream",
          "name": "stdout",
          "text": [
            "0 ['SLC6A2', 'NPTN', 'RALBP1', 'IGF1', 'CEP164', 'KLK1', 'B2M', 'HTR2B', 'SLC12A2', 'EDN1', 'APOA1', 'CACNA1D', 'TNFRSF11B', 'F11', 'CXCL2', 'ABCB6', 'ADRB1', 'SMAD4', 'NPPA', 'TGFB1', 'ND5', 'TPM1', 'OXT', 'PROC', 'UCP2', 'VAV3', 'SDCCAG8', 'EDNRA', 'NPHP1', 'ACT', 'CRP', 'CLCNKA', 'AHR', 'COX1', 'CAT', 'ALB', 'COX3', 'COL4A3', 'MMP9', 'ATOX1', 'ENPP1', 'MYH9', 'STK39', 'IL6', 'LEP', 'PLAT', 'PRKACA', 'APOE', 'GCG', 'GPX1', 'BBS1', 'TGFBR1', 'HMOX1', 'SCNN1A', 'PDE8B', 'PTH', 'AVP', 'RPS6KB1']\n",
            "len of l 232\n",
            "1 ['ACE', 'MTOR', 'AR', 'JAK2', 'GLP1R', 'LHB', 'LDLRAP1', 'REN', 'ERCC6', 'LPL', 'PLG', 'BBS4', 'MKKS', 'SLC12A3', 'IKBKAP', 'COL1A1', 'TRNE', 'HP', 'GSTT2', 'TRPC5', 'NR3C2', 'ECE1', 'FOXE3', 'LEPR', 'SOD3', 'CACNA2D1', 'TIMP1', 'AIP', 'FOS', 'UTS2', 'PAX2', 'ADRA2A', 'AGTR2', 'EGFR', 'ADD1', 'MMP2', 'DRD2', 'SELP', 'GJC1', 'MAFB', 'VCAM1', 'VWF', 'TRH', 'EDN3', 'LYZ', 'CRHR2', 'PRKAR1A', 'GJA5', 'BCL2', 'VDR', 'WT1', 'CYP21A2', 'HMBS', 'ORAI1', 'RGS2', 'TP53', 'CYP11B1', 'RET']\n",
            "len of l 232\n",
            "2 ['MYLK', 'ATP1A1', 'ITGA8', 'PLIN1', 'DUSP5', 'BBS7', 'SCNN1B', 'FBN1', 'KCNMB1', 'ICAM1', 'AQP1', 'ABCC1', 'MYD88', 'GCH1', 'FGA', 'LTF', 'PPBP', 'AGT', 'JUN', 'NME1', 'GNB3', 'G6PC', 'CMA1', 'TGFB3', 'ANXA1', 'SLC37A4', 'ELN', 'GSK3B', 'GJA1', 'LMNA', 'SMAD3', 'ALAD', 'MUC1', 'BBS2', 'WNK1', 'SOD2', 'FXYD2', 'LZTFL1', 'SH2B3', 'TRIM32', 'COL3A1', 'BBS9', 'PDE3A', 'TRNV', 'GJA4', 'WNK4', 'TLR4', 'IFT27', 'TGFB2', 'KLHL3', 'CYTB', 'NR3C1', 'MYH11', 'MKS1', 'COL4A5', 'TGM2', 'CD36', 'ACVRL1']\n",
            "len of l 232\n",
            "3 ['IQCB1', 'UMOD', 'RGS5', 'HRH3', 'OLR1', 'CUL3', 'THPO', 'ATP1A2', 'CCL2', 'CYBA', 'FMO3', 'TRAF3IP1', 'ACE2', 'GCLC', 'SERPINA6', 'NOS3', 'POMC', 'SCNN1G', 'UCN', 'HSD11B2', 'PPARA', 'CBS', 'STIM1', 'KNG1', 'NF1', 'HSD11B1', 'GLA', 'AGTR1', 'SLC9A3R2', 'INVS', 'MFAP5', 'CTGF', 'EPO', 'CAV1', 'USP8', 'STK11', 'NEDD4L', 'IDUA', 'BMPR2', 'TACR1', 'CPOX', 'IER3', 'NPPB', 'GAL', 'DYRK1B', 'F12', 'ALOX15', 'IL1B', 'TNF', 'ERAP1', 'PRKG1', 'CALCA', 'GSTT1', 'NOS2', 'PTEN', 'CELA2A', 'TRPC3', 'CYP17A1']\n",
            "len of l 232\n",
            "4 ['GNAS', 'CALR', 'SMARCAL1', 'OXSR1', 'CYBB', 'ND1', 'GSTA5', 'COL4A4', 'HIF1A', 'KCNJ5', 'MC2R', 'COX2', 'KCNJ1', 'ATP2B1', 'NCF1', 'CYP1A1', 'CD2AP', 'GNRH1', 'NPR1', 'CETP', 'GP1BA', 'AOC1', 'LOX', 'ERCC4', 'TGFBR2', 'CACNA1C', 'PRKCD', 'PTGS2', 'APOB', 'ALMS1', 'ND6', 'AOC3', 'ZMPSTE24', 'FGFR2', 'SERPINE1', 'ERCC8', 'LDLR', 'FOXF1', 'FN1', 'BDKRB2', 'NPHP3', 'MDH1', 'VHL', 'ADCY5', 'GUCY1A3', 'ATP2B3', 'WDPCP', 'PPARG', 'SOD1', 'ADIPOQ', 'ITM2B', 'INS', 'IFT172', 'INPPL1', 'OFD1', 'ACTA2', 'PPP1R3A', 'RELA']\n",
            "len of l 232\n"
          ]
        }
      ],
      "source": [
        "# CROSS VALIDATION SPLITS INTO FILES\n",
        "\n",
        "# 58 is the probe set v\n",
        "#290-58 has to be the training set l\n",
        "for k,v in dict_.items():\n",
        "    print(k,v)\n",
        "\n",
        "    with open(path+'probeset_{}.txt'.format(k),'w') as f:\n",
        "        for item in v:\n",
        "            f.write(\"%s,\" % item)   \n",
        "\n",
        "    l=list(set(seeds).difference(set(v))) #l is 232, it seems right!\n",
        "    print(\"len of l\",len(l))\n",
        " \n",
        "    with open(path+'cross_{}.txt'.format(k),'w') as f:\n",
        "        for item in l:\n",
        "            f.write(\"%s\\n\" % item)\n",
        "    "
      ]
    },
    {
      "cell_type": "code",
      "execution_count": 155,
      "metadata": {
        "colab": {
          "base_uri": "https://localhost:8080/"
        },
        "id": "hVnUHyxLArHK",
        "outputId": "b1ecf410-7adc-47f4-9d44-ed8bba057e28"
      },
      "outputs": [
        {
          "output_type": "stream",
          "name": "stdout",
          "text": [
            "\n",
            " results have been saved to 'res0.txt' \n",
            "\n"
          ]
        }
      ],
      "source": [
        "# EXECUTE DIAMOND\n",
        "# Remark . The output file is saved in the current directory. \n",
        "# That is in '/content/drive/MyDrive/BI-Data/'\n",
        "\n",
        "!python3  DIAMOnD.py  PPI_Hypertensive.txt  cross_1.txt  200 \"res0.txt\""
      ]
    },
    {
      "cell_type": "markdown",
      "metadata": {
        "id": "ZSzqx9nizFF5"
      },
      "source": [
        "### Validation"
      ]
    },
    {
      "cell_type": "markdown",
      "source": [
        "Now we are going to test the model, therefore we extract the training set and see how many nodes we retrieve of the probe set using a 5 cross validation"
      ],
      "metadata": {
        "id": "8QKohX02nnMb"
      }
    },
    {
      "cell_type": "markdown",
      "metadata": {
        "id": "x7AoB5Yd63G5"
      },
      "source": [
        "#### Evaluation of performances"
      ]
    },
    {
      "cell_type": "code",
      "source": [
        "alg_name = \"DIAMOnD\"\n",
        "tot = 200\n",
        "!python3  DIAMOnD.py  PPI_Hypertensive.txt  cross_0.txt  200 \"res0.txt\"\n",
        "m = evaluation(tot, 58, alg_name,0)\n",
        "print(m)\n",
        "\n",
        "!python3  DIAMOnD.py  PPI_Hypertensive.txt  cross_1.txt  200 \"res1.txt\"\n",
        "m = evaluation(tot, 58, alg_name,1)\n",
        "print(m)\n",
        "\n",
        "!python3  DIAMOnD.py  PPI_Hypertensive.txt  cross_2.txt  200 \"res2.txt\"\n",
        "m = evaluation(tot, 58, alg_name,2)  \n",
        "print(m)\n",
        "\n",
        "\n",
        "!python3  DIAMOnD.py  PPI_Hypertensive.txt  cross_3.txt  200 \"res3.txt\"\n",
        "m = evaluation(tot, 58, alg_name,3)  \n",
        "print(m)\n",
        "\n",
        "\n",
        "!python3  DIAMOnD.py  PPI_Hypertensive.txt  cross_4.txt  200 \"res4.txt\"\n",
        "m = evaluation(tot, 58, alg_name,4)  \n",
        "print(m)\n",
        "\n"
      ],
      "metadata": {
        "id": "u_yzJnvRi6t9"
      },
      "execution_count": null,
      "outputs": []
    },
    {
      "cell_type": "markdown",
      "source": [],
      "metadata": {
        "id": "9QOItdLTnlne"
      }
    },
    {
      "cell_type": "code",
      "source": [
        "\n",
        "def evaluation(top_n, cval, alg_name,k):\n",
        "    recalls, precs, f1s, ndcg_scores = ([] for _ in range(4))\n",
        "\n",
        "    cv = pd.read_csv('res{}.txt'.format(k),sep='\\t')\n",
        "    cv_nodes = cv[alg_name + '_node'].tolist()\n",
        "\n",
        "    \n",
        "    with open(path+'probeset_{}.txt'.format(k)) as f:\n",
        "          probeset = f.read().split(\",\")\n",
        "          probeset=set(probeset)\n",
        "          probeset.remove(\"\")  \n",
        "\n",
        "    # Subsetting\n",
        "    top = set(cv_nodes[0:top_n]) \n",
        "    \n",
        "\n",
        "    \n",
        "    # Intersecting with the probe set  \n",
        "    inters = top.intersection(probeset) \n",
        "    print(inters)\n",
        "\n",
        "    # Appending the results\n",
        "    recall = round(len(inters)/cval, 3)\n",
        "    prec = round(len(inters)/top_n, 3)\n",
        "    recalls.append(recall)\n",
        "    precs.append(prec)\n",
        "\n",
        "    try:\n",
        "      f1s.append(round(2*((recall*prec)/(recall+prec)), 3))\n",
        "    except:\n",
        "      f1s.append(0)\n",
        "\n",
        "    return {'recall': recalls, \n",
        "            'precision': precs, \n",
        "            'F1 Score': f1s, }"
      ],
      "metadata": {
        "id": "dSJGARgtE8gu"
      },
      "execution_count": 197,
      "outputs": []
    }
  ],
  "metadata": {
    "accelerator": "GPU",
    "colab": {
      "provenance": []
    },
    "gpuClass": "standard",
    "kernelspec": {
      "display_name": "Python 3 (ipykernel)",
      "language": "python",
      "name": "python3"
    },
    "language_info": {
      "codemirror_mode": {
        "name": "ipython",
        "version": 3
      },
      "file_extension": ".py",
      "mimetype": "text/x-python",
      "name": "python",
      "nbconvert_exporter": "python",
      "pygments_lexer": "ipython3",
      "version": "3.9.13"
    }
  },
  "nbformat": 4,
  "nbformat_minor": 0
}