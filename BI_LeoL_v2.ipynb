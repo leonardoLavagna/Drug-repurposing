{
  "nbformat": 4,
  "nbformat_minor": 0,
  "metadata": {
    "colab": {
      "provenance": [],
      "authorship_tag": "ABX9TyMPn1qN+iw1DEKJGaijWNd5",
      "include_colab_link": true
    },
    "kernelspec": {
      "name": "python3",
      "display_name": "Python 3"
    },
    "language_info": {
      "name": "python"
    }
  },
  "cells": [
    {
      "cell_type": "markdown",
      "metadata": {
        "id": "view-in-github",
        "colab_type": "text"
      },
      "source": [
        "<a href=\"https://colab.research.google.com/github/leonardoLavagna/Drug-repurposing/blob/main/BI_LeoL_v2.ipynb\" target=\"_parent\"><img src=\"https://colab.research.google.com/assets/colab-badge.svg\" alt=\"Open In Colab\"/></a>"
      ]
    },
    {
      "cell_type": "markdown",
      "source": [
        "## Set Up"
      ],
      "metadata": {
        "id": "MB2jks_equ2c"
      }
    },
    {
      "cell_type": "code",
      "source": [
        "!git clone https://github.com/dinaghiassian/DIAMOnD DiaBLE\n",
        "!git clone https://github.com/dinaghiassian/DIAMOnD\n",
        "%pip install markov_clustering #https://github.com/GuyAllard/markov_clustering"
      ],
      "metadata": {
        "colab": {
          "base_uri": "https://localhost:8080/"
        },
        "id": "IyBEndFwwnwH",
        "outputId": "b2a05ede-22bf-4901-bd4d-32425cfef33d"
      },
      "execution_count": 23,
      "outputs": [
        {
          "output_type": "stream",
          "name": "stdout",
          "text": [
            "Cloning into 'DiaBLE'...\n",
            "remote: Enumerating objects: 64, done.\u001b[K\n",
            "remote: Total 64 (delta 0), reused 0 (delta 0), pack-reused 64\u001b[K\n",
            "Unpacking objects: 100% (64/64), done.\n",
            "Cloning into 'DIAMOnD'...\n",
            "remote: Enumerating objects: 64, done.\u001b[K\n",
            "remote: Total 64 (delta 0), reused 0 (delta 0), pack-reused 64\u001b[K\n",
            "Unpacking objects: 100% (64/64), done.\n",
            "Looking in indexes: https://pypi.org/simple, https://us-python.pkg.dev/colab-wheels/public/simple/\n",
            "Collecting markov_clustering\n",
            "  Downloading markov_clustering-0.0.6.dev0-py3-none-any.whl (6.3 kB)\n",
            "Requirement already satisfied: scipy>=0.19.0 in /usr/local/lib/python3.8/dist-packages (from markov_clustering) (1.7.3)\n",
            "Requirement already satisfied: scikit-learn in /usr/local/lib/python3.8/dist-packages (from markov_clustering) (1.0.2)\n",
            "Requirement already satisfied: numpy in /usr/local/lib/python3.8/dist-packages (from markov_clustering) (1.21.6)\n",
            "Requirement already satisfied: threadpoolctl>=2.0.0 in /usr/local/lib/python3.8/dist-packages (from scikit-learn->markov_clustering) (3.1.0)\n",
            "Requirement already satisfied: joblib>=0.11 in /usr/local/lib/python3.8/dist-packages (from scikit-learn->markov_clustering) (1.2.0)\n",
            "Installing collected packages: markov-clustering\n",
            "Successfully installed markov-clustering-0.0.6.dev0\n"
          ]
        }
      ]
    },
    {
      "cell_type": "code",
      "execution_count": 24,
      "metadata": {
        "id": "4gea7gDcqpFo"
      },
      "outputs": [],
      "source": [
        "import pandas as pd\n",
        "import networkx as nx\n",
        "import matplotlib.pyplot as plt\n",
        "from tqdm import tqdm\n",
        "import numpy as np\n",
        "import math\n",
        "import json\n",
        "import os\n",
        "\n",
        "import markov_clustering as mc\n",
        "import statistics\n",
        "import pandas as pd\n",
        "import networkx as nx\n",
        "import ast\n",
        "import numpy as np\n",
        "import pprint\n",
        "import seaborn as sns\n",
        "import collections\n",
        "import math\n",
        "import random\n",
        "from sklearn.model_selection import train_test_split\n",
        "import json\n",
        "import sys\n",
        "from scipy.stats import hypergeom"
      ]
    },
    {
      "cell_type": "markdown",
      "source": [
        "## 1) Get the data"
      ],
      "metadata": {
        "id": "Cz4Q4SpbqzE8"
      }
    },
    {
      "cell_type": "code",
      "source": [
        "# read the human interactome data\n",
        "# https://downloads.thebiogrid.org/File/BioGRID/Release-Archive/BIOGRID-4.4.204/BIOGRID-ORGANISM-4.4.204.tab3.zip\n",
        "\n",
        "homo_sapiens_network = pd.read_csv(\"/content/BIOGRID-ORGANISM-Homo_sapiens-4.4.204.tab3.txt\", sep = \"\\t\")"
      ],
      "metadata": {
        "id": "fHRBtmu7qwrB"
      },
      "execution_count": 4,
      "outputs": []
    },
    {
      "cell_type": "markdown",
      "source": [
        "Filter out the same organism A and B:"
      ],
      "metadata": {
        "id": "EQPwnEimrA79"
      }
    },
    {
      "cell_type": "code",
      "source": [
        "homo_sapiens_network = homo_sapiens_network[homo_sapiens_network['Organism Name Interactor A'] == homo_sapiens_network['Organism Name Interactor B']]"
      ],
      "metadata": {
        "id": "nIeI7FngrAJ8"
      },
      "execution_count": 5,
      "outputs": []
    },
    {
      "cell_type": "markdown",
      "source": [
        "Filter out the same Gene Interactor A and B (self-loops):"
      ],
      "metadata": {
        "id": "tKbLtbBNrE6Z"
      }
    },
    {
      "cell_type": "code",
      "source": [
        "homo_sapiens_network = homo_sapiens_network[homo_sapiens_network['Official Symbol Interactor A'] != homo_sapiens_network['Official Symbol Interactor B']]"
      ],
      "metadata": {
        "id": "3j_l7ul4rHCq"
      },
      "execution_count": 6,
      "outputs": []
    },
    {
      "cell_type": "markdown",
      "source": [
        "Filter out only the physical interactions:"
      ],
      "metadata": {
        "id": "tKDkKRB4rJC9"
      }
    },
    {
      "cell_type": "code",
      "source": [
        "homo_sapiens_network = homo_sapiens_network[homo_sapiens_network['Experimental System Type'] == \"physical\"]"
      ],
      "metadata": {
        "id": "HeVPp_qOrK4T"
      },
      "execution_count": 7,
      "outputs": []
    },
    {
      "cell_type": "markdown",
      "source": [
        "To avoid duplicating edges A-B and B-A, we'll filter them in few steps later... Now we focus on the curated disease-gene association"
      ],
      "metadata": {
        "id": "RtCD0jiSrSES"
      }
    },
    {
      "cell_type": "code",
      "source": [
        "gene_dis_association = pd.read_csv('/content/curated_gene_disease_associations.tsv', sep = '\\t')\n",
        "gene_dis_association = gene_dis_association[gene_dis_association['diseaseName'] == 'Hypertensive disease'] "
      ],
      "metadata": {
        "id": "JGnZXd-OrZoR"
      },
      "execution_count": 13,
      "outputs": []
    },
    {
      "cell_type": "code",
      "source": [
        "gene_dis_association"
      ],
      "metadata": {
        "colab": {
          "base_uri": "https://localhost:8080/",
          "height": 661
        },
        "id": "gBqMcCnYr3-U",
        "outputId": "bd8824fa-0a6b-46b2-ed32-0370639cf2f9"
      },
      "execution_count": 14,
      "outputs": [
        {
          "output_type": "execute_result",
          "data": {
            "text/plain": [
              "       geneId geneSymbol diseaseId           diseaseName     score  NofPmids  \\\n",
              "479     10019      SH2B3  C0020538  Hypertensive disease  0.203231       0.0   \n",
              "850     10052       GJC1  C0020538  Hypertensive disease  0.200000       1.0   \n",
              "874     10058      ABCB6  C0020538  Hypertensive disease  0.200000       0.0   \n",
              "2452    10269   ZMPSTE24  C0020538  Hypertensive disease  0.200000       0.0   \n",
              "3619    10451       VAV3  C0020538  Hypertensive disease  0.200275       1.0   \n",
              "...       ...        ...       ...                   ...       ...       ...   \n",
              "51573    3569        IL6  C0020538  Hypertensive disease  0.233723       1.0   \n",
              "51781     358       AQP1  C0020538  Hypertensive disease  0.200000       1.0   \n",
              "52361    3630        INS  C0020538  Hypertensive disease  0.284381       2.0   \n",
              "52460    3636     INPPL1  C0020538  Hypertensive disease  0.203231       1.0   \n",
              "53029     367         AR  C0020538  Hypertensive disease  0.282682       1.0   \n",
              "\n",
              "       NofSnps     source  \n",
              "479        0.0        HPO  \n",
              "850        0.0  CTD_human  \n",
              "874        0.0        HPO  \n",
              "2452       0.0        HPO  \n",
              "3619       0.0  CTD_human  \n",
              "...        ...        ...  \n",
              "51573      0.0  CTD_human  \n",
              "51781      0.0  CTD_human  \n",
              "52361      0.0  CTD_human  \n",
              "52460      0.0  CTD_human  \n",
              "53029      0.0  CTD_human  \n",
              "\n",
              "[122 rows x 8 columns]"
            ],
            "text/html": [
              "\n",
              "  <div id=\"df-462e1cc1-94bc-400b-bba3-b3e3c082bfc3\">\n",
              "    <div class=\"colab-df-container\">\n",
              "      <div>\n",
              "<style scoped>\n",
              "    .dataframe tbody tr th:only-of-type {\n",
              "        vertical-align: middle;\n",
              "    }\n",
              "\n",
              "    .dataframe tbody tr th {\n",
              "        vertical-align: top;\n",
              "    }\n",
              "\n",
              "    .dataframe thead th {\n",
              "        text-align: right;\n",
              "    }\n",
              "</style>\n",
              "<table border=\"1\" class=\"dataframe\">\n",
              "  <thead>\n",
              "    <tr style=\"text-align: right;\">\n",
              "      <th></th>\n",
              "      <th>geneId</th>\n",
              "      <th>geneSymbol</th>\n",
              "      <th>diseaseId</th>\n",
              "      <th>diseaseName</th>\n",
              "      <th>score</th>\n",
              "      <th>NofPmids</th>\n",
              "      <th>NofSnps</th>\n",
              "      <th>source</th>\n",
              "    </tr>\n",
              "  </thead>\n",
              "  <tbody>\n",
              "    <tr>\n",
              "      <th>479</th>\n",
              "      <td>10019</td>\n",
              "      <td>SH2B3</td>\n",
              "      <td>C0020538</td>\n",
              "      <td>Hypertensive disease</td>\n",
              "      <td>0.203231</td>\n",
              "      <td>0.0</td>\n",
              "      <td>0.0</td>\n",
              "      <td>HPO</td>\n",
              "    </tr>\n",
              "    <tr>\n",
              "      <th>850</th>\n",
              "      <td>10052</td>\n",
              "      <td>GJC1</td>\n",
              "      <td>C0020538</td>\n",
              "      <td>Hypertensive disease</td>\n",
              "      <td>0.200000</td>\n",
              "      <td>1.0</td>\n",
              "      <td>0.0</td>\n",
              "      <td>CTD_human</td>\n",
              "    </tr>\n",
              "    <tr>\n",
              "      <th>874</th>\n",
              "      <td>10058</td>\n",
              "      <td>ABCB6</td>\n",
              "      <td>C0020538</td>\n",
              "      <td>Hypertensive disease</td>\n",
              "      <td>0.200000</td>\n",
              "      <td>0.0</td>\n",
              "      <td>0.0</td>\n",
              "      <td>HPO</td>\n",
              "    </tr>\n",
              "    <tr>\n",
              "      <th>2452</th>\n",
              "      <td>10269</td>\n",
              "      <td>ZMPSTE24</td>\n",
              "      <td>C0020538</td>\n",
              "      <td>Hypertensive disease</td>\n",
              "      <td>0.200000</td>\n",
              "      <td>0.0</td>\n",
              "      <td>0.0</td>\n",
              "      <td>HPO</td>\n",
              "    </tr>\n",
              "    <tr>\n",
              "      <th>3619</th>\n",
              "      <td>10451</td>\n",
              "      <td>VAV3</td>\n",
              "      <td>C0020538</td>\n",
              "      <td>Hypertensive disease</td>\n",
              "      <td>0.200275</td>\n",
              "      <td>1.0</td>\n",
              "      <td>0.0</td>\n",
              "      <td>CTD_human</td>\n",
              "    </tr>\n",
              "    <tr>\n",
              "      <th>...</th>\n",
              "      <td>...</td>\n",
              "      <td>...</td>\n",
              "      <td>...</td>\n",
              "      <td>...</td>\n",
              "      <td>...</td>\n",
              "      <td>...</td>\n",
              "      <td>...</td>\n",
              "      <td>...</td>\n",
              "    </tr>\n",
              "    <tr>\n",
              "      <th>51573</th>\n",
              "      <td>3569</td>\n",
              "      <td>IL6</td>\n",
              "      <td>C0020538</td>\n",
              "      <td>Hypertensive disease</td>\n",
              "      <td>0.233723</td>\n",
              "      <td>1.0</td>\n",
              "      <td>0.0</td>\n",
              "      <td>CTD_human</td>\n",
              "    </tr>\n",
              "    <tr>\n",
              "      <th>51781</th>\n",
              "      <td>358</td>\n",
              "      <td>AQP1</td>\n",
              "      <td>C0020538</td>\n",
              "      <td>Hypertensive disease</td>\n",
              "      <td>0.200000</td>\n",
              "      <td>1.0</td>\n",
              "      <td>0.0</td>\n",
              "      <td>CTD_human</td>\n",
              "    </tr>\n",
              "    <tr>\n",
              "      <th>52361</th>\n",
              "      <td>3630</td>\n",
              "      <td>INS</td>\n",
              "      <td>C0020538</td>\n",
              "      <td>Hypertensive disease</td>\n",
              "      <td>0.284381</td>\n",
              "      <td>2.0</td>\n",
              "      <td>0.0</td>\n",
              "      <td>CTD_human</td>\n",
              "    </tr>\n",
              "    <tr>\n",
              "      <th>52460</th>\n",
              "      <td>3636</td>\n",
              "      <td>INPPL1</td>\n",
              "      <td>C0020538</td>\n",
              "      <td>Hypertensive disease</td>\n",
              "      <td>0.203231</td>\n",
              "      <td>1.0</td>\n",
              "      <td>0.0</td>\n",
              "      <td>CTD_human</td>\n",
              "    </tr>\n",
              "    <tr>\n",
              "      <th>53029</th>\n",
              "      <td>367</td>\n",
              "      <td>AR</td>\n",
              "      <td>C0020538</td>\n",
              "      <td>Hypertensive disease</td>\n",
              "      <td>0.282682</td>\n",
              "      <td>1.0</td>\n",
              "      <td>0.0</td>\n",
              "      <td>CTD_human</td>\n",
              "    </tr>\n",
              "  </tbody>\n",
              "</table>\n",
              "<p>122 rows × 8 columns</p>\n",
              "</div>\n",
              "      <button class=\"colab-df-convert\" onclick=\"convertToInteractive('df-462e1cc1-94bc-400b-bba3-b3e3c082bfc3')\"\n",
              "              title=\"Convert this dataframe to an interactive table.\"\n",
              "              style=\"display:none;\">\n",
              "        \n",
              "  <svg xmlns=\"http://www.w3.org/2000/svg\" height=\"24px\"viewBox=\"0 0 24 24\"\n",
              "       width=\"24px\">\n",
              "    <path d=\"M0 0h24v24H0V0z\" fill=\"none\"/>\n",
              "    <path d=\"M18.56 5.44l.94 2.06.94-2.06 2.06-.94-2.06-.94-.94-2.06-.94 2.06-2.06.94zm-11 1L8.5 8.5l.94-2.06 2.06-.94-2.06-.94L8.5 2.5l-.94 2.06-2.06.94zm10 10l.94 2.06.94-2.06 2.06-.94-2.06-.94-.94-2.06-.94 2.06-2.06.94z\"/><path d=\"M17.41 7.96l-1.37-1.37c-.4-.4-.92-.59-1.43-.59-.52 0-1.04.2-1.43.59L10.3 9.45l-7.72 7.72c-.78.78-.78 2.05 0 2.83L4 21.41c.39.39.9.59 1.41.59.51 0 1.02-.2 1.41-.59l7.78-7.78 2.81-2.81c.8-.78.8-2.07 0-2.86zM5.41 20L4 18.59l7.72-7.72 1.47 1.35L5.41 20z\"/>\n",
              "  </svg>\n",
              "      </button>\n",
              "      \n",
              "  <style>\n",
              "    .colab-df-container {\n",
              "      display:flex;\n",
              "      flex-wrap:wrap;\n",
              "      gap: 12px;\n",
              "    }\n",
              "\n",
              "    .colab-df-convert {\n",
              "      background-color: #E8F0FE;\n",
              "      border: none;\n",
              "      border-radius: 50%;\n",
              "      cursor: pointer;\n",
              "      display: none;\n",
              "      fill: #1967D2;\n",
              "      height: 32px;\n",
              "      padding: 0 0 0 0;\n",
              "      width: 32px;\n",
              "    }\n",
              "\n",
              "    .colab-df-convert:hover {\n",
              "      background-color: #E2EBFA;\n",
              "      box-shadow: 0px 1px 2px rgba(60, 64, 67, 0.3), 0px 1px 3px 1px rgba(60, 64, 67, 0.15);\n",
              "      fill: #174EA6;\n",
              "    }\n",
              "\n",
              "    [theme=dark] .colab-df-convert {\n",
              "      background-color: #3B4455;\n",
              "      fill: #D2E3FC;\n",
              "    }\n",
              "\n",
              "    [theme=dark] .colab-df-convert:hover {\n",
              "      background-color: #434B5C;\n",
              "      box-shadow: 0px 1px 3px 1px rgba(0, 0, 0, 0.15);\n",
              "      filter: drop-shadow(0px 1px 2px rgba(0, 0, 0, 0.3));\n",
              "      fill: #FFFFFF;\n",
              "    }\n",
              "  </style>\n",
              "\n",
              "      <script>\n",
              "        const buttonEl =\n",
              "          document.querySelector('#df-462e1cc1-94bc-400b-bba3-b3e3c082bfc3 button.colab-df-convert');\n",
              "        buttonEl.style.display =\n",
              "          google.colab.kernel.accessAllowed ? 'block' : 'none';\n",
              "\n",
              "        async function convertToInteractive(key) {\n",
              "          const element = document.querySelector('#df-462e1cc1-94bc-400b-bba3-b3e3c082bfc3');\n",
              "          const dataTable =\n",
              "            await google.colab.kernel.invokeFunction('convertToInteractive',\n",
              "                                                     [key], {});\n",
              "          if (!dataTable) return;\n",
              "\n",
              "          const docLinkHtml = 'Like what you see? Visit the ' +\n",
              "            '<a target=\"_blank\" href=https://colab.research.google.com/notebooks/data_table.ipynb>data table notebook</a>'\n",
              "            + ' to learn more about interactive tables.';\n",
              "          element.innerHTML = '';\n",
              "          dataTable['output_type'] = 'display_data';\n",
              "          await google.colab.output.renderOutput(dataTable, element);\n",
              "          const docLink = document.createElement('div');\n",
              "          docLink.innerHTML = docLinkHtml;\n",
              "          element.appendChild(docLink);\n",
              "        }\n",
              "      </script>\n",
              "    </div>\n",
              "  </div>\n",
              "  "
            ]
          },
          "metadata": {},
          "execution_count": 14
        }
      ]
    },
    {
      "cell_type": "markdown",
      "source": [
        "Effective number of disease genes present in the homo sapiens network:"
      ],
      "metadata": {
        "id": "1CZuTK-nsH-R"
      }
    },
    {
      "cell_type": "code",
      "source": [
        "disease_genes_in_interactome = set.intersection(set(gene_dis_association['geneSymbol'].tolist()), set(homo_sapiens_network['Official Symbol Interactor A'].tolist()).union(homo_sapiens_network['Official Symbol Interactor B'].tolist()))"
      ],
      "metadata": {
        "id": "JhaiP__JsIYG"
      },
      "execution_count": 15,
      "outputs": []
    },
    {
      "cell_type": "markdown",
      "source": [
        "### Create human interactome"
      ],
      "metadata": {
        "id": "xu0oeeGOsOmb"
      }
    },
    {
      "cell_type": "code",
      "source": [
        "human_interactome = nx.Graph()"
      ],
      "metadata": {
        "id": "_zXOuQLasQ_h"
      },
      "execution_count": 16,
      "outputs": []
    },
    {
      "cell_type": "code",
      "source": [
        "human_interactome.add_nodes_from(map(int, list(set(homo_sapiens_network[\"Entrez Gene Interactor A\"].tolist() + homo_sapiens_network[\"Entrez Gene Interactor B\"].tolist())))) # considering the Gene IDs\n",
        "# human_interactome.add_nodes_from(list(set(homo_sapiens_network[\"Official Symbol Interactor A\"].tolist() + homo_sapiens_network[\"Official Symbol Interactor B\"].tolist())))"
      ],
      "metadata": {
        "id": "HvHtBRO9sTrj"
      },
      "execution_count": 17,
      "outputs": []
    },
    {
      "cell_type": "markdown",
      "source": [
        "Now we filter the duplicates edges A-B, B-A"
      ],
      "metadata": {
        "id": "CYG6sAJNsWRr"
      }
    },
    {
      "cell_type": "code",
      "source": [
        "human_interactome.add_edges_from(list(zip(map(int, homo_sapiens_network[\"Entrez Gene Interactor A\"]), map(int, homo_sapiens_network[\"Entrez Gene Interactor B\"]))))\n",
        "# human_interactome.add_edges_from(zip(homo_sapiens_network[\"Official Symbol Interactor A\"], homo_sapiens_network[\"Official Symbol Interactor B\"]))"
      ],
      "metadata": {
        "id": "tQGSk1wPsXYs"
      },
      "execution_count": 18,
      "outputs": []
    },
    {
      "cell_type": "markdown",
      "source": [
        "### LLC"
      ],
      "metadata": {
        "id": "gWBpw7Xlsf1G"
      }
    },
    {
      "cell_type": "code",
      "source": [
        "LCCs = [len(human_interactome) for human_interactome in sorted(nx.connected_components(human_interactome), key=len, reverse=True)]\n",
        "print(f\"The largest component {LCCs[0]}\") "
      ],
      "metadata": {
        "colab": {
          "base_uri": "https://localhost:8080/"
        },
        "id": "jAnGBYussgYe",
        "outputId": "140e933d-e502-4c14-b8eb-63d8335250c9"
      },
      "execution_count": 19,
      "outputs": [
        {
          "output_type": "stream",
          "name": "stdout",
          "text": [
            "The largest component 3289\n"
          ]
        }
      ]
    },
    {
      "cell_type": "code",
      "source": [
        "print(LCCs)"
      ],
      "metadata": {
        "colab": {
          "base_uri": "https://localhost:8080/"
        },
        "id": "rIG9o264snp3",
        "outputId": "db38cd38-963f-4b3b-f44e-683d380d0434"
      },
      "execution_count": 20,
      "outputs": [
        {
          "output_type": "stream",
          "name": "stdout",
          "text": [
            "[3289, 6, 6, 5, 5, 5, 5, 4, 4, 4, 4, 4, 4, 3, 3, 3, 3, 3, 3, 3, 3, 3, 3, 3, 3, 3, 3, 3, 3, 3, 3, 3, 3, 3, 3, 3, 3, 3, 3, 3, 3, 3, 3, 3, 3, 3, 3, 2, 2, 2, 2, 2, 2, 2, 2, 2, 2, 2, 2, 2, 2, 2, 2, 2, 2, 2, 2, 2, 2, 2, 2, 2, 2, 2, 2, 2, 2, 2, 2, 2, 2, 2, 2, 2, 2, 2, 2, 2, 2, 2, 2, 2, 2, 2, 2, 2, 2, 2, 2, 2, 2, 2, 2, 2, 2, 2, 2, 2, 2, 2, 2, 2, 2, 2, 2, 2, 2, 2, 2, 2, 2, 2, 2, 2, 2, 2, 2, 2, 2, 2, 2, 2, 2, 2, 2, 2, 2, 2, 2, 2, 2, 2, 2, 2, 2, 2, 2, 2, 2, 2, 2, 2, 2, 2, 2, 2, 2, 2, 2, 2, 2, 2, 2, 2, 2, 2, 2, 2, 2, 2, 2, 2, 2]\n"
          ]
        }
      ]
    },
    {
      "cell_type": "code",
      "source": [
        "# extract first LLC\n",
        "human_interactome_LCC = human_interactome.subgraph(max(nx.connected_components(human_interactome), key=len))\n",
        "print(len(human_interactome_LCC)) # number of nodes in the largest component\n",
        "print(len(human_interactome_LCC.edges()))"
      ],
      "metadata": {
        "colab": {
          "base_uri": "https://localhost:8080/"
        },
        "id": "ef6HdqkRsrYb",
        "outputId": "e2b39824-f3a0-476a-df90-0fd797cd25ce"
      },
      "execution_count": 21,
      "outputs": [
        {
          "output_type": "stream",
          "name": "stdout",
          "text": [
            "3289\n",
            "6390\n"
          ]
        }
      ]
    },
    {
      "cell_type": "code",
      "source": [
        "# save graph\n",
        "nx.write_adjlist(human_interactome_LCC, \"test.adjlist\")"
      ],
      "metadata": {
        "id": "AKIKKayCsvHN"
      },
      "execution_count": 22,
      "outputs": []
    },
    {
      "cell_type": "markdown",
      "source": [
        "### Compile seed gene list"
      ],
      "metadata": {
        "id": "lD9BQNSjxCXO"
      }
    },
    {
      "cell_type": "code",
      "source": [
        "curated_gene_desease_association_DF = pd.read_csv(\"/content/curated_gene_disease_associations.tsv\", sep = '\\t', compression = 'infer')"
      ],
      "metadata": {
        "id": "4Ikl_zMB03iU"
      },
      "execution_count": 32,
      "outputs": []
    },
    {
      "cell_type": "code",
      "source": [
        "disease_DF = curated_gene_desease_association_DF.loc[curated_gene_desease_association_DF['diseaseId'] == 'C0020538']\n",
        "print('Number of detected genes involved in the desease: ', len(disease_DF))\n",
        "disease_DF.head(5)"
      ],
      "metadata": {
        "colab": {
          "base_uri": "https://localhost:8080/",
          "height": 375
        },
        "id": "EPaDFTGS0o4-",
        "outputId": "9d4c7ff9-0fec-4b6d-fde5-298e8107bbe7"
      },
      "execution_count": 34,
      "outputs": [
        {
          "output_type": "stream",
          "name": "stdout",
          "text": [
            "Number of detected genes involved in the desease:  303\n"
          ]
        },
        {
          "output_type": "execute_result",
          "data": {
            "text/plain": [
              "      geneId geneSymbol diseaseId           diseaseName     score  NofPmids  \\\n",
              "479    10019      SH2B3  C0020538  Hypertensive disease  0.203231         0   \n",
              "850    10052       GJC1  C0020538  Hypertensive disease  0.200000         1   \n",
              "874    10058      ABCB6  C0020538  Hypertensive disease  0.200000         0   \n",
              "2452   10269   ZMPSTE24  C0020538  Hypertensive disease  0.200000         0   \n",
              "3619   10451       VAV3  C0020538  Hypertensive disease  0.200275         1   \n",
              "\n",
              "      NofSnps     source  \n",
              "479         0        HPO  \n",
              "850         0  CTD_human  \n",
              "874         0        HPO  \n",
              "2452        0        HPO  \n",
              "3619        0  CTD_human  "
            ],
            "text/html": [
              "\n",
              "  <div id=\"df-8b204891-b511-44d0-bd57-c2f2434abcd8\">\n",
              "    <div class=\"colab-df-container\">\n",
              "      <div>\n",
              "<style scoped>\n",
              "    .dataframe tbody tr th:only-of-type {\n",
              "        vertical-align: middle;\n",
              "    }\n",
              "\n",
              "    .dataframe tbody tr th {\n",
              "        vertical-align: top;\n",
              "    }\n",
              "\n",
              "    .dataframe thead th {\n",
              "        text-align: right;\n",
              "    }\n",
              "</style>\n",
              "<table border=\"1\" class=\"dataframe\">\n",
              "  <thead>\n",
              "    <tr style=\"text-align: right;\">\n",
              "      <th></th>\n",
              "      <th>geneId</th>\n",
              "      <th>geneSymbol</th>\n",
              "      <th>diseaseId</th>\n",
              "      <th>diseaseName</th>\n",
              "      <th>score</th>\n",
              "      <th>NofPmids</th>\n",
              "      <th>NofSnps</th>\n",
              "      <th>source</th>\n",
              "    </tr>\n",
              "  </thead>\n",
              "  <tbody>\n",
              "    <tr>\n",
              "      <th>479</th>\n",
              "      <td>10019</td>\n",
              "      <td>SH2B3</td>\n",
              "      <td>C0020538</td>\n",
              "      <td>Hypertensive disease</td>\n",
              "      <td>0.203231</td>\n",
              "      <td>0</td>\n",
              "      <td>0</td>\n",
              "      <td>HPO</td>\n",
              "    </tr>\n",
              "    <tr>\n",
              "      <th>850</th>\n",
              "      <td>10052</td>\n",
              "      <td>GJC1</td>\n",
              "      <td>C0020538</td>\n",
              "      <td>Hypertensive disease</td>\n",
              "      <td>0.200000</td>\n",
              "      <td>1</td>\n",
              "      <td>0</td>\n",
              "      <td>CTD_human</td>\n",
              "    </tr>\n",
              "    <tr>\n",
              "      <th>874</th>\n",
              "      <td>10058</td>\n",
              "      <td>ABCB6</td>\n",
              "      <td>C0020538</td>\n",
              "      <td>Hypertensive disease</td>\n",
              "      <td>0.200000</td>\n",
              "      <td>0</td>\n",
              "      <td>0</td>\n",
              "      <td>HPO</td>\n",
              "    </tr>\n",
              "    <tr>\n",
              "      <th>2452</th>\n",
              "      <td>10269</td>\n",
              "      <td>ZMPSTE24</td>\n",
              "      <td>C0020538</td>\n",
              "      <td>Hypertensive disease</td>\n",
              "      <td>0.200000</td>\n",
              "      <td>0</td>\n",
              "      <td>0</td>\n",
              "      <td>HPO</td>\n",
              "    </tr>\n",
              "    <tr>\n",
              "      <th>3619</th>\n",
              "      <td>10451</td>\n",
              "      <td>VAV3</td>\n",
              "      <td>C0020538</td>\n",
              "      <td>Hypertensive disease</td>\n",
              "      <td>0.200275</td>\n",
              "      <td>1</td>\n",
              "      <td>0</td>\n",
              "      <td>CTD_human</td>\n",
              "    </tr>\n",
              "  </tbody>\n",
              "</table>\n",
              "</div>\n",
              "      <button class=\"colab-df-convert\" onclick=\"convertToInteractive('df-8b204891-b511-44d0-bd57-c2f2434abcd8')\"\n",
              "              title=\"Convert this dataframe to an interactive table.\"\n",
              "              style=\"display:none;\">\n",
              "        \n",
              "  <svg xmlns=\"http://www.w3.org/2000/svg\" height=\"24px\"viewBox=\"0 0 24 24\"\n",
              "       width=\"24px\">\n",
              "    <path d=\"M0 0h24v24H0V0z\" fill=\"none\"/>\n",
              "    <path d=\"M18.56 5.44l.94 2.06.94-2.06 2.06-.94-2.06-.94-.94-2.06-.94 2.06-2.06.94zm-11 1L8.5 8.5l.94-2.06 2.06-.94-2.06-.94L8.5 2.5l-.94 2.06-2.06.94zm10 10l.94 2.06.94-2.06 2.06-.94-2.06-.94-.94-2.06-.94 2.06-2.06.94z\"/><path d=\"M17.41 7.96l-1.37-1.37c-.4-.4-.92-.59-1.43-.59-.52 0-1.04.2-1.43.59L10.3 9.45l-7.72 7.72c-.78.78-.78 2.05 0 2.83L4 21.41c.39.39.9.59 1.41.59.51 0 1.02-.2 1.41-.59l7.78-7.78 2.81-2.81c.8-.78.8-2.07 0-2.86zM5.41 20L4 18.59l7.72-7.72 1.47 1.35L5.41 20z\"/>\n",
              "  </svg>\n",
              "      </button>\n",
              "      \n",
              "  <style>\n",
              "    .colab-df-container {\n",
              "      display:flex;\n",
              "      flex-wrap:wrap;\n",
              "      gap: 12px;\n",
              "    }\n",
              "\n",
              "    .colab-df-convert {\n",
              "      background-color: #E8F0FE;\n",
              "      border: none;\n",
              "      border-radius: 50%;\n",
              "      cursor: pointer;\n",
              "      display: none;\n",
              "      fill: #1967D2;\n",
              "      height: 32px;\n",
              "      padding: 0 0 0 0;\n",
              "      width: 32px;\n",
              "    }\n",
              "\n",
              "    .colab-df-convert:hover {\n",
              "      background-color: #E2EBFA;\n",
              "      box-shadow: 0px 1px 2px rgba(60, 64, 67, 0.3), 0px 1px 3px 1px rgba(60, 64, 67, 0.15);\n",
              "      fill: #174EA6;\n",
              "    }\n",
              "\n",
              "    [theme=dark] .colab-df-convert {\n",
              "      background-color: #3B4455;\n",
              "      fill: #D2E3FC;\n",
              "    }\n",
              "\n",
              "    [theme=dark] .colab-df-convert:hover {\n",
              "      background-color: #434B5C;\n",
              "      box-shadow: 0px 1px 3px 1px rgba(0, 0, 0, 0.15);\n",
              "      filter: drop-shadow(0px 1px 2px rgba(0, 0, 0, 0.3));\n",
              "      fill: #FFFFFF;\n",
              "    }\n",
              "  </style>\n",
              "\n",
              "      <script>\n",
              "        const buttonEl =\n",
              "          document.querySelector('#df-8b204891-b511-44d0-bd57-c2f2434abcd8 button.colab-df-convert');\n",
              "        buttonEl.style.display =\n",
              "          google.colab.kernel.accessAllowed ? 'block' : 'none';\n",
              "\n",
              "        async function convertToInteractive(key) {\n",
              "          const element = document.querySelector('#df-8b204891-b511-44d0-bd57-c2f2434abcd8');\n",
              "          const dataTable =\n",
              "            await google.colab.kernel.invokeFunction('convertToInteractive',\n",
              "                                                     [key], {});\n",
              "          if (!dataTable) return;\n",
              "\n",
              "          const docLinkHtml = 'Like what you see? Visit the ' +\n",
              "            '<a target=\"_blank\" href=https://colab.research.google.com/notebooks/data_table.ipynb>data table notebook</a>'\n",
              "            + ' to learn more about interactive tables.';\n",
              "          element.innerHTML = '';\n",
              "          dataTable['output_type'] = 'display_data';\n",
              "          await google.colab.output.renderOutput(dataTable, element);\n",
              "          const docLink = document.createElement('div');\n",
              "          docLink.innerHTML = docLinkHtml;\n",
              "          element.appendChild(docLink);\n",
              "        }\n",
              "      </script>\n",
              "    </div>\n",
              "  </div>\n",
              "  "
            ]
          },
          "metadata": {},
          "execution_count": 34
        }
      ]
    },
    {
      "cell_type": "code",
      "source": [
        "seed_list = list(disease_DF['geneId'])\n",
        "print(\"List of Entrez genes:\\n\", *seed_list)"
      ],
      "metadata": {
        "colab": {
          "base_uri": "https://localhost:8080/"
        },
        "id": "D8cKbufC0yp4",
        "outputId": "4078d2fa-5912-4acb-9104-8ff924924717"
      },
      "execution_count": 35,
      "outputs": [
        {
          "output_type": "stream",
          "name": "stdout",
          "text": [
            "List of Entrez genes:\n",
            " 10019 10052 10058 10269 10451 1071 10806 10911 10928 11020 111 11255 1161 118 1187 1215 1277 1281 1285 1286 1287 1371 1395 1401 1490 150 153 1535 1536 1543 156 1584 1585 1586 1589 1636 1813 183 1847 185 186 1889 1906 1908 1909 1956 196 2006 2056 2072 2074 210 213 2160 2161 2200 221357 2243 2263 22897 2294 22954 2301 2328 23327 2335 2353 23607 246 2475 2538 2542 26 26119 26146 26160 26249 2641 2643 2697 2701 2702 27020 27031 27130 2717 27241 2729 27347 2740 2778 2784 2796 2811 2876 2908 2920 2932 2952 2953 2982 301 3091 3145 3162 3240 3290 3291 335 3357 338 3383 3425 3479 348 348932 3553 3569 358 3630 3636 367 3717 3725 3758 3762 3779 3816 3827 389036 3949 3952 3953 3972 4000 4015 4023 4057 4069 4088 4089 4158 4190 4306 4313 4318 4363 4511 4512 4513 4514 4519 4535 4540 4541 4556 4558 4566 4567 4572 4574 4575 4577 4578 4582 4615 4627 4629 4638 475 476 4763 477 4830 4843 4846 486 4867 4878 4879 4881 490 492 4973 4982 5020 50485 5054 5076 50940 51057 51083 5139 5167 51752 51816 5327 5340 5346 5443 54585 5465 5468 5473 54903 5506 551 55212 5566 5573 5580 5592 5624 567 5728 5741 5743 582 583 585 59 59272 596 5970 5972 5979 5997 6198 624 63036 6337 6338 6340 6347 6403 65125 65266 6530 653361 6558 6559 659 6647 6648 6649 6786 6794 6869 7040 7042 7043 7046 7048 7052 7066 7076 7099 7124 7157 7168 7200 7222 7224 7349 7351 7369 7412 7421 7428 7450 7490 775 776 781 7840 796 8076 811 8195 8452 847 8481 84876 8490 8516 8518 857 8622 8639 866 875 8870 9049 9101 9149 9351 9370 94 9445 948 9657 9935 9943\n"
          ]
        }
      ]
    },
    {
      "cell_type": "code",
      "source": [
        "print(\"List of gene symbols:\\n\", *list(disease_DF['geneSymbol']))\n",
        "seed_genes_symbols = list(disease_DF['geneSymbol'])"
      ],
      "metadata": {
        "colab": {
          "base_uri": "https://localhost:8080/"
        },
        "id": "COqxZJAw1H58",
        "outputId": "13cfcc43-f1fc-486e-9bc8-0a7841b8ef46"
      },
      "execution_count": 37,
      "outputs": [
        {
          "output_type": "stream",
          "name": "stdout",
          "text": [
            "List of gene symbols:\n",
            " SH2B3 GJC1 ABCB6 ZMPSTE24 VAV3 CETP SDCCAG8 UTS2 RALBP1 IFT27 ADCY5 HRH3 ERCC8 ADD1 CLCNKA CMA1 COL1A1 COL3A1 COL4A3 COL4A4 COL4A5 CPOX CRHR2 CRP CTGF ADRA2A ADRB1 CYBA CYBB CYP1A1 GRK2 CYP11B1 CYP11B2 CYP17A1 CYP21A2 ACE DRD2 AGT DUSP5 AGTR1 AGTR2 ECE1 EDN1 EDN3 EDNRA EGFR AHR ELN EPO ERCC4 ERCC6 ALAD ALB F11 F12 FBN1 GSTA5 FGA FGFR2 CEP164 FOXF1 TRIM32 FOXE3 FMO3 NEDD4L FN1 FOS CD2AP ALOX15 MTOR G6PC SLC37A4 AOC1 LDLRAP1 TRAF3IP1 IFT172 KLHL3 GCG GCH1 GJA1 GJA4 GJA5 NPTN NPHP3 INVS GLA BBS9 GCLC STK39 GLP1R GNAS GNB3 GNRH1 GP1BA GPX1 NR3C1 CXCL2 GSK3B GSTT1 GSTT2 GUCY1A3 ANXA1 HIF1A HMBS HMOX1 HP HSD11B1 HSD11B2 APOA1 HTR2B APOB ICAM1 IDUA IGF1 APOE SLC6A18 IL1B IL6 AQP1 INS INPPL1 AR JAK2 JUN KCNJ1 KCNJ5 KCNMB1 KLK1 KNG1 ACT LDLR LEP LEPR LHB LMNA LOX LPL LTF LYZ SMAD3 SMAD4 MC2R MDH1 NR3C2 MMP2 MMP9 ABCC1 TRNC COX1 COX2 COX3 CYTB ND1 ND5 ND6 TRNE TRNF TRNK TRNL1 TRNQ TRNS1 TRNS2 TRNV TRNW MUC1 MYD88 MYH9 MYH11 MYLK ATOX1 ATP1A1 NF1 ATP1A2 NME1 NOS2 NOS3 FXYD2 NPHP1 NPPA NPPB NPR1 ATP2B1 ATP2B3 OLR1 TNFRSF11B OXT SMARCAL1 SERPINE1 PAX2 PDE11A WDPCP GAL PDE3A ENPP1 ERAP1 ADA2 PLAT PLG PLIN1 POMC LZTFL1 PPARA PPARG PPBP MKS1 PPP1R3A AVP BBS7 PRKACA PRKAR1A PRKCD PRKG1 PROC B2M PTEN PTH PTGS2 BBS1 BBS2 BBS4 ACTA2 ACE2 BCL2 RELA REN RET RGS2 RPS6KB1 BDKRB2 CELA2A SCNN1A SCNN1B SCNN1G CCL2 SELP WNK1 WNK4 SLC6A2 NCF1 SLC12A2 SLC12A3 BMPR2 SOD1 SOD2 SOD3 STIM1 STK11 TACR1 TGFB1 TGFB2 TGFB3 TGFBR1 TGFBR2 TGM2 THPO TIMP1 TLR4 TNF TP53 TPM1 TRH TRPC3 TRPC5 UCN UCP2 UMOD VCAM1 VDR VHL VWF WT1 CACNA1C CACNA1D CACNA2D1 ALMS1 CALCA MFAP5 CALR MKKS CUL3 CAT OFD1 ORAI1 RGS5 ITGA8 IKBKAP CAV1 PDE8B AOC3 SERPINA6 CBS IER3 AIP USP8 DYRK1B SLC9A3R2 ADIPOQ ACVRL1 ITM2B CD36 IQCB1 MAFB OXSR1\n"
          ]
        }
      ]
    },
    {
      "cell_type": "markdown",
      "source": [
        "Check if gene symbols for all genes in the seed gene list are updated and approved on the HGNC website (from https://www.genenames.org/tools/multi-symbol-checker/)"
      ],
      "metadata": {
        "id": "VKULIP1P1Po0"
      }
    },
    {
      "cell_type": "code",
      "source": [
        "# Upload this csv in the multi-symbol checker tool of the HGNC: \n",
        "disease_DF['geneSymbol'].to_csv('gene_symbols.csv', index = False, header = False, line_terminator = ',')"
      ],
      "metadata": {
        "id": "-ooZpmHj1KuM"
      },
      "execution_count": 39,
      "outputs": []
    },
    {
      "cell_type": "code",
      "source": [
        "disease_DF['geneId'].to_csv('geneId.csv', index = False, header = False, line_terminator = ',')"
      ],
      "metadata": {
        "id": "OCXjlWgv4CGH"
      },
      "execution_count": 42,
      "outputs": []
    },
    {
      "cell_type": "code",
      "source": [
        "disease_DF"
      ],
      "metadata": {
        "colab": {
          "base_uri": "https://localhost:8080/",
          "height": 661
        },
        "id": "IomAs_Rh4-nK",
        "outputId": "c20373c8-89c4-4be8-dc96-ba1bbc17232b"
      },
      "execution_count": 43,
      "outputs": [
        {
          "output_type": "execute_result",
          "data": {
            "text/plain": [
              "        geneId geneSymbol diseaseId           diseaseName     score  NofPmids  \\\n",
              "479      10019      SH2B3  C0020538  Hypertensive disease  0.203231         0   \n",
              "850      10052       GJC1  C0020538  Hypertensive disease  0.200000         1   \n",
              "874      10058      ABCB6  C0020538  Hypertensive disease  0.200000         0   \n",
              "2452     10269   ZMPSTE24  C0020538  Hypertensive disease  0.200000         0   \n",
              "3619     10451       VAV3  C0020538  Hypertensive disease  0.200275         1   \n",
              "...        ...        ...       ...                   ...       ...       ...   \n",
              "126779    9445      ITM2B  C0020538  Hypertensive disease  0.200000         1   \n",
              "127097     948       CD36  C0020538  Hypertensive disease  0.209195         1   \n",
              "128361    9657      IQCB1  C0020538  Hypertensive disease  0.200000         0   \n",
              "130166    9935       MAFB  C0020538  Hypertensive disease  0.200000         0   \n",
              "130286    9943      OXSR1  C0020538  Hypertensive disease  0.200275         1   \n",
              "\n",
              "        NofSnps     source  \n",
              "479           0        HPO  \n",
              "850           0  CTD_human  \n",
              "874           0        HPO  \n",
              "2452          0        HPO  \n",
              "3619          0  CTD_human  \n",
              "...         ...        ...  \n",
              "126779        0  CTD_human  \n",
              "127097        0  CTD_human  \n",
              "128361        0        HPO  \n",
              "130166        0        HPO  \n",
              "130286        0  CTD_human  \n",
              "\n",
              "[303 rows x 8 columns]"
            ],
            "text/html": [
              "\n",
              "  <div id=\"df-08cdeaa1-fb9e-45bc-a2b0-aa4622a0cb61\">\n",
              "    <div class=\"colab-df-container\">\n",
              "      <div>\n",
              "<style scoped>\n",
              "    .dataframe tbody tr th:only-of-type {\n",
              "        vertical-align: middle;\n",
              "    }\n",
              "\n",
              "    .dataframe tbody tr th {\n",
              "        vertical-align: top;\n",
              "    }\n",
              "\n",
              "    .dataframe thead th {\n",
              "        text-align: right;\n",
              "    }\n",
              "</style>\n",
              "<table border=\"1\" class=\"dataframe\">\n",
              "  <thead>\n",
              "    <tr style=\"text-align: right;\">\n",
              "      <th></th>\n",
              "      <th>geneId</th>\n",
              "      <th>geneSymbol</th>\n",
              "      <th>diseaseId</th>\n",
              "      <th>diseaseName</th>\n",
              "      <th>score</th>\n",
              "      <th>NofPmids</th>\n",
              "      <th>NofSnps</th>\n",
              "      <th>source</th>\n",
              "    </tr>\n",
              "  </thead>\n",
              "  <tbody>\n",
              "    <tr>\n",
              "      <th>479</th>\n",
              "      <td>10019</td>\n",
              "      <td>SH2B3</td>\n",
              "      <td>C0020538</td>\n",
              "      <td>Hypertensive disease</td>\n",
              "      <td>0.203231</td>\n",
              "      <td>0</td>\n",
              "      <td>0</td>\n",
              "      <td>HPO</td>\n",
              "    </tr>\n",
              "    <tr>\n",
              "      <th>850</th>\n",
              "      <td>10052</td>\n",
              "      <td>GJC1</td>\n",
              "      <td>C0020538</td>\n",
              "      <td>Hypertensive disease</td>\n",
              "      <td>0.200000</td>\n",
              "      <td>1</td>\n",
              "      <td>0</td>\n",
              "      <td>CTD_human</td>\n",
              "    </tr>\n",
              "    <tr>\n",
              "      <th>874</th>\n",
              "      <td>10058</td>\n",
              "      <td>ABCB6</td>\n",
              "      <td>C0020538</td>\n",
              "      <td>Hypertensive disease</td>\n",
              "      <td>0.200000</td>\n",
              "      <td>0</td>\n",
              "      <td>0</td>\n",
              "      <td>HPO</td>\n",
              "    </tr>\n",
              "    <tr>\n",
              "      <th>2452</th>\n",
              "      <td>10269</td>\n",
              "      <td>ZMPSTE24</td>\n",
              "      <td>C0020538</td>\n",
              "      <td>Hypertensive disease</td>\n",
              "      <td>0.200000</td>\n",
              "      <td>0</td>\n",
              "      <td>0</td>\n",
              "      <td>HPO</td>\n",
              "    </tr>\n",
              "    <tr>\n",
              "      <th>3619</th>\n",
              "      <td>10451</td>\n",
              "      <td>VAV3</td>\n",
              "      <td>C0020538</td>\n",
              "      <td>Hypertensive disease</td>\n",
              "      <td>0.200275</td>\n",
              "      <td>1</td>\n",
              "      <td>0</td>\n",
              "      <td>CTD_human</td>\n",
              "    </tr>\n",
              "    <tr>\n",
              "      <th>...</th>\n",
              "      <td>...</td>\n",
              "      <td>...</td>\n",
              "      <td>...</td>\n",
              "      <td>...</td>\n",
              "      <td>...</td>\n",
              "      <td>...</td>\n",
              "      <td>...</td>\n",
              "      <td>...</td>\n",
              "    </tr>\n",
              "    <tr>\n",
              "      <th>126779</th>\n",
              "      <td>9445</td>\n",
              "      <td>ITM2B</td>\n",
              "      <td>C0020538</td>\n",
              "      <td>Hypertensive disease</td>\n",
              "      <td>0.200000</td>\n",
              "      <td>1</td>\n",
              "      <td>0</td>\n",
              "      <td>CTD_human</td>\n",
              "    </tr>\n",
              "    <tr>\n",
              "      <th>127097</th>\n",
              "      <td>948</td>\n",
              "      <td>CD36</td>\n",
              "      <td>C0020538</td>\n",
              "      <td>Hypertensive disease</td>\n",
              "      <td>0.209195</td>\n",
              "      <td>1</td>\n",
              "      <td>0</td>\n",
              "      <td>CTD_human</td>\n",
              "    </tr>\n",
              "    <tr>\n",
              "      <th>128361</th>\n",
              "      <td>9657</td>\n",
              "      <td>IQCB1</td>\n",
              "      <td>C0020538</td>\n",
              "      <td>Hypertensive disease</td>\n",
              "      <td>0.200000</td>\n",
              "      <td>0</td>\n",
              "      <td>0</td>\n",
              "      <td>HPO</td>\n",
              "    </tr>\n",
              "    <tr>\n",
              "      <th>130166</th>\n",
              "      <td>9935</td>\n",
              "      <td>MAFB</td>\n",
              "      <td>C0020538</td>\n",
              "      <td>Hypertensive disease</td>\n",
              "      <td>0.200000</td>\n",
              "      <td>0</td>\n",
              "      <td>0</td>\n",
              "      <td>HPO</td>\n",
              "    </tr>\n",
              "    <tr>\n",
              "      <th>130286</th>\n",
              "      <td>9943</td>\n",
              "      <td>OXSR1</td>\n",
              "      <td>C0020538</td>\n",
              "      <td>Hypertensive disease</td>\n",
              "      <td>0.200275</td>\n",
              "      <td>1</td>\n",
              "      <td>0</td>\n",
              "      <td>CTD_human</td>\n",
              "    </tr>\n",
              "  </tbody>\n",
              "</table>\n",
              "<p>303 rows × 8 columns</p>\n",
              "</div>\n",
              "      <button class=\"colab-df-convert\" onclick=\"convertToInteractive('df-08cdeaa1-fb9e-45bc-a2b0-aa4622a0cb61')\"\n",
              "              title=\"Convert this dataframe to an interactive table.\"\n",
              "              style=\"display:none;\">\n",
              "        \n",
              "  <svg xmlns=\"http://www.w3.org/2000/svg\" height=\"24px\"viewBox=\"0 0 24 24\"\n",
              "       width=\"24px\">\n",
              "    <path d=\"M0 0h24v24H0V0z\" fill=\"none\"/>\n",
              "    <path d=\"M18.56 5.44l.94 2.06.94-2.06 2.06-.94-2.06-.94-.94-2.06-.94 2.06-2.06.94zm-11 1L8.5 8.5l.94-2.06 2.06-.94-2.06-.94L8.5 2.5l-.94 2.06-2.06.94zm10 10l.94 2.06.94-2.06 2.06-.94-2.06-.94-.94-2.06-.94 2.06-2.06.94z\"/><path d=\"M17.41 7.96l-1.37-1.37c-.4-.4-.92-.59-1.43-.59-.52 0-1.04.2-1.43.59L10.3 9.45l-7.72 7.72c-.78.78-.78 2.05 0 2.83L4 21.41c.39.39.9.59 1.41.59.51 0 1.02-.2 1.41-.59l7.78-7.78 2.81-2.81c.8-.78.8-2.07 0-2.86zM5.41 20L4 18.59l7.72-7.72 1.47 1.35L5.41 20z\"/>\n",
              "  </svg>\n",
              "      </button>\n",
              "      \n",
              "  <style>\n",
              "    .colab-df-container {\n",
              "      display:flex;\n",
              "      flex-wrap:wrap;\n",
              "      gap: 12px;\n",
              "    }\n",
              "\n",
              "    .colab-df-convert {\n",
              "      background-color: #E8F0FE;\n",
              "      border: none;\n",
              "      border-radius: 50%;\n",
              "      cursor: pointer;\n",
              "      display: none;\n",
              "      fill: #1967D2;\n",
              "      height: 32px;\n",
              "      padding: 0 0 0 0;\n",
              "      width: 32px;\n",
              "    }\n",
              "\n",
              "    .colab-df-convert:hover {\n",
              "      background-color: #E2EBFA;\n",
              "      box-shadow: 0px 1px 2px rgba(60, 64, 67, 0.3), 0px 1px 3px 1px rgba(60, 64, 67, 0.15);\n",
              "      fill: #174EA6;\n",
              "    }\n",
              "\n",
              "    [theme=dark] .colab-df-convert {\n",
              "      background-color: #3B4455;\n",
              "      fill: #D2E3FC;\n",
              "    }\n",
              "\n",
              "    [theme=dark] .colab-df-convert:hover {\n",
              "      background-color: #434B5C;\n",
              "      box-shadow: 0px 1px 3px 1px rgba(0, 0, 0, 0.15);\n",
              "      filter: drop-shadow(0px 1px 2px rgba(0, 0, 0, 0.3));\n",
              "      fill: #FFFFFF;\n",
              "    }\n",
              "  </style>\n",
              "\n",
              "      <script>\n",
              "        const buttonEl =\n",
              "          document.querySelector('#df-08cdeaa1-fb9e-45bc-a2b0-aa4622a0cb61 button.colab-df-convert');\n",
              "        buttonEl.style.display =\n",
              "          google.colab.kernel.accessAllowed ? 'block' : 'none';\n",
              "\n",
              "        async function convertToInteractive(key) {\n",
              "          const element = document.querySelector('#df-08cdeaa1-fb9e-45bc-a2b0-aa4622a0cb61');\n",
              "          const dataTable =\n",
              "            await google.colab.kernel.invokeFunction('convertToInteractive',\n",
              "                                                     [key], {});\n",
              "          if (!dataTable) return;\n",
              "\n",
              "          const docLinkHtml = 'Like what you see? Visit the ' +\n",
              "            '<a target=\"_blank\" href=https://colab.research.google.com/notebooks/data_table.ipynb>data table notebook</a>'\n",
              "            + ' to learn more about interactive tables.';\n",
              "          element.innerHTML = '';\n",
              "          dataTable['output_type'] = 'display_data';\n",
              "          await google.colab.output.renderOutput(dataTable, element);\n",
              "          const docLink = document.createElement('div');\n",
              "          docLink.innerHTML = docLinkHtml;\n",
              "          element.appendChild(docLink);\n",
              "        }\n",
              "      </script>\n",
              "    </div>\n",
              "  </div>\n",
              "  "
            ]
          },
          "metadata": {},
          "execution_count": 43
        }
      ]
    },
    {
      "cell_type": "code",
      "source": [
        "# Now for each protein in seed collect info on uniprot"
      ],
      "metadata": {
        "id": "GomeByj24_xB"
      },
      "execution_count": null,
      "outputs": []
    }
  ]
}