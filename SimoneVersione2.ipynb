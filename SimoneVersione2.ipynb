{
  "cells": [
    {
      "cell_type": "markdown",
      "metadata": {
        "id": "view-in-github",
        "colab_type": "text"
      },
      "source": [
        "<a href=\"https://colab.research.google.com/github/leonardoLavagna/Drug-repurposing/blob/main/SimoneVersione2.ipynb\" target=\"_parent\"><img src=\"https://colab.research.google.com/assets/colab-badge.svg\" alt=\"Open In Colab\"/></a>"
      ]
    },
    {
      "cell_type": "markdown",
      "metadata": {
        "id": "MB2jks_equ2c"
      },
      "source": [
        "## Set Up"
      ]
    },
    {
      "cell_type": "markdown",
      "source": [
        "Before anything else remeber to:\n",
        "\n",
        "\n",
        "1.   When using Google Colab collect all the needed files inside the folder BI-Data in your Google Drive.\n",
        "2.   When using colab upload the auxiliary functions in the 'content' directory.\n",
        "\n"
      ],
      "metadata": {
        "id": "nkGG3DRvDH3K"
      }
    },
    {
      "cell_type": "code",
      "execution_count": 1,
      "metadata": {
        "id": "cOkMPGHjo7_w",
        "colab": {
          "base_uri": "https://localhost:8080/"
        },
        "outputId": "0c51bf17-639d-4768-a271-57cfcdc29b54"
      },
      "outputs": [
        {
          "output_type": "stream",
          "name": "stdout",
          "text": [
            "Mounted at /content/drive\n"
          ]
        }
      ],
      "source": [
        "# ASSIGN colab = True WHEN USING GOOGLE COLAB\n",
        "\n",
        "import os\n",
        "colab=True\n",
        "if colab:\n",
        "    from google.colab import drive\n",
        "    drive.mount('/content/drive',force_remount=True)\n",
        "    os.chdir('/content/drive/MyDrive/BI-Data/')"
      ]
    },
    {
      "cell_type": "code",
      "execution_count": 2,
      "metadata": {
        "id": "IyBEndFwwnwH",
        "colab": {
          "base_uri": "https://localhost:8080/"
        },
        "outputId": "fb3fe9d0-afbe-438a-ea27-c4596e44d205"
      },
      "outputs": [
        {
          "output_type": "stream",
          "name": "stdout",
          "text": [
            "fatal: destination path 'DiaBLE' already exists and is not an empty directory.\n",
            "fatal: destination path 'DIAMOnD' already exists and is not an empty directory.\n"
          ]
        }
      ],
      "source": [
        "!git clone https://github.com/dinaghiassian/DIAMOnD DiaBLE\n",
        "!git clone https://github.com/dinaghiassian/DIAMOnD"
      ]
    },
    {
      "cell_type": "code",
      "execution_count": 3,
      "metadata": {
        "id": "xp0LQsv8kGTW",
        "colab": {
          "base_uri": "https://localhost:8080/"
        },
        "outputId": "f02f4b26-c410-4657-a71c-4debd2c338fe"
      },
      "outputs": [
        {
          "output_type": "stream",
          "name": "stdout",
          "text": [
            "Looking in indexes: https://pypi.org/simple, https://us-python.pkg.dev/colab-wheels/public/simple/\n",
            "Requirement already satisfied: markov_clustering in /usr/local/lib/python3.8/dist-packages (0.0.6.dev0)\n",
            "Requirement already satisfied: scipy>=0.19.0 in /usr/local/lib/python3.8/dist-packages (from markov_clustering) (1.10.0)\n",
            "Requirement already satisfied: numpy in /usr/local/lib/python3.8/dist-packages (from markov_clustering) (1.21.6)\n",
            "Requirement already satisfied: scikit-learn in /usr/local/lib/python3.8/dist-packages (from markov_clustering) (1.0.2)\n",
            "Requirement already satisfied: joblib>=0.11 in /usr/local/lib/python3.8/dist-packages (from scikit-learn->markov_clustering) (1.2.0)\n",
            "Requirement already satisfied: threadpoolctl>=2.0.0 in /usr/local/lib/python3.8/dist-packages (from scikit-learn->markov_clustering) (3.1.0)\n",
            "Looking in indexes: https://pypi.org/simple, https://us-python.pkg.dev/colab-wheels/public/simple/\n",
            "Requirement already satisfied: networkx in /usr/local/lib/python3.8/dist-packages (2.8.8)\n",
            "Looking in indexes: https://pypi.org/simple, https://us-python.pkg.dev/colab-wheels/public/simple/\n",
            "Requirement already satisfied: scipy in /usr/local/lib/python3.8/dist-packages (1.10.0)\n",
            "Requirement already satisfied: numpy<1.27.0,>=1.19.5 in /usr/local/lib/python3.8/dist-packages (from scipy) (1.21.6)\n"
          ]
        }
      ],
      "source": [
        "#https://github.com/GuyAllard/markov_clustering\n",
        "%pip install markov_clustering \n",
        "%pip install networkx --upgrade\n",
        "%pip install scipy --upgrade"
      ]
    },
    {
      "cell_type": "code",
      "execution_count": 4,
      "metadata": {
        "id": "nVfF8_rdk1uA"
      },
      "outputs": [],
      "source": [
        "# DIRECTORY TREE\n",
        "# Change according to your file system\n",
        "# This path should be the same used in the auxiliary_funtions module\n",
        "# Remark . When using Google Colab remember that the path has been changed to \n",
        "# /content/drive/MyDrive/BI-Data/ \n",
        "\n",
        "path = './'"
      ]
    },
    {
      "cell_type": "markdown",
      "metadata": {
        "id": "L_Mop6zIArHG"
      },
      "source": [
        "### Libraries"
      ]
    },
    {
      "cell_type": "code",
      "execution_count": 5,
      "metadata": {
        "id": "4gea7gDcqpFo"
      },
      "outputs": [],
      "source": [
        "import re\n",
        "import csv\n",
        "import random\n",
        "import json\n",
        "import ast\n",
        "import sys\n",
        "import statistics\n",
        "import auxiliary_functions as AF\n",
        "import pandas as pd\n",
        "import networkx as nx\n",
        "import matplotlib.pyplot as plt\n",
        "import numpy as np\n",
        "import markov_clustering as mc\n",
        "from tqdm import tqdm\n",
        "from scipy.stats import hypergeom\n",
        "from sklearn.model_selection import train_test_split"
      ]
    },
    {
      "cell_type": "code",
      "source": [
        "!ls"
      ],
      "metadata": {
        "colab": {
          "base_uri": "https://localhost:8080/"
        },
        "id": "EMhZ794RhPRh",
        "outputId": "476fa702-6ada-40ee-be06-0bf55f3e7919"
      },
      "execution_count": 6,
      "outputs": [
        {
          "output_type": "stream",
          "name": "stdout",
          "text": [
            " auxiliary_functions.py\n",
            " BIOGRID-ORGANISM-Homo_sapiens-4.4.204.tab3.txt\n",
            " cross_0.txt\n",
            " cross_1.txt\n",
            " cross_2.txt\n",
            " cross_3.txt\n",
            " cross_4.txt\n",
            " curated_gene_disease_associations.tsv\n",
            " DiaBLE\n",
            " DiaBLE_results\n",
            " DIAMOnD\n",
            " DIAMOnD.py\n",
            " DIAMOnD_results\n",
            " file_name\n",
            " first_200_added_nodes_weight_1_Key0.txt\n",
            "'Hypertensive disease_seed_gene.txt'\n",
            "'Hypertensive disease_splits.json'\n",
            " local_measures.csv\n",
            " new_name.txt\n",
            " PPI.adjlist\n",
            " PPI_Hypertensive.txt\n",
            " PPI_Libman.txt\n",
            " probeset_0.txt\n",
            " probeset_1.txt\n",
            " probeset_2.txt\n",
            " probeset_3.txt\n",
            " probeset_4.txt\n",
            " __pycache__\n",
            " res0.txt\n",
            " seed_genes.txt\n",
            " seed_gene.txt\n",
            " splits.json\n"
          ]
        }
      ]
    },
    {
      "cell_type": "markdown",
      "metadata": {
        "id": "mRbllah2A0o5"
      },
      "source": [
        "## TASK 1 . PPI and GDA data gathering and interactome reconstruction"
      ]
    },
    {
      "cell_type": "markdown",
      "metadata": {
        "id": "8dkVMfSshTjz"
      },
      "source": [
        "### Data gathering and interactome reconstruction"
      ]
    },
    {
      "cell_type": "code",
      "execution_count": 7,
      "metadata": {
        "colab": {
          "base_uri": "https://localhost:8080/"
        },
        "id": "Uhof4wFsD15F",
        "outputId": "ef78a96a-7179-43ba-fce3-961612ab217b"
      },
      "outputs": [
        {
          "output_type": "stream",
          "name": "stdout",
          "text": [
            "Processing interactome...\n"
          ]
        },
        {
          "output_type": "stream",
          "name": "stderr",
          "text": [
            "<ipython-input-7-876a84ed4143>:3: DtypeWarning: Columns (1,2,18) have mixed types.Specify dtype option on import or set low_memory=False.\n",
            "  HSN = AF.interactome_processing(path+\"BIOGRID-ORGANISM-Homo_sapiens-4.4.204.tab3.txt\")\n"
          ]
        },
        {
          "output_type": "stream",
          "name": "stdout",
          "text": [
            "# Process completed.\n",
            "Creating seed gene splits...\n",
            "Number of genes in disease PPI:  290\n",
            "# Process completed.\n",
            "Importing seed genes...\n",
            "# Process completed.\n"
          ]
        }
      ],
      "source": [
        "# DATA GATHERING AND PROCESSING\n",
        "\n",
        "HSN = AF.interactome_processing(path+\"BIOGRID-ORGANISM-Homo_sapiens-4.4.204.tab3.txt\")\n",
        "DGA_all = pd.read_csv(path+'curated_gene_disease_associations.tsv',sep='\\t')\n",
        "DGA =  DGA_all[DGA_all['diseaseName'] == 'Hypertensive disease']\n",
        "DGA = AF.DGA_processing(path+'curated_gene_disease_associations.tsv', 'Hypertensive disease') \n",
        "#DG_in_PPI,splits = AF.make_seeds_splits(DGA,HSN,'Hypertensive disease',path)\n",
        "DG_in_PPI, splits = AF.import_seeds_split('Hypertensive disease')"
      ]
    },
    {
      "cell_type": "markdown",
      "metadata": {
        "id": "IuiA9iw0halS"
      },
      "source": [
        "### Compute the disease LCC and its basic network measures"
      ]
    },
    {
      "cell_type": "code",
      "execution_count": 8,
      "metadata": {
        "colab": {
          "base_uri": "https://localhost:8080/"
        },
        "id": "kqFIzXjThdNg",
        "outputId": "431a6995-508e-4d63-83b6-e741e3618289"
      },
      "outputs": [
        {
          "output_type": "stream",
          "name": "stdout",
          "text": [
            "Extracting LCC...\n",
            "Nodes  19618 , Connections  665061\n",
            "# Process completed.\n"
          ]
        }
      ],
      "source": [
        "# LCC COMPUTATION\n",
        "\n",
        "LCC = AF.extract_LCC_form_PPI(HSN)\n",
        "n_nodes = LCC.number_of_nodes()"
      ]
    },
    {
      "cell_type": "code",
      "execution_count": 9,
      "metadata": {
        "colab": {
          "base_uri": "https://localhost:8080/",
          "height": 661
        },
        "id": "aR1AI341EkvQ",
        "outputId": "d3ef9a72-205e-4dbe-a5d1-1bdd549a0796"
      },
      "outputs": [
        {
          "output_type": "stream",
          "name": "stdout",
          "text": [
            "Creating Disease LCC graph...\n",
            "Nodes in disease LCC  232\n",
            "# Process completed.\n"
          ]
        },
        {
          "output_type": "display_data",
          "data": {
            "text/plain": [
              "<Figure size 576x576 with 1 Axes>"
            ],
            "image/png": "[encoded data removed]"
          },
          "metadata": {}
        }
      ],
      "source": [
        "# LCC PLOT\n",
        "\n",
        "DN = AF.make_disease_graph(HSN, DGA, DG_in_PPI)\n",
        "AF.plot_LCC(DN, DG_in_PPI)"
      ]
    },
    {
      "cell_type": "markdown",
      "metadata": {
        "id": "bvpjeGCqAp_p"
      },
      "source": [
        "## Task 2 . Putative disease genes identification algorithms"
      ]
    },
    {
      "cell_type": "markdown",
      "metadata": {
        "id": "_txKC5NptlHp"
      },
      "source": [
        "### DIAMOnD algorithm"
      ]
    },
    {
      "cell_type": "code",
      "execution_count": 10,
      "metadata": {
        "id": "RTaEJXH56YHE",
        "colab": {
          "base_uri": "https://localhost:8080/"
        },
        "outputId": "24eea044-390b-4795-cbad-a88277f1f020"
      },
      "outputs": [
        {
          "output_type": "stream",
          "name": "stdout",
          "text": [
            "58\n"
          ]
        }
      ],
      "source": [
        "# SET UP\n",
        "\n",
        "#dict with pair k,v where k is the index and v is the list of genes in the probe set\n",
        "with open(path+'Hypertensive disease_splits.json') as f:\n",
        "  dict_ = json.load(f)\n",
        "\n",
        "with open(path+'Hypertensive disease_seed_gene.txt') as f:\n",
        "  data = f.read()\n",
        "  seeds = ast.literal_eval(data)\n",
        "  seeds = np.asarray(seeds)\n",
        "\n",
        "dict_.items()\n",
        "type(dict_)\n",
        "print(len(dict_[\"0\"]))"
      ]
    },
    {
      "cell_type": "code",
      "execution_count": 11,
      "metadata": {
        "colab": {
          "base_uri": "https://localhost:8080/"
        },
        "id": "Mkk1bjXU6s13",
        "outputId": "f1c4e852-4962-45f1-99f6-1efd9d3f79b5"
      },
      "outputs": [
        {
          "output_type": "stream",
          "name": "stdout",
          "text": [
            "0 ['SDCCAG8', 'LYZ', 'OFD1', 'INPPL1', 'TGM2', 'AOC3', 'CYP11B1', 'ADIPOQ', 'USP8', 'KCNMB1', 'NPHP1', 'COX3', 'CCL2', 'ADCY5', 'CYBA', 'HSD11B2', 'CYP21A2', 'CYP17A1', 'EDN3', 'GCG', 'SMAD3', 'ADRA2A', 'SH2B3', 'ELN', 'F12', 'NOS2', 'OXT', 'IGF1', 'DUSP5', 'LOX', 'TNF', 'CYBB', 'TP53', 'ABCC1', 'SOD2', 'SLC12A2', 'TRPC3', 'SCNN1G', 'GJA5', 'CXCL2', 'MDH1', 'COX1', 'PRKAR1A', 'KLK1', 'WNK4', 'EPO', 'AR', 'TGFBR2', 'FN1', 'BBS9', 'LEPR', 'VAV3', 'RELA', 'CACNA2D1', 'IL1B', 'WDPCP', 'ICAM1', 'RGS5']\n",
            "len of l 232\n",
            "1 ['DYRK1B', 'MMP9', 'GSTT1', 'LDLR', 'AGT', 'OLR1', 'PLIN1', 'ACTA2', 'PDE8B', 'AIP', 'CACNA1D', 'COX2', 'NPTN', 'KNG1', 'MKS1', 'FGA', 'TGFB1', 'RALBP1', 'CD2AP', 'FXYD2', 'ORAI1', 'CYP1A1', 'ATP2B3', 'PAX2', 'F11', 'APOB', 'DRD2', 'MUC1', 'GJC1', 'ACE', 'CYTB', 'IFT27', 'LTF', 'NOS3', 'SOD1', 'TRH', 'COL4A4', 'NEDD4L', 'NPPB', 'ADD1', 'RPS6KB1', 'JUN', 'IKBKAP', 'NCF1', 'REN', 'PTGS2', 'WNK1', 'ECE1', 'HTR2B', 'TIMP1', 'NME1', 'COL4A3', 'ALOX15', 'TRIM32', 'GLP1R', 'HMOX1', 'IL6', 'MYD88']\n",
            "len of l 232\n",
            "2 ['AGTR1', 'VHL', 'FBN1', 'SCNN1B', 'CD36', 'NR3C1', 'VDR', 'TGFB3', 'PDE3A', 'ND1', 'PRKCD', 'MKKS', 'LPL', 'BDKRB2', 'KLHL3', 'THPO', 'TRAF3IP1', 'SELP', 'CUL3', 'LDLRAP1', 'PPARA', 'FOXE3', 'MMP2', 'LZTFL1', 'CALCA', 'FGFR2', 'NPR1', 'TGFB2', 'OXSR1', 'AVP', 'NPPA', 'NF1', 'PRKACA', 'CRP', 'INVS', 'UMOD', 'HMBS', 'ALMS1', 'ALB', 'UTS2', 'UCN', 'CTGF', 'CMA1', 'JAK2', 'KCNJ5', 'ND6', 'MYLK', 'INS', 'ATOX1', 'PPP1R3A', 'SMAD4', 'EDN1', 'BCL2', 'GJA4', 'HP', 'FOXF1', 'AHR', 'GLA']\n",
            "len of l 232\n",
            "3 ['KCNJ1', 'GCH1', 'PPARG', 'GSTT2', 'TPM1', 'BBS4', 'SLC6A2', 'ALAD', 'PROC', 'ERCC8', 'SOD3', 'MAFB', 'ND5', 'CRHR2', 'COL4A5', 'FOS', 'GSK3B', 'GP1BA', 'TRNE', 'MYH9', 'RET', 'CBS', 'SCNN1A', 'TACR1', 'BBS7', 'GJA1', 'APOA1', 'LHB', 'TNFRSF11B', 'GNB3', 'ANXA1', 'ENPP1', 'CAT', 'VWF', 'TRNV', 'ABCB6', 'GNAS', 'SERPINA6', 'MC2R', 'TRPC5', 'GCLC', 'PTEN', 'AGTR2', 'CLCNKA', 'CPOX', 'PLAT', 'PRKG1', 'VCAM1', 'WT1', 'SLC9A3R2', 'NR3C2', 'ATP1A1', 'SMARCAL1', 'CELA2A', 'HRH3', 'BBS1', 'TGFBR1', 'LEP']\n",
            "len of l 232\n",
            "4 ['ITGA8', 'RGS2', 'IFT172', 'CAV1', 'GSTA5', 'HSD11B1', 'G6PC', 'MFAP5', 'BBS2', 'IDUA', 'SLC12A3', 'MYH11', 'PLG', 'ATP1A2', 'CACNA1C', 'ADRB1', 'HIF1A', 'ERAP1', 'GUCY1A3', 'NPHP3', 'GPX1', 'ITM2B', 'AOC1', 'ERCC4', 'LMNA', 'SERPINE1', 'POMC', 'MTOR', 'ZMPSTE24', 'STK39', 'ERCC6', 'EDNRA', 'ACT', 'COL3A1', 'AQP1', 'BMPR2', 'ATP2B1', 'ACE2', 'TLR4', 'B2M', 'CEP164', 'COL1A1', 'FMO3', 'IQCB1', 'CETP', 'UCP2', 'GNRH1', 'APOE', 'GAL', 'SLC37A4', 'EGFR', 'IER3', 'ACVRL1', 'PPBP', 'STIM1', 'STK11', 'CALR', 'PTH']\n",
            "len of l 232\n"
          ]
        }
      ],
      "source": [
        "# CROSS VALIDATION SPLITS INTO FILES\n",
        "\n",
        "# 58 is the probe set v\n",
        "# 290-58 has to be the training set l\n",
        "for k,v in dict_.items():\n",
        "    print(k,v)\n",
        "\n",
        "    with open(path+'probeset_{}.txt'.format(k),'w') as f:\n",
        "        for item in v:\n",
        "            f.write(\"%s,\" % item)   \n",
        "\n",
        "    l=list(set(seeds).difference(set(v))) #l is 232, it seems right!\n",
        "    print(\"len of l\",len(l))\n",
        " \n",
        "    with open(path+'cross_{}.txt'.format(k),'w') as f:\n",
        "        for item in l:\n",
        "            f.write(\"%s\\n\" % item)\n",
        "    "
      ]
    },
    {
      "cell_type": "markdown",
      "metadata": {
        "id": "ZSzqx9nizFF5"
      },
      "source": [
        "### Validation"
      ]
    },
    {
      "cell_type": "markdown",
      "source": [
        "Now we are going to test the model, therefore we extract the training set and see how many nodes we retrieve of the probe set using a 5 cross validation"
      ],
      "metadata": {
        "id": "8QKohX02nnMb"
      }
    },
    {
      "cell_type": "markdown",
      "metadata": {
        "id": "x7AoB5Yd63G5"
      },
      "source": [
        "#### Evaluation of performances"
      ]
    },
    {
      "cell_type": "code",
      "source": [
        "\n",
        "def evaluation(top_n, cval, alg_name,k):\n",
        "    recalls, precs, f1s, ndcg_scores = ([] for _ in range(4))\n",
        "\n",
        "    cv = pd.read_csv('res{}.txt'.format(k),sep='\\t')\n",
        "    cv_nodes = cv[alg_name + '_node'].tolist()\n",
        "\n",
        "    \n",
        "    with open(path+'probeset_{}.txt'.format(k)) as f:\n",
        "          probeset = f.read().split(\",\")\n",
        "          probeset=set(probeset)\n",
        "          probeset.remove(\"\")  \n",
        "\n",
        "    # Subsetting\n",
        "    top = set(cv_nodes[0:top_n]) \n",
        "    \n",
        "    # Intersecting with the probe set  \n",
        "    inters = top.intersection(probeset) \n",
        "    print(inters)\n",
        "\n",
        "    # Appending the results\n",
        "    recall = round(len(inters)/cval, 3)\n",
        "    prec = round(len(inters)/top_n, 3)\n",
        "    recalls.append(recall)\n",
        "    precs.append(prec)\n",
        "\n",
        "    try:\n",
        "      f1s.append(round(2*((recall*prec)/(recall+prec)), 3))\n",
        "    except:\n",
        "      f1s.append(0)\n",
        "\n",
        "    return {'recall': recalls, \n",
        "            'precision': precs, \n",
        "            'F1 Score': f1s, }"
      ],
      "metadata": {
        "id": "dSJGARgtE8gu"
      },
      "execution_count": 58,
      "outputs": []
    },
    {
      "cell_type": "code",
      "source": [
        "alg_name = \"DIAMOnD\"\n",
        "tot = 200\n",
        "!python3  DIAMOnD.py  PPI_Hypertensive.txt  cross_0.txt  200 \"res0.txt\"\n",
        "m = evaluation(tot, 58, alg_name,0)\n",
        "print(m)\n",
        "\n",
        "!python3  DIAMOnD.py  PPI_Hypertensive.txt  cross_1.txt  200 \"res1.txt\"\n",
        "m = evaluation(tot, 58, alg_name,1)\n",
        "print(m)\n",
        "\n",
        "!python3  DIAMOnD.py  PPI_Hypertensive.txt  cross_2.txt  200 \"res2.txt\"\n",
        "m = evaluation(tot, 58, alg_name,2)  \n",
        "print(m)\n",
        "\n",
        "\n",
        "!python3  DIAMOnD.py  PPI_Hypertensive.txt  cross_3.txt  200 \"res3.txt\"\n",
        "m = evaluation(tot, 58, alg_name,3)  \n",
        "print(m)\n",
        "\n",
        "\n",
        "!python3  DIAMOnD.py  PPI_Hypertensive.txt  cross_4.txt  200 \"res4.txt\"\n",
        "m = evaluation(tot, 58, alg_name,4)  \n",
        "print(m)"
      ],
      "metadata": {
        "id": "u_yzJnvRi6t9",
        "colab": {
          "base_uri": "https://localhost:8080/"
        },
        "outputId": "c5150d3d-22e3-47d4-92f9-350e286aefdf"
      },
      "execution_count": 59,
      "outputs": [
        {
          "output_type": "stream",
          "name": "stdout",
          "text": [
            "Traceback (most recent call last):\n",
            "  File \"DIAMOnD.py\", line 448, in <module>\n",
            "    G_original, seed_genes = read_input(network_edgelist_file, seeds_file)\n",
            "  File \"DIAMOnD.py\", line 126, in read_input\n",
            "    node2 = line_data[1]\n",
            "IndexError: list index out of range\n",
            "{'AR', 'TP53', 'RELA', 'WNK4', 'SMAD3'}\n",
            "{'recall': [0.086], 'precision': [0.025], 'F1 Score': [0.039]}\n",
            "Traceback (most recent call last):\n",
            "  File \"DIAMOnD.py\", line 448, in <module>\n",
            "    G_original, seed_genes = read_input(network_edgelist_file, seeds_file)\n",
            "  File \"DIAMOnD.py\", line 126, in read_input\n",
            "    node2 = line_data[1]\n",
            "IndexError: list index out of range\n",
            "{'JUN'}\n",
            "{'recall': [0.017], 'precision': [0.005], 'F1 Score': [0.008]}\n",
            "Traceback (most recent call last):\n",
            "  File \"DIAMOnD.py\", line 448, in <module>\n",
            "    G_original, seed_genes = read_input(network_edgelist_file, seeds_file)\n",
            "  File \"DIAMOnD.py\", line 126, in read_input\n",
            "    node2 = line_data[1]\n",
            "IndexError: list index out of range\n",
            "{'JAK2'}\n",
            "{'recall': [0.017], 'precision': [0.005], 'F1 Score': [0.008]}\n",
            "Traceback (most recent call last):\n",
            "  File \"DIAMOnD.py\", line 448, in <module>\n",
            "    G_original, seed_genes = read_input(network_edgelist_file, seeds_file)\n",
            "  File \"DIAMOnD.py\", line 126, in read_input\n",
            "    node2 = line_data[1]\n",
            "IndexError: list index out of range\n",
            "{'RET', 'GSK3B', 'PTEN'}\n",
            "{'recall': [0.052], 'precision': [0.015], 'F1 Score': [0.023]}\n",
            "Traceback (most recent call last):\n",
            "  File \"DIAMOnD.py\", line 448, in <module>\n",
            "    G_original, seed_genes = read_input(network_edgelist_file, seeds_file)\n",
            "  File \"DIAMOnD.py\", line 126, in read_input\n",
            "    node2 = line_data[1]\n",
            "IndexError: list index out of range\n",
            "{'HIF1A'}\n",
            "{'recall': [0.017], 'precision': [0.005], 'F1 Score': [0.008]}\n"
          ]
        }
      ]
    },
    {
      "cell_type": "markdown",
      "source": [
        "### Check"
      ],
      "metadata": {
        "id": "9QOItdLTnlne"
      }
    },
    {
      "cell_type": "code",
      "source": [
        "curated_gene_desease_association_DF = pd.read_csv(\"curated_gene_disease_associations.tsv\", sep = '\\t', compression = 'infer')\n",
        "disease_DF = curated_gene_desease_association_DF.loc[curated_gene_desease_association_DF['diseaseId'] == 'C0020538']\n",
        "print('Number of detected genes involved in the desease: ', len(disease_DF))\n",
        "disease_DF.head(5)"
      ],
      "metadata": {
        "colab": {
          "base_uri": "https://localhost:8080/",
          "height": 224
        },
        "id": "yOpOSET6IqVp",
        "outputId": "7f66d881-eee8-4130-d56f-4357a536a23d"
      },
      "execution_count": 17,
      "outputs": [
        {
          "output_type": "stream",
          "name": "stdout",
          "text": [
            "Number of detected genes involved in the desease:  303\n"
          ]
        },
        {
          "output_type": "execute_result",
          "data": {
            "text/plain": [
              "      geneId geneSymbol diseaseId           diseaseName     score  NofPmids  \\\n",
              "479    10019      SH2B3  C0020538  Hypertensive disease  0.203231         0   \n",
              "850    10052       GJC1  C0020538  Hypertensive disease  0.200000         1   \n",
              "874    10058      ABCB6  C0020538  Hypertensive disease  0.200000         0   \n",
              "2452   10269   ZMPSTE24  C0020538  Hypertensive disease  0.200000         0   \n",
              "3619   10451       VAV3  C0020538  Hypertensive disease  0.200275         1   \n",
              "\n",
              "      NofSnps     source  \n",
              "479         0        HPO  \n",
              "850         0  CTD_human  \n",
              "874         0        HPO  \n",
              "2452        0        HPO  \n",
              "3619        0  CTD_human  "
            ],
            "text/html": [
              "\n",
              "  <div id=\"df-aa700b9f-976d-4c37-a273-37b097436b28\">\n",
              "    <div class=\"colab-df-container\">\n",
              "      <div>\n",
              "<style scoped>\n",
              "    .dataframe tbody tr th:only-of-type {\n",
              "        vertical-align: middle;\n",
              "    }\n",
              "\n",
              "    .dataframe tbody tr th {\n",
              "        vertical-align: top;\n",
              "    }\n",
              "\n",
              "    .dataframe thead th {\n",
              "        text-align: right;\n",
              "    }\n",
              "</style>\n",
              "<table border=\"1\" class=\"dataframe\">\n",
              "  <thead>\n",
              "    <tr style=\"text-align: right;\">\n",
              "      <th></th>\n",
              "      <th>geneId</th>\n",
              "      <th>geneSymbol</th>\n",
              "      <th>diseaseId</th>\n",
              "      <th>diseaseName</th>\n",
              "      <th>score</th>\n",
              "      <th>NofPmids</th>\n",
              "      <th>NofSnps</th>\n",
              "      <th>source</th>\n",
              "    </tr>\n",
              "  </thead>\n",
              "  <tbody>\n",
              "    <tr>\n",
              "      <th>479</th>\n",
              "      <td>10019</td>\n",
              "      <td>SH2B3</td>\n",
              "      <td>C0020538</td>\n",
              "      <td>Hypertensive disease</td>\n",
              "      <td>0.203231</td>\n",
              "      <td>0</td>\n",
              "      <td>0</td>\n",
              "      <td>HPO</td>\n",
              "    </tr>\n",
              "    <tr>\n",
              "      <th>850</th>\n",
              "      <td>10052</td>\n",
              "      <td>GJC1</td>\n",
              "      <td>C0020538</td>\n",
              "      <td>Hypertensive disease</td>\n",
              "      <td>0.200000</td>\n",
              "      <td>1</td>\n",
              "      <td>0</td>\n",
              "      <td>CTD_human</td>\n",
              "    </tr>\n",
              "    <tr>\n",
              "      <th>874</th>\n",
              "      <td>10058</td>\n",
              "      <td>ABCB6</td>\n",
              "      <td>C0020538</td>\n",
              "      <td>Hypertensive disease</td>\n",
              "      <td>0.200000</td>\n",
              "      <td>0</td>\n",
              "      <td>0</td>\n",
              "      <td>HPO</td>\n",
              "    </tr>\n",
              "    <tr>\n",
              "      <th>2452</th>\n",
              "      <td>10269</td>\n",
              "      <td>ZMPSTE24</td>\n",
              "      <td>C0020538</td>\n",
              "      <td>Hypertensive disease</td>\n",
              "      <td>0.200000</td>\n",
              "      <td>0</td>\n",
              "      <td>0</td>\n",
              "      <td>HPO</td>\n",
              "    </tr>\n",
              "    <tr>\n",
              "      <th>3619</th>\n",
              "      <td>10451</td>\n",
              "      <td>VAV3</td>\n",
              "      <td>C0020538</td>\n",
              "      <td>Hypertensive disease</td>\n",
              "      <td>0.200275</td>\n",
              "      <td>1</td>\n",
              "      <td>0</td>\n",
              "      <td>CTD_human</td>\n",
              "    </tr>\n",
              "  </tbody>\n",
              "</table>\n",
              "</div>\n",
              "      <button class=\"colab-df-convert\" onclick=\"convertToInteractive('df-aa700b9f-976d-4c37-a273-37b097436b28')\"\n",
              "              title=\"Convert this dataframe to an interactive table.\"\n",
              "              style=\"display:none;\">\n",
              "        \n",
              "  <svg xmlns=\"http://www.w3.org/2000/svg\" height=\"24px\"viewBox=\"0 0 24 24\"\n",
              "       width=\"24px\">\n",
              "    <path d=\"M0 0h24v24H0V0z\" fill=\"none\"/>\n",
              "    <path d=\"M18.56 5.44l.94 2.06.94-2.06 2.06-.94-2.06-.94-.94-2.06-.94 2.06-2.06.94zm-11 1L8.5 8.5l.94-2.06 2.06-.94-2.06-.94L8.5 2.5l-.94 2.06-2.06.94zm10 10l.94 2.06.94-2.06 2.06-.94-2.06-.94-.94-2.06-.94 2.06-2.06.94z\"/><path d=\"M17.41 7.96l-1.37-1.37c-.4-.4-.92-.59-1.43-.59-.52 0-1.04.2-1.43.59L10.3 9.45l-7.72 7.72c-.78.78-.78 2.05 0 2.83L4 21.41c.39.39.9.59 1.41.59.51 0 1.02-.2 1.41-.59l7.78-7.78 2.81-2.81c.8-.78.8-2.07 0-2.86zM5.41 20L4 18.59l7.72-7.72 1.47 1.35L5.41 20z\"/>\n",
              "  </svg>\n",
              "      </button>\n",
              "      \n",
              "  <style>\n",
              "    .colab-df-container {\n",
              "      display:flex;\n",
              "      flex-wrap:wrap;\n",
              "      gap: 12px;\n",
              "    }\n",
              "\n",
              "    .colab-df-convert {\n",
              "      background-color: #E8F0FE;\n",
              "      border: none;\n",
              "      border-radius: 50%;\n",
              "      cursor: pointer;\n",
              "      display: none;\n",
              "      fill: #1967D2;\n",
              "      height: 32px;\n",
              "      padding: 0 0 0 0;\n",
              "      width: 32px;\n",
              "    }\n",
              "\n",
              "    .colab-df-convert:hover {\n",
              "      background-color: #E2EBFA;\n",
              "      box-shadow: 0px 1px 2px rgba(60, 64, 67, 0.3), 0px 1px 3px 1px rgba(60, 64, 67, 0.15);\n",
              "      fill: #174EA6;\n",
              "    }\n",
              "\n",
              "    [theme=dark] .colab-df-convert {\n",
              "      background-color: #3B4455;\n",
              "      fill: #D2E3FC;\n",
              "    }\n",
              "\n",
              "    [theme=dark] .colab-df-convert:hover {\n",
              "      background-color: #434B5C;\n",
              "      box-shadow: 0px 1px 3px 1px rgba(0, 0, 0, 0.15);\n",
              "      filter: drop-shadow(0px 1px 2px rgba(0, 0, 0, 0.3));\n",
              "      fill: #FFFFFF;\n",
              "    }\n",
              "  </style>\n",
              "\n",
              "      <script>\n",
              "        const buttonEl =\n",
              "          document.querySelector('#df-aa700b9f-976d-4c37-a273-37b097436b28 button.colab-df-convert');\n",
              "        buttonEl.style.display =\n",
              "          google.colab.kernel.accessAllowed ? 'block' : 'none';\n",
              "\n",
              "        async function convertToInteractive(key) {\n",
              "          const element = document.querySelector('#df-aa700b9f-976d-4c37-a273-37b097436b28');\n",
              "          const dataTable =\n",
              "            await google.colab.kernel.invokeFunction('convertToInteractive',\n",
              "                                                     [key], {});\n",
              "          if (!dataTable) return;\n",
              "\n",
              "          const docLinkHtml = 'Like what you see? Visit the ' +\n",
              "            '<a target=\"_blank\" href=https://colab.research.google.com/notebooks/data_table.ipynb>data table notebook</a>'\n",
              "            + ' to learn more about interactive tables.';\n",
              "          element.innerHTML = '';\n",
              "          dataTable['output_type'] = 'display_data';\n",
              "          await google.colab.output.renderOutput(dataTable, element);\n",
              "          const docLink = document.createElement('div');\n",
              "          docLink.innerHTML = docLinkHtml;\n",
              "          element.appendChild(docLink);\n",
              "        }\n",
              "      </script>\n",
              "    </div>\n",
              "  </div>\n",
              "  "
            ]
          },
          "metadata": {},
          "execution_count": 17
        }
      ]
    },
    {
      "cell_type": "code",
      "source": [
        "print(\"List of gene symbols:\\n\", *list(disease_DF['geneSymbol']))\n",
        "seed_genes_symbols = list(disease_DF['geneSymbol'])"
      ],
      "metadata": {
        "colab": {
          "base_uri": "https://localhost:8080/"
        },
        "id": "8j2x9zXSJi6A",
        "outputId": "aa37dde3-2c9b-4957-acce-0e6359be101e"
      },
      "execution_count": 19,
      "outputs": [
        {
          "output_type": "stream",
          "name": "stdout",
          "text": [
            "List of gene symbols:\n",
            " SH2B3 GJC1 ABCB6 ZMPSTE24 VAV3 CETP SDCCAG8 UTS2 RALBP1 IFT27 ADCY5 HRH3 ERCC8 ADD1 CLCNKA CMA1 COL1A1 COL3A1 COL4A3 COL4A4 COL4A5 CPOX CRHR2 CRP CTGF ADRA2A ADRB1 CYBA CYBB CYP1A1 GRK2 CYP11B1 CYP11B2 CYP17A1 CYP21A2 ACE DRD2 AGT DUSP5 AGTR1 AGTR2 ECE1 EDN1 EDN3 EDNRA EGFR AHR ELN EPO ERCC4 ERCC6 ALAD ALB F11 F12 FBN1 GSTA5 FGA FGFR2 CEP164 FOXF1 TRIM32 FOXE3 FMO3 NEDD4L FN1 FOS CD2AP ALOX15 MTOR G6PC SLC37A4 AOC1 LDLRAP1 TRAF3IP1 IFT172 KLHL3 GCG GCH1 GJA1 GJA4 GJA5 NPTN NPHP3 INVS GLA BBS9 GCLC STK39 GLP1R GNAS GNB3 GNRH1 GP1BA GPX1 NR3C1 CXCL2 GSK3B GSTT1 GSTT2 GUCY1A3 ANXA1 HIF1A HMBS HMOX1 HP HSD11B1 HSD11B2 APOA1 HTR2B APOB ICAM1 IDUA IGF1 APOE SLC6A18 IL1B IL6 AQP1 INS INPPL1 AR JAK2 JUN KCNJ1 KCNJ5 KCNMB1 KLK1 KNG1 ACT LDLR LEP LEPR LHB LMNA LOX LPL LTF LYZ SMAD3 SMAD4 MC2R MDH1 NR3C2 MMP2 MMP9 ABCC1 TRNC COX1 COX2 COX3 CYTB ND1 ND5 ND6 TRNE TRNF TRNK TRNL1 TRNQ TRNS1 TRNS2 TRNV TRNW MUC1 MYD88 MYH9 MYH11 MYLK ATOX1 ATP1A1 NF1 ATP1A2 NME1 NOS2 NOS3 FXYD2 NPHP1 NPPA NPPB NPR1 ATP2B1 ATP2B3 OLR1 TNFRSF11B OXT SMARCAL1 SERPINE1 PAX2 PDE11A WDPCP GAL PDE3A ENPP1 ERAP1 ADA2 PLAT PLG PLIN1 POMC LZTFL1 PPARA PPARG PPBP MKS1 PPP1R3A AVP BBS7 PRKACA PRKAR1A PRKCD PRKG1 PROC B2M PTEN PTH PTGS2 BBS1 BBS2 BBS4 ACTA2 ACE2 BCL2 RELA REN RET RGS2 RPS6KB1 BDKRB2 CELA2A SCNN1A SCNN1B SCNN1G CCL2 SELP WNK1 WNK4 SLC6A2 NCF1 SLC12A2 SLC12A3 BMPR2 SOD1 SOD2 SOD3 STIM1 STK11 TACR1 TGFB1 TGFB2 TGFB3 TGFBR1 TGFBR2 TGM2 THPO TIMP1 TLR4 TNF TP53 TPM1 TRH TRPC3 TRPC5 UCN UCP2 UMOD VCAM1 VDR VHL VWF WT1 CACNA1C CACNA1D CACNA2D1 ALMS1 CALCA MFAP5 CALR MKKS CUL3 CAT OFD1 ORAI1 RGS5 ITGA8 IKBKAP CAV1 PDE8B AOC3 SERPINA6 CBS IER3 AIP USP8 DYRK1B SLC9A3R2 ADIPOQ ACVRL1 ITM2B CD36 IQCB1 MAFB OXSR1\n"
          ]
        }
      ]
    },
    {
      "cell_type": "code",
      "source": [],
      "metadata": {
        "id": "CwisMyCxP-jg"
      },
      "execution_count": null,
      "outputs": []
    },
    {
      "cell_type": "code",
      "source": [
        "len(set(list(LCC.nodes())).intersection(set(seed_genes_symbols)))"
      ],
      "metadata": {
        "colab": {
          "base_uri": "https://localhost:8080/"
        },
        "id": "6C4Wysl7Ku1l",
        "outputId": "3d96c268-3592-439d-d05a-9c5bf2f04806"
      },
      "execution_count": 55,
      "outputs": [
        {
          "output_type": "execute_result",
          "data": {
            "text/plain": [
              "290"
            ]
          },
          "metadata": {},
          "execution_count": 55
        }
      ]
    }
  ],
  "metadata": {
    "accelerator": "GPU",
    "colab": {
      "provenance": [],
      "include_colab_link": true
    },
    "gpuClass": "standard",
    "kernelspec": {
      "display_name": "Python 3 (ipykernel)",
      "language": "python",
      "name": "python3"
    },
    "language_info": {
      "codemirror_mode": {
        "name": "ipython",
        "version": 3
      },
      "file_extension": ".py",
      "mimetype": "text/x-python",
      "name": "python",
      "nbconvert_exporter": "python",
      "pygments_lexer": "ipython3",
      "version": "3.9.13"
    }
  },
  "nbformat": 4,
  "nbformat_minor": 0
}