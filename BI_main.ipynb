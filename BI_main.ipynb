{
  "cells": [
    {
      "cell_type": "markdown",
      "metadata": {
        "id": "view-in-github",
        "colab_type": "text"
      },
      "source": [
        "<a href=\"https://colab.research.google.com/github/leonardoLavagna/Drug-repurposing/blob/main/BI_main.ipynb\" target=\"_parent\"><img src=\"https://colab.research.google.com/assets/colab-badge.svg\" alt=\"Open In Colab\"/></a>"
      ]
    },
    {
      "cell_type": "markdown",
      "metadata": {
        "id": "MB2jks_equ2c"
      },
      "source": [
        "# General Set up"
      ]
    },
    {
      "cell_type": "code",
      "execution_count": null,
      "metadata": {
        "collapsed": true,
        "id": "fCdtOo_CWTkk"
      },
      "outputs": [],
      "source": [
        "# NEEDED FILES\n",
        "\n",
        "\"\"\"\n",
        "1. auxiliary_functions.py\n",
        "2. BIOGRID-ORGANISM-Homo_sapiens-4.4.204.tab3.txt\n",
        "3. curated_gene_disease_associations.tsv\n",
        "4. DIaBLE.py\n",
        "5. DIAMOnD.py\n",
        "\"\"\""
      ]
    },
    {
      "cell_type": "code",
      "execution_count": null,
      "metadata": {
        "collapsed": true,
        "id": "APq8Tz0PWwbt"
      },
      "outputs": [],
      "source": [
        "# IMPORTANT FILES CREATED AND OFTEN USED\n",
        "\n",
        "\"\"\"\n",
        "1. Hypertensive disease_seed_gene.txt\n",
        "2. Hypertensive disease_splits.json\n",
        "3. PPI_Hypertensive.txt\n",
        "4. cross{i}.txt for i=0,1,2,3,4\n",
        "5. probeset{i}.txt for i=0,1,2,3,4\n",
        "6. res{i}.txt for i=0,1,2,3,4\n",
        "7. splits.json\n",
        "\"\"\""
      ]
    },
    {
      "cell_type": "code",
      "execution_count": null,
      "metadata": {
        "collapsed": true,
        "id": "1-0EkQfCVqQW"
      },
      "outputs": [],
      "source": [
        "# GLOBAL VARIABLES NAMES\n",
        "\n",
        "\"\"\"\n",
        "CX: cytoscape type of network \n",
        "DGA: disease gene association\n",
        "DN: disease network\n",
        "HSN: homo sapiens interactome\n",
        "LCC: large connected component in HSN\n",
        "n_nodes: number of nodes in LCC\n",
        "seeds: seed gene' symbols\n",
        "\"\"\""
      ]
    },
    {
      "cell_type": "code",
      "execution_count": 2,
      "metadata": {
        "colab": {
          "base_uri": "https://localhost:8080/"
        },
        "id": "cOkMPGHjo7_w",
        "outputId": "810e8128-c2da-4dd6-ef53-ce6370ffdcb6"
      },
      "outputs": [
        {
          "output_type": "stream",
          "name": "stdout",
          "text": [
            "Mounted at /content/drive\n"
          ]
        }
      ],
      "source": [
        "# MOUNT DRIVE\n",
        "# Remark . Assign colab = True when using Google Colab\n",
        "# Remark . While using Google colab remeber to collect all the needed files in\n",
        "#          the folder BI-Data in your Google Drive.\n",
        "\n",
        "import os\n",
        "colab=True\n",
        "if colab:\n",
        "    from google.colab import drive\n",
        "    drive.mount('/content/drive',force_remount=True)\n",
        "    os.chdir('/content/drive/MyDrive/BI-Data/')"
      ]
    },
    {
      "cell_type": "code",
      "execution_count": 5,
      "metadata": {
        "id": "IyBEndFwwnwH"
      },
      "outputs": [],
      "source": [
        "# REFERENCE CODE FOR DIAMOnD AND DIaBLE\n",
        "\n",
        "#!git clone https://github.com/dinaghiassian/DIAMOnD "
      ]
    },
    {
      "cell_type": "code",
      "execution_count": null,
      "metadata": {
        "collapsed": true,
        "id": "P5_ZdCkD8jV2"
      },
      "outputs": [],
      "source": [
        "# IF CONFLICTS ARISE, UPGRADE THE FOLLOWING LIBRARIES\n",
        "# Remark . This upgrades are also needed to avoid the module 'scipy.sparse' has     \n",
        "#          no attribute 'coo_array' error\n",
        "\n",
        "%pip install networkx --upgrade\n",
        "%pip install scipy --upgrade"
      ]
    },
    {
      "cell_type": "code",
      "execution_count": null,
      "metadata": {
        "collapsed": true,
        "id": "xp0LQsv8kGTW"
      },
      "outputs": [],
      "source": [
        "# INSTALL NON-STANDARD LIBRARIES\n",
        "# See: https://github.com/GuyAllard/markov_clustering\n",
        "\n",
        "%pip install markov_clustering "
      ]
    },
    {
      "cell_type": "code",
      "execution_count": null,
      "metadata": {
        "collapsed": true,
        "id": "Q9k5q1Cb2_Z-"
      },
      "outputs": [],
      "source": [
        "# INSTALL NON-STANDARD LIBRARIES \n",
        "#See: https://ndex2.readthedocs.io/en/latest/createnicecx.html\n",
        "\n",
        "%pip install ndex2"
      ]
    },
    {
      "cell_type": "code",
      "execution_count": 3,
      "metadata": {
        "id": "nVfF8_rdk1uA"
      },
      "outputs": [],
      "source": [
        "# DIRECTORY TREE\n",
        "# Remark . Change according to your file system.\n",
        "# Remark. This path should be the same used in the auxiliary_funtions module.\n",
        "# Remark . When using Google Colab remember that the path has been changed to \n",
        "# /content/drive/MyDrive/BI-Data/ \n",
        "\n",
        "path = './'"
      ]
    },
    {
      "cell_type": "code",
      "execution_count": 4,
      "metadata": {
        "id": "4gea7gDcqpFo"
      },
      "outputs": [],
      "source": [
        "# IMPORT NEEDED LIBRARIES AND SELF DEFINED FUNCTIONS\n",
        "\n",
        "import re\n",
        "import csv\n",
        "import random\n",
        "import json\n",
        "import ast\n",
        "import sys\n",
        "import statistics\n",
        "import ndex2\n",
        "import requests\n",
        "import base64\n",
        "import auxiliary_functions as AF\n",
        "import pandas as pd\n",
        "import networkx as nx\n",
        "import matplotlib.pyplot as plt\n",
        "import numpy as np\n",
        "import markov_clustering as mc\n",
        "from tqdm import tqdm\n",
        "from scipy.stats import hypergeom"
      ]
    },
    {
      "cell_type": "markdown",
      "metadata": {
        "id": "mRbllah2A0o5"
      },
      "source": [
        "# TASK 1 . PPI and GDA data gathering and interactome reconstruction"
      ]
    },
    {
      "cell_type": "markdown",
      "metadata": {
        "id": "8dkVMfSshTjz"
      },
      "source": [
        "## Data gathering and interactome reconstruction"
      ]
    },
    {
      "cell_type": "code",
      "execution_count": 5,
      "metadata": {
        "colab": {
          "base_uri": "https://localhost:8080/"
        },
        "id": "Uhof4wFsD15F",
        "outputId": "b278d85a-454d-4e95-c822-bc7a38f0e68e"
      },
      "outputs": [
        {
          "output_type": "stream",
          "name": "stdout",
          "text": [
            "Processing interactome...\n"
          ]
        },
        {
          "output_type": "stream",
          "name": "stderr",
          "text": [
            "<ipython-input-5-ea389ed6b4af>:3: DtypeWarning: Columns (1,2,18) have mixed types.Specify dtype option on import or set low_memory=False.\n",
            "  HSN = AF.interactome_processing(path+\"BIOGRID-ORGANISM-Homo_sapiens-4.4.204.tab3.txt\")\n"
          ]
        },
        {
          "output_type": "stream",
          "name": "stdout",
          "text": [
            "# Process completed.\n"
          ]
        }
      ],
      "source": [
        "# DATA GATHERING AND PROCESSING\n",
        "\n",
        "HSN = AF.interactome_processing(path+\"BIOGRID-ORGANISM-Homo_sapiens-4.4.204.tab3.txt\")\n",
        "DGA_all = pd.read_csv(path+'curated_gene_disease_associations.tsv',sep='\\t')\n",
        "DGA =  DGA_all[DGA_all['diseaseName'] == 'Hypertensive disease']\n",
        "DGA = AF.DGA_processing(path+'curated_gene_disease_associations.tsv', 'Hypertensive disease')"
      ]
    },
    {
      "cell_type": "code",
      "execution_count": 6,
      "metadata": {
        "colab": {
          "base_uri": "https://localhost:8080/"
        },
        "id": "1Gnn2uypkVr9",
        "outputId": "47d134cb-afd0-4fe7-fa87-9c4d1cc9f14c"
      },
      "outputs": [
        {
          "output_type": "stream",
          "name": "stdout",
          "text": [
            "Creating seed gene splits...\n",
            "Number of genes in disease PPI:  290\n",
            "# Process completed.\n",
            "Importing seed genes...\n",
            "# Process completed.\n"
          ]
        }
      ],
      "source": [
        "# CREATE INTERACTOME AND SPLITS\n",
        "# Remark . If the file 'Hypertensive disease_splits' has not been created\n",
        "#          uncomment the following line\n",
        "\n",
        "DG_in_PPI,splits = AF.make_seeds_splits(DGA,HSN,'Hypertensive disease',path)\n",
        "DG_in_PPI, splits = AF.import_seeds_split('Hypertensive disease')"
      ]
    },
    {
      "cell_type": "markdown",
      "metadata": {
        "id": "IuiA9iw0halS"
      },
      "source": [
        "## Compute the disease LCC and its basic network measures"
      ]
    },
    {
      "cell_type": "code",
      "execution_count": 7,
      "metadata": {
        "colab": {
          "base_uri": "https://localhost:8080/"
        },
        "id": "kqFIzXjThdNg",
        "outputId": "f94bcd15-9cb7-4dba-d744-6c540686c53e"
      },
      "outputs": [
        {
          "output_type": "stream",
          "name": "stdout",
          "text": [
            "Extracting LCC...\n",
            "Nodes  19618 , Connections  665061\n",
            "# Process completed.\n"
          ]
        }
      ],
      "source": [
        "# LCC COMPUTATION\n",
        "\n",
        "LCC = AF.extract_LCC_form_PPI(HSN)"
      ]
    },
    {
      "cell_type": "code",
      "execution_count": 8,
      "metadata": {
        "colab": {
          "base_uri": "https://localhost:8080/",
          "height": 714
        },
        "id": "aR1AI341EkvQ",
        "outputId": "2702edae-7bed-4ba8-b3b2-f6275198753e"
      },
      "outputs": [
        {
          "output_type": "stream",
          "name": "stdout",
          "text": [
            "Creating Disease LCC graph...\n",
            "Nodes in disease LCC  232\n",
            "# Process completed.\n"
          ]
        },
        {
          "output_type": "stream",
          "name": "stderr",
          "text": [
            "/usr/local/lib/python3.8/dist-packages/networkx/drawing/nx_pylab.py:579: MatplotlibDeprecationWarning: \n",
            "The iterable function was deprecated in Matplotlib 3.1 and will be removed in 3.3. Use np.iterable instead.\n",
            "  if not cb.iterable(width):\n"
          ]
        },
        {
          "output_type": "display_data",
          "data": {
            "text/plain": [
              "<Figure size 576x576 with 1 Axes>"
            ],
            "image/png": "[encoded data removed]"
          },
          "metadata": {}
        }
      ],
      "source": [
        "# LCC PLOT\n",
        "\n",
        "DN = AF.make_disease_graph(HSN, DGA, DG_in_PPI)\n",
        "AF.plot_LCC(DN, DG_in_PPI)"
      ]
    },
    {
      "cell_type": "code",
      "execution_count": 9,
      "metadata": {
        "id": "unNlOmeU8aO4"
      },
      "outputs": [],
      "source": [
        "# DISEASE NETWORK LCC\n",
        "\n",
        "Gcc = sorted(nx.connected_components(DN), key=len, reverse=True)\n",
        "G = DN.subgraph(Gcc[0])\n",
        "n_nodes = G.number_of_nodes()"
      ]
    },
    {
      "cell_type": "code",
      "execution_count": 10,
      "metadata": {
        "id": "MQRk9IFj9J5B"
      },
      "outputs": [],
      "source": [
        "# NETWORK MEASURES\n",
        "# Remark . Execute only once. Moreover this cell takes a while to run...\n",
        "\n",
        "nx.set_node_attributes(G, G.degree(), 'Node degree')  \n",
        "nx.set_node_attributes(G, nx.betweenness_centrality(G), \"Betweenness centrality\")\n",
        "nx.set_node_attributes(G, nx.eigenvector_centrality(G), \"Eigenvector centrality\")\n",
        "nx.set_node_attributes(G, nx.closeness_centrality(G), \"Closeness centrality\")\n",
        "\n",
        "local_measures = pd.DataFrame(index=G.nodes())\n",
        "local_measures['Node degree'] = [d for n, d in G.degree()] \n",
        "local_measures['Betweenness centrality'] = pd.Series(nx.get_node_attributes(G, 'Betweenness centrality'))\n",
        "local_measures['Eigenvector centrality'] = pd.Series(nx.get_node_attributes(G, 'Eigenvector centrality'))\n",
        "local_measures['Closeness centrality'] = pd.Series(nx.get_node_attributes(G, 'Closeness centrality'))\n",
        "local_measures['Betweenness/Degree Ratio'] = local_measures['Betweenness centrality']/local_measures['Node degree']\n",
        "local_measures.index.name='Gene'"
      ]
    },
    {
      "cell_type": "code",
      "execution_count": 11,
      "metadata": {
        "id": "awQy6AI99d0Q"
      },
      "outputs": [],
      "source": [
        "# SAVE TABLE WITH NETWORK MEASURES IN FILE local_measures.csv\n",
        "# Remark . Execute only once to create the file\n",
        "\n",
        "local_measures.to_csv(path+'local_measures.csv', index = True, header = True)"
      ]
    },
    {
      "cell_type": "code",
      "execution_count": 12,
      "metadata": {
        "id": "QWxq7I5hAm5d",
        "colab": {
          "base_uri": "https://localhost:8080/",
          "height": 250
        },
        "outputId": "f57af1dd-ec23-42df-df54-001e94f5b7d2"
      },
      "outputs": [
        {
          "output_type": "execute_result",
          "data": {
            "text/plain": [
              "    Gene  Node degree  Betweenness centrality  Eigenvector centrality  \\\n",
              "0   7168           10                0.017208                0.104030   \n",
              "1   1536            1                0.000000                0.001187   \n",
              "2   4615            3                0.000621                0.022465   \n",
              "3   2056            1                0.000000                0.014496   \n",
              "4  26119            3                0.007699                0.006519   \n",
              "\n",
              "   Closeness centrality  Betweenness/Degree Ratio  \n",
              "0              0.374392                  0.001721  \n",
              "1              0.220630                  0.000000  \n",
              "2              0.295775                  0.000207  \n",
              "3              0.276978                  0.000000  \n",
              "4              0.263098                  0.002566  "
            ],
            "text/html": [
              "\n",
              "  <div id=\"df-f52cfdbb-b1d3-4f98-a7cb-a1ea461a6802\">\n",
              "    <div class=\"colab-df-container\">\n",
              "      <div>\n",
              "<style scoped>\n",
              "    .dataframe tbody tr th:only-of-type {\n",
              "        vertical-align: middle;\n",
              "    }\n",
              "\n",
              "    .dataframe tbody tr th {\n",
              "        vertical-align: top;\n",
              "    }\n",
              "\n",
              "    .dataframe thead th {\n",
              "        text-align: right;\n",
              "    }\n",
              "</style>\n",
              "<table border=\"1\" class=\"dataframe\">\n",
              "  <thead>\n",
              "    <tr style=\"text-align: right;\">\n",
              "      <th></th>\n",
              "      <th>Gene</th>\n",
              "      <th>Node degree</th>\n",
              "      <th>Betweenness centrality</th>\n",
              "      <th>Eigenvector centrality</th>\n",
              "      <th>Closeness centrality</th>\n",
              "      <th>Betweenness/Degree Ratio</th>\n",
              "    </tr>\n",
              "  </thead>\n",
              "  <tbody>\n",
              "    <tr>\n",
              "      <th>0</th>\n",
              "      <td>7168</td>\n",
              "      <td>10</td>\n",
              "      <td>0.017208</td>\n",
              "      <td>0.104030</td>\n",
              "      <td>0.374392</td>\n",
              "      <td>0.001721</td>\n",
              "    </tr>\n",
              "    <tr>\n",
              "      <th>1</th>\n",
              "      <td>1536</td>\n",
              "      <td>1</td>\n",
              "      <td>0.000000</td>\n",
              "      <td>0.001187</td>\n",
              "      <td>0.220630</td>\n",
              "      <td>0.000000</td>\n",
              "    </tr>\n",
              "    <tr>\n",
              "      <th>2</th>\n",
              "      <td>4615</td>\n",
              "      <td>3</td>\n",
              "      <td>0.000621</td>\n",
              "      <td>0.022465</td>\n",
              "      <td>0.295775</td>\n",
              "      <td>0.000207</td>\n",
              "    </tr>\n",
              "    <tr>\n",
              "      <th>3</th>\n",
              "      <td>2056</td>\n",
              "      <td>1</td>\n",
              "      <td>0.000000</td>\n",
              "      <td>0.014496</td>\n",
              "      <td>0.276978</td>\n",
              "      <td>0.000000</td>\n",
              "    </tr>\n",
              "    <tr>\n",
              "      <th>4</th>\n",
              "      <td>26119</td>\n",
              "      <td>3</td>\n",
              "      <td>0.007699</td>\n",
              "      <td>0.006519</td>\n",
              "      <td>0.263098</td>\n",
              "      <td>0.002566</td>\n",
              "    </tr>\n",
              "  </tbody>\n",
              "</table>\n",
              "</div>\n",
              "      <button class=\"colab-df-convert\" onclick=\"convertToInteractive('df-f52cfdbb-b1d3-4f98-a7cb-a1ea461a6802')\"\n",
              "              title=\"Convert this dataframe to an interactive table.\"\n",
              "              style=\"display:none;\">\n",
              "        \n",
              "  <svg xmlns=\"http://www.w3.org/2000/svg\" height=\"24px\"viewBox=\"0 0 24 24\"\n",
              "       width=\"24px\">\n",
              "    <path d=\"M0 0h24v24H0V0z\" fill=\"none\"/>\n",
              "    <path d=\"M18.56 5.44l.94 2.06.94-2.06 2.06-.94-2.06-.94-.94-2.06-.94 2.06-2.06.94zm-11 1L8.5 8.5l.94-2.06 2.06-.94-2.06-.94L8.5 2.5l-.94 2.06-2.06.94zm10 10l.94 2.06.94-2.06 2.06-.94-2.06-.94-.94-2.06-.94 2.06-2.06.94z\"/><path d=\"M17.41 7.96l-1.37-1.37c-.4-.4-.92-.59-1.43-.59-.52 0-1.04.2-1.43.59L10.3 9.45l-7.72 7.72c-.78.78-.78 2.05 0 2.83L4 21.41c.39.39.9.59 1.41.59.51 0 1.02-.2 1.41-.59l7.78-7.78 2.81-2.81c.8-.78.8-2.07 0-2.86zM5.41 20L4 18.59l7.72-7.72 1.47 1.35L5.41 20z\"/>\n",
              "  </svg>\n",
              "      </button>\n",
              "      \n",
              "  <style>\n",
              "    .colab-df-container {\n",
              "      display:flex;\n",
              "      flex-wrap:wrap;\n",
              "      gap: 12px;\n",
              "    }\n",
              "\n",
              "    .colab-df-convert {\n",
              "      background-color: #E8F0FE;\n",
              "      border: none;\n",
              "      border-radius: 50%;\n",
              "      cursor: pointer;\n",
              "      display: none;\n",
              "      fill: #1967D2;\n",
              "      height: 32px;\n",
              "      padding: 0 0 0 0;\n",
              "      width: 32px;\n",
              "    }\n",
              "\n",
              "    .colab-df-convert:hover {\n",
              "      background-color: #E2EBFA;\n",
              "      box-shadow: 0px 1px 2px rgba(60, 64, 67, 0.3), 0px 1px 3px 1px rgba(60, 64, 67, 0.15);\n",
              "      fill: #174EA6;\n",
              "    }\n",
              "\n",
              "    [theme=dark] .colab-df-convert {\n",
              "      background-color: #3B4455;\n",
              "      fill: #D2E3FC;\n",
              "    }\n",
              "\n",
              "    [theme=dark] .colab-df-convert:hover {\n",
              "      background-color: #434B5C;\n",
              "      box-shadow: 0px 1px 3px 1px rgba(0, 0, 0, 0.15);\n",
              "      filter: drop-shadow(0px 1px 2px rgba(0, 0, 0, 0.3));\n",
              "      fill: #FFFFFF;\n",
              "    }\n",
              "  </style>\n",
              "\n",
              "      <script>\n",
              "        const buttonEl =\n",
              "          document.querySelector('#df-f52cfdbb-b1d3-4f98-a7cb-a1ea461a6802 button.colab-df-convert');\n",
              "        buttonEl.style.display =\n",
              "          google.colab.kernel.accessAllowed ? 'block' : 'none';\n",
              "\n",
              "        async function convertToInteractive(key) {\n",
              "          const element = document.querySelector('#df-f52cfdbb-b1d3-4f98-a7cb-a1ea461a6802');\n",
              "          const dataTable =\n",
              "            await google.colab.kernel.invokeFunction('convertToInteractive',\n",
              "                                                     [key], {});\n",
              "          if (!dataTable) return;\n",
              "\n",
              "          const docLinkHtml = 'Like what you see? Visit the ' +\n",
              "            '<a target=\"_blank\" href=https://colab.research.google.com/notebooks/data_table.ipynb>data table notebook</a>'\n",
              "            + ' to learn more about interactive tables.';\n",
              "          element.innerHTML = '';\n",
              "          dataTable['output_type'] = 'display_data';\n",
              "          await google.colab.output.renderOutput(dataTable, element);\n",
              "          const docLink = document.createElement('div');\n",
              "          docLink.innerHTML = docLinkHtml;\n",
              "          element.appendChild(docLink);\n",
              "        }\n",
              "      </script>\n",
              "    </div>\n",
              "  </div>\n",
              "  "
            ]
          },
          "metadata": {},
          "execution_count": 12
        }
      ],
      "source": [
        "# CHECK\n",
        "\n",
        "local_measures = pd.read_csv(path+'local_measures.csv', sep=',')\n",
        "local_measures.head()"
      ]
    },
    {
      "cell_type": "markdown",
      "metadata": {
        "id": "bvpjeGCqAp_p"
      },
      "source": [
        "# TASK 2 . Putative disease genes identification algorithms"
      ]
    },
    {
      "cell_type": "markdown",
      "metadata": {
        "id": "wIrmeN_095jx"
      },
      "source": [
        "## Set up"
      ]
    },
    {
      "cell_type": "code",
      "execution_count": 19,
      "metadata": {
        "colab": {
          "base_uri": "https://localhost:8080/"
        },
        "id": "7GbbUbvh9oVt",
        "outputId": "a810cf06-84b2-4553-c2f9-276a1c93094d"
      },
      "outputs": [
        {
          "output_type": "stream",
          "name": "stderr",
          "text": [
            "100%|██████████| 665061/665061 [00:00<00:00, 858775.06it/s]\n"
          ]
        }
      ],
      "source": [
        "# STORE  THE INTERACTOME IN FILE PPI_Hypertensive.txt\n",
        "# Remark . Execute only once to create the file\n",
        "\n",
        "pairs_genes = list(LCC.edges)\n",
        "textfile = open(path+\"PPI_Hypertensive.txt\", \"w\")\n",
        "for gA, gB in tqdm(pairs_genes):\n",
        "  textfile.write(str(gA) + ',' + str(gB) + '\\n') \n",
        "textfile.close()"
      ]
    },
    {
      "cell_type": "code",
      "execution_count": 20,
      "metadata": {
        "id": "RTaEJXH56YHE"
      },
      "outputs": [],
      "source": [
        "# LOAD DATA\n",
        "\n",
        "# Dict with pair k,v where k is the index and v is the list of genes in the probe set\n",
        "with open(path+'Hypertensive disease_splits.json') as f:\n",
        "  dict_ = json.load(f)\n",
        "\n",
        "# import seed genes\n",
        "with open(path+'Hypertensive disease_seed_gene.txt') as f:\n",
        "  data = f.read()\n",
        "  seeds = ast.literal_eval(data)\n",
        "  seeds = np.asarray(seeds)     "
      ]
    },
    {
      "cell_type": "code",
      "execution_count": 21,
      "metadata": {
        "id": "8rOxTqLtk3hV"
      },
      "outputs": [],
      "source": [
        "# CHECK\n",
        "\n",
        "#dict_.items()"
      ]
    },
    {
      "cell_type": "code",
      "execution_count": 22,
      "metadata": {
        "id": "YjdJoinLk9bK"
      },
      "outputs": [],
      "source": [
        "# CHECK\n",
        "\n",
        "#print(type(dict_))\n",
        "#print(len(dict_[\"0\"]))"
      ]
    },
    {
      "cell_type": "code",
      "execution_count": null,
      "metadata": {
        "id": "Mkk1bjXU6s13"
      },
      "outputs": [],
      "source": [
        "# CROSS VALIDATION SPLITS INTO FILES \n",
        "# Remark . Execute only once to create the files\n",
        "\n",
        "for k,v in dict_.items():\n",
        "    print(k,v)\n",
        "\n",
        "    with open(path+'probeset{}.txt'.format(k),'w') as f:\n",
        "        for item in v:\n",
        "            f.write(\"%s,\" % item)   \n",
        "\n",
        "    l=list(set(seeds).difference(set(v))) \n",
        "    # check\n",
        "    # 58 is the probe set v\n",
        "    # therefore 290-58 has to be the training set l\n",
        "    print(len(l)==290-58)\n",
        " \n",
        "    with open(path+'cross{}.txt'.format(k),'w') as f:\n",
        "        for item in l:\n",
        "            f.write(\"%s\\n\" % item)\n",
        "    "
      ]
    },
    {
      "cell_type": "markdown",
      "metadata": {
        "id": "ZSzqx9nizFF5"
      },
      "source": [
        "## Evaluation of performances for DIAMOnD"
      ]
    },
    {
      "cell_type": "code",
      "execution_count": null,
      "metadata": {
        "id": "u_yzJnvRi6t9"
      },
      "outputs": [],
      "source": [
        "# DIAMOnD ALGORITHM EVALUATION\n",
        "# Remark . This cell takes some time to run...\n",
        "\n",
        "alg_name = \"DIAMOnD\"\n",
        "\n",
        "for k in [50,25,15,1]:\n",
        "  recall= []\n",
        "  precision = []             \n",
        "  F1_score = []\n",
        "\n",
        "  tot = k\n",
        "\n",
        "  !python3  DIAMOnD.py  PPI_Hypertensive.txt  cross0.txt  200 \"res0.txt\"\n",
        "  m = AF.evaluation(tot, 58, alg_name,0)\n",
        "  \n",
        "  recall.append(m['recall'])\n",
        "  precision.append(m['precision'])\n",
        "  F1_score.append(m['F1 Score'])\n",
        "\n",
        "  !python3  DIAMOnD.py  PPI_Hypertensive.txt  cross1.txt  200 \"res1.txt\"\n",
        "  m = AF.evaluation(tot, 58, alg_name,1)\n",
        "  recall.append(m['recall'])\n",
        "  precision.append(m['precision'])\n",
        "  F1_score.append(m['F1 Score'])\n",
        "\n",
        "  !python3  DIAMOnD.py  PPI_Hypertensive.txt  cross2.txt  200 \"res2.txt\"\n",
        "  m = AF.evaluation(tot, 58, alg_name,2)  \n",
        "  recall.append(m['recall'])\n",
        "  precision.append(m['precision'])\n",
        "  F1_score.append(m['F1 Score'])\n",
        "\n",
        "  !python3  DIAMOnD.py  PPI_Hypertensive.txt  cross3.txt  200 \"res3.txt\"\n",
        "  m = AF.evaluation(tot, 58, alg_name,3)  \n",
        "  recall.append(m['recall'])\n",
        "  precision.append(m['precision'])\n",
        "  F1_score.append(m['F1 Score'])\n",
        "\n",
        "  !python3  DIAMOnD.py  PPI_Hypertensive.txt  cross4.txt  200 \"res4.txt\"\n",
        "  m = AF.evaluation(tot, 58, alg_name,4)  \n",
        "  recall.append(m['recall'])\n",
        "  precision.append(m['precision'])\n",
        "  F1_score.append(m['F1 Score'])"
      ]
    },
    {
      "cell_type": "code",
      "source": [
        "print(recall)\n",
        "recall_value = statistics.mean(recall)\n",
        "precision_value= statistics.mean(precision)\n",
        "F1_score_value = statistics.mean(F1_score)\n",
        "\n",
        "print(recall_value)\n",
        "print(precision_value)\n",
        "print(F1_score_value)"
      ],
      "metadata": {
        "id": "E1NJAnl4_TBL"
      },
      "execution_count": null,
      "outputs": []
    },
    {
      "cell_type": "markdown",
      "metadata": {
        "id": "bd6HBRBy-w9o"
      },
      "source": [
        "#### Check"
      ]
    },
    {
      "cell_type": "code",
      "execution_count": null,
      "metadata": {
        "id": "yOpOSET6IqVp"
      },
      "outputs": [],
      "source": [
        "#curated_gene_desease_association_DF = pd.read_csv(\"curated_gene_disease_associations.tsv\", sep = '\\t', compression = 'infer')\n",
        "#disease_DF = curated_gene_desease_association_DF.loc[curated_gene_desease_association_DF['diseaseId'] == 'C0020538']"
      ]
    },
    {
      "cell_type": "code",
      "execution_count": null,
      "metadata": {
        "id": "8j2x9zXSJi6A"
      },
      "outputs": [],
      "source": [
        "#print(\"List of gene symbols:\\n\", *list(disease_DF['geneSymbol']))\n",
        "#seed_genes_symbols = list(disease_DF['geneSymbol'])"
      ]
    },
    {
      "cell_type": "code",
      "execution_count": null,
      "metadata": {
        "id": "6C4Wysl7Ku1l"
      },
      "outputs": [],
      "source": [
        "#len(set(list(LCC.nodes())).intersection(set(seed_genes_symbols)))"
      ]
    },
    {
      "cell_type": "markdown",
      "metadata": {
        "id": "NSeWa0G8-p_g"
      },
      "source": [
        "## Evaluation of performances for DIaBLE"
      ]
    },
    {
      "cell_type": "code",
      "execution_count": null,
      "metadata": {
        "id": "mfOO23sAKB1Y"
      },
      "outputs": [],
      "source": [
        "# DIaBLE ALGORITHM EVALUATION\n",
        "# Remark . This cell takes some time to run...\n",
        "\n",
        "alg_name = \"DIaBLE\" \n",
        "\n",
        "for k in [50,25,15,1]:\n",
        "  recall= []\n",
        "  precision = []             \n",
        "  F1_score = []\n",
        "  \n",
        "  tot = k\n",
        "\n",
        "  !python3  DIAMOnD.py  PPI_Hypertensive.txt  cross0.txt  200 \"res0.txt\"\n",
        "  m = AF.evaluation(tot, 58, alg_name,0)\n",
        "  \n",
        "  recall.append(m['recall'])\n",
        "  precision.append(m['precision'])\n",
        "  F1_score.append(m['F1 Score'])\n",
        "\n",
        "  !python3  DIAMOnD.py  PPI_Hypertensive.txt  cross1.txt  200 \"res1.txt\"\n",
        "  m = AF.evaluation(tot, 58, alg_name,1)\n",
        "  recall.append(m['recall'])\n",
        "  precision.append(m['precision'])\n",
        "  F1_score.append(m['F1 Score'])\n",
        "\n",
        "  !python3  DIAMOnD.py  PPI_Hypertensive.txt  cross2.txt  200 \"res2.txt\"\n",
        "  m = AF.evaluation(tot, 58, alg_name,2)  \n",
        "  recall.append(m['recall'])\n",
        "  precision.append(m['precision'])\n",
        "  F1_score.append(m['F1 Score'])\n",
        "\n",
        "  !python3  DIAMOnD.py  PPI_Hypertensive.txt  cross3.txt  200 \"res3.txt\"\n",
        "  m = AF.evaluation(tot, 58, alg_name,3)  \n",
        "  recall.append(m['recall'])\n",
        "  precision.append(m['precision'])\n",
        "  F1_score.append(m['F1 Score'])\n",
        "\n",
        "  !python3  DIAMOnD.py  PPI_Hypertensive.txt  cross4.txt  200 \"res4.txt\"\n",
        "  m = AF.evaluation(tot, 58, alg_name,4)  \n",
        "  recall.append(m['recall'])\n",
        "  precision.append(m['precision'])\n",
        "  F1_score.append(m['F1 Score'])"
      ]
    },
    {
      "cell_type": "code",
      "source": [
        "print(recall)\n",
        "recall_value = statistics.mean(recall)\n",
        "precision_value= statistics.mean(precision)\n",
        "F1_score_value = statistics.mean(F1_score)\n",
        "\n",
        "print(recall_value)\n",
        "print(precision_value)\n",
        "print(F1_score_value)"
      ],
      "metadata": {
        "id": "pGheWJP-_dTQ"
      },
      "execution_count": null,
      "outputs": []
    },
    {
      "cell_type": "markdown",
      "metadata": {
        "id": "C_a_j5iXFARy"
      },
      "source": [
        "## Evaluation of performances for Diffusion"
      ]
    },
    {
      "cell_type": "markdown",
      "metadata": {
        "id": "-mG6vm0H9nej"
      },
      "source": [
        "### Diffusion algorithm"
      ]
    },
    {
      "cell_type": "code",
      "execution_count": null,
      "metadata": {
        "id": "96tTbAIfGPgc"
      },
      "outputs": [],
      "source": [
        "# CREATE CX OBJECT FROM NETWORK\n",
        "\n",
        "CX = ndex2.create_nice_cx_from_networkx(LCC).to_cx()"
      ]
    },
    {
      "cell_type": "code",
      "execution_count": null,
      "metadata": {
        "id": "oPBSNeWmFWQi"
      },
      "outputs": [],
      "source": [
        "#nice_cx_net = ndex2.create_nice_cx_from_server(server='http://public.ndexbio.org',\n",
        "#                                               uuid='c0e70804-d848-11e6-86b1-0ac135e8bacf')\n",
        "\n",
        "nice_cx_net = ndex2.create_nice_cx_from_raw_cx(CX)"
      ]
    },
    {
      "cell_type": "code",
      "execution_count": null,
      "metadata": {
        "id": "IPxDGaQVFWN8"
      },
      "outputs": [],
      "source": [
        "# CHECK\n",
        "\n",
        "print(nice_cx_net)"
      ]
    },
    {
      "cell_type": "code",
      "execution_count": null,
      "metadata": {
        "id": "RNH_XFPTFWK0"
      },
      "outputs": [],
      "source": [
        "# CHECK\n",
        "# Remark . Remove break to have the complete (very long) list\n",
        "\n",
        "for nodeid, nodeobj in nice_cx_net.get_nodes():\n",
        "    nice_cx_net.remove_node_attribute(node=nodeid, attribute_name='diffusion_input')\n",
        "    nice_cx_net.set_node_attribute(type='double', node=nodeid, attribute_name='diffusion_input', values='1.0')\n",
        "    print(nice_cx_net.get_node_attribute(nodeid,'diffusion_input'))\n",
        "    break"
      ]
    },
    {
      "cell_type": "code",
      "execution_count": null,
      "metadata": {
        "id": "slTdYnVLFWA7"
      },
      "outputs": [],
      "source": [
        "# CALL THE DIFFUSION SERVICE\n",
        "# Remark . This cell takes some time to run...\n",
        "\n",
        "url = 'http://v3.heat-diffusion.cytoscape.io'\n",
        "payload = nice_cx_net.to_cx()\n",
        "for p in payload:\n",
        "    k = list(p.keys())[0]\n",
        "    if 'Attributes' in k:\n",
        "        for i in range(len(p[k])):\n",
        "            p[k][i]['v'] = str(p[k][i]['v'])\n",
        "response = requests.post(url, json=payload)"
      ]
    },
    {
      "cell_type": "code",
      "execution_count": null,
      "metadata": {
        "id": "ONNwMzwCHzrh"
      },
      "outputs": [],
      "source": [
        "# GET DIFFUSION RESULTS\n",
        "# Remark . The data dictionary in the json response response.json()['data'] is a dictionary \n",
        "#          that contains CX formatted data with results of diffussion.\n",
        "\n",
        "for aspect in response.json()['data']:\n",
        "    if 'nodeAttributes' not in aspect:\n",
        "        continue\n",
        "    for n_attr in aspect['nodeAttributes']:\n",
        "        if n_attr['n'] == 'diffusion_output_rank' or n_attr['n'] == 'diffusion_output_heat':\n",
        "            if n_attr['d'] == 'float':\n",
        "                n_type = 'double'\n",
        "            else:\n",
        "                n_type = n_attr['d']\n",
        "            nice_cx_net.add_node_attribute(property_of=int(n_attr['po']),\n",
        "                                 name=n_attr['n'],\n",
        "                                 values=n_attr['v'],\n",
        "                                 type=n_type)"
      ]
    },
    {
      "cell_type": "code",
      "execution_count": null,
      "metadata": {
        "id": "DHqaPdy2H15M"
      },
      "outputs": [],
      "source": [
        "# OUTPUT BEST RESULTS FROM DIFFUSION\n",
        "\n",
        "nos = []\n",
        "for node_id, node in nice_cx_net.get_nodes():\n",
        "    rank = nice_cx_net.get_node_attribute_value(node_id, 'diffusion_output_rank')\n",
        "    if int(rank) < 10:\n",
        "        node['diffusion_output_rank'] = rank\n",
        "        heat = nice_cx_net.get_node_attribute_value(node_id, 'diffusion_output_heat')\n",
        "        node['diffusion_output_heat'] = float(heat)\n",
        "        nos.append(node)\n",
        "\n",
        "# sort the result\n",
        "nos = sorted(nos, key=lambda k: k['diffusion_output_rank'])       \n",
        "nos"
      ]
    },
    {
      "cell_type": "code",
      "execution_count": null,
      "metadata": {
        "id": "CoTSq0ShLDRY"
      },
      "outputs": [],
      "source": [
        "# THE RESULTS HAVE BEEN SAVED IN THE FOLLOWING txt FILE\n",
        "# Remark . The file diff_res.txt should be present in the working directory\n",
        "#          and has been created separately.\n",
        "\n",
        "data=pd.read_csv('diff_res.txt'.format(i),sep='\\t')"
      ]
    },
    {
      "cell_type": "code",
      "execution_count": null,
      "metadata": {
        "id": "OfPKQecJNp2w"
      },
      "outputs": [],
      "source": [
        "# SORTING\n",
        "\n",
        "data=data.sort_values(by='diffusion_output_heat',ascending=False)\n",
        "print(data)"
      ]
    },
    {
      "cell_type": "markdown",
      "metadata": {
        "id": "JLea6W4HVDwS"
      },
      "source": [
        "### Evaluation"
      ]
    },
    {
      "cell_type": "code",
      "execution_count": null,
      "metadata": {
        "id": "3voGYgPn9wVO"
      },
      "outputs": [],
      "source": [
        "# INITIALIZATION BEFORE DIFFUSION EVALUATION\n",
        "\n",
        "Pre_con_diffusion_results={}\n",
        "Pre_con_diffusion_results['precision']={}\n",
        "Pre_con_diffusion_results['recall']={}\n",
        "Pre_con_diffusion_results['f1_score']={}\n",
        "\n",
        "for i in Pre_con_diffusion_results.keys():\n",
        "    Pre_con_diffusion_results[i]['std_valid']={}\n",
        "    Pre_con_diffusion_results[i]['ext_valid']={}\n"
      ]
    },
    {
      "cell_type": "code",
      "execution_count": null,
      "metadata": {
        "id": "ffeco111W1so"
      },
      "outputs": [],
      "source": [
        "# AUXILIARY FUNCTION\n",
        "\n",
        "def D_evaluation(top_n, disease_dict, DGA=DGA_all, data=data):\n",
        "    \n",
        "    recall_=[]\n",
        "    f1_score_=[]\n",
        "    precision_=[]\n",
        "\n",
        "    recall_all=[]\n",
        "    f1_score_all=[]\n",
        "    precision_all=[]\n",
        "    \n",
        "    all_DGA=set(DGA[DGA['diseaseName'] == 'Hypertensive disease'].geneId)\n",
        "\n",
        "    for i in range(5):\n",
        "        ids=DGA[DGA.geneSymbol.isin(dict_[str(i)])].geneId.tolist()\n",
        "        probe_length=len(ids)\n",
        "        new=data[0:top_n]\n",
        "\n",
        "        num=len(set(new).intersection(ids))\n",
        "        pre=num/top_n\n",
        "        precision_.append(pre)\n",
        "        rec=num/len(ids)\n",
        "        recall_.append(rec)\n",
        "        f1=2*(pre*rec)/(pre+rec+0.0001)\n",
        "        f1_score_.append(f1)\n",
        "\n",
        "        TP=set(new).intersection(ids)\n",
        "        FP=[x for x in new if x not in ids]\n",
        "        FP=FP[:len(ids)]\n",
        "\n",
        "        num=len(set(FP).intersection(all_DGA))\n",
        "        pre=num/len(FP)\n",
        "        rec=num/len(all_DGA)\n",
        "        f1=2*(pre*rec)/(pre+rec+0.0001)\n",
        "        precision_all.append(pre)\n",
        "        recall_all.append(rec)\n",
        "        f1_score_all.append(f1)\n",
        "    \n",
        "    disease_dict['precision']['std_valid'][str(top_n)]={}\n",
        "    disease_dict['precision']['std_valid'][str(top_n)]['mean']=np.average(precision_)\n",
        "    disease_dict['precision']['std_valid'][str(top_n)]['sd']=np.std(precision_)\n",
        "\n",
        "    disease_dict['recall']['std_valid'][str(top_n)]={}\n",
        "    disease_dict['recall']['std_valid'][str(top_n)]['mean']=np.average(recall_)\n",
        "    disease_dict['recall']['std_valid'][str(top_n)]['sd']=np.std(recall_)\n",
        "\n",
        "    disease_dict['f1_score']['std_valid'][str(top_n)]={}\n",
        "    disease_dict['f1_score']['std_valid'][str(top_n)]['mean']=np.average(f1_score_)\n",
        "    disease_dict['f1_score']['std_valid'][str(top_n)]['sd']=np.std(f1_score_)\n",
        "\n",
        "    disease_dict['precision']['ext_valid'][str(top_n)]={}\n",
        "    disease_dict['precision']['ext_valid'][str(top_n)]['mean']=np.average(precision_all)\n",
        "    disease_dict['precision']['ext_valid'][str(top_n)]['sd']=np.std(precision_all)\n",
        "\n",
        "    disease_dict['recall']['ext_valid'][str(top_n)]={}\n",
        "    disease_dict['recall']['ext_valid'][str(top_n)]['mean']=np.average(recall_all)\n",
        "    disease_dict['recall']['ext_valid'][str(top_n)]['sd']=np.std(recall_all)\n",
        "\n",
        "    disease_dict['f1_score']['ext_valid'][str(top_n)]={}\n",
        "    disease_dict['f1_score']['ext_valid'][str(top_n)]['mean']=np.average(f1_score_all)\n",
        "    disease_dict['f1_score']['ext_valid'][str(top_n)]['sd']=np.std(f1_score_all)\n",
        "\n"
      ]
    },
    {
      "cell_type": "code",
      "execution_count": null,
      "metadata": {
        "id": "dtrMfNlnMXlj"
      },
      "outputs": [],
      "source": [
        "# DIFFUSION ALGORITHM EVALUATION \n",
        "\n",
        "for size in [100,250,500,1000]:\n",
        "    D_evaluation(size,Pre_con_diffusion_results)"
      ]
    },
    {
      "cell_type": "code",
      "execution_count": null,
      "metadata": {
        "id": "k-xnk2eL9k8p"
      },
      "outputs": [],
      "source": [
        "# DISPLAY THE RESULTS\n",
        "\n",
        "AF.display_dict(Pre_con_diffusion_results) "
      ]
    },
    {
      "cell_type": "markdown",
      "metadata": {
        "id": "Oq9An17UPDqY"
      },
      "source": [
        "# TASK 3 . Putative disease genes identification"
      ]
    },
    {
      "cell_type": "markdown",
      "metadata": {
        "id": "zlRRy2JCPfnk"
      },
      "source": [
        "## Set up"
      ]
    },
    {
      "cell_type": "code",
      "execution_count": null,
      "metadata": {
        "id": "O8FzF8mcP3bg"
      },
      "outputs": [],
      "source": [
        "# IN ORDER TO USE nx.to_scipy_sparse_matrix THE PROPER VERSION OF networkx IS NEEDED\n",
        "# IF NEEDED UNINSTALL IT AND REINSTALL THE CORRECT VERSION\n",
        "# Remark . Remember to restart the kernel to apply these changes\n",
        "\n",
        "%pip uninstall networkx\n",
        "%pip install networkx==2.3"
      ]
    },
    {
      "cell_type": "code",
      "execution_count": null,
      "metadata": {
        "id": "vhiWoX6QRZ2q"
      },
      "outputs": [],
      "source": [
        "# IMPORT AFTER REINSTALLATION\n",
        "\n",
        "import networkx as nx"
      ]
    },
    {
      "cell_type": "markdown",
      "metadata": {
        "id": "X2zIUbi_Va9b"
      },
      "source": [
        "## MCL"
      ]
    },
    {
      "cell_type": "code",
      "source": [
        "#G = LCC"
      ],
      "metadata": {
        "id": "Y2dLPTenCOGJ"
      },
      "execution_count": 14,
      "outputs": []
    },
    {
      "cell_type": "code",
      "execution_count": 13,
      "metadata": {
        "id": "7zN33HC4PDPk"
      },
      "outputs": [],
      "source": [
        "# CLUSTERS\n",
        "# Remark . This cell takes a while to run...\n",
        "\n",
        "result = mc.run_mcl(nx.to_scipy_sparse_matrix(G))           \n",
        "clusters = mc.get_clusters(result) "
      ]
    },
    {
      "cell_type": "code",
      "execution_count": 14,
      "metadata": {
        "id": "GoMQ5n_ZPVfh",
        "colab": {
          "base_uri": "https://localhost:8080/",
          "height": 302
        },
        "outputId": "c16cfa05-78cb-4939-eba8-d56875b683be"
      },
      "outputs": [
        {
          "output_type": "stream",
          "name": "stderr",
          "text": [
            "/usr/local/lib/python3.8/dist-packages/networkx/drawing/nx_pylab.py:579: MatplotlibDeprecationWarning: \n",
            "The iterable function was deprecated in Matplotlib 3.1 and will be removed in 3.3. Use np.iterable instead.\n",
            "  if not cb.iterable(width):\n"
          ]
        },
        {
          "output_type": "display_data",
          "data": {
            "text/plain": [
              "<Figure size 432x288 with 1 Axes>"
            ],
            "image/png": "[encoded data removed]"
          },
          "metadata": {}
        }
      ],
      "source": [
        "# PLOT\n",
        "# Remark . This cell takes a while to run...\n",
        "\n",
        "mc.draw_graph(nx.to_scipy_sparse_matrix(G), clusters, node_size=10, with_labels=False, edge_color=\"silver\")"
      ]
    },
    {
      "cell_type": "code",
      "execution_count": 15,
      "metadata": {
        "id": "bqu2_itqSAwt",
        "colab": {
          "base_uri": "https://localhost:8080/"
        },
        "outputId": "05f762e6-a22b-4e40-e35a-efb7d69165e9"
      },
      "outputs": [
        {
          "output_type": "stream",
          "name": "stdout",
          "text": [
            "inflation: 1.5 modularity: 0.6898038049940528\n",
            "inflation: 1.6 modularity: 0.7465814506539815\n",
            "inflation: 1.7 modularity: 0.765940844233054\n",
            "inflation: 1.8 modularity: 0.7580261593341243\n",
            "inflation: 1.9 modularity: 0.7403388822829956\n",
            "inflation: 2.0 modularity: 0.7284854340071338\n",
            "inflation: 2.1 modularity: 0.6955261593341249\n",
            "inflation: 2.2 modularity: 0.6683635552913183\n",
            "inflation: 2.3 modularity: 0.6484096313911996\n",
            "inflation: 2.4 modularity: 0.6056406064209263\n",
            "inflation: 2.5 modularity: 0.5902571343638516\n"
          ]
        }
      ],
      "source": [
        "# CLUSTERING WITH DIFFERENT INFLATION VALUES AND MODULARITY COMPUTATION\n",
        "# Remark . This cell takes a while to run...\n",
        "# Remark . A standard RAM cannot usually carry out the computation\n",
        "\n",
        "matrix = nx.to_scipy_sparse_matrix(G)\n",
        "\n",
        "for inflation in [i / 10 for i in range(15, 26)]:\n",
        "    result = mc.run_mcl(matrix, inflation=inflation)\n",
        "    clusters = mc.get_clusters(result)\n",
        "    Q = mc.modularity(matrix=result, clusters=clusters)\n",
        "    print(\"inflation:\", inflation, \"modularity:\", Q)"
      ]
    },
    {
      "cell_type": "code",
      "execution_count": 21,
      "metadata": {
        "id": "kju9wDIBSKRk",
        "colab": {
          "base_uri": "https://localhost:8080/"
        },
        "outputId": "8a1172a4-3bc0-4e1e-b9b7-9389077cf0c6"
      },
      "outputs": [
        {
          "output_type": "stream",
          "name": "stdout",
          "text": [
            "92 2\n"
          ]
        }
      ],
      "source": [
        "# KEEP CLUSTERS WITH AT LEAST 10 GENES\n",
        "\n",
        "big_clusters = []\n",
        "for module in clusters:\n",
        "    if len(module) >= 10:\n",
        "        big_clusters.append(module)\n",
        "print(len(clusters), len(big_clusters))"
      ]
    },
    {
      "cell_type": "code",
      "execution_count": 22,
      "metadata": {
        "id": "1X6OhdOrSP8k"
      },
      "outputs": [],
      "source": [
        "# DICTIONARY WITH MAPPING Ids-->Names\n",
        "\n",
        "val = range(G.number_of_nodes())\n",
        "names = list(G.nodes())\n",
        "dic = dict(zip(val, names))"
      ]
    },
    {
      "cell_type": "code",
      "execution_count": 23,
      "metadata": {
        "id": "Z-dI-uSeSW-m"
      },
      "outputs": [],
      "source": [
        "# RUN HYPERGEOMETRIC TEST TO FIND MODULES WITH STATISTICALLY OVER-REPRESENTED GENES\n",
        "\n",
        "putative_desease_modules = []\n",
        "M = G.number_of_nodes()  \n",
        "n = len(seeds) \n",
        "p_val_list = []\n",
        "for module in big_clusters:\n",
        "    # number of draws (number of genes in the given cluster)\n",
        "    N = len(module) \n",
        "    x = len(set(seeds).intersection(set(dic[g] for g in module)))\n",
        "    p_val = hypergeom.sf(x-1, M, n, N)\n",
        "    if p_val < 0.05:\n",
        "        putative_desease_modules.append(module)\n",
        "        p_val_list.append(p_val)"
      ]
    },
    {
      "cell_type": "code",
      "source": [
        "# CHECK\n",
        "\n",
        "#for i in range(len(putative_desease_modules)):\n",
        "#    print(\"Desease putative module \",i, \": \", *[dic[g] for g in putative_desease_modules[i]])"
      ],
      "metadata": {
        "id": "Fi1rV6mIBjoD"
      },
      "execution_count": 24,
      "outputs": []
    },
    {
      "cell_type": "code",
      "source": [
        "# DATAFRAME WITH PUTATIVE DISEASE MODULES\n",
        "\n",
        "header = ['ModuleID', \"Number of seed genes/module\", \"Module size\", \"Seed genes\", \"All genes\", \"p-value\"]\n",
        "df_putative_desease_modules = pd.DataFrame(columns=header)\n",
        "for i in range(len(putative_desease_modules)):\n",
        "    seeds = set(seeds).intersection(set(dic[g] for g in putative_desease_modules[i]))\n",
        "    values = [i, len(seeds), len(putative_desease_modules[i]), seeds, [dic[g] for g in putative_desease_modules[i]],p_val_list[i]]\n",
        "    df = pd.DataFrame( [values], columns = header)\n",
        "    df_putative_desease_modules = df_putative_desease_modules.append(df, ignore_index=True)"
      ],
      "metadata": {
        "id": "dKkpBGVsBpNj"
      },
      "execution_count": 25,
      "outputs": []
    },
    {
      "cell_type": "code",
      "source": [
        "# CHECK\n",
        "\n",
        "df_putative_desease_modules.head()"
      ],
      "metadata": {
        "id": "ehPieKZOIFYM",
        "outputId": "b0b68871-dee6-4323-ed24-2b5c79aae2d6",
        "colab": {
          "base_uri": "https://localhost:8080/",
          "height": 49
        }
      },
      "execution_count": 26,
      "outputs": [
        {
          "output_type": "execute_result",
          "data": {
            "text/plain": [
              "Empty DataFrame\n",
              "Columns: [ModuleID, Number of seed genes/module, Module size, Seed genes, All genes, p-value]\n",
              "Index: []"
            ],
            "text/html": [
              "\n",
              "  <div id=\"df-c177b6c8-f3c1-45fc-9904-f8ecbd5cccd6\">\n",
              "    <div class=\"colab-df-container\">\n",
              "      <div>\n",
              "<style scoped>\n",
              "    .dataframe tbody tr th:only-of-type {\n",
              "        vertical-align: middle;\n",
              "    }\n",
              "\n",
              "    .dataframe tbody tr th {\n",
              "        vertical-align: top;\n",
              "    }\n",
              "\n",
              "    .dataframe thead th {\n",
              "        text-align: right;\n",
              "    }\n",
              "</style>\n",
              "<table border=\"1\" class=\"dataframe\">\n",
              "  <thead>\n",
              "    <tr style=\"text-align: right;\">\n",
              "      <th></th>\n",
              "      <th>ModuleID</th>\n",
              "      <th>Number of seed genes/module</th>\n",
              "      <th>Module size</th>\n",
              "      <th>Seed genes</th>\n",
              "      <th>All genes</th>\n",
              "      <th>p-value</th>\n",
              "    </tr>\n",
              "  </thead>\n",
              "  <tbody>\n",
              "  </tbody>\n",
              "</table>\n",
              "</div>\n",
              "      <button class=\"colab-df-convert\" onclick=\"convertToInteractive('df-c177b6c8-f3c1-45fc-9904-f8ecbd5cccd6')\"\n",
              "              title=\"Convert this dataframe to an interactive table.\"\n",
              "              style=\"display:none;\">\n",
              "        \n",
              "  <svg xmlns=\"http://www.w3.org/2000/svg\" height=\"24px\"viewBox=\"0 0 24 24\"\n",
              "       width=\"24px\">\n",
              "    <path d=\"M0 0h24v24H0V0z\" fill=\"none\"/>\n",
              "    <path d=\"M18.56 5.44l.94 2.06.94-2.06 2.06-.94-2.06-.94-.94-2.06-.94 2.06-2.06.94zm-11 1L8.5 8.5l.94-2.06 2.06-.94-2.06-.94L8.5 2.5l-.94 2.06-2.06.94zm10 10l.94 2.06.94-2.06 2.06-.94-2.06-.94-.94-2.06-.94 2.06-2.06.94z\"/><path d=\"M17.41 7.96l-1.37-1.37c-.4-.4-.92-.59-1.43-.59-.52 0-1.04.2-1.43.59L10.3 9.45l-7.72 7.72c-.78.78-.78 2.05 0 2.83L4 21.41c.39.39.9.59 1.41.59.51 0 1.02-.2 1.41-.59l7.78-7.78 2.81-2.81c.8-.78.8-2.07 0-2.86zM5.41 20L4 18.59l7.72-7.72 1.47 1.35L5.41 20z\"/>\n",
              "  </svg>\n",
              "      </button>\n",
              "      \n",
              "  <style>\n",
              "    .colab-df-container {\n",
              "      display:flex;\n",
              "      flex-wrap:wrap;\n",
              "      gap: 12px;\n",
              "    }\n",
              "\n",
              "    .colab-df-convert {\n",
              "      background-color: #E8F0FE;\n",
              "      border: none;\n",
              "      border-radius: 50%;\n",
              "      cursor: pointer;\n",
              "      display: none;\n",
              "      fill: #1967D2;\n",
              "      height: 32px;\n",
              "      padding: 0 0 0 0;\n",
              "      width: 32px;\n",
              "    }\n",
              "\n",
              "    .colab-df-convert:hover {\n",
              "      background-color: #E2EBFA;\n",
              "      box-shadow: 0px 1px 2px rgba(60, 64, 67, 0.3), 0px 1px 3px 1px rgba(60, 64, 67, 0.15);\n",
              "      fill: #174EA6;\n",
              "    }\n",
              "\n",
              "    [theme=dark] .colab-df-convert {\n",
              "      background-color: #3B4455;\n",
              "      fill: #D2E3FC;\n",
              "    }\n",
              "\n",
              "    [theme=dark] .colab-df-convert:hover {\n",
              "      background-color: #434B5C;\n",
              "      box-shadow: 0px 1px 3px 1px rgba(0, 0, 0, 0.15);\n",
              "      filter: drop-shadow(0px 1px 2px rgba(0, 0, 0, 0.3));\n",
              "      fill: #FFFFFF;\n",
              "    }\n",
              "  </style>\n",
              "\n",
              "      <script>\n",
              "        const buttonEl =\n",
              "          document.querySelector('#df-c177b6c8-f3c1-45fc-9904-f8ecbd5cccd6 button.colab-df-convert');\n",
              "        buttonEl.style.display =\n",
              "          google.colab.kernel.accessAllowed ? 'block' : 'none';\n",
              "\n",
              "        async function convertToInteractive(key) {\n",
              "          const element = document.querySelector('#df-c177b6c8-f3c1-45fc-9904-f8ecbd5cccd6');\n",
              "          const dataTable =\n",
              "            await google.colab.kernel.invokeFunction('convertToInteractive',\n",
              "                                                     [key], {});\n",
              "          if (!dataTable) return;\n",
              "\n",
              "          const docLinkHtml = 'Like what you see? Visit the ' +\n",
              "            '<a target=\"_blank\" href=https://colab.research.google.com/notebooks/data_table.ipynb>data table notebook</a>'\n",
              "            + ' to learn more about interactive tables.';\n",
              "          element.innerHTML = '';\n",
              "          dataTable['output_type'] = 'display_data';\n",
              "          await google.colab.output.renderOutput(dataTable, element);\n",
              "          const docLink = document.createElement('div');\n",
              "          docLink.innerHTML = docLinkHtml;\n",
              "          element.appendChild(docLink);\n",
              "        }\n",
              "      </script>\n",
              "    </div>\n",
              "  </div>\n",
              "  "
            ]
          },
          "metadata": {},
          "execution_count": 26
        }
      ]
    }
  ],
  "metadata": {
    "colab": {
      "provenance": [],
      "include_colab_link": true
    },
    "gpuClass": "standard",
    "kernelspec": {
      "display_name": "Python 3 (ipykernel)",
      "language": "python",
      "name": "python3"
    },
    "language_info": {
      "codemirror_mode": {
        "name": "ipython",
        "version": 3
      },
      "file_extension": ".py",
      "mimetype": "text/x-python",
      "name": "python",
      "nbconvert_exporter": "python",
      "pygments_lexer": "ipython3",
      "version": "3.9.13"
    }
  },
  "nbformat": 4,
  "nbformat_minor": 0
}